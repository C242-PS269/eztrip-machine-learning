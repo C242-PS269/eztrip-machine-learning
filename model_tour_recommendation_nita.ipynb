{
  "cells": [
    {
      "cell_type": "markdown",
      "metadata": {
        "id": "-rjNJ6FXIKGP"
      },
      "source": [
        "# Program ML Sistem Rekomendasi Tempat Wisata dengan Content Based Filtering"
      ]
    },
    {
      "cell_type": "markdown",
      "metadata": {
        "id": "TL4cbP04Ig-5"
      },
      "source": [
        "## Library yang digunakan"
      ]
    },
    {
      "cell_type": "code",
      "execution_count": null,
      "metadata": {
        "id": "eW9hB3Jyc601"
      },
      "outputs": [],
      "source": [
        "import pandas as pd\n",
        "import numpy as np\n",
        "from tensorflow.keras.optimizers import Adam\n",
        "from tensorflow.keras.optimizers import RMSprop\n",
        "from sklearn.preprocessing import MinMaxScaler, OneHotEncoder\n",
        "from sklearn.model_selection import train_test_split\n",
        "from tensorflow.keras.models import Sequential\n",
        "from tensorflow.keras.layers import Dense\n",
        "from tensorflow.keras.losses import Huber\n",
        "from tensorflow.keras.layers import Dropout\n",
        "from tensorflow.keras.callbacks import EarlyStopping\n",
        "from tensorflow.keras.regularizers import l2\n",
        "import tensorflow.keras.backend as K\n",
        "import matplotlib.pyplot as plt\n",
        "import tensorflow as tf\n",
        "from sklearn.metrics.pairwise import cosine_similarity"
      ]
    },
    {
      "cell_type": "markdown",
      "metadata": {
        "id": "jimZXA0-Il_g"
      },
      "source": [
        "## Upload Dataset"
      ]
    },
    {
      "cell_type": "code",
      "execution_count": null,
      "metadata": {
        "colab": {
          "base_uri": "https://localhost:8080/",
          "height": 608
        },
        "id": "ipCtITXhdJ9F",
        "outputId": "707d26c5-9cfc-40a7-d889-42b60429361d"
      },
      "outputs": [
        {
          "output_type": "execute_result",
          "data": {
            "text/plain": [
              "                                         Google.Maps                    Name  \\\n",
              "0  https://www.google.com/maps/place/Upside+Down+...  Upside Down World Bali   \n",
              "1  https://www.google.com/maps/place/Alas+Kedaton...            Alas Kedaton   \n",
              "2  https://www.google.com/maps/place/Big+Garden+C...       Big Garden Corner   \n",
              "3  https://www.google.com/maps/place/Taman+Nusa/d...              Taman Nusa   \n",
              "4  https://www.google.com/maps/place/Krisna+Funta...    Krisna Funtasticland   \n",
              "\n",
              "   Rating            Kategori                                      Review  \\\n",
              "0     4.2  Tourist attraction                            On-site services   \n",
              "1     4.2  Tourist attraction             flying fox dan sepeda gantung.\"   \n",
              "2     4.3  Tourist attraction                                         NaN   \n",
              "3     4.3              Museum                                         NaN   \n",
              "4     4.3  Tourist attraction  \"Saya benar-benar terhibur dengan berbagai   \n",
              "\n",
              "                                               Jalan  \\\n",
              "0                       Jl. Bypass Ngurah Rai No.762   \n",
              "1                    F5C4+644, Jl. Raya Alas Kedaton   \n",
              "2                       Sanur, Jl. Bypass Ngurah Rai   \n",
              "3  Banjar Blahpane Kelod, Jl. Taman Bali Â– Banja...   \n",
              "4                   RXCV+HMR, Jl. Seririt- Singaraja   \n",
              "\n",
              "   Harga Tiket Masuk WNI Dewasa ()  Harga Tiket Masuk WNI Anak-Anak ()  \\\n",
              "0                         100000.0                             50000.0   \n",
              "1                          20000.0                             15000.0   \n",
              "2                          35000.0                             35000.0   \n",
              "3                          75000.0                             75000.0   \n",
              "4                          90000.0                             90000.0   \n",
              "\n",
              "   Harga Tiket Masuk WNA Dewasa  Harga Tiket Masuk WNA Anak-Anak  \\\n",
              "0                      150000.0                         100000.0   \n",
              "1                       50000.0                          25000.0   \n",
              "2                       50000.0                          50000.0   \n",
              "3                      100000.0                         100000.0   \n",
              "4                       90000.0                          90000.0   \n",
              "\n",
              "  Kota/Kabupaten  \n",
              "0       Denpasar  \n",
              "1        Tabanan  \n",
              "2       Denpasar  \n",
              "3        Gianyar  \n",
              "4       Buleleng  "
            ],
            "text/html": [
              "\n",
              "  <div id=\"df-b388812b-5e59-46dd-ae96-159418e9b16d\" class=\"colab-df-container\">\n",
              "    <div>\n",
              "<style scoped>\n",
              "    .dataframe tbody tr th:only-of-type {\n",
              "        vertical-align: middle;\n",
              "    }\n",
              "\n",
              "    .dataframe tbody tr th {\n",
              "        vertical-align: top;\n",
              "    }\n",
              "\n",
              "    .dataframe thead th {\n",
              "        text-align: right;\n",
              "    }\n",
              "</style>\n",
              "<table border=\"1\" class=\"dataframe\">\n",
              "  <thead>\n",
              "    <tr style=\"text-align: right;\">\n",
              "      <th></th>\n",
              "      <th>Google.Maps</th>\n",
              "      <th>Name</th>\n",
              "      <th>Rating</th>\n",
              "      <th>Kategori</th>\n",
              "      <th>Review</th>\n",
              "      <th>Jalan</th>\n",
              "      <th>Harga Tiket Masuk WNI Dewasa ()</th>\n",
              "      <th>Harga Tiket Masuk WNI Anak-Anak ()</th>\n",
              "      <th>Harga Tiket Masuk WNA Dewasa</th>\n",
              "      <th>Harga Tiket Masuk WNA Anak-Anak</th>\n",
              "      <th>Kota/Kabupaten</th>\n",
              "    </tr>\n",
              "  </thead>\n",
              "  <tbody>\n",
              "    <tr>\n",
              "      <th>0</th>\n",
              "      <td>https://www.google.com/maps/place/Upside+Down+...</td>\n",
              "      <td>Upside Down World Bali</td>\n",
              "      <td>4.2</td>\n",
              "      <td>Tourist attraction</td>\n",
              "      <td>On-site services</td>\n",
              "      <td>Jl. Bypass Ngurah Rai No.762</td>\n",
              "      <td>100000.0</td>\n",
              "      <td>50000.0</td>\n",
              "      <td>150000.0</td>\n",
              "      <td>100000.0</td>\n",
              "      <td>Denpasar</td>\n",
              "    </tr>\n",
              "    <tr>\n",
              "      <th>1</th>\n",
              "      <td>https://www.google.com/maps/place/Alas+Kedaton...</td>\n",
              "      <td>Alas Kedaton</td>\n",
              "      <td>4.2</td>\n",
              "      <td>Tourist attraction</td>\n",
              "      <td>flying fox dan sepeda gantung.\"</td>\n",
              "      <td>F5C4+644, Jl. Raya Alas Kedaton</td>\n",
              "      <td>20000.0</td>\n",
              "      <td>15000.0</td>\n",
              "      <td>50000.0</td>\n",
              "      <td>25000.0</td>\n",
              "      <td>Tabanan</td>\n",
              "    </tr>\n",
              "    <tr>\n",
              "      <th>2</th>\n",
              "      <td>https://www.google.com/maps/place/Big+Garden+C...</td>\n",
              "      <td>Big Garden Corner</td>\n",
              "      <td>4.3</td>\n",
              "      <td>Tourist attraction</td>\n",
              "      <td>NaN</td>\n",
              "      <td>Sanur, Jl. Bypass Ngurah Rai</td>\n",
              "      <td>35000.0</td>\n",
              "      <td>35000.0</td>\n",
              "      <td>50000.0</td>\n",
              "      <td>50000.0</td>\n",
              "      <td>Denpasar</td>\n",
              "    </tr>\n",
              "    <tr>\n",
              "      <th>3</th>\n",
              "      <td>https://www.google.com/maps/place/Taman+Nusa/d...</td>\n",
              "      <td>Taman Nusa</td>\n",
              "      <td>4.3</td>\n",
              "      <td>Museum</td>\n",
              "      <td>NaN</td>\n",
              "      <td>Banjar Blahpane Kelod, Jl. Taman Bali Â– Banja...</td>\n",
              "      <td>75000.0</td>\n",
              "      <td>75000.0</td>\n",
              "      <td>100000.0</td>\n",
              "      <td>100000.0</td>\n",
              "      <td>Gianyar</td>\n",
              "    </tr>\n",
              "    <tr>\n",
              "      <th>4</th>\n",
              "      <td>https://www.google.com/maps/place/Krisna+Funta...</td>\n",
              "      <td>Krisna Funtasticland</td>\n",
              "      <td>4.3</td>\n",
              "      <td>Tourist attraction</td>\n",
              "      <td>\"Saya benar-benar terhibur dengan berbagai</td>\n",
              "      <td>RXCV+HMR, Jl. Seririt- Singaraja</td>\n",
              "      <td>90000.0</td>\n",
              "      <td>90000.0</td>\n",
              "      <td>90000.0</td>\n",
              "      <td>90000.0</td>\n",
              "      <td>Buleleng</td>\n",
              "    </tr>\n",
              "  </tbody>\n",
              "</table>\n",
              "</div>\n",
              "    <div class=\"colab-df-buttons\">\n",
              "\n",
              "  <div class=\"colab-df-container\">\n",
              "    <button class=\"colab-df-convert\" onclick=\"convertToInteractive('df-b388812b-5e59-46dd-ae96-159418e9b16d')\"\n",
              "            title=\"Convert this dataframe to an interactive table.\"\n",
              "            style=\"display:none;\">\n",
              "\n",
              "  <svg xmlns=\"http://www.w3.org/2000/svg\" height=\"24px\" viewBox=\"0 -960 960 960\">\n",
              "    <path d=\"M120-120v-720h720v720H120Zm60-500h600v-160H180v160Zm220 220h160v-160H400v160Zm0 220h160v-160H400v160ZM180-400h160v-160H180v160Zm440 0h160v-160H620v160ZM180-180h160v-160H180v160Zm440 0h160v-160H620v160Z\"/>\n",
              "  </svg>\n",
              "    </button>\n",
              "\n",
              "  <style>\n",
              "    .colab-df-container {\n",
              "      display:flex;\n",
              "      gap: 12px;\n",
              "    }\n",
              "\n",
              "    .colab-df-convert {\n",
              "      background-color: #E8F0FE;\n",
              "      border: none;\n",
              "      border-radius: 50%;\n",
              "      cursor: pointer;\n",
              "      display: none;\n",
              "      fill: #1967D2;\n",
              "      height: 32px;\n",
              "      padding: 0 0 0 0;\n",
              "      width: 32px;\n",
              "    }\n",
              "\n",
              "    .colab-df-convert:hover {\n",
              "      background-color: #E2EBFA;\n",
              "      box-shadow: 0px 1px 2px rgba(60, 64, 67, 0.3), 0px 1px 3px 1px rgba(60, 64, 67, 0.15);\n",
              "      fill: #174EA6;\n",
              "    }\n",
              "\n",
              "    .colab-df-buttons div {\n",
              "      margin-bottom: 4px;\n",
              "    }\n",
              "\n",
              "    [theme=dark] .colab-df-convert {\n",
              "      background-color: #3B4455;\n",
              "      fill: #D2E3FC;\n",
              "    }\n",
              "\n",
              "    [theme=dark] .colab-df-convert:hover {\n",
              "      background-color: #434B5C;\n",
              "      box-shadow: 0px 1px 3px 1px rgba(0, 0, 0, 0.15);\n",
              "      filter: drop-shadow(0px 1px 2px rgba(0, 0, 0, 0.3));\n",
              "      fill: #FFFFFF;\n",
              "    }\n",
              "  </style>\n",
              "\n",
              "    <script>\n",
              "      const buttonEl =\n",
              "        document.querySelector('#df-b388812b-5e59-46dd-ae96-159418e9b16d button.colab-df-convert');\n",
              "      buttonEl.style.display =\n",
              "        google.colab.kernel.accessAllowed ? 'block' : 'none';\n",
              "\n",
              "      async function convertToInteractive(key) {\n",
              "        const element = document.querySelector('#df-b388812b-5e59-46dd-ae96-159418e9b16d');\n",
              "        const dataTable =\n",
              "          await google.colab.kernel.invokeFunction('convertToInteractive',\n",
              "                                                    [key], {});\n",
              "        if (!dataTable) return;\n",
              "\n",
              "        const docLinkHtml = 'Like what you see? Visit the ' +\n",
              "          '<a target=\"_blank\" href=https://colab.research.google.com/notebooks/data_table.ipynb>data table notebook</a>'\n",
              "          + ' to learn more about interactive tables.';\n",
              "        element.innerHTML = '';\n",
              "        dataTable['output_type'] = 'display_data';\n",
              "        await google.colab.output.renderOutput(dataTable, element);\n",
              "        const docLink = document.createElement('div');\n",
              "        docLink.innerHTML = docLinkHtml;\n",
              "        element.appendChild(docLink);\n",
              "      }\n",
              "    </script>\n",
              "  </div>\n",
              "\n",
              "\n",
              "<div id=\"df-59ae07c4-8b46-46e1-9847-7a213607a7e6\">\n",
              "  <button class=\"colab-df-quickchart\" onclick=\"quickchart('df-59ae07c4-8b46-46e1-9847-7a213607a7e6')\"\n",
              "            title=\"Suggest charts\"\n",
              "            style=\"display:none;\">\n",
              "\n",
              "<svg xmlns=\"http://www.w3.org/2000/svg\" height=\"24px\"viewBox=\"0 0 24 24\"\n",
              "     width=\"24px\">\n",
              "    <g>\n",
              "        <path d=\"M19 3H5c-1.1 0-2 .9-2 2v14c0 1.1.9 2 2 2h14c1.1 0 2-.9 2-2V5c0-1.1-.9-2-2-2zM9 17H7v-7h2v7zm4 0h-2V7h2v10zm4 0h-2v-4h2v4z\"/>\n",
              "    </g>\n",
              "</svg>\n",
              "  </button>\n",
              "\n",
              "<style>\n",
              "  .colab-df-quickchart {\n",
              "      --bg-color: #E8F0FE;\n",
              "      --fill-color: #1967D2;\n",
              "      --hover-bg-color: #E2EBFA;\n",
              "      --hover-fill-color: #174EA6;\n",
              "      --disabled-fill-color: #AAA;\n",
              "      --disabled-bg-color: #DDD;\n",
              "  }\n",
              "\n",
              "  [theme=dark] .colab-df-quickchart {\n",
              "      --bg-color: #3B4455;\n",
              "      --fill-color: #D2E3FC;\n",
              "      --hover-bg-color: #434B5C;\n",
              "      --hover-fill-color: #FFFFFF;\n",
              "      --disabled-bg-color: #3B4455;\n",
              "      --disabled-fill-color: #666;\n",
              "  }\n",
              "\n",
              "  .colab-df-quickchart {\n",
              "    background-color: var(--bg-color);\n",
              "    border: none;\n",
              "    border-radius: 50%;\n",
              "    cursor: pointer;\n",
              "    display: none;\n",
              "    fill: var(--fill-color);\n",
              "    height: 32px;\n",
              "    padding: 0;\n",
              "    width: 32px;\n",
              "  }\n",
              "\n",
              "  .colab-df-quickchart:hover {\n",
              "    background-color: var(--hover-bg-color);\n",
              "    box-shadow: 0 1px 2px rgba(60, 64, 67, 0.3), 0 1px 3px 1px rgba(60, 64, 67, 0.15);\n",
              "    fill: var(--button-hover-fill-color);\n",
              "  }\n",
              "\n",
              "  .colab-df-quickchart-complete:disabled,\n",
              "  .colab-df-quickchart-complete:disabled:hover {\n",
              "    background-color: var(--disabled-bg-color);\n",
              "    fill: var(--disabled-fill-color);\n",
              "    box-shadow: none;\n",
              "  }\n",
              "\n",
              "  .colab-df-spinner {\n",
              "    border: 2px solid var(--fill-color);\n",
              "    border-color: transparent;\n",
              "    border-bottom-color: var(--fill-color);\n",
              "    animation:\n",
              "      spin 1s steps(1) infinite;\n",
              "  }\n",
              "\n",
              "  @keyframes spin {\n",
              "    0% {\n",
              "      border-color: transparent;\n",
              "      border-bottom-color: var(--fill-color);\n",
              "      border-left-color: var(--fill-color);\n",
              "    }\n",
              "    20% {\n",
              "      border-color: transparent;\n",
              "      border-left-color: var(--fill-color);\n",
              "      border-top-color: var(--fill-color);\n",
              "    }\n",
              "    30% {\n",
              "      border-color: transparent;\n",
              "      border-left-color: var(--fill-color);\n",
              "      border-top-color: var(--fill-color);\n",
              "      border-right-color: var(--fill-color);\n",
              "    }\n",
              "    40% {\n",
              "      border-color: transparent;\n",
              "      border-right-color: var(--fill-color);\n",
              "      border-top-color: var(--fill-color);\n",
              "    }\n",
              "    60% {\n",
              "      border-color: transparent;\n",
              "      border-right-color: var(--fill-color);\n",
              "    }\n",
              "    80% {\n",
              "      border-color: transparent;\n",
              "      border-right-color: var(--fill-color);\n",
              "      border-bottom-color: var(--fill-color);\n",
              "    }\n",
              "    90% {\n",
              "      border-color: transparent;\n",
              "      border-bottom-color: var(--fill-color);\n",
              "    }\n",
              "  }\n",
              "</style>\n",
              "\n",
              "  <script>\n",
              "    async function quickchart(key) {\n",
              "      const quickchartButtonEl =\n",
              "        document.querySelector('#' + key + ' button');\n",
              "      quickchartButtonEl.disabled = true;  // To prevent multiple clicks.\n",
              "      quickchartButtonEl.classList.add('colab-df-spinner');\n",
              "      try {\n",
              "        const charts = await google.colab.kernel.invokeFunction(\n",
              "            'suggestCharts', [key], {});\n",
              "      } catch (error) {\n",
              "        console.error('Error during call to suggestCharts:', error);\n",
              "      }\n",
              "      quickchartButtonEl.classList.remove('colab-df-spinner');\n",
              "      quickchartButtonEl.classList.add('colab-df-quickchart-complete');\n",
              "    }\n",
              "    (() => {\n",
              "      let quickchartButtonEl =\n",
              "        document.querySelector('#df-59ae07c4-8b46-46e1-9847-7a213607a7e6 button');\n",
              "      quickchartButtonEl.style.display =\n",
              "        google.colab.kernel.accessAllowed ? 'block' : 'none';\n",
              "    })();\n",
              "  </script>\n",
              "</div>\n",
              "\n",
              "    </div>\n",
              "  </div>\n"
            ],
            "application/vnd.google.colaboratory.intrinsic+json": {
              "type": "dataframe",
              "variable_name": "df",
              "summary": "{\n  \"name\": \"df\",\n  \"rows\": 313,\n  \"fields\": [\n    {\n      \"column\": \"Google.Maps\",\n      \"properties\": {\n        \"dtype\": \"string\",\n        \"num_unique_values\": 312,\n        \"samples\": [\n          \"https://www.google.com/maps/place/Lemukih+Waterfalls/data=!4m7!3m6!1s0x2dd18e7440cd2f0b:0x65ee83bfddeb4bd!8m2!3d-8.2094724!4d115.1718078!16s%2Fg%2F11b_244bkl!19sChIJCy_NQHSO0S0RvbTe_TvoXgY?authuser=0&hl=en&rclk=1\",\n          \"https://www.google.com/maps/place/Bali+Museum/data=!4m7!3m6!1s0x2dd2409a2f3cad43:0xf32d693f7bfe87da!8m2!3d-8.6575741!4d115.2185908!16s%2Fm%2F076xxfn!19sChIJQ608L5pA0i0R2of-ez9pLfM?authuser=0&hl=en&rclk=1\",\n          \"https://www.google.com/maps/place/Suwehan+Beach/data=!4m7!3m6!1s0x2dd279cfc7815793:0x2062f9f84602e8f5!8m2!3d-8.7953743!4d115.6056882!16s%2Fg%2F11cmq_zbd7!19sChIJk1eBx8950i0R9egCRvj5YiA?authuser=0&hl=en&rclk=1\"\n        ],\n        \"semantic_type\": \"\",\n        \"description\": \"\"\n      }\n    },\n    {\n      \"column\": \"Name\",\n      \"properties\": {\n        \"dtype\": \"string\",\n        \"num_unique_values\": 312,\n        \"samples\": [\n          \"Lemukih Waterfalls\",\n          \"Bali Museum\",\n          \"Suwehan Beach\"\n        ],\n        \"semantic_type\": \"\",\n        \"description\": \"\"\n      }\n    },\n    {\n      \"column\": \"Rating\",\n      \"properties\": {\n        \"dtype\": \"number\",\n        \"std\": 0.3389997800195845,\n        \"min\": 1.0,\n        \"max\": 5.0,\n        \"num_unique_values\": 18,\n        \"samples\": [\n          4.2,\n          4.3,\n          3.9\n        ],\n        \"semantic_type\": \"\",\n        \"description\": \"\"\n      }\n    },\n    {\n      \"column\": \"Kategori\",\n      \"properties\": {\n        \"dtype\": \"category\",\n        \"num_unique_values\": 4,\n        \"samples\": [\n          \"Museum\",\n          \"Beach\",\n          \"Tourist attraction\"\n        ],\n        \"semantic_type\": \"\",\n        \"description\": \"\"\n      }\n    },\n    {\n      \"column\": \"Review\",\n      \"properties\": {\n        \"dtype\": \"string\",\n        \"num_unique_values\": 186,\n        \"samples\": [\n          \"\\\"Fascinating museum and huge garden\\\"\",\n          \"\\\"My favorite waterfalls among others that I ever visited.\\\"\",\n          \"\\\"the\"\n        ],\n        \"semantic_type\": \"\",\n        \"description\": \"\"\n      }\n    },\n    {\n      \"column\": \"Jalan\",\n      \"properties\": {\n        \"dtype\": \"string\",\n        \"num_unique_values\": 206,\n        \"samples\": [\n          \"Jl. Brahmana\",\n          \"Perumahan CitraLand, Jl. Cargo Permai\",\n          \"Q4W4+9MR, Gg. Banjar Anyar\"\n        ],\n        \"semantic_type\": \"\",\n        \"description\": \"\"\n      }\n    },\n    {\n      \"column\": \"Harga Tiket Masuk WNI Dewasa ()\",\n      \"properties\": {\n        \"dtype\": \"number\",\n        \"std\": 35928.9690034919,\n        \"min\": 0.0,\n        \"max\": 520000.0,\n        \"num_unique_values\": 24,\n        \"samples\": [\n          5000.0,\n          25000.0,\n          100000.0\n        ],\n        \"semantic_type\": \"\",\n        \"description\": \"\"\n      }\n    },\n    {\n      \"column\": \"Harga Tiket Masuk WNI Anak-Anak ()\",\n      \"properties\": {\n        \"dtype\": \"number\",\n        \"std\": 30073.442667061983,\n        \"min\": 0.0,\n        \"max\": 425000.0,\n        \"num_unique_values\": 23,\n        \"samples\": [\n          30000.0,\n          100000.0,\n          50000.0\n        ],\n        \"semantic_type\": \"\",\n        \"description\": \"\"\n      }\n    },\n    {\n      \"column\": \"Harga Tiket Masuk WNA Dewasa\",\n      \"properties\": {\n        \"dtype\": \"number\",\n        \"std\": 56129.75594970776,\n        \"min\": 0.0,\n        \"max\": 650000.0,\n        \"num_unique_values\": 28,\n        \"samples\": [\n          115000.0,\n          8000.0,\n          5000.0\n        ],\n        \"semantic_type\": \"\",\n        \"description\": \"\"\n      }\n    },\n    {\n      \"column\": \"Harga Tiket Masuk WNA Anak-Anak\",\n      \"properties\": {\n        \"dtype\": \"number\",\n        \"std\": 42450.02398456711,\n        \"min\": 0.0,\n        \"max\": 450000.0,\n        \"num_unique_values\": 27,\n        \"samples\": [\n          115000.0,\n          425000.0,\n          450000.0\n        ],\n        \"semantic_type\": \"\",\n        \"description\": \"\"\n      }\n    },\n    {\n      \"column\": \"Kota/Kabupaten\",\n      \"properties\": {\n        \"dtype\": \"category\",\n        \"num_unique_values\": 9,\n        \"samples\": [\n          \"Jembrana\",\n          \"Tabanan\",\n          \"Karangasem\"\n        ],\n        \"semantic_type\": \"\",\n        \"description\": \"\"\n      }\n    }\n  ]\n}"
            }
          },
          "metadata": {},
          "execution_count": 4
        }
      ],
      "source": [
        "# Load dataset\n",
        "file_path = 'WISATA.xlsx'\n",
        "df = pd.read_excel(file_path, sheet_name='Sheet1')\n",
        "df.head()"
      ]
    },
    {
      "cell_type": "code",
      "execution_count": null,
      "metadata": {
        "id": "C-GHASZVgdul",
        "colab": {
          "base_uri": "https://localhost:8080/"
        },
        "outputId": "abf33837-26f5-4784-bdca-b66728d21fa3"
      },
      "outputs": [
        {
          "output_type": "stream",
          "name": "stderr",
          "text": [
            "<ipython-input-5-ee5cae0b8ff3>:17: SettingWithCopyWarning: \n",
            "A value is trying to be set on a copy of a slice from a DataFrame.\n",
            "Try using .loc[row_indexer,col_indexer] = value instead\n",
            "\n",
            "See the caveats in the documentation: https://pandas.pydata.org/pandas-docs/stable/user_guide/indexing.html#returning-a-view-versus-a-copy\n",
            "  data[\"price_wna\"] = data[\"price_wna\"].astype(float)\n",
            "<ipython-input-5-ee5cae0b8ff3>:18: SettingWithCopyWarning: \n",
            "A value is trying to be set on a copy of a slice from a DataFrame.\n",
            "Try using .loc[row_indexer,col_indexer] = value instead\n",
            "\n",
            "See the caveats in the documentation: https://pandas.pydata.org/pandas-docs/stable/user_guide/indexing.html#returning-a-view-versus-a-copy\n",
            "  data[\"rating\"] = data[\"rating\"].astype(float)\n"
          ]
        }
      ],
      "source": [
        "# Pilih kolom yang digunakan\n",
        "selected_columns = {\n",
        "    \"Name\": \"name\",\n",
        "    \"Rating\": \"rating\",\n",
        "    \"Kategori\": \"category\",\n",
        "    \"Harga Tiket Masuk WNA Dewasa\": \"price_wna\", # Harga yang digunakan hanya harga WNA dewasa\n",
        "    \"Kota/Kabupaten\": \"city\",\n",
        "    \"Jalan\": \"address\",\n",
        "    \"Google.Maps\": \"google_maps\"\n",
        "}\n",
        "# Rename kolom\n",
        "df = df.rename(columns=selected_columns)\n",
        "# Pilih kolom yang telah direname\n",
        "df = df[['name', 'rating', 'category', 'price_wna', 'city', 'address', 'google_maps']]\n",
        "# Bersihkan data kosong dan sesuaikan tipe data\n",
        "data = df.dropna(subset=[\"name\", \"rating\", \"category\", \"price_wna\", \"city\"])\n",
        "data[\"price_wna\"] = data[\"price_wna\"].astype(float)\n",
        "data[\"rating\"] = data[\"rating\"].astype(float)"
      ]
    },
    {
      "cell_type": "markdown",
      "metadata": {
        "id": "-KjhcTpGJE7y"
      },
      "source": [
        "## Normalisasi dan encoding 4 fitur yang digunakan"
      ]
    },
    {
      "cell_type": "code",
      "execution_count": null,
      "metadata": {
        "id": "kVth7wDYg2UX",
        "colab": {
          "base_uri": "https://localhost:8080/"
        },
        "outputId": "045f7433-0fde-4e27-ac2d-d09949cce839"
      },
      "outputs": [
        {
          "output_type": "stream",
          "name": "stderr",
          "text": [
            "<ipython-input-6-018ea7f0f6fb>:3: SettingWithCopyWarning: \n",
            "A value is trying to be set on a copy of a slice from a DataFrame.\n",
            "Try using .loc[row_indexer,col_indexer] = value instead\n",
            "\n",
            "See the caveats in the documentation: https://pandas.pydata.org/pandas-docs/stable/user_guide/indexing.html#returning-a-view-versus-a-copy\n",
            "  data[['price_wna', 'rating']] = scaler.fit_transform(data[['price_wna', 'rating']])\n"
          ]
        }
      ],
      "source": [
        "# Normalisasi price and rating\n",
        "scaler = MinMaxScaler()\n",
        "data[['price_wna', 'rating']] = scaler.fit_transform(data[['price_wna', 'rating']])\n",
        "\n",
        "# One-hot encode untuk category and city\n",
        "encoder_category = OneHotEncoder(sparse_output=False, handle_unknown='ignore')\n",
        "encoder_city = OneHotEncoder(sparse_output=False, handle_unknown='ignore')\n",
        "\n",
        "encoded_category = encoder_category.fit_transform(data[['category']])\n",
        "encoded_city = encoder_city.fit_transform(data[['city']])\n",
        "\n",
        "# Gabungkan 4 fitur yang dipilih\n",
        "X = np.hstack((encoded_category, encoded_city, data[['price_wna', 'rating']].values))\n",
        "\n",
        "# Dummy target untuk pelatihan\n",
        "y = np.random.rand(len(X))"
      ]
    },
    {
      "cell_type": "markdown",
      "metadata": {
        "id": "cFttmGOZJc-b"
      },
      "source": [
        "## Model neural network"
      ]
    },
    {
      "cell_type": "code",
      "execution_count": null,
      "metadata": {
        "colab": {
          "base_uri": "https://localhost:8080/"
        },
        "id": "oD3bX-Glg-gw",
        "outputId": "1eb843fb-c3d8-4872-d04a-7aaa37fdc0fe"
      },
      "outputs": [
        {
          "output_type": "stream",
          "name": "stdout",
          "text": [
            "Epoch 1/100\n",
            "\u001b[1m16/16\u001b[0m \u001b[32m━━━━━━━━━━━━━━━━━━━━\u001b[0m\u001b[37m\u001b[0m \u001b[1m1s\u001b[0m 17ms/step - loss: 0.5006 - mae: 0.2626 - rmse: 0.3001 - val_loss: 0.4467 - val_mae: 0.2434 - val_rmse: 0.2801\n",
            "Epoch 2/100\n",
            "\u001b[1m16/16\u001b[0m \u001b[32m━━━━━━━━━━━━━━━━━━━━\u001b[0m\u001b[37m\u001b[0m \u001b[1m0s\u001b[0m 5ms/step - loss: 0.4330 - mae: 0.2483 - rmse: 0.2855 - val_loss: 0.3883 - val_mae: 0.2435 - val_rmse: 0.2795\n",
            "Epoch 3/100\n",
            "\u001b[1m16/16\u001b[0m \u001b[32m━━━━━━━━━━━━━━━━━━━━\u001b[0m\u001b[37m\u001b[0m \u001b[1m0s\u001b[0m 3ms/step - loss: 0.3743 - mae: 0.2418 - rmse: 0.2804 - val_loss: 0.3375 - val_mae: 0.2432 - val_rmse: 0.2794\n",
            "Epoch 4/100\n",
            "\u001b[1m16/16\u001b[0m \u001b[32m━━━━━━━━━━━━━━━━━━━━\u001b[0m\u001b[37m\u001b[0m \u001b[1m0s\u001b[0m 4ms/step - loss: 0.3321 - mae: 0.2663 - rmse: 0.3042 - val_loss: 0.2936 - val_mae: 0.2438 - val_rmse: 0.2794\n",
            "Epoch 5/100\n",
            "\u001b[1m16/16\u001b[0m \u001b[32m━━━━━━━━━━━━━━━━━━━━\u001b[0m\u001b[37m\u001b[0m \u001b[1m0s\u001b[0m 5ms/step - loss: 0.2854 - mae: 0.2493 - rmse: 0.2879 - val_loss: 0.2557 - val_mae: 0.2445 - val_rmse: 0.2797\n",
            "Epoch 6/100\n",
            "\u001b[1m16/16\u001b[0m \u001b[32m━━━━━━━━━━━━━━━━━━━━\u001b[0m\u001b[37m\u001b[0m \u001b[1m0s\u001b[0m 4ms/step - loss: 0.2469 - mae: 0.2460 - rmse: 0.2819 - val_loss: 0.2230 - val_mae: 0.2441 - val_rmse: 0.2796\n",
            "Epoch 7/100\n",
            "\u001b[1m16/16\u001b[0m \u001b[32m━━━━━━━━━━━━━━━━━━━━\u001b[0m\u001b[37m\u001b[0m \u001b[1m0s\u001b[0m 3ms/step - loss: 0.2184 - mae: 0.2553 - rmse: 0.2925 - val_loss: 0.1950 - val_mae: 0.2441 - val_rmse: 0.2796\n",
            "Epoch 8/100\n",
            "\u001b[1m16/16\u001b[0m \u001b[32m━━━━━━━━━━━━━━━━━━━━\u001b[0m\u001b[37m\u001b[0m \u001b[1m0s\u001b[0m 4ms/step - loss: 0.1918 - mae: 0.2584 - rmse: 0.2927 - val_loss: 0.1709 - val_mae: 0.2441 - val_rmse: 0.2798\n",
            "Epoch 9/100\n",
            "\u001b[1m16/16\u001b[0m \u001b[32m━━━━━━━━━━━━━━━━━━━━\u001b[0m\u001b[37m\u001b[0m \u001b[1m0s\u001b[0m 3ms/step - loss: 0.1675 - mae: 0.2531 - rmse: 0.2894 - val_loss: 0.1503 - val_mae: 0.2437 - val_rmse: 0.2796\n",
            "Epoch 10/100\n",
            "\u001b[1m16/16\u001b[0m \u001b[32m━━━━━━━━━━━━━━━━━━━━\u001b[0m\u001b[37m\u001b[0m \u001b[1m0s\u001b[0m 3ms/step - loss: 0.1512 - mae: 0.2633 - rmse: 0.3008 - val_loss: 0.1327 - val_mae: 0.2440 - val_rmse: 0.2798\n",
            "Epoch 11/100\n",
            "\u001b[1m16/16\u001b[0m \u001b[32m━━━━━━━━━━━━━━━━━━━━\u001b[0m\u001b[37m\u001b[0m \u001b[1m0s\u001b[0m 4ms/step - loss: 0.1335 - mae: 0.2642 - rmse: 0.2987 - val_loss: 0.1177 - val_mae: 0.2440 - val_rmse: 0.2798\n",
            "Epoch 12/100\n",
            "\u001b[1m16/16\u001b[0m \u001b[32m━━━━━━━━━━━━━━━━━━━━\u001b[0m\u001b[37m\u001b[0m \u001b[1m0s\u001b[0m 4ms/step - loss: 0.1164 - mae: 0.2515 - rmse: 0.2898 - val_loss: 0.1049 - val_mae: 0.2442 - val_rmse: 0.2800\n",
            "Epoch 13/100\n",
            "\u001b[1m16/16\u001b[0m \u001b[32m━━━━━━━━━━━━━━━━━━━━\u001b[0m\u001b[37m\u001b[0m \u001b[1m0s\u001b[0m 4ms/step - loss: 0.1022 - mae: 0.2467 - rmse: 0.2810 - val_loss: 0.0941 - val_mae: 0.2443 - val_rmse: 0.2800\n",
            "Epoch 14/100\n",
            "\u001b[1m16/16\u001b[0m \u001b[32m━━━━━━━━━━━━━━━━━━━━\u001b[0m\u001b[37m\u001b[0m \u001b[1m0s\u001b[0m 5ms/step - loss: 0.0970 - mae: 0.2647 - rmse: 0.2993 - val_loss: 0.0849 - val_mae: 0.2443 - val_rmse: 0.2800\n",
            "Epoch 15/100\n",
            "\u001b[1m16/16\u001b[0m \u001b[32m━━━━━━━━━━━━━━━━━━━━\u001b[0m\u001b[37m\u001b[0m \u001b[1m0s\u001b[0m 4ms/step - loss: 0.0847 - mae: 0.2490 - rmse: 0.2893 - val_loss: 0.0773 - val_mae: 0.2446 - val_rmse: 0.2801\n",
            "Epoch 16/100\n",
            "\u001b[1m16/16\u001b[0m \u001b[32m━━━━━━━━━━━━━━━━━━━━\u001b[0m\u001b[37m\u001b[0m \u001b[1m0s\u001b[0m 6ms/step - loss: 0.0764 - mae: 0.2466 - rmse: 0.2862 - val_loss: 0.0707 - val_mae: 0.2442 - val_rmse: 0.2798\n",
            "Epoch 17/100\n",
            "\u001b[1m16/16\u001b[0m \u001b[32m━━━━━━━━━━━━━━━━━━━━\u001b[0m\u001b[37m\u001b[0m \u001b[1m0s\u001b[0m 6ms/step - loss: 0.0694 - mae: 0.2447 - rmse: 0.2832 - val_loss: 0.0653 - val_mae: 0.2442 - val_rmse: 0.2798\n",
            "Epoch 18/100\n",
            "\u001b[1m16/16\u001b[0m \u001b[32m━━━━━━━━━━━━━━━━━━━━\u001b[0m\u001b[37m\u001b[0m \u001b[1m0s\u001b[0m 6ms/step - loss: 0.0643 - mae: 0.2411 - rmse: 0.2819 - val_loss: 0.0608 - val_mae: 0.2441 - val_rmse: 0.2797\n",
            "Epoch 19/100\n",
            "\u001b[1m16/16\u001b[0m \u001b[32m━━━━━━━━━━━━━━━━━━━━\u001b[0m\u001b[37m\u001b[0m \u001b[1m0s\u001b[0m 6ms/step - loss: 0.0607 - mae: 0.2477 - rmse: 0.2868 - val_loss: 0.0570 - val_mae: 0.2443 - val_rmse: 0.2799\n",
            "Epoch 20/100\n",
            "\u001b[1m16/16\u001b[0m \u001b[32m━━━━━━━━━━━━━━━━━━━━\u001b[0m\u001b[37m\u001b[0m \u001b[1m0s\u001b[0m 5ms/step - loss: 0.0601 - mae: 0.2582 - rmse: 0.2952 - val_loss: 0.0539 - val_mae: 0.2441 - val_rmse: 0.2798\n",
            "Epoch 21/100\n",
            "\u001b[1m16/16\u001b[0m \u001b[32m━━━━━━━━━━━━━━━━━━━━\u001b[0m\u001b[37m\u001b[0m \u001b[1m0s\u001b[0m 5ms/step - loss: 0.0578 - mae: 0.2617 - rmse: 0.2987 - val_loss: 0.0513 - val_mae: 0.2441 - val_rmse: 0.2798\n",
            "Epoch 22/100\n",
            "\u001b[1m16/16\u001b[0m \u001b[32m━━━━━━━━━━━━━━━━━━━━\u001b[0m\u001b[37m\u001b[0m \u001b[1m0s\u001b[0m 5ms/step - loss: 0.0551 - mae: 0.2585 - rmse: 0.2979 - val_loss: 0.0492 - val_mae: 0.2441 - val_rmse: 0.2797\n",
            "Epoch 23/100\n",
            "\u001b[1m16/16\u001b[0m \u001b[32m━━━━━━━━━━━━━━━━━━━━\u001b[0m\u001b[37m\u001b[0m \u001b[1m0s\u001b[0m 6ms/step - loss: 0.0516 - mae: 0.2555 - rmse: 0.2930 - val_loss: 0.0474 - val_mae: 0.2437 - val_rmse: 0.2795\n",
            "Epoch 24/100\n",
            "\u001b[1m16/16\u001b[0m \u001b[32m━━━━━━━━━━━━━━━━━━━━\u001b[0m\u001b[37m\u001b[0m \u001b[1m0s\u001b[0m 5ms/step - loss: 0.0501 - mae: 0.2538 - rmse: 0.2921 - val_loss: 0.0460 - val_mae: 0.2437 - val_rmse: 0.2795\n",
            "Epoch 25/100\n",
            "\u001b[1m16/16\u001b[0m \u001b[32m━━━━━━━━━━━━━━━━━━━━\u001b[0m\u001b[37m\u001b[0m \u001b[1m0s\u001b[0m 7ms/step - loss: 0.0471 - mae: 0.2484 - rmse: 0.2883 - val_loss: 0.0449 - val_mae: 0.2436 - val_rmse: 0.2794\n",
            "Epoch 26/100\n",
            "\u001b[1m16/16\u001b[0m \u001b[32m━━━━━━━━━━━━━━━━━━━━\u001b[0m\u001b[37m\u001b[0m \u001b[1m0s\u001b[0m 6ms/step - loss: 0.0455 - mae: 0.2520 - rmse: 0.2861 - val_loss: 0.0439 - val_mae: 0.2436 - val_rmse: 0.2794\n",
            "Epoch 27/100\n",
            "\u001b[1m16/16\u001b[0m \u001b[32m━━━━━━━━━━━━━━━━━━━━\u001b[0m\u001b[37m\u001b[0m \u001b[1m0s\u001b[0m 6ms/step - loss: 0.0472 - mae: 0.2569 - rmse: 0.2940 - val_loss: 0.0432 - val_mae: 0.2438 - val_rmse: 0.2795\n",
            "Epoch 28/100\n",
            "\u001b[1m16/16\u001b[0m \u001b[32m━━━━━━━━━━━━━━━━━━━━\u001b[0m\u001b[37m\u001b[0m \u001b[1m0s\u001b[0m 6ms/step - loss: 0.0486 - mae: 0.2649 - rmse: 0.3020 - val_loss: 0.0426 - val_mae: 0.2437 - val_rmse: 0.2794\n",
            "Epoch 29/100\n",
            "\u001b[1m16/16\u001b[0m \u001b[32m━━━━━━━━━━━━━━━━━━━━\u001b[0m\u001b[37m\u001b[0m \u001b[1m0s\u001b[0m 7ms/step - loss: 0.0440 - mae: 0.2528 - rmse: 0.2883 - val_loss: 0.0421 - val_mae: 0.2436 - val_rmse: 0.2794\n",
            "Epoch 30/100\n",
            "\u001b[1m16/16\u001b[0m \u001b[32m━━━━━━━━━━━━━━━━━━━━\u001b[0m\u001b[37m\u001b[0m \u001b[1m0s\u001b[0m 7ms/step - loss: 0.0451 - mae: 0.2560 - rmse: 0.2921 - val_loss: 0.0417 - val_mae: 0.2437 - val_rmse: 0.2795\n",
            "Epoch 31/100\n",
            "\u001b[1m16/16\u001b[0m \u001b[32m━━━━━━━━━━━━━━━━━━━━\u001b[0m\u001b[37m\u001b[0m \u001b[1m0s\u001b[0m 3ms/step - loss: 0.0432 - mae: 0.2479 - rmse: 0.2882 - val_loss: 0.0414 - val_mae: 0.2439 - val_rmse: 0.2796\n",
            "Epoch 32/100\n",
            "\u001b[1m16/16\u001b[0m \u001b[32m━━━━━━━━━━━━━━━━━━━━\u001b[0m\u001b[37m\u001b[0m \u001b[1m0s\u001b[0m 3ms/step - loss: 0.0422 - mae: 0.2436 - rmse: 0.2859 - val_loss: 0.0412 - val_mae: 0.2437 - val_rmse: 0.2795\n",
            "Epoch 33/100\n",
            "\u001b[1m16/16\u001b[0m \u001b[32m━━━━━━━━━━━━━━━━━━━━\u001b[0m\u001b[37m\u001b[0m \u001b[1m0s\u001b[0m 3ms/step - loss: 0.0412 - mae: 0.2443 - rmse: 0.2829 - val_loss: 0.0410 - val_mae: 0.2438 - val_rmse: 0.2795\n",
            "Epoch 34/100\n",
            "\u001b[1m16/16\u001b[0m \u001b[32m━━━━━━━━━━━━━━━━━━━━\u001b[0m\u001b[37m\u001b[0m \u001b[1m0s\u001b[0m 5ms/step - loss: 0.0426 - mae: 0.2536 - rmse: 0.2888 - val_loss: 0.0408 - val_mae: 0.2438 - val_rmse: 0.2795\n",
            "Epoch 35/100\n",
            "\u001b[1m16/16\u001b[0m \u001b[32m━━━━━━━━━━━━━━━━━━━━\u001b[0m\u001b[37m\u001b[0m \u001b[1m0s\u001b[0m 4ms/step - loss: 0.0434 - mae: 0.2583 - rmse: 0.2923 - val_loss: 0.0407 - val_mae: 0.2437 - val_rmse: 0.2794\n",
            "Epoch 36/100\n",
            "\u001b[1m16/16\u001b[0m \u001b[32m━━━━━━━━━━━━━━━━━━━━\u001b[0m\u001b[37m\u001b[0m \u001b[1m0s\u001b[0m 4ms/step - loss: 0.0435 - mae: 0.2545 - rmse: 0.2923 - val_loss: 0.0406 - val_mae: 0.2438 - val_rmse: 0.2795\n",
            "Epoch 37/100\n",
            "\u001b[1m16/16\u001b[0m \u001b[32m━━━━━━━━━━━━━━━━━━━━\u001b[0m\u001b[37m\u001b[0m \u001b[1m0s\u001b[0m 4ms/step - loss: 0.0417 - mae: 0.2451 - rmse: 0.2872 - val_loss: 0.0406 - val_mae: 0.2438 - val_rmse: 0.2795\n",
            "Epoch 38/100\n",
            "\u001b[1m16/16\u001b[0m \u001b[32m━━━━━━━━━━━━━━━━━━━━\u001b[0m\u001b[37m\u001b[0m \u001b[1m0s\u001b[0m 4ms/step - loss: 0.0418 - mae: 0.2473 - rmse: 0.2877 - val_loss: 0.0405 - val_mae: 0.2437 - val_rmse: 0.2794\n",
            "Epoch 39/100\n",
            "\u001b[1m16/16\u001b[0m \u001b[32m━━━━━━━━━━━━━━━━━━━━\u001b[0m\u001b[37m\u001b[0m \u001b[1m0s\u001b[0m 3ms/step - loss: 0.0438 - mae: 0.2572 - rmse: 0.2940 - val_loss: 0.0405 - val_mae: 0.2438 - val_rmse: 0.2795\n",
            "Epoch 40/100\n",
            "\u001b[1m16/16\u001b[0m \u001b[32m━━━━━━━━━━━━━━━━━━━━\u001b[0m\u001b[37m\u001b[0m \u001b[1m0s\u001b[0m 3ms/step - loss: 0.0426 - mae: 0.2528 - rmse: 0.2894 - val_loss: 0.0404 - val_mae: 0.2436 - val_rmse: 0.2794\n",
            "Epoch 41/100\n",
            "\u001b[1m16/16\u001b[0m \u001b[32m━━━━━━━━━━━━━━━━━━━━\u001b[0m\u001b[37m\u001b[0m \u001b[1m0s\u001b[0m 3ms/step - loss: 0.0424 - mae: 0.2511 - rmse: 0.2898 - val_loss: 0.0404 - val_mae: 0.2438 - val_rmse: 0.2795\n",
            "Epoch 42/100\n",
            "\u001b[1m16/16\u001b[0m \u001b[32m━━━━━━━━━━━━━━━━━━━━\u001b[0m\u001b[37m\u001b[0m \u001b[1m0s\u001b[0m 4ms/step - loss: 0.0383 - mae: 0.2358 - rmse: 0.2750 - val_loss: 0.0404 - val_mae: 0.2438 - val_rmse: 0.2795\n",
            "Epoch 43/100\n",
            "\u001b[1m16/16\u001b[0m \u001b[32m━━━━━━━━━━━━━━━━━━━━\u001b[0m\u001b[37m\u001b[0m \u001b[1m0s\u001b[0m 4ms/step - loss: 0.0427 - mae: 0.2552 - rmse: 0.2895 - val_loss: 0.0404 - val_mae: 0.2437 - val_rmse: 0.2794\n",
            "Epoch 44/100\n",
            "\u001b[1m16/16\u001b[0m \u001b[32m━━━━━━━━━━━━━━━━━━━━\u001b[0m\u001b[37m\u001b[0m \u001b[1m0s\u001b[0m 5ms/step - loss: 0.0415 - mae: 0.2462 - rmse: 0.2867 - val_loss: 0.0404 - val_mae: 0.2436 - val_rmse: 0.2794\n",
            "Epoch 45/100\n",
            "\u001b[1m16/16\u001b[0m \u001b[32m━━━━━━━━━━━━━━━━━━━━\u001b[0m\u001b[37m\u001b[0m \u001b[1m0s\u001b[0m 5ms/step - loss: 0.0427 - mae: 0.2537 - rmse: 0.2907 - val_loss: 0.0403 - val_mae: 0.2436 - val_rmse: 0.2794\n",
            "Epoch 46/100\n",
            "\u001b[1m16/16\u001b[0m \u001b[32m━━━━━━━━━━━━━━━━━━━━\u001b[0m\u001b[37m\u001b[0m \u001b[1m0s\u001b[0m 3ms/step - loss: 0.0414 - mae: 0.2524 - rmse: 0.2856 - val_loss: 0.0404 - val_mae: 0.2437 - val_rmse: 0.2794\n",
            "Epoch 47/100\n",
            "\u001b[1m16/16\u001b[0m \u001b[32m━━━━━━━━━━━━━━━━━━━━\u001b[0m\u001b[37m\u001b[0m \u001b[1m0s\u001b[0m 3ms/step - loss: 0.0394 - mae: 0.2377 - rmse: 0.2791 - val_loss: 0.0403 - val_mae: 0.2436 - val_rmse: 0.2794\n",
            "Epoch 48/100\n",
            "\u001b[1m16/16\u001b[0m \u001b[32m━━━━━━━━━━━━━━━━━━━━\u001b[0m\u001b[37m\u001b[0m \u001b[1m0s\u001b[0m 3ms/step - loss: 0.0445 - mae: 0.2604 - rmse: 0.2956 - val_loss: 0.0403 - val_mae: 0.2437 - val_rmse: 0.2794\n",
            "Epoch 49/100\n",
            "\u001b[1m16/16\u001b[0m \u001b[32m━━━━━━━━━━━━━━━━━━━━\u001b[0m\u001b[37m\u001b[0m \u001b[1m0s\u001b[0m 5ms/step - loss: 0.0430 - mae: 0.2533 - rmse: 0.2904 - val_loss: 0.0403 - val_mae: 0.2434 - val_rmse: 0.2793\n",
            "Epoch 50/100\n",
            "\u001b[1m16/16\u001b[0m \u001b[32m━━━━━━━━━━━━━━━━━━━━\u001b[0m\u001b[37m\u001b[0m \u001b[1m0s\u001b[0m 4ms/step - loss: 0.0430 - mae: 0.2519 - rmse: 0.2914 - val_loss: 0.0403 - val_mae: 0.2435 - val_rmse: 0.2793\n",
            "Epoch 51/100\n",
            "\u001b[1m16/16\u001b[0m \u001b[32m━━━━━━━━━━━━━━━━━━━━\u001b[0m\u001b[37m\u001b[0m \u001b[1m0s\u001b[0m 4ms/step - loss: 0.0423 - mae: 0.2482 - rmse: 0.2895 - val_loss: 0.0403 - val_mae: 0.2436 - val_rmse: 0.2794\n",
            "Epoch 52/100\n",
            "\u001b[1m16/16\u001b[0m \u001b[32m━━━━━━━━━━━━━━━━━━━━\u001b[0m\u001b[37m\u001b[0m \u001b[1m0s\u001b[0m 4ms/step - loss: 0.0413 - mae: 0.2458 - rmse: 0.2865 - val_loss: 0.0403 - val_mae: 0.2434 - val_rmse: 0.2793\n",
            "Epoch 53/100\n",
            "\u001b[1m16/16\u001b[0m \u001b[32m━━━━━━━━━━━━━━━━━━━━\u001b[0m\u001b[37m\u001b[0m \u001b[1m0s\u001b[0m 3ms/step - loss: 0.0414 - mae: 0.2503 - rmse: 0.2871 - val_loss: 0.0403 - val_mae: 0.2436 - val_rmse: 0.2794\n",
            "Epoch 54/100\n",
            "\u001b[1m16/16\u001b[0m \u001b[32m━━━━━━━━━━━━━━━━━━━━\u001b[0m\u001b[37m\u001b[0m \u001b[1m0s\u001b[0m 4ms/step - loss: 0.0400 - mae: 0.2414 - rmse: 0.2817 - val_loss: 0.0403 - val_mae: 0.2435 - val_rmse: 0.2793\n",
            "Epoch 55/100\n",
            "\u001b[1m16/16\u001b[0m \u001b[32m━━━━━━━━━━━━━━━━━━━━\u001b[0m\u001b[37m\u001b[0m \u001b[1m0s\u001b[0m 3ms/step - loss: 0.0449 - mae: 0.2598 - rmse: 0.2978 - val_loss: 0.0403 - val_mae: 0.2435 - val_rmse: 0.2793\n",
            "Epoch 56/100\n",
            "\u001b[1m16/16\u001b[0m \u001b[32m━━━━━━━━━━━━━━━━━━━━\u001b[0m\u001b[37m\u001b[0m \u001b[1m0s\u001b[0m 3ms/step - loss: 0.0402 - mae: 0.2433 - rmse: 0.2822 - val_loss: 0.0403 - val_mae: 0.2437 - val_rmse: 0.2794\n",
            "Epoch 57/100\n",
            "\u001b[1m16/16\u001b[0m \u001b[32m━━━━━━━━━━━━━━━━━━━━\u001b[0m\u001b[37m\u001b[0m \u001b[1m0s\u001b[0m 4ms/step - loss: 0.0437 - mae: 0.2549 - rmse: 0.2943 - val_loss: 0.0403 - val_mae: 0.2437 - val_rmse: 0.2794\n",
            "Epoch 58/100\n",
            "\u001b[1m16/16\u001b[0m \u001b[32m━━━━━━━━━━━━━━━━━━━━\u001b[0m\u001b[37m\u001b[0m \u001b[1m0s\u001b[0m 3ms/step - loss: 0.0421 - mae: 0.2520 - rmse: 0.2875 - val_loss: 0.0403 - val_mae: 0.2436 - val_rmse: 0.2794\n",
            "Epoch 59/100\n",
            "\u001b[1m16/16\u001b[0m \u001b[32m━━━━━━━━━━━━━━━━━━━━\u001b[0m\u001b[37m\u001b[0m \u001b[1m0s\u001b[0m 3ms/step - loss: 0.0393 - mae: 0.2416 - rmse: 0.2790 - val_loss: 0.0403 - val_mae: 0.2436 - val_rmse: 0.2794\n",
            "Epoch 60/100\n",
            "\u001b[1m16/16\u001b[0m \u001b[32m━━━━━━━━━━━━━━━━━━━━\u001b[0m\u001b[37m\u001b[0m \u001b[1m0s\u001b[0m 5ms/step - loss: 0.0452 - mae: 0.2631 - rmse: 0.2998 - val_loss: 0.0404 - val_mae: 0.2439 - val_rmse: 0.2795\n",
            "Epoch 61/100\n",
            "\u001b[1m16/16\u001b[0m \u001b[32m━━━━━━━━━━━━━━━━━━━━\u001b[0m\u001b[37m\u001b[0m \u001b[1m0s\u001b[0m 4ms/step - loss: 0.0477 - mae: 0.2742 - rmse: 0.3071 - val_loss: 0.0403 - val_mae: 0.2437 - val_rmse: 0.2794\n",
            "Epoch 62/100\n",
            "\u001b[1m16/16\u001b[0m \u001b[32m━━━━━━━━━━━━━━━━━━━━\u001b[0m\u001b[37m\u001b[0m \u001b[1m0s\u001b[0m 3ms/step - loss: 0.0446 - mae: 0.2593 - rmse: 0.2966 - val_loss: 0.0403 - val_mae: 0.2436 - val_rmse: 0.2794\n",
            "Epoch 63/100\n",
            "\u001b[1m16/16\u001b[0m \u001b[32m━━━━━━━━━━━━━━━━━━━━\u001b[0m\u001b[37m\u001b[0m \u001b[1m0s\u001b[0m 4ms/step - loss: 0.0404 - mae: 0.2428 - rmse: 0.2825 - val_loss: 0.0403 - val_mae: 0.2436 - val_rmse: 0.2794\n",
            "Epoch 64/100\n",
            "\u001b[1m16/16\u001b[0m \u001b[32m━━━━━━━━━━━━━━━━━━━━\u001b[0m\u001b[37m\u001b[0m \u001b[1m0s\u001b[0m 5ms/step - loss: 0.0445 - mae: 0.2616 - rmse: 0.2973 - val_loss: 0.0403 - val_mae: 0.2435 - val_rmse: 0.2793\n",
            "Epoch 65/100\n",
            "\u001b[1m16/16\u001b[0m \u001b[32m━━━━━━━━━━━━━━━━━━━━\u001b[0m\u001b[37m\u001b[0m \u001b[1m0s\u001b[0m 5ms/step - loss: 0.0415 - mae: 0.2487 - rmse: 0.2866 - val_loss: 0.0403 - val_mae: 0.2436 - val_rmse: 0.2794\n",
            "Epoch 66/100\n",
            "\u001b[1m16/16\u001b[0m \u001b[32m━━━━━━━━━━━━━━━━━━━━\u001b[0m\u001b[37m\u001b[0m \u001b[1m0s\u001b[0m 4ms/step - loss: 0.0411 - mae: 0.2463 - rmse: 0.2852 - val_loss: 0.0403 - val_mae: 0.2436 - val_rmse: 0.2794\n",
            "Epoch 67/100\n",
            "\u001b[1m16/16\u001b[0m \u001b[32m━━━━━━━━━━━━━━━━━━━━\u001b[0m\u001b[37m\u001b[0m \u001b[1m0s\u001b[0m 5ms/step - loss: 0.0390 - mae: 0.2402 - rmse: 0.2773 - val_loss: 0.0403 - val_mae: 0.2436 - val_rmse: 0.2794\n",
            "Epoch 68/100\n",
            "\u001b[1m16/16\u001b[0m \u001b[32m━━━━━━━━━━━━━━━━━━━━\u001b[0m\u001b[37m\u001b[0m \u001b[1m0s\u001b[0m 5ms/step - loss: 0.0435 - mae: 0.2581 - rmse: 0.2939 - val_loss: 0.0403 - val_mae: 0.2436 - val_rmse: 0.2794\n",
            "Epoch 69/100\n",
            "\u001b[1m16/16\u001b[0m \u001b[32m━━━━━━━━━━━━━━━━━━━━\u001b[0m\u001b[37m\u001b[0m \u001b[1m0s\u001b[0m 3ms/step - loss: 0.0439 - mae: 0.2574 - rmse: 0.2948 - val_loss: 0.0403 - val_mae: 0.2436 - val_rmse: 0.2794\n",
            "Epoch 70/100\n",
            "\u001b[1m16/16\u001b[0m \u001b[32m━━━━━━━━━━━━━━━━━━━━\u001b[0m\u001b[37m\u001b[0m \u001b[1m0s\u001b[0m 4ms/step - loss: 0.0390 - mae: 0.2396 - rmse: 0.2779 - val_loss: 0.0403 - val_mae: 0.2436 - val_rmse: 0.2794\n",
            "Epoch 71/100\n",
            "\u001b[1m16/16\u001b[0m \u001b[32m━━━━━━━━━━━━━━━━━━━━\u001b[0m\u001b[37m\u001b[0m \u001b[1m0s\u001b[0m 4ms/step - loss: 0.0454 - mae: 0.2654 - rmse: 0.2997 - val_loss: 0.0403 - val_mae: 0.2435 - val_rmse: 0.2793\n",
            "Epoch 72/100\n",
            "\u001b[1m16/16\u001b[0m \u001b[32m━━━━━━━━━━━━━━━━━━━━\u001b[0m\u001b[37m\u001b[0m \u001b[1m0s\u001b[0m 4ms/step - loss: 0.0442 - mae: 0.2578 - rmse: 0.2955 - val_loss: 0.0403 - val_mae: 0.2435 - val_rmse: 0.2793\n",
            "Epoch 73/100\n",
            "\u001b[1m16/16\u001b[0m \u001b[32m━━━━━━━━━━━━━━━━━━━━\u001b[0m\u001b[37m\u001b[0m \u001b[1m0s\u001b[0m 4ms/step - loss: 0.0365 - mae: 0.2333 - rmse: 0.2680 - val_loss: 0.0403 - val_mae: 0.2437 - val_rmse: 0.2794\n",
            "Epoch 74/100\n",
            "\u001b[1m16/16\u001b[0m \u001b[32m━━━━━━━━━━━━━━━━━━━━\u001b[0m\u001b[37m\u001b[0m \u001b[1m0s\u001b[0m 3ms/step - loss: 0.0418 - mae: 0.2525 - rmse: 0.2885 - val_loss: 0.0403 - val_mae: 0.2436 - val_rmse: 0.2794\n",
            "Epoch 75/100\n",
            "\u001b[1m16/16\u001b[0m \u001b[32m━━━━━━━━━━━━━━━━━━━━\u001b[0m\u001b[37m\u001b[0m \u001b[1m0s\u001b[0m 5ms/step - loss: 0.0434 - mae: 0.2536 - rmse: 0.2930 - val_loss: 0.0403 - val_mae: 0.2436 - val_rmse: 0.2794\n",
            "Epoch 76/100\n",
            "\u001b[1m16/16\u001b[0m \u001b[32m━━━━━━━━━━━━━━━━━━━━\u001b[0m\u001b[37m\u001b[0m \u001b[1m0s\u001b[0m 5ms/step - loss: 0.0424 - mae: 0.2531 - rmse: 0.2899 - val_loss: 0.0403 - val_mae: 0.2436 - val_rmse: 0.2794\n",
            "Epoch 77/100\n",
            "\u001b[1m16/16\u001b[0m \u001b[32m━━━━━━━━━━━━━━━━━━━━\u001b[0m\u001b[37m\u001b[0m \u001b[1m0s\u001b[0m 4ms/step - loss: 0.0416 - mae: 0.2510 - rmse: 0.2871 - val_loss: 0.0403 - val_mae: 0.2435 - val_rmse: 0.2793\n",
            "Epoch 78/100\n",
            "\u001b[1m16/16\u001b[0m \u001b[32m━━━━━━━━━━━━━━━━━━━━\u001b[0m\u001b[37m\u001b[0m \u001b[1m0s\u001b[0m 5ms/step - loss: 0.0408 - mae: 0.2475 - rmse: 0.2846 - val_loss: 0.0403 - val_mae: 0.2435 - val_rmse: 0.2793\n",
            "Epoch 79/100\n",
            "\u001b[1m16/16\u001b[0m \u001b[32m━━━━━━━━━━━━━━━━━━━━\u001b[0m\u001b[37m\u001b[0m \u001b[1m0s\u001b[0m 3ms/step - loss: 0.0465 - mae: 0.2667 - rmse: 0.3022 - val_loss: 0.0403 - val_mae: 0.2437 - val_rmse: 0.2794\n",
            "Epoch 80/100\n",
            "\u001b[1m16/16\u001b[0m \u001b[32m━━━━━━━━━━━━━━━━━━━━\u001b[0m\u001b[37m\u001b[0m \u001b[1m0s\u001b[0m 4ms/step - loss: 0.0442 - mae: 0.2564 - rmse: 0.2948 - val_loss: 0.0403 - val_mae: 0.2436 - val_rmse: 0.2794\n",
            "Epoch 81/100\n",
            "\u001b[1m16/16\u001b[0m \u001b[32m━━━━━━━━━━━━━━━━━━━━\u001b[0m\u001b[37m\u001b[0m \u001b[1m0s\u001b[0m 5ms/step - loss: 0.0411 - mae: 0.2467 - rmse: 0.2854 - val_loss: 0.0403 - val_mae: 0.2436 - val_rmse: 0.2793\n",
            "Epoch 82/100\n",
            "\u001b[1m16/16\u001b[0m \u001b[32m━━━━━━━━━━━━━━━━━━━━\u001b[0m\u001b[37m\u001b[0m \u001b[1m0s\u001b[0m 5ms/step - loss: 0.0418 - mae: 0.2498 - rmse: 0.2881 - val_loss: 0.0403 - val_mae: 0.2437 - val_rmse: 0.2794\n",
            "Epoch 83/100\n",
            "\u001b[1m16/16\u001b[0m \u001b[32m━━━━━━━━━━━━━━━━━━━━\u001b[0m\u001b[37m\u001b[0m \u001b[1m0s\u001b[0m 5ms/step - loss: 0.0444 - mae: 0.2591 - rmse: 0.2961 - val_loss: 0.0403 - val_mae: 0.2437 - val_rmse: 0.2794\n",
            "Epoch 84/100\n",
            "\u001b[1m16/16\u001b[0m \u001b[32m━━━━━━━━━━━━━━━━━━━━\u001b[0m\u001b[37m\u001b[0m \u001b[1m0s\u001b[0m 4ms/step - loss: 0.0430 - mae: 0.2586 - rmse: 0.2927 - val_loss: 0.0403 - val_mae: 0.2437 - val_rmse: 0.2794\n",
            "Epoch 85/100\n",
            "\u001b[1m16/16\u001b[0m \u001b[32m━━━━━━━━━━━━━━━━━━━━\u001b[0m\u001b[37m\u001b[0m \u001b[1m0s\u001b[0m 4ms/step - loss: 0.0449 - mae: 0.2600 - rmse: 0.2971 - val_loss: 0.0403 - val_mae: 0.2436 - val_rmse: 0.2794\n",
            "Epoch 86/100\n",
            "\u001b[1m16/16\u001b[0m \u001b[32m━━━━━━━━━━━━━━━━━━━━\u001b[0m\u001b[37m\u001b[0m \u001b[1m0s\u001b[0m 4ms/step - loss: 0.0390 - mae: 0.2390 - rmse: 0.2763 - val_loss: 0.0403 - val_mae: 0.2438 - val_rmse: 0.2795\n",
            "Epoch 87/100\n",
            "\u001b[1m16/16\u001b[0m \u001b[32m━━━━━━━━━━━━━━━━━━━━\u001b[0m\u001b[37m\u001b[0m \u001b[1m0s\u001b[0m 3ms/step - loss: 0.0429 - mae: 0.2534 - rmse: 0.2888 - val_loss: 0.0403 - val_mae: 0.2437 - val_rmse: 0.2794\n",
            "Epoch 88/100\n",
            "\u001b[1m16/16\u001b[0m \u001b[32m━━━━━━━━━━━━━━━━━━━━\u001b[0m\u001b[37m\u001b[0m \u001b[1m0s\u001b[0m 4ms/step - loss: 0.0414 - mae: 0.2502 - rmse: 0.2864 - val_loss: 0.0403 - val_mae: 0.2436 - val_rmse: 0.2794\n",
            "Epoch 89/100\n",
            "\u001b[1m16/16\u001b[0m \u001b[32m━━━━━━━━━━━━━━━━━━━━\u001b[0m\u001b[37m\u001b[0m \u001b[1m0s\u001b[0m 5ms/step - loss: 0.0434 - mae: 0.2532 - rmse: 0.2926 - val_loss: 0.0403 - val_mae: 0.2435 - val_rmse: 0.2793\n",
            "Epoch 90/100\n",
            "\u001b[1m16/16\u001b[0m \u001b[32m━━━━━━━━━━━━━━━━━━━━\u001b[0m\u001b[37m\u001b[0m \u001b[1m0s\u001b[0m 3ms/step - loss: 0.0431 - mae: 0.2546 - rmse: 0.2916 - val_loss: 0.0403 - val_mae: 0.2435 - val_rmse: 0.2793\n",
            "Epoch 91/100\n",
            "\u001b[1m16/16\u001b[0m \u001b[32m━━━━━━━━━━━━━━━━━━━━\u001b[0m\u001b[37m\u001b[0m \u001b[1m0s\u001b[0m 4ms/step - loss: 0.0453 - mae: 0.2642 - rmse: 0.2987 - val_loss: 0.0403 - val_mae: 0.2435 - val_rmse: 0.2793\n",
            "Epoch 92/100\n",
            "\u001b[1m16/16\u001b[0m \u001b[32m━━━━━━━━━━━━━━━━━━━━\u001b[0m\u001b[37m\u001b[0m \u001b[1m0s\u001b[0m 4ms/step - loss: 0.0440 - mae: 0.2592 - rmse: 0.2947 - val_loss: 0.0403 - val_mae: 0.2435 - val_rmse: 0.2793\n",
            "Epoch 93/100\n",
            "\u001b[1m16/16\u001b[0m \u001b[32m━━━━━━━━━━━━━━━━━━━━\u001b[0m\u001b[37m\u001b[0m \u001b[1m0s\u001b[0m 4ms/step - loss: 0.0414 - mae: 0.2502 - rmse: 0.2861 - val_loss: 0.0403 - val_mae: 0.2434 - val_rmse: 0.2793\n",
            "Epoch 94/100\n",
            "\u001b[1m16/16\u001b[0m \u001b[32m━━━━━━━━━━━━━━━━━━━━\u001b[0m\u001b[37m\u001b[0m \u001b[1m0s\u001b[0m 4ms/step - loss: 0.0406 - mae: 0.2464 - rmse: 0.2842 - val_loss: 0.0403 - val_mae: 0.2435 - val_rmse: 0.2793\n",
            "Epoch 95/100\n",
            "\u001b[1m16/16\u001b[0m \u001b[32m━━━━━━━━━━━━━━━━━━━━\u001b[0m\u001b[37m\u001b[0m \u001b[1m0s\u001b[0m 5ms/step - loss: 0.0423 - mae: 0.2512 - rmse: 0.2884 - val_loss: 0.0403 - val_mae: 0.2435 - val_rmse: 0.2793\n",
            "Epoch 96/100\n",
            "\u001b[1m16/16\u001b[0m \u001b[32m━━━━━━━━━━━━━━━━━━━━\u001b[0m\u001b[37m\u001b[0m \u001b[1m0s\u001b[0m 4ms/step - loss: 0.0417 - mae: 0.2473 - rmse: 0.2871 - val_loss: 0.0403 - val_mae: 0.2436 - val_rmse: 0.2794\n",
            "Epoch 97/100\n",
            "\u001b[1m16/16\u001b[0m \u001b[32m━━━━━━━━━━━━━━━━━━━━\u001b[0m\u001b[37m\u001b[0m \u001b[1m0s\u001b[0m 5ms/step - loss: 0.0444 - mae: 0.2615 - rmse: 0.2963 - val_loss: 0.0403 - val_mae: 0.2436 - val_rmse: 0.2794\n",
            "Epoch 98/100\n",
            "\u001b[1m16/16\u001b[0m \u001b[32m━━━━━━━━━━━━━━━━━━━━\u001b[0m\u001b[37m\u001b[0m \u001b[1m0s\u001b[0m 3ms/step - loss: 0.0428 - mae: 0.2534 - rmse: 0.2913 - val_loss: 0.0403 - val_mae: 0.2436 - val_rmse: 0.2794\n",
            "Epoch 99/100\n",
            "\u001b[1m16/16\u001b[0m \u001b[32m━━━━━━━━━━━━━━━━━━━━\u001b[0m\u001b[37m\u001b[0m \u001b[1m0s\u001b[0m 5ms/step - loss: 0.0414 - mae: 0.2465 - rmse: 0.2869 - val_loss: 0.0403 - val_mae: 0.2437 - val_rmse: 0.2794\n",
            "Epoch 100/100\n",
            "\u001b[1m16/16\u001b[0m \u001b[32m━━━━━━━━━━━━━━━━━━━━\u001b[0m\u001b[37m\u001b[0m \u001b[1m0s\u001b[0m 4ms/step - loss: 0.0410 - mae: 0.2468 - rmse: 0.2858 - val_loss: 0.0403 - val_mae: 0.2437 - val_rmse: 0.2794\n"
          ]
        }
      ],
      "source": [
        "# Split dataset 80% test 20% validation\n",
        "train_X, test_X, y_train, y_test = train_test_split(X, y, test_size=0.2, random_state=42)\n",
        "\n",
        "# Bangun model\n",
        "input_dim = train_X.shape[1] # karena ada 4 fitur maka neuron input = 4\n",
        "\n",
        "model = tf.keras.Sequential([\n",
        "    tf.keras.layers.Input(shape=(input_dim,)),\n",
        "    tf.keras.layers.Dense(40, activation='relu', kernel_regularizer=l2(0.01)),\n",
        "    tf.keras.layers.Dense(20, activation='relu', kernel_regularizer=l2(0.01)),\n",
        "    tf.keras.layers.Dense(1, activation='sigmoid')  # 1 output, relevansi tiap tempat wisata [0,1]\n",
        "])\n",
        "\n",
        "# Definisikan metric RMSE\n",
        "def rmse(y_true, y_pred):\n",
        "    return K.sqrt(K.mean(K.square(y_true - y_pred)))\n",
        "\n",
        "# Compile model\n",
        "huber_loss = Huber(delta=1.0) # gunakan huber karena netral, tidak terlalu sensitif terhadap error kecil seperti MSE dan tidak terlalu sensitif juga untuk error besar seperti MAE\n",
        "model.compile(optimizer='adam', loss=huber_loss, metrics=['mae', rmse])\n",
        "\n",
        "# Train model\n",
        "history = model.fit(\n",
        "    train_X, y_train,\n",
        "    validation_data=(test_X, y_test),\n",
        "    epochs=100,\n",
        "    batch_size=16\n",
        ")"
      ]
    },
    {
      "cell_type": "code",
      "execution_count": null,
      "metadata": {
        "colab": {
          "base_uri": "https://localhost:8080/",
          "height": 258
        },
        "id": "0ACLAyF-hUIQ",
        "outputId": "d901e4ae-dd6c-4c5b-da31-f84201406ae5"
      },
      "outputs": [
        {
          "output_type": "display_data",
          "data": {
            "text/plain": [
              "\u001b[1mModel: \"sequential_3\"\u001b[0m\n"
            ],
            "text/html": [
              "<pre style=\"white-space:pre;overflow-x:auto;line-height:normal;font-family:Menlo,'DejaVu Sans Mono',consolas,'Courier New',monospace\"><span style=\"font-weight: bold\">Model: \"sequential_3\"</span>\n",
              "</pre>\n"
            ]
          },
          "metadata": {}
        },
        {
          "output_type": "display_data",
          "data": {
            "text/plain": [
              "┏━━━━━━━━━━━━━━━━━━━━━━━━━━━━━━━━━━━━━━┳━━━━━━━━━━━━━━━━━━━━━━━━━━━━━┳━━━━━━━━━━━━━━━━━┓\n",
              "┃\u001b[1m \u001b[0m\u001b[1mLayer (type)                        \u001b[0m\u001b[1m \u001b[0m┃\u001b[1m \u001b[0m\u001b[1mOutput Shape               \u001b[0m\u001b[1m \u001b[0m┃\u001b[1m \u001b[0m\u001b[1m        Param #\u001b[0m\u001b[1m \u001b[0m┃\n",
              "┡━━━━━━━━━━━━━━━━━━━━━━━━━━━━━━━━━━━━━━╇━━━━━━━━━━━━━━━━━━━━━━━━━━━━━╇━━━━━━━━━━━━━━━━━┩\n",
              "│ dense_9 (\u001b[38;5;33mDense\u001b[0m)                      │ (\u001b[38;5;45mNone\u001b[0m, \u001b[38;5;34m40\u001b[0m)                  │             \u001b[38;5;34m640\u001b[0m │\n",
              "├──────────────────────────────────────┼─────────────────────────────┼─────────────────┤\n",
              "│ dense_10 (\u001b[38;5;33mDense\u001b[0m)                     │ (\u001b[38;5;45mNone\u001b[0m, \u001b[38;5;34m20\u001b[0m)                  │             \u001b[38;5;34m820\u001b[0m │\n",
              "├──────────────────────────────────────┼─────────────────────────────┼─────────────────┤\n",
              "│ dense_11 (\u001b[38;5;33mDense\u001b[0m)                     │ (\u001b[38;5;45mNone\u001b[0m, \u001b[38;5;34m1\u001b[0m)                   │              \u001b[38;5;34m21\u001b[0m │\n",
              "└──────────────────────────────────────┴─────────────────────────────┴─────────────────┘\n"
            ],
            "text/html": [
              "<pre style=\"white-space:pre;overflow-x:auto;line-height:normal;font-family:Menlo,'DejaVu Sans Mono',consolas,'Courier New',monospace\">┏━━━━━━━━━━━━━━━━━━━━━━━━━━━━━━━━━━━━━━┳━━━━━━━━━━━━━━━━━━━━━━━━━━━━━┳━━━━━━━━━━━━━━━━━┓\n",
              "┃<span style=\"font-weight: bold\"> Layer (type)                         </span>┃<span style=\"font-weight: bold\"> Output Shape                </span>┃<span style=\"font-weight: bold\">         Param # </span>┃\n",
              "┡━━━━━━━━━━━━━━━━━━━━━━━━━━━━━━━━━━━━━━╇━━━━━━━━━━━━━━━━━━━━━━━━━━━━━╇━━━━━━━━━━━━━━━━━┩\n",
              "│ dense_9 (<span style=\"color: #0087ff; text-decoration-color: #0087ff\">Dense</span>)                      │ (<span style=\"color: #00d7ff; text-decoration-color: #00d7ff\">None</span>, <span style=\"color: #00af00; text-decoration-color: #00af00\">40</span>)                  │             <span style=\"color: #00af00; text-decoration-color: #00af00\">640</span> │\n",
              "├──────────────────────────────────────┼─────────────────────────────┼─────────────────┤\n",
              "│ dense_10 (<span style=\"color: #0087ff; text-decoration-color: #0087ff\">Dense</span>)                     │ (<span style=\"color: #00d7ff; text-decoration-color: #00d7ff\">None</span>, <span style=\"color: #00af00; text-decoration-color: #00af00\">20</span>)                  │             <span style=\"color: #00af00; text-decoration-color: #00af00\">820</span> │\n",
              "├──────────────────────────────────────┼─────────────────────────────┼─────────────────┤\n",
              "│ dense_11 (<span style=\"color: #0087ff; text-decoration-color: #0087ff\">Dense</span>)                     │ (<span style=\"color: #00d7ff; text-decoration-color: #00d7ff\">None</span>, <span style=\"color: #00af00; text-decoration-color: #00af00\">1</span>)                   │              <span style=\"color: #00af00; text-decoration-color: #00af00\">21</span> │\n",
              "└──────────────────────────────────────┴─────────────────────────────┴─────────────────┘\n",
              "</pre>\n"
            ]
          },
          "metadata": {}
        },
        {
          "output_type": "display_data",
          "data": {
            "text/plain": [
              "\u001b[1m Total params: \u001b[0m\u001b[38;5;34m4,445\u001b[0m (17.37 KB)\n"
            ],
            "text/html": [
              "<pre style=\"white-space:pre;overflow-x:auto;line-height:normal;font-family:Menlo,'DejaVu Sans Mono',consolas,'Courier New',monospace\"><span style=\"font-weight: bold\"> Total params: </span><span style=\"color: #00af00; text-decoration-color: #00af00\">4,445</span> (17.37 KB)\n",
              "</pre>\n"
            ]
          },
          "metadata": {}
        },
        {
          "output_type": "display_data",
          "data": {
            "text/plain": [
              "\u001b[1m Trainable params: \u001b[0m\u001b[38;5;34m1,481\u001b[0m (5.79 KB)\n"
            ],
            "text/html": [
              "<pre style=\"white-space:pre;overflow-x:auto;line-height:normal;font-family:Menlo,'DejaVu Sans Mono',consolas,'Courier New',monospace\"><span style=\"font-weight: bold\"> Trainable params: </span><span style=\"color: #00af00; text-decoration-color: #00af00\">1,481</span> (5.79 KB)\n",
              "</pre>\n"
            ]
          },
          "metadata": {}
        },
        {
          "output_type": "display_data",
          "data": {
            "text/plain": [
              "\u001b[1m Non-trainable params: \u001b[0m\u001b[38;5;34m0\u001b[0m (0.00 B)\n"
            ],
            "text/html": [
              "<pre style=\"white-space:pre;overflow-x:auto;line-height:normal;font-family:Menlo,'DejaVu Sans Mono',consolas,'Courier New',monospace\"><span style=\"font-weight: bold\"> Non-trainable params: </span><span style=\"color: #00af00; text-decoration-color: #00af00\">0</span> (0.00 B)\n",
              "</pre>\n"
            ]
          },
          "metadata": {}
        },
        {
          "output_type": "display_data",
          "data": {
            "text/plain": [
              "\u001b[1m Optimizer params: \u001b[0m\u001b[38;5;34m2,964\u001b[0m (11.58 KB)\n"
            ],
            "text/html": [
              "<pre style=\"white-space:pre;overflow-x:auto;line-height:normal;font-family:Menlo,'DejaVu Sans Mono',consolas,'Courier New',monospace\"><span style=\"font-weight: bold\"> Optimizer params: </span><span style=\"color: #00af00; text-decoration-color: #00af00\">2,964</span> (11.58 KB)\n",
              "</pre>\n"
            ]
          },
          "metadata": {}
        }
      ],
      "source": [
        "# Display summary model\n",
        "model.summary()"
      ]
    },
    {
      "cell_type": "code",
      "execution_count": null,
      "metadata": {
        "colab": {
          "base_uri": "https://localhost:8080/",
          "height": 726
        },
        "id": "y4GxdLbthW8Q",
        "outputId": "5fd8b974-03ac-48da-c162-aabfb2462d3d"
      },
      "outputs": [
        {
          "output_type": "display_data",
          "data": {
            "text/plain": [
              "<Figure size 1000x500 with 1 Axes>"
            ],
            "image/png": "[encoded data removed]"
          },
          "metadata": {}
        },
        {
          "output_type": "display_data",
          "data": {
            "text/plain": [
              "<Figure size 1000x500 with 1 Axes>"
            ],
            "image/png": "[encoded data removed]"
          },
          "metadata": {}
        }
      ],
      "source": [
        "# Plot training and validation loss\n",
        "plt.figure(figsize=(10, 5))\n",
        "plt.plot(history.history['loss'], label='Training Loss')\n",
        "plt.plot(history.history['val_loss'], label='Validation Loss')\n",
        "plt.title('Model Loss')\n",
        "plt.xlabel('Epochs')\n",
        "plt.ylabel('Loss')\n",
        "plt.legend()\n",
        "plt.show()\n",
        "\n",
        "# Plot training and validation RMSE\n",
        "plt.figure(figsize=(10, 5))\n",
        "plt.plot(history.history['rmse'], label='Training RMSE')\n",
        "plt.plot(history.history['val_rmse'], label='Validation RMSE')\n",
        "plt.title('Model RMSE')\n",
        "plt.xlabel('Epochs')\n",
        "plt.ylabel('RMSE')\n",
        "plt.legend()\n",
        "plt.show()"
      ]
    },
    {
      "cell_type": "markdown",
      "metadata": {
        "id": "lU-o9ajtPWIW"
      },
      "source": [
        "## Fungsi untuk preproses input dan menampilkan output rekomendasi berdasarkan filter"
      ]
    },
    {
      "cell_type": "code",
      "execution_count": null,
      "metadata": {
        "id": "_HxqKK8blTZ4"
      },
      "outputs": [],
      "source": [
        "# fungsi untuk mengolah input agar format sesuai dengan model\n",
        "def preprocess_user_input(user_input):\n",
        "    # Buat DataFrame dari input pengguna\n",
        "    user_df = pd.DataFrame([{\n",
        "        \"price_wna\": user_input[\"max_price\"],\n",
        "        \"rating\": user_input[\"min_rating\"]\n",
        "    }])\n",
        "\n",
        "    # Normalisasi input pengguna menggunakan scaler\n",
        "    normalized_input = scaler.transform(user_df)\n",
        "\n",
        "    # Encode kategori dan kota\n",
        "    user_category = encoder_category.transform([[user_input['category']]])\n",
        "    user_city = encoder_city.transform([[user_input['city']]])\n",
        "\n",
        "    # Gabungkan semua fitur\n",
        "    user_vector = np.hstack((user_category, user_city, normalized_input))\n",
        "\n",
        "    return user_vector\n"
      ]
    },
    {
      "cell_type": "code",
      "execution_count": null,
      "metadata": {
        "id": "l-onA1Qm3Rev"
      },
      "outputs": [],
      "source": [
        "# fungsi untuk menampilkan top 5 rekomendasi berdasarkan input user\n",
        "def recommend(user_input, top_n=5):\n",
        "    # Preproses input pengguna\n",
        "    user_input_vector = preprocess_user_input(user_input)\n",
        "\n",
        "    # Prediksi score untuk masing-masing data\n",
        "    scores = model.predict(X)\n",
        "    data['score'] = scores.flatten()\n",
        "\n",
        "    # Normalisasi nilai filter dari input pengguna\n",
        "    user_df = pd.DataFrame([{\n",
        "        \"price_wna\": user_input[\"max_price\"],\n",
        "        \"rating\": user_input[\"min_rating\"]\n",
        "    }])\n",
        "    normalized_input = scaler.transform(user_df)\n",
        "    max_price_scaled, min_rating_scaled = normalized_input[0]\n",
        "\n",
        "    # Filter data berdasarkan kriteria pengguna\n",
        "    # Cek apakah kolom 'address' dan 'google_maps' ada sebelum difilter\n",
        "    if 'address' in data.columns and 'google_maps' in data.columns:\n",
        "        filtered_data = data[\n",
        "            (data['rating'] >= min_rating_scaled) &\n",
        "            (data['price_wna'] <= max_price_scaled) &\n",
        "            (data['city'] == user_input['city']) &  # Filter berdasarkan kota\n",
        "            (data['category'] == user_input['category']) & # Filter berdasarkan kategori\n",
        "            (data['address'].notna()) & (data['google_maps'].notna())  # Filter data kosong\n",
        "        ]\n",
        "    else:\n",
        "        # Jika kolom tidak ada, tampilkan warning\n",
        "        print(\"Warning: 'address' or 'google_maps' column not found in data. Filtering without them.\")\n",
        "        filtered_data = data[\n",
        "            (data['rating'] >= min_rating_scaled) &\n",
        "            (data['price_wna'] <= max_price_scaled) &\n",
        "            (data['city'] == user_input['city']) &  # Filter berdasarkan kota\n",
        "            (data['category'] == user_input['category']) # Filter berdasarkan kategori\n",
        "        ]\n",
        "\n",
        "\n",
        "    # Kembalikan nilai rating dan price_wna ke skala asli\n",
        "    if not filtered_data.empty:\n",
        "        filtered_data.loc[:, ['price_wna', 'rating']] = scaler.inverse_transform(\n",
        "            filtered_data[['price_wna', 'rating']]\n",
        "        )\n",
        "\n",
        "    # Ambil rekomendasi top-N\n",
        "    if not filtered_data.empty:\n",
        "        recommendations = filtered_data.nlargest(top_n, 'score')\n",
        "    else:\n",
        "        print(\"No recommendations found based on the given criteria.\")\n",
        "        recommendations = pd.DataFrame()  # DataFrame kosong jika tidak ada rekomendasi\n",
        "\n",
        "    # Cek jika required columns ada di recommendations\n",
        "    required_columns = ['name', 'rating', 'price_wna', 'city', 'category', 'address', 'google_maps']\n",
        "    available_columns = recommendations.columns.tolist()\n",
        "\n",
        "    # Pilih kolom yang ada saja\n",
        "    selected_columns = [col for col in required_columns if col in available_columns]\n",
        "\n",
        "    return recommendations[selected_columns]"
      ]
    },
    {
      "cell_type": "markdown",
      "metadata": {
        "id": "j7ftIkGCPmcy"
      },
      "source": [
        "## Penggunaan input untuk rekomendasi berdasarkan filter"
      ]
    },
    {
      "cell_type": "code",
      "execution_count": null,
      "metadata": {
        "id": "RgOPP0CElcYU",
        "colab": {
          "base_uri": "https://localhost:8080/"
        },
        "outputId": "927f7b87-3091-4b41-e1ff-f3f2c5bba503"
      },
      "outputs": [
        {
          "output_type": "stream",
          "name": "stdout",
          "text": [
            "Enter the category of destination (Beach/Tourist attraction/Museum): Tourist attraction\n",
            "Enter the city you want to go to : Badung\n",
            "Enter the minimum rating (0.0-5.0): 4.5\n",
            "Enter the maximum ticket price (IDR) : 50000\n",
            "\u001b[1m10/10\u001b[0m \u001b[32m━━━━━━━━━━━━━━━━━━━━\u001b[0m\u001b[37m\u001b[0m \u001b[1m0s\u001b[0m 1ms/step \n",
            "                                    name  rating     price_wna    city  \\\n",
            "297                   Goa Gong Waterfall     4.8  34473.856209  Badung   \n",
            "27                              5GX Bali     4.7  34473.856209  Badung   \n",
            "28   Pandora Experience Escape Room Bali     4.7  34473.856209  Badung   \n",
            "194    Sorrento Mediterranean Restaurant     4.7  34473.856209  Badung   \n",
            "16                   Objek Wisata Sangeh     4.6  30000.000000  Badung   \n",
            "\n",
            "               category                           address  \\\n",
            "297  Tourist attraction                   Br, Batulantang   \n",
            "27   Tourist attraction  Jalan Legian No.99, Legian, Kuta   \n",
            "28   Tourist attraction              Jl. Dewi Sri No.45 D   \n",
            "194  Tourist attraction          ITDC Lot 1, Jl. Nusa Dua   \n",
            "16   Tourist attraction                      Jl. Brahmana   \n",
            "\n",
            "                                           google_maps  \n",
            "297  https://www.google.com/maps/place/Goa+Gong+Wat...  \n",
            "27   https://www.google.com/maps/place/5GX+Bali/dat...  \n",
            "28   https://www.google.com/maps/place/Pandora+Expe...  \n",
            "194  https://www.google.com/maps/place/Sorrento+Med...  \n",
            "16   https://www.google.com/maps/place/Objek+Wisata...  \n"
          ]
        },
        {
          "output_type": "stream",
          "name": "stderr",
          "text": [
            "/usr/local/lib/python3.10/dist-packages/sklearn/base.py:493: UserWarning: X does not have valid feature names, but OneHotEncoder was fitted with feature names\n",
            "  warnings.warn(\n",
            "/usr/local/lib/python3.10/dist-packages/sklearn/base.py:493: UserWarning: X does not have valid feature names, but OneHotEncoder was fitted with feature names\n",
            "  warnings.warn(\n",
            "<ipython-input-23-8a7c7192ac73>:8: SettingWithCopyWarning: \n",
            "A value is trying to be set on a copy of a slice from a DataFrame.\n",
            "Try using .loc[row_indexer,col_indexer] = value instead\n",
            "\n",
            "See the caveats in the documentation: https://pandas.pydata.org/pandas-docs/stable/user_guide/indexing.html#returning-a-view-versus-a-copy\n",
            "  data['score'] = scores.flatten()\n"
          ]
        }
      ],
      "source": [
        "# Input dari pengguna\n",
        "user_input = {\n",
        "    \"category\": input(\"Enter the category of destination (Beach/Tourist attraction/Museum): \"),       # Contoh: \"Beach\"\n",
        "    \"city\": input(\"Enter the city you want to go to : \"),            # Contoh: \"Denpasar\"\n",
        "    \"min_rating\": float(input(\"Enter the minimum rating (0.0-5.0): \")),  # Contoh: 4.0\n",
        "    \"max_price\": float(input(\"Enter the maximum ticket price (IDR) : \"))  # Contoh: 50000\n",
        "}\n",
        "\n",
        "# Tampilkan rekomendasi\n",
        "top_5_recommendations1 = recommend(user_input)\n",
        "print(top_5_recommendations1)"
      ]
    },
    {
      "cell_type": "markdown",
      "metadata": {
        "id": "K2O_LAESPoJj"
      },
      "source": [
        "## Fungsi untuk rekomendasi berdasarkan wisata yang sebelumnya dikunjungi"
      ]
    },
    {
      "cell_type": "code",
      "execution_count": null,
      "metadata": {
        "id": "ErMSJrJK_6I5"
      },
      "outputs": [],
      "source": [
        "# fungsi untuk rekomendasi berdasarkan wisata yang telah dikunjungi\n",
        "def recommend_similar_wisata(wisata_name, city_filter=None, max_price=None, top_n=5):\n",
        "    # Pastikan nama tempat wisata ada dalam data\n",
        "    if wisata_name not in data['name'].values:\n",
        "        print(f\"Tempat wisata '{wisata_name}' tidak ditemukan dalam data.\")\n",
        "        return pd.DataFrame()\n",
        "\n",
        "    # Pilih fitur yang digunakan untuk perhitungan similarity\n",
        "    features = np.hstack((\n",
        "        encoded_category,\n",
        "        encoded_city,\n",
        "        data[['price_wna', 'rating']].values\n",
        "    ))\n",
        "\n",
        "    # Ambil indeks tempat wisata yang diminta\n",
        "    wisata_idx = data[data['name'] == wisata_name].index[0]\n",
        "\n",
        "    # Hitung kesamaan menggunakan cosine similarity antara tempat wisata input dengan semua tempat wisata lainnya\n",
        "    similarity_scores = cosine_similarity(features[wisata_idx].reshape(1, -1), features).flatten()\n",
        "\n",
        "    # Tambahkan skor kesamaan ke dalam DataFrame\n",
        "    data['similarity'] = similarity_scores\n",
        "\n",
        "    # Ubah tipe data max_price ke float jika tidak kosong\n",
        "    if max_price is not None:\n",
        "        max_price = float(max_price)\n",
        "\n",
        "    # Filter data jika ada city_filter atau max_price\n",
        "    filtered_data = data[data['name'] != wisata_name]\n",
        "    if city_filter:\n",
        "        filtered_data = filtered_data[filtered_data['city'] == city_filter]\n",
        "    if max_price is not None:\n",
        "        # Normalisasi max_price untuk filter\n",
        "        max_price_scaled = scaler.transform([[max_price, 0]])[0][0]\n",
        "        filtered_data = filtered_data[filtered_data['price_wna'] <= max_price_scaled]\n",
        "\n",
        "    # Kembalikan nilai rating dan price_wna ke skala aslinya\n",
        "    if not filtered_data.empty:\n",
        "        filtered_data.loc[:, ['price_wna', 'rating']] = scaler.inverse_transform(\n",
        "            filtered_data[['price_wna', 'rating']]\n",
        "        )\n",
        "\n",
        "    # Urutkan berdasarkan skor similarity (descending) dan ambil top-N\n",
        "    recommendations = filtered_data.nlargest(top_n, 'similarity') if not filtered_data.empty else pd.DataFrame()\n",
        "\n",
        "    # Pilih kolom untuk ditampilkan\n",
        "    return recommendations[['name', 'rating', 'price_wna', 'city', 'category', 'address', 'google_maps', 'similarity']]\n"
      ]
    },
    {
      "cell_type": "markdown",
      "metadata": {
        "id": "oOrCcfQlPugs"
      },
      "source": [
        "## Penggunaan input rekomendasi berdasarkan wisata yang sebelumnya dikunjungi"
      ]
    },
    {
      "cell_type": "code",
      "execution_count": null,
      "metadata": {
        "id": "pqVusVFEA5CI"
      },
      "outputs": [],
      "source": [
        "B# input dari user\n",
        "wisata_name = input(\"Enter the name of destination you have already visited : \")\n",
        "city_filter = input(\"Enter the city you want to go to (optional): \") or None\n",
        "max_price = input(\"Enter the maximum ticket price (optional): \") or None\n",
        "\n",
        "# output\n",
        "top_5_recommendations = recommend_similar_wisata(wisata_name, city_filter=city_filter, max_price=max_price)\n",
        "print(top_5_recommendations)"
      ]
    }
  ],
  "metadata": {
    "colab": {
      "collapsed_sections": [
        "TL4cbP04Ig-5",
        "jimZXA0-Il_g",
        "-KjhcTpGJE7y"
      ],
      "provenance": []
    },
    "kernelspec": {
      "display_name": "Python 3",
      "name": "python3"
    },
    "language_info": {
      "name": "python"
    }
  },
  "nbformat": 4,
  "nbformat_minor": 0
}