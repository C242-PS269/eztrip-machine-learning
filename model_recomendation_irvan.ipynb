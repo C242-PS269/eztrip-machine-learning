{
 "cells": [
  {
   "cell_type": "markdown",
   "metadata": {
    "editable": true,
    "id": "-rjNJ6FXIKGP",
    "slideshow": {
     "slide_type": ""
    },
    "tags": []
   },
   "source": [
    "# Program ML Sistem Rekomendasi Tempat Wisata dengan Content Based Filtering"
   ]
  },
  {
   "cell_type": "markdown",
   "metadata": {
    "id": "TL4cbP04Ig-5"
   },
   "source": [
    "## Library yang digunakan"
   ]
  },
  {
   "cell_type": "code",
   "execution_count": 2,
   "metadata": {
    "id": "eW9hB3Jyc601"
   },
   "outputs": [],
   "source": [
    "import pandas as pd\n",
    "import numpy as np\n",
    "from sklearn.preprocessing import MinMaxScaler, OneHotEncoder\n",
    "from sklearn.model_selection import train_test_split\n",
    "from tensorflow.keras.models import Sequential\n",
    "from tensorflow.keras.layers import Dense, Dropout\n",
    "from tensorflow.keras.losses import Huber\n",
    "import tensorflow.keras.backend as K\n",
    "import matplotlib.pyplot as plt\n",
    "import tensorflow as tf\n",
    "from sklearn.metrics.pairwise import cosine_similarity\n",
    "from tensorflow.keras.optimizers import Adam\n",
    "from tensorflow.keras.regularizers import l2\n",
    "from tensorflow.keras.callbacks import EarlyStopping, ReduceLROnPlateau"
   ]
  },
  {
   "cell_type": "markdown",
   "metadata": {
    "id": "jimZXA0-Il_g"
   },
   "source": [
    "## Upload Dataset"
   ]
  },
  {
   "cell_type": "code",
   "execution_count": 4,
   "metadata": {
    "colab": {
     "base_uri": "https://localhost:8080/",
     "height": 608
    },
    "id": "ipCtITXhdJ9F",
    "outputId": "5f4ee58a-8b0f-48ef-b932-352cdbe0b10d"
   },
   "outputs": [
    {
     "data": {
      "text/html": [
       "<div>\n",
       "<style scoped>\n",
       "    .dataframe tbody tr th:only-of-type {\n",
       "        vertical-align: middle;\n",
       "    }\n",
       "\n",
       "    .dataframe tbody tr th {\n",
       "        vertical-align: top;\n",
       "    }\n",
       "\n",
       "    .dataframe thead th {\n",
       "        text-align: right;\n",
       "    }\n",
       "</style>\n",
       "<table border=\"1\" class=\"dataframe\">\n",
       "  <thead>\n",
       "    <tr style=\"text-align: right;\">\n",
       "      <th></th>\n",
       "      <th>Google.Maps</th>\n",
       "      <th>Name</th>\n",
       "      <th>Rating</th>\n",
       "      <th>Kategori</th>\n",
       "      <th>Review</th>\n",
       "      <th>Jalan</th>\n",
       "      <th>Harga Tiket Masuk WNI Dewasa ()</th>\n",
       "      <th>Harga Tiket Masuk WNI Anak-Anak ()</th>\n",
       "      <th>Harga Tiket Masuk WNA Dewasa</th>\n",
       "      <th>Harga Tiket Masuk WNA Anak-Anak</th>\n",
       "      <th>Kota/Kabupaten</th>\n",
       "    </tr>\n",
       "  </thead>\n",
       "  <tbody>\n",
       "    <tr>\n",
       "      <th>0</th>\n",
       "      <td>https://www.google.com/maps/place/Upside+Down+...</td>\n",
       "      <td>Upside Down World Bali</td>\n",
       "      <td>4.2</td>\n",
       "      <td>Tourist attraction</td>\n",
       "      <td>On-site services</td>\n",
       "      <td>Jl. Bypass Ngurah Rai No.762</td>\n",
       "      <td>100000.0</td>\n",
       "      <td>50000.0</td>\n",
       "      <td>150000.0</td>\n",
       "      <td>100000.0</td>\n",
       "      <td>Denpasar</td>\n",
       "    </tr>\n",
       "    <tr>\n",
       "      <th>1</th>\n",
       "      <td>https://www.google.com/maps/place/Alas+Kedaton...</td>\n",
       "      <td>Alas Kedaton</td>\n",
       "      <td>4.2</td>\n",
       "      <td>Tourist attraction</td>\n",
       "      <td>flying fox dan sepeda gantung.\"</td>\n",
       "      <td>F5C4+644, Jl. Raya Alas Kedaton</td>\n",
       "      <td>20000.0</td>\n",
       "      <td>15000.0</td>\n",
       "      <td>50000.0</td>\n",
       "      <td>25000.0</td>\n",
       "      <td>Tabanan</td>\n",
       "    </tr>\n",
       "    <tr>\n",
       "      <th>2</th>\n",
       "      <td>https://www.google.com/maps/place/Big+Garden+C...</td>\n",
       "      <td>Big Garden Corner</td>\n",
       "      <td>4.3</td>\n",
       "      <td>Tourist attraction</td>\n",
       "      <td>NaN</td>\n",
       "      <td>Sanur, Jl. Bypass Ngurah Rai</td>\n",
       "      <td>35000.0</td>\n",
       "      <td>35000.0</td>\n",
       "      <td>50000.0</td>\n",
       "      <td>50000.0</td>\n",
       "      <td>Denpasar</td>\n",
       "    </tr>\n",
       "    <tr>\n",
       "      <th>3</th>\n",
       "      <td>https://www.google.com/maps/place/Taman+Nusa/d...</td>\n",
       "      <td>Taman Nusa</td>\n",
       "      <td>4.3</td>\n",
       "      <td>Museum</td>\n",
       "      <td>NaN</td>\n",
       "      <td>Banjar Blahpane Kelod, Jl. Taman Bali Â– Banja...</td>\n",
       "      <td>75000.0</td>\n",
       "      <td>75000.0</td>\n",
       "      <td>100000.0</td>\n",
       "      <td>100000.0</td>\n",
       "      <td>Gianyar</td>\n",
       "    </tr>\n",
       "    <tr>\n",
       "      <th>4</th>\n",
       "      <td>https://www.google.com/maps/place/Krisna+Funta...</td>\n",
       "      <td>Krisna Funtasticland</td>\n",
       "      <td>4.3</td>\n",
       "      <td>Tourist attraction</td>\n",
       "      <td>\"Saya benar-benar terhibur dengan berbagai</td>\n",
       "      <td>RXCV+HMR, Jl. Seririt- Singaraja</td>\n",
       "      <td>90000.0</td>\n",
       "      <td>90000.0</td>\n",
       "      <td>90000.0</td>\n",
       "      <td>90000.0</td>\n",
       "      <td>Buleleng</td>\n",
       "    </tr>\n",
       "  </tbody>\n",
       "</table>\n",
       "</div>"
      ],
      "text/plain": [
       "                                         Google.Maps                    Name  \\\n",
       "0  https://www.google.com/maps/place/Upside+Down+...  Upside Down World Bali   \n",
       "1  https://www.google.com/maps/place/Alas+Kedaton...            Alas Kedaton   \n",
       "2  https://www.google.com/maps/place/Big+Garden+C...       Big Garden Corner   \n",
       "3  https://www.google.com/maps/place/Taman+Nusa/d...              Taman Nusa   \n",
       "4  https://www.google.com/maps/place/Krisna+Funta...    Krisna Funtasticland   \n",
       "\n",
       "   Rating            Kategori                                      Review  \\\n",
       "0     4.2  Tourist attraction                            On-site services   \n",
       "1     4.2  Tourist attraction             flying fox dan sepeda gantung.\"   \n",
       "2     4.3  Tourist attraction                                         NaN   \n",
       "3     4.3              Museum                                         NaN   \n",
       "4     4.3  Tourist attraction  \"Saya benar-benar terhibur dengan berbagai   \n",
       "\n",
       "                                               Jalan  \\\n",
       "0                       Jl. Bypass Ngurah Rai No.762   \n",
       "1                    F5C4+644, Jl. Raya Alas Kedaton   \n",
       "2                       Sanur, Jl. Bypass Ngurah Rai   \n",
       "3  Banjar Blahpane Kelod, Jl. Taman Bali Â– Banja...   \n",
       "4                   RXCV+HMR, Jl. Seririt- Singaraja   \n",
       "\n",
       "   Harga Tiket Masuk WNI Dewasa ()  Harga Tiket Masuk WNI Anak-Anak ()  \\\n",
       "0                         100000.0                             50000.0   \n",
       "1                          20000.0                             15000.0   \n",
       "2                          35000.0                             35000.0   \n",
       "3                          75000.0                             75000.0   \n",
       "4                          90000.0                             90000.0   \n",
       "\n",
       "   Harga Tiket Masuk WNA Dewasa  Harga Tiket Masuk WNA Anak-Anak  \\\n",
       "0                      150000.0                         100000.0   \n",
       "1                       50000.0                          25000.0   \n",
       "2                       50000.0                          50000.0   \n",
       "3                      100000.0                         100000.0   \n",
       "4                       90000.0                          90000.0   \n",
       "\n",
       "  Kota/Kabupaten  \n",
       "0       Denpasar  \n",
       "1        Tabanan  \n",
       "2       Denpasar  \n",
       "3        Gianyar  \n",
       "4       Buleleng  "
      ]
     },
     "execution_count": 4,
     "metadata": {},
     "output_type": "execute_result"
    }
   ],
   "source": [
    "# Load dataset\n",
    "file_path = 'WISATA.xlsx'\n",
    "df = pd.read_excel(file_path, sheet_name='wisatafix')\n",
    "df.head()"
   ]
  },
  {
   "cell_type": "code",
   "execution_count": 5,
   "metadata": {
    "id": "C-GHASZVgdul"
   },
   "outputs": [],
   "source": [
    "# Pilih kolom yang digunakan\n",
    "selected_columns = {\n",
    "    \"Name\": \"name\",\n",
    "    \"Rating\": \"rating\",\n",
    "    \"Kategori\": \"category\",\n",
    "    \"Harga Tiket Masuk WNA Dewasa\": \"price_wna\", # Harga yang digunakan hanya harga WNA dewasa\n",
    "    \"Kota/Kabupaten\": \"city\",\n",
    "    \"Jalan\": \"address\",\n",
    "    \"Google.Maps\": \"google_maps\"\n",
    "}\n",
    "# Rename kolom\n",
    "df = df.rename(columns=selected_columns)\n",
    "# Pilih kolom yang telah direname\n",
    "df = df[['name', 'rating', 'category', 'price_wna', 'city', 'address', 'google_maps']]\n",
    "# Bersihkan data kosong dan sesuaikan tipe data\n",
    "data = df.dropna(subset=[\"name\", \"rating\", \"category\", \"price_wna\", \"city\"])\n",
    "data[\"price_wna\"] = data[\"price_wna\"].astype(float)\n",
    "data[\"rating\"] = data[\"rating\"].astype(float)"
   ]
  },
  {
   "cell_type": "markdown",
   "metadata": {
    "id": "-KjhcTpGJE7y"
   },
   "source": [
    "## Normalisasi dan encoding 4 fitur yang digunakan"
   ]
  },
  {
   "cell_type": "code",
   "execution_count": 7,
   "metadata": {
    "id": "kVth7wDYg2UX"
   },
   "outputs": [],
   "source": [
    "# Normalisasi price and rating\n",
    "scaler = MinMaxScaler()\n",
    "data[['price_wna', 'rating']] = scaler.fit_transform(data[['price_wna', 'rating']])\n",
    "\n",
    "# One-hot encode untuk category and city\n",
    "encoder_category = OneHotEncoder(sparse_output=False, handle_unknown='ignore')\n",
    "encoder_city = OneHotEncoder(sparse_output=False, handle_unknown='ignore')\n",
    "\n",
    "encoded_category = encoder_category.fit_transform(data[['category']])\n",
    "encoded_city = encoder_city.fit_transform(data[['city']])\n",
    "\n",
    "# Gabungkan 4 fitur yang dipilih\n",
    "X = np.hstack((encoded_category, encoded_city, data[['price_wna', 'rating']].values))\n",
    "\n",
    "# Dummy target untuk pelatihan\n",
    "y = np.random.rand(len(X))"
   ]
  },
  {
   "cell_type": "markdown",
   "metadata": {
    "id": "cFttmGOZJc-b"
   },
   "source": [
    "## Model neural network"
   ]
  },
  {
   "cell_type": "code",
   "execution_count": 19,
   "metadata": {
    "colab": {
     "base_uri": "https://localhost:8080/"
    },
    "id": "oD3bX-Glg-gw",
    "outputId": "d5687d25-bc94-43b8-eefa-23f322e707ed",
    "scrolled": true
   },
   "outputs": [
    {
     "name": "stdout",
     "output_type": "stream",
     "text": [
      "Epoch 1/150\n",
      "\u001b[1m50/50\u001b[0m \u001b[32m━━━━━━━━━━━━━━━━━━━━\u001b[0m\u001b[37m\u001b[0m \u001b[1m0s\u001b[0m 1ms/step - loss: 0.0662 - mae: 0.2564 - rmse: 0.2933 - val_loss: 0.0511 - val_mae: 0.1963 - val_rmse: 0.2324 - learning_rate: 5.0000e-04\n",
      "Epoch 2/150\n",
      "\u001b[1m50/50\u001b[0m \u001b[32m━━━━━━━━━━━━━━━━━━━━\u001b[0m\u001b[37m\u001b[0m \u001b[1m0s\u001b[0m 492us/step - loss: 0.0592 - mae: 0.2428 - rmse: 0.2743 - val_loss: 0.0479 - val_mae: 0.1961 - val_rmse: 0.2290 - learning_rate: 5.0000e-04\n",
      "Epoch 3/150\n",
      "\u001b[1m50/50\u001b[0m \u001b[32m━━━━━━━━━━━━━━━━━━━━\u001b[0m\u001b[37m\u001b[0m \u001b[1m0s\u001b[0m 418us/step - loss: 0.0630 - mae: 0.2650 - rmse: 0.2936 - val_loss: 0.0454 - val_mae: 0.1962 - val_rmse: 0.2274 - learning_rate: 5.0000e-04\n",
      "Epoch 4/150\n",
      "\u001b[1m50/50\u001b[0m \u001b[32m━━━━━━━━━━━━━━━━━━━━\u001b[0m\u001b[37m\u001b[0m \u001b[1m0s\u001b[0m 419us/step - loss: 0.0647 - mae: 0.2743 - rmse: 0.3056 - val_loss: 0.0436 - val_mae: 0.1964 - val_rmse: 0.2268 - learning_rate: 5.0000e-04\n",
      "Epoch 5/150\n",
      "\u001b[1m50/50\u001b[0m \u001b[32m━━━━━━━━━━━━━━━━━━━━\u001b[0m\u001b[37m\u001b[0m \u001b[1m0s\u001b[0m 438us/step - loss: 0.0541 - mae: 0.2476 - rmse: 0.2757 - val_loss: 0.0422 - val_mae: 0.1965 - val_rmse: 0.2267 - learning_rate: 5.0000e-04\n",
      "Epoch 6/150\n",
      "\u001b[1m50/50\u001b[0m \u001b[32m━━━━━━━━━━━━━━━━━━━━\u001b[0m\u001b[37m\u001b[0m \u001b[1m0s\u001b[0m 420us/step - loss: 0.0531 - mae: 0.2415 - rmse: 0.2765 - val_loss: 0.0409 - val_mae: 0.1965 - val_rmse: 0.2265 - learning_rate: 5.0000e-04\n",
      "Epoch 7/150\n",
      "\u001b[1m50/50\u001b[0m \u001b[32m━━━━━━━━━━━━━━━━━━━━\u001b[0m\u001b[37m\u001b[0m \u001b[1m0s\u001b[0m 422us/step - loss: 0.0570 - mae: 0.2640 - rmse: 0.2905 - val_loss: 0.0398 - val_mae: 0.1964 - val_rmse: 0.2265 - learning_rate: 5.0000e-04\n",
      "Epoch 8/150\n",
      "\u001b[1m50/50\u001b[0m \u001b[32m━━━━━━━━━━━━━━━━━━━━\u001b[0m\u001b[37m\u001b[0m \u001b[1m0s\u001b[0m 412us/step - loss: 0.0502 - mae: 0.2425 - rmse: 0.2726 - val_loss: 0.0388 - val_mae: 0.1963 - val_rmse: 0.2265 - learning_rate: 5.0000e-04\n",
      "Epoch 9/150\n",
      "\u001b[1m50/50\u001b[0m \u001b[32m━━━━━━━━━━━━━━━━━━━━\u001b[0m\u001b[37m\u001b[0m \u001b[1m0s\u001b[0m 408us/step - loss: 0.0569 - mae: 0.2698 - rmse: 0.3032 - val_loss: 0.0380 - val_mae: 0.1961 - val_rmse: 0.2264 - learning_rate: 5.0000e-04\n",
      "Epoch 10/150\n",
      "\u001b[1m50/50\u001b[0m \u001b[32m━━━━━━━━━━━━━━━━━━━━\u001b[0m\u001b[37m\u001b[0m \u001b[1m0s\u001b[0m 405us/step - loss: 0.0518 - mae: 0.2563 - rmse: 0.2845 - val_loss: 0.0372 - val_mae: 0.1959 - val_rmse: 0.2263 - learning_rate: 5.0000e-04\n",
      "Epoch 11/150\n",
      "\u001b[1m50/50\u001b[0m \u001b[32m━━━━━━━━━━━━━━━━━━━━\u001b[0m\u001b[37m\u001b[0m \u001b[1m0s\u001b[0m 403us/step - loss: 0.0537 - mae: 0.2656 - rmse: 0.3007 - val_loss: 0.0365 - val_mae: 0.1958 - val_rmse: 0.2263 - learning_rate: 5.0000e-04\n",
      "Epoch 12/150\n",
      "\u001b[1m50/50\u001b[0m \u001b[32m━━━━━━━━━━━━━━━━━━━━\u001b[0m\u001b[37m\u001b[0m \u001b[1m0s\u001b[0m 405us/step - loss: 0.0519 - mae: 0.2581 - rmse: 0.2873 - val_loss: 0.0359 - val_mae: 0.1959 - val_rmse: 0.2265 - learning_rate: 5.0000e-04\n",
      "Epoch 13/150\n",
      "\u001b[1m50/50\u001b[0m \u001b[32m━━━━━━━━━━━━━━━━━━━━\u001b[0m\u001b[37m\u001b[0m \u001b[1m0s\u001b[0m 414us/step - loss: 0.0499 - mae: 0.2515 - rmse: 0.2804 - val_loss: 0.0354 - val_mae: 0.1959 - val_rmse: 0.2265 - learning_rate: 5.0000e-04\n",
      "Epoch 14/150\n",
      "\u001b[1m50/50\u001b[0m \u001b[32m━━━━━━━━━━━━━━━━━━━━\u001b[0m\u001b[37m\u001b[0m \u001b[1m0s\u001b[0m 403us/step - loss: 0.0499 - mae: 0.2599 - rmse: 0.2893 - val_loss: 0.0349 - val_mae: 0.1957 - val_rmse: 0.2262 - learning_rate: 5.0000e-04\n",
      "Epoch 15/150\n",
      "\u001b[1m50/50\u001b[0m \u001b[32m━━━━━━━━━━━━━━━━━━━━\u001b[0m\u001b[37m\u001b[0m \u001b[1m0s\u001b[0m 422us/step - loss: 0.0504 - mae: 0.2545 - rmse: 0.2931 - val_loss: 0.0345 - val_mae: 0.1958 - val_rmse: 0.2263 - learning_rate: 5.0000e-04\n",
      "Epoch 16/150\n",
      "\u001b[1m50/50\u001b[0m \u001b[32m━━━━━━━━━━━━━━━━━━━━\u001b[0m\u001b[37m\u001b[0m \u001b[1m0s\u001b[0m 408us/step - loss: 0.0447 - mae: 0.2393 - rmse: 0.2716 - val_loss: 0.0341 - val_mae: 0.1960 - val_rmse: 0.2263 - learning_rate: 5.0000e-04\n",
      "Epoch 17/150\n",
      "\u001b[1m50/50\u001b[0m \u001b[32m━━━━━━━━━━━━━━━━━━━━\u001b[0m\u001b[37m\u001b[0m \u001b[1m0s\u001b[0m 405us/step - loss: 0.0492 - mae: 0.2558 - rmse: 0.2905 - val_loss: 0.0337 - val_mae: 0.1959 - val_rmse: 0.2262 - learning_rate: 5.0000e-04\n",
      "Epoch 18/150\n",
      "\u001b[1m50/50\u001b[0m \u001b[32m━━━━━━━━━━━━━━━━━━━━\u001b[0m\u001b[37m\u001b[0m \u001b[1m0s\u001b[0m 424us/step - loss: 0.0464 - mae: 0.2508 - rmse: 0.2840 - val_loss: 0.0334 - val_mae: 0.1961 - val_rmse: 0.2263 - learning_rate: 5.0000e-04\n",
      "Epoch 19/150\n",
      "\u001b[1m50/50\u001b[0m \u001b[32m━━━━━━━━━━━━━━━━━━━━\u001b[0m\u001b[37m\u001b[0m \u001b[1m0s\u001b[0m 400us/step - loss: 0.0494 - mae: 0.2610 - rmse: 0.2870 - val_loss: 0.0331 - val_mae: 0.1962 - val_rmse: 0.2265 - learning_rate: 5.0000e-04\n",
      "Epoch 20/150\n",
      "\u001b[1m50/50\u001b[0m \u001b[32m━━━━━━━━━━━━━━━━━━━━\u001b[0m\u001b[37m\u001b[0m \u001b[1m0s\u001b[0m 415us/step - loss: 0.0480 - mae: 0.2575 - rmse: 0.2890 - val_loss: 0.0329 - val_mae: 0.1964 - val_rmse: 0.2266 - learning_rate: 5.0000e-04\n",
      "Epoch 21/150\n",
      "\u001b[1m50/50\u001b[0m \u001b[32m━━━━━━━━━━━━━━━━━━━━\u001b[0m\u001b[37m\u001b[0m \u001b[1m0s\u001b[0m 413us/step - loss: 0.0481 - mae: 0.2606 - rmse: 0.2876 - val_loss: 0.0326 - val_mae: 0.1965 - val_rmse: 0.2266 - learning_rate: 5.0000e-04\n",
      "Epoch 22/150\n",
      "\u001b[1m50/50\u001b[0m \u001b[32m━━━━━━━━━━━━━━━━━━━━\u001b[0m\u001b[37m\u001b[0m \u001b[1m0s\u001b[0m 426us/step - loss: 0.0473 - mae: 0.2630 - rmse: 0.2894 - val_loss: 0.0324 - val_mae: 0.1965 - val_rmse: 0.2266 - learning_rate: 5.0000e-04\n",
      "Epoch 23/150\n",
      "\u001b[1m50/50\u001b[0m \u001b[32m━━━━━━━━━━━━━━━━━━━━\u001b[0m\u001b[37m\u001b[0m \u001b[1m0s\u001b[0m 466us/step - loss: 0.0480 - mae: 0.2630 - rmse: 0.2919 - val_loss: 0.0322 - val_mae: 0.1966 - val_rmse: 0.2267 - learning_rate: 5.0000e-04\n",
      "Epoch 24/150\n",
      "\u001b[1m50/50\u001b[0m \u001b[32m━━━━━━━━━━━━━━━━━━━━\u001b[0m\u001b[37m\u001b[0m \u001b[1m0s\u001b[0m 429us/step - loss: 0.0426 - mae: 0.2416 - rmse: 0.2715 - val_loss: 0.0320 - val_mae: 0.1962 - val_rmse: 0.2264 - learning_rate: 5.0000e-04\n",
      "Epoch 25/150\n",
      "\u001b[1m50/50\u001b[0m \u001b[32m━━━━━━━━━━━━━━━━━━━━\u001b[0m\u001b[37m\u001b[0m \u001b[1m0s\u001b[0m 407us/step - loss: 0.0463 - mae: 0.2558 - rmse: 0.2822 - val_loss: 0.0318 - val_mae: 0.1959 - val_rmse: 0.2262 - learning_rate: 5.0000e-04\n",
      "Epoch 26/150\n",
      "\u001b[1m50/50\u001b[0m \u001b[32m━━━━━━━━━━━━━━━━━━━━\u001b[0m\u001b[37m\u001b[0m \u001b[1m0s\u001b[0m 410us/step - loss: 0.0419 - mae: 0.2393 - rmse: 0.2715 - val_loss: 0.0317 - val_mae: 0.1962 - val_rmse: 0.2264 - learning_rate: 5.0000e-04\n",
      "Epoch 27/150\n",
      "\u001b[1m50/50\u001b[0m \u001b[32m━━━━━━━━━━━━━━━━━━━━\u001b[0m\u001b[37m\u001b[0m \u001b[1m0s\u001b[0m 416us/step - loss: 0.0446 - mae: 0.2510 - rmse: 0.2802 - val_loss: 0.0315 - val_mae: 0.1959 - val_rmse: 0.2263 - learning_rate: 5.0000e-04\n",
      "Epoch 28/150\n",
      "\u001b[1m50/50\u001b[0m \u001b[32m━━━━━━━━━━━━━━━━━━━━\u001b[0m\u001b[37m\u001b[0m \u001b[1m0s\u001b[0m 411us/step - loss: 0.0504 - mae: 0.2711 - rmse: 0.3025 - val_loss: 0.0314 - val_mae: 0.1963 - val_rmse: 0.2266 - learning_rate: 5.0000e-04\n",
      "Epoch 29/150\n",
      "\u001b[1m50/50\u001b[0m \u001b[32m━━━━━━━━━━━━━━━━━━━━\u001b[0m\u001b[37m\u001b[0m \u001b[1m0s\u001b[0m 416us/step - loss: 0.0481 - mae: 0.2648 - rmse: 0.2971 - val_loss: 0.0313 - val_mae: 0.1962 - val_rmse: 0.2265 - learning_rate: 5.0000e-04\n",
      "Epoch 30/150\n",
      "\u001b[1m50/50\u001b[0m \u001b[32m━━━━━━━━━━━━━━━━━━━━\u001b[0m\u001b[37m\u001b[0m \u001b[1m0s\u001b[0m 416us/step - loss: 0.0442 - mae: 0.2528 - rmse: 0.2820 - val_loss: 0.0312 - val_mae: 0.1963 - val_rmse: 0.2265 - learning_rate: 5.0000e-04\n",
      "Epoch 31/150\n",
      "\u001b[1m50/50\u001b[0m \u001b[32m━━━━━━━━━━━━━━━━━━━━\u001b[0m\u001b[37m\u001b[0m \u001b[1m0s\u001b[0m 410us/step - loss: 0.0483 - mae: 0.2639 - rmse: 0.2959 - val_loss: 0.0311 - val_mae: 0.1966 - val_rmse: 0.2267 - learning_rate: 5.0000e-04\n",
      "Epoch 32/150\n",
      "\u001b[1m50/50\u001b[0m \u001b[32m━━━━━━━━━━━━━━━━━━━━\u001b[0m\u001b[37m\u001b[0m \u001b[1m0s\u001b[0m 427us/step - loss: 0.0448 - mae: 0.2516 - rmse: 0.2847 - val_loss: 0.0310 - val_mae: 0.1963 - val_rmse: 0.2266 - learning_rate: 5.0000e-04\n",
      "Epoch 33/150\n",
      "\u001b[1m50/50\u001b[0m \u001b[32m━━━━━━━━━━━━━━━━━━━━\u001b[0m\u001b[37m\u001b[0m \u001b[1m0s\u001b[0m 445us/step - loss: 0.0432 - mae: 0.2492 - rmse: 0.2758 - val_loss: 0.0309 - val_mae: 0.1966 - val_rmse: 0.2268 - learning_rate: 5.0000e-04\n",
      "Epoch 34/150\n",
      "\u001b[1m50/50\u001b[0m \u001b[32m━━━━━━━━━━━━━━━━━━━━\u001b[0m\u001b[37m\u001b[0m \u001b[1m0s\u001b[0m 421us/step - loss: 0.0466 - mae: 0.2630 - rmse: 0.2943 - val_loss: 0.0308 - val_mae: 0.1963 - val_rmse: 0.2265 - learning_rate: 5.0000e-04\n",
      "Epoch 35/150\n",
      "\u001b[1m50/50\u001b[0m \u001b[32m━━━━━━━━━━━━━━━━━━━━\u001b[0m\u001b[37m\u001b[0m \u001b[1m0s\u001b[0m 464us/step - loss: 0.0458 - mae: 0.2614 - rmse: 0.2918 - val_loss: 0.0307 - val_mae: 0.1963 - val_rmse: 0.2265 - learning_rate: 5.0000e-04\n",
      "Epoch 36/150\n",
      "\u001b[1m50/50\u001b[0m \u001b[32m━━━━━━━━━━━━━━━━━━━━\u001b[0m\u001b[37m\u001b[0m \u001b[1m0s\u001b[0m 440us/step - loss: 0.0437 - mae: 0.2505 - rmse: 0.2832 - val_loss: 0.0306 - val_mae: 0.1963 - val_rmse: 0.2265 - learning_rate: 5.0000e-04\n",
      "Epoch 37/150\n",
      "\u001b[1m50/50\u001b[0m \u001b[32m━━━━━━━━━━━━━━━━━━━━\u001b[0m\u001b[37m\u001b[0m \u001b[1m0s\u001b[0m 437us/step - loss: 0.0399 - mae: 0.2367 - rmse: 0.2719 - val_loss: 0.0305 - val_mae: 0.1961 - val_rmse: 0.2263 - learning_rate: 5.0000e-04\n",
      "Epoch 38/150\n",
      "\u001b[1m50/50\u001b[0m \u001b[32m━━━━━━━━━━━━━━━━━━━━\u001b[0m\u001b[37m\u001b[0m \u001b[1m0s\u001b[0m 420us/step - loss: 0.0423 - mae: 0.2434 - rmse: 0.2817 - val_loss: 0.0305 - val_mae: 0.1963 - val_rmse: 0.2265 - learning_rate: 5.0000e-04\n",
      "Epoch 39/150\n",
      "\u001b[1m50/50\u001b[0m \u001b[32m━━━━━━━━━━━━━━━━━━━━\u001b[0m\u001b[37m\u001b[0m \u001b[1m0s\u001b[0m 420us/step - loss: 0.0473 - mae: 0.2661 - rmse: 0.2933 - val_loss: 0.0304 - val_mae: 0.1965 - val_rmse: 0.2266 - learning_rate: 5.0000e-04\n",
      "Epoch 40/150\n",
      "\u001b[1m50/50\u001b[0m \u001b[32m━━━━━━━━━━━━━━━━━━━━\u001b[0m\u001b[37m\u001b[0m \u001b[1m0s\u001b[0m 424us/step - loss: 0.0429 - mae: 0.2506 - rmse: 0.2846 - val_loss: 0.0303 - val_mae: 0.1960 - val_rmse: 0.2262 - learning_rate: 5.0000e-04\n",
      "Epoch 41/150\n",
      "\u001b[1m50/50\u001b[0m \u001b[32m━━━━━━━━━━━━━━━━━━━━\u001b[0m\u001b[37m\u001b[0m \u001b[1m0s\u001b[0m 407us/step - loss: 0.0430 - mae: 0.2502 - rmse: 0.2773 - val_loss: 0.0303 - val_mae: 0.1961 - val_rmse: 0.2263 - learning_rate: 5.0000e-04\n",
      "Epoch 42/150\n",
      "\u001b[1m50/50\u001b[0m \u001b[32m━━━━━━━━━━━━━━━━━━━━\u001b[0m\u001b[37m\u001b[0m \u001b[1m0s\u001b[0m 409us/step - loss: 0.0437 - mae: 0.2530 - rmse: 0.2842 - val_loss: 0.0302 - val_mae: 0.1963 - val_rmse: 0.2263 - learning_rate: 5.0000e-04\n",
      "Epoch 43/150\n",
      "\u001b[1m50/50\u001b[0m \u001b[32m━━━━━━━━━━━━━━━━━━━━\u001b[0m\u001b[37m\u001b[0m \u001b[1m0s\u001b[0m 410us/step - loss: 0.0478 - mae: 0.2693 - rmse: 0.2974 - val_loss: 0.0302 - val_mae: 0.1962 - val_rmse: 0.2263 - learning_rate: 5.0000e-04\n",
      "Epoch 44/150\n",
      "\u001b[1m50/50\u001b[0m \u001b[32m━━━━━━━━━━━━━━━━━━━━\u001b[0m\u001b[37m\u001b[0m \u001b[1m0s\u001b[0m 407us/step - loss: 0.0473 - mae: 0.2667 - rmse: 0.2948 - val_loss: 0.0301 - val_mae: 0.1962 - val_rmse: 0.2262 - learning_rate: 5.0000e-04\n",
      "Epoch 45/150\n",
      "\u001b[1m50/50\u001b[0m \u001b[32m━━━━━━━━━━━━━━━━━━━━\u001b[0m\u001b[37m\u001b[0m \u001b[1m0s\u001b[0m 415us/step - loss: 0.0447 - mae: 0.2582 - rmse: 0.2912 - val_loss: 0.0301 - val_mae: 0.1959 - val_rmse: 0.2260 - learning_rate: 5.0000e-04\n",
      "Epoch 46/150\n",
      "\u001b[1m50/50\u001b[0m \u001b[32m━━━━━━━━━━━━━━━━━━━━\u001b[0m\u001b[37m\u001b[0m \u001b[1m0s\u001b[0m 410us/step - loss: 0.0428 - mae: 0.2482 - rmse: 0.2853 - val_loss: 0.0300 - val_mae: 0.1965 - val_rmse: 0.2264 - learning_rate: 5.0000e-04\n",
      "Epoch 47/150\n",
      "\u001b[1m50/50\u001b[0m \u001b[32m━━━━━━━━━━━━━━━━━━━━\u001b[0m\u001b[37m\u001b[0m \u001b[1m0s\u001b[0m 412us/step - loss: 0.0480 - mae: 0.2715 - rmse: 0.2987 - val_loss: 0.0300 - val_mae: 0.1967 - val_rmse: 0.2265 - learning_rate: 5.0000e-04\n",
      "Epoch 48/150\n",
      "\u001b[1m50/50\u001b[0m \u001b[32m━━━━━━━━━━━━━━━━━━━━\u001b[0m\u001b[37m\u001b[0m \u001b[1m0s\u001b[0m 420us/step - loss: 0.0446 - mae: 0.2625 - rmse: 0.2894 - val_loss: 0.0300 - val_mae: 0.1967 - val_rmse: 0.2265 - learning_rate: 5.0000e-05\n",
      "Epoch 49/150\n",
      "\u001b[1m50/50\u001b[0m \u001b[32m━━━━━━━━━━━━━━━━━━━━\u001b[0m\u001b[37m\u001b[0m \u001b[1m0s\u001b[0m 409us/step - loss: 0.0440 - mae: 0.2549 - rmse: 0.2860 - val_loss: 0.0300 - val_mae: 0.1967 - val_rmse: 0.2265 - learning_rate: 5.0000e-05\n",
      "Epoch 50/150\n",
      "\u001b[1m50/50\u001b[0m \u001b[32m━━━━━━━━━━━━━━━━━━━━\u001b[0m\u001b[37m\u001b[0m \u001b[1m0s\u001b[0m 434us/step - loss: 0.0456 - mae: 0.2611 - rmse: 0.2953 - val_loss: 0.0300 - val_mae: 0.1967 - val_rmse: 0.2265 - learning_rate: 5.0000e-06\n",
      "Epoch 51/150\n",
      "\u001b[1m50/50\u001b[0m \u001b[32m━━━━━━━━━━━━━━━━━━━━\u001b[0m\u001b[37m\u001b[0m \u001b[1m0s\u001b[0m 404us/step - loss: 0.0411 - mae: 0.2461 - rmse: 0.2752 - val_loss: 0.0300 - val_mae: 0.1967 - val_rmse: 0.2265 - learning_rate: 5.0000e-06\n",
      "Epoch 52/150\n",
      "\u001b[1m50/50\u001b[0m \u001b[32m━━━━━━━━━━━━━━━━━━━━\u001b[0m\u001b[37m\u001b[0m \u001b[1m0s\u001b[0m 474us/step - loss: 0.0426 - mae: 0.2490 - rmse: 0.2787 - val_loss: 0.0300 - val_mae: 0.1967 - val_rmse: 0.2265 - learning_rate: 1.0000e-06\n",
      "Epoch 53/150\n",
      "\u001b[1m50/50\u001b[0m \u001b[32m━━━━━━━━━━━━━━━━━━━━\u001b[0m\u001b[37m\u001b[0m \u001b[1m0s\u001b[0m 439us/step - loss: 0.0473 - mae: 0.2671 - rmse: 0.2952 - val_loss: 0.0300 - val_mae: 0.1967 - val_rmse: 0.2265 - learning_rate: 1.0000e-06\n",
      "Epoch 54/150\n",
      "\u001b[1m50/50\u001b[0m \u001b[32m━━━━━━━━━━━━━━━━━━━━\u001b[0m\u001b[37m\u001b[0m \u001b[1m0s\u001b[0m 433us/step - loss: 0.0434 - mae: 0.2516 - rmse: 0.2855 - val_loss: 0.0300 - val_mae: 0.1967 - val_rmse: 0.2265 - learning_rate: 1.0000e-06\n",
      "Epoch 55/150\n",
      "\u001b[1m50/50\u001b[0m \u001b[32m━━━━━━━━━━━━━━━━━━━━\u001b[0m\u001b[37m\u001b[0m \u001b[1m0s\u001b[0m 409us/step - loss: 0.0454 - mae: 0.2590 - rmse: 0.2859 - val_loss: 0.0300 - val_mae: 0.1967 - val_rmse: 0.2265 - learning_rate: 1.0000e-06\n",
      "Epoch 56/150\n",
      "\u001b[1m50/50\u001b[0m \u001b[32m━━━━━━━━━━━━━━━━━━━━\u001b[0m\u001b[37m\u001b[0m \u001b[1m0s\u001b[0m 412us/step - loss: 0.0440 - mae: 0.2581 - rmse: 0.2869 - val_loss: 0.0300 - val_mae: 0.1967 - val_rmse: 0.2265 - learning_rate: 1.0000e-06\n",
      "Epoch 57/150\n",
      "\u001b[1m50/50\u001b[0m \u001b[32m━━━━━━━━━━━━━━━━━━━━\u001b[0m\u001b[37m\u001b[0m \u001b[1m0s\u001b[0m 412us/step - loss: 0.0441 - mae: 0.2588 - rmse: 0.2873 - val_loss: 0.0300 - val_mae: 0.1967 - val_rmse: 0.2265 - learning_rate: 1.0000e-06\n",
      "Epoch 58/150\n",
      "\u001b[1m50/50\u001b[0m \u001b[32m━━━━━━━━━━━━━━━━━━━━\u001b[0m\u001b[37m\u001b[0m \u001b[1m0s\u001b[0m 400us/step - loss: 0.0448 - mae: 0.2595 - rmse: 0.2888 - val_loss: 0.0300 - val_mae: 0.1967 - val_rmse: 0.2265 - learning_rate: 1.0000e-06\n",
      "Epoch 59/150\n",
      "\u001b[1m50/50\u001b[0m \u001b[32m━━━━━━━━━━━━━━━━━━━━\u001b[0m\u001b[37m\u001b[0m \u001b[1m0s\u001b[0m 412us/step - loss: 0.0442 - mae: 0.2597 - rmse: 0.2871 - val_loss: 0.0300 - val_mae: 0.1967 - val_rmse: 0.2265 - learning_rate: 1.0000e-06\n",
      "Epoch 60/150\n",
      "\u001b[1m50/50\u001b[0m \u001b[32m━━━━━━━━━━━━━━━━━━━━\u001b[0m\u001b[37m\u001b[0m \u001b[1m0s\u001b[0m 404us/step - loss: 0.0401 - mae: 0.2351 - rmse: 0.2638 - val_loss: 0.0300 - val_mae: 0.1967 - val_rmse: 0.2265 - learning_rate: 1.0000e-06\n",
      "Epoch 61/150\n",
      "\u001b[1m50/50\u001b[0m \u001b[32m━━━━━━━━━━━━━━━━━━━━\u001b[0m\u001b[37m\u001b[0m \u001b[1m0s\u001b[0m 430us/step - loss: 0.0428 - mae: 0.2523 - rmse: 0.2834 - val_loss: 0.0300 - val_mae: 0.1967 - val_rmse: 0.2265 - learning_rate: 1.0000e-06\n",
      "Epoch 62/150\n",
      "\u001b[1m50/50\u001b[0m \u001b[32m━━━━━━━━━━━━━━━━━━━━\u001b[0m\u001b[37m\u001b[0m \u001b[1m0s\u001b[0m 437us/step - loss: 0.0431 - mae: 0.2525 - rmse: 0.2801 - val_loss: 0.0300 - val_mae: 0.1967 - val_rmse: 0.2265 - learning_rate: 1.0000e-06\n",
      "Epoch 63/150\n",
      "\u001b[1m50/50\u001b[0m \u001b[32m━━━━━━━━━━━━━━━━━━━━\u001b[0m\u001b[37m\u001b[0m \u001b[1m0s\u001b[0m 414us/step - loss: 0.0446 - mae: 0.2573 - rmse: 0.2834 - val_loss: 0.0300 - val_mae: 0.1967 - val_rmse: 0.2265 - learning_rate: 1.0000e-06\n",
      "Epoch 64/150\n",
      "\u001b[1m50/50\u001b[0m \u001b[32m━━━━━━━━━━━━━━━━━━━━\u001b[0m\u001b[37m\u001b[0m \u001b[1m0s\u001b[0m 489us/step - loss: 0.0461 - mae: 0.2625 - rmse: 0.2923 - val_loss: 0.0300 - val_mae: 0.1967 - val_rmse: 0.2265 - learning_rate: 1.0000e-06\n",
      "Epoch 65/150\n",
      "\u001b[1m50/50\u001b[0m \u001b[32m━━━━━━━━━━━━━━━━━━━━\u001b[0m\u001b[37m\u001b[0m \u001b[1m0s\u001b[0m 397us/step - loss: 0.0410 - mae: 0.2445 - rmse: 0.2744 - val_loss: 0.0300 - val_mae: 0.1967 - val_rmse: 0.2265 - learning_rate: 1.0000e-06\n",
      "Epoch 66/150\n",
      "\u001b[1m50/50\u001b[0m \u001b[32m━━━━━━━━━━━━━━━━━━━━\u001b[0m\u001b[37m\u001b[0m \u001b[1m0s\u001b[0m 447us/step - loss: 0.0439 - mae: 0.2549 - rmse: 0.2880 - val_loss: 0.0300 - val_mae: 0.1967 - val_rmse: 0.2265 - learning_rate: 1.0000e-06\n",
      "Epoch 67/150\n",
      "\u001b[1m50/50\u001b[0m \u001b[32m━━━━━━━━━━━━━━━━━━━━\u001b[0m\u001b[37m\u001b[0m \u001b[1m0s\u001b[0m 417us/step - loss: 0.0444 - mae: 0.2597 - rmse: 0.2884 - val_loss: 0.0300 - val_mae: 0.1967 - val_rmse: 0.2265 - learning_rate: 1.0000e-06\n",
      "Epoch 68/150\n",
      "\u001b[1m50/50\u001b[0m \u001b[32m━━━━━━━━━━━━━━━━━━━━\u001b[0m\u001b[37m\u001b[0m \u001b[1m0s\u001b[0m 418us/step - loss: 0.0419 - mae: 0.2489 - rmse: 0.2790 - val_loss: 0.0300 - val_mae: 0.1967 - val_rmse: 0.2265 - learning_rate: 1.0000e-06\n",
      "Epoch 69/150\n",
      "\u001b[1m50/50\u001b[0m \u001b[32m━━━━━━━━━━━━━━━━━━━━\u001b[0m\u001b[37m\u001b[0m \u001b[1m0s\u001b[0m 406us/step - loss: 0.0422 - mae: 0.2484 - rmse: 0.2734 - val_loss: 0.0300 - val_mae: 0.1967 - val_rmse: 0.2265 - learning_rate: 1.0000e-06\n",
      "Epoch 70/150\n",
      "\u001b[1m50/50\u001b[0m \u001b[32m━━━━━━━━━━━━━━━━━━━━\u001b[0m\u001b[37m\u001b[0m \u001b[1m0s\u001b[0m 430us/step - loss: 0.0375 - mae: 0.2365 - rmse: 0.2575 - val_loss: 0.0300 - val_mae: 0.1967 - val_rmse: 0.2265 - learning_rate: 1.0000e-06\n",
      "Epoch 71/150\n",
      "\u001b[1m50/50\u001b[0m \u001b[32m━━━━━━━━━━━━━━━━━━━━\u001b[0m\u001b[37m\u001b[0m \u001b[1m0s\u001b[0m 418us/step - loss: 0.0435 - mae: 0.2549 - rmse: 0.2850 - val_loss: 0.0300 - val_mae: 0.1967 - val_rmse: 0.2265 - learning_rate: 1.0000e-06\n",
      "Epoch 72/150\n",
      "\u001b[1m50/50\u001b[0m \u001b[32m━━━━━━━━━━━━━━━━━━━━\u001b[0m\u001b[37m\u001b[0m \u001b[1m0s\u001b[0m 408us/step - loss: 0.0429 - mae: 0.2525 - rmse: 0.2795 - val_loss: 0.0300 - val_mae: 0.1967 - val_rmse: 0.2265 - learning_rate: 1.0000e-06\n",
      "Epoch 73/150\n",
      "\u001b[1m50/50\u001b[0m \u001b[32m━━━━━━━━━━━━━━━━━━━━\u001b[0m\u001b[37m\u001b[0m \u001b[1m0s\u001b[0m 423us/step - loss: 0.0424 - mae: 0.2474 - rmse: 0.2796 - val_loss: 0.0300 - val_mae: 0.1967 - val_rmse: 0.2265 - learning_rate: 1.0000e-06\n",
      "Epoch 74/150\n",
      "\u001b[1m50/50\u001b[0m \u001b[32m━━━━━━━━━━━━━━━━━━━━\u001b[0m\u001b[37m\u001b[0m \u001b[1m0s\u001b[0m 414us/step - loss: 0.0384 - mae: 0.2339 - rmse: 0.2654 - val_loss: 0.0300 - val_mae: 0.1967 - val_rmse: 0.2265 - learning_rate: 1.0000e-06\n",
      "Epoch 75/150\n",
      "\u001b[1m50/50\u001b[0m \u001b[32m━━━━━━━━━━━━━━━━━━━━\u001b[0m\u001b[37m\u001b[0m \u001b[1m0s\u001b[0m 414us/step - loss: 0.0400 - mae: 0.2381 - rmse: 0.2710 - val_loss: 0.0300 - val_mae: 0.1967 - val_rmse: 0.2265 - learning_rate: 1.0000e-06\n",
      "Epoch 76/150\n",
      "\u001b[1m50/50\u001b[0m \u001b[32m━━━━━━━━━━━━━━━━━━━━\u001b[0m\u001b[37m\u001b[0m \u001b[1m0s\u001b[0m 424us/step - loss: 0.0443 - mae: 0.2558 - rmse: 0.2921 - val_loss: 0.0300 - val_mae: 0.1967 - val_rmse: 0.2265 - learning_rate: 1.0000e-06\n",
      "Epoch 77/150\n",
      "\u001b[1m50/50\u001b[0m \u001b[32m━━━━━━━━━━━━━━━━━━━━\u001b[0m\u001b[37m\u001b[0m \u001b[1m0s\u001b[0m 411us/step - loss: 0.0425 - mae: 0.2488 - rmse: 0.2816 - val_loss: 0.0300 - val_mae: 0.1967 - val_rmse: 0.2265 - learning_rate: 1.0000e-06\n",
      "Epoch 78/150\n",
      "\u001b[1m50/50\u001b[0m \u001b[32m━━━━━━━━━━━━━━━━━━━━\u001b[0m\u001b[37m\u001b[0m \u001b[1m0s\u001b[0m 419us/step - loss: 0.0434 - mae: 0.2531 - rmse: 0.2829 - val_loss: 0.0300 - val_mae: 0.1967 - val_rmse: 0.2265 - learning_rate: 1.0000e-06\n",
      "Epoch 79/150\n",
      "\u001b[1m50/50\u001b[0m \u001b[32m━━━━━━━━━━━━━━━━━━━━\u001b[0m\u001b[37m\u001b[0m \u001b[1m0s\u001b[0m 418us/step - loss: 0.0460 - mae: 0.2603 - rmse: 0.2903 - val_loss: 0.0300 - val_mae: 0.1967 - val_rmse: 0.2265 - learning_rate: 1.0000e-06\n",
      "Epoch 80/150\n",
      "\u001b[1m50/50\u001b[0m \u001b[32m━━━━━━━━━━━━━━━━━━━━\u001b[0m\u001b[37m\u001b[0m \u001b[1m0s\u001b[0m 418us/step - loss: 0.0454 - mae: 0.2619 - rmse: 0.2961 - val_loss: 0.0300 - val_mae: 0.1967 - val_rmse: 0.2265 - learning_rate: 1.0000e-06\n",
      "Epoch 81/150\n",
      "\u001b[1m50/50\u001b[0m \u001b[32m━━━━━━━━━━━━━━━━━━━━\u001b[0m\u001b[37m\u001b[0m \u001b[1m0s\u001b[0m 424us/step - loss: 0.0441 - mae: 0.2569 - rmse: 0.2864 - val_loss: 0.0300 - val_mae: 0.1967 - val_rmse: 0.2265 - learning_rate: 1.0000e-06\n",
      "Epoch 82/150\n",
      "\u001b[1m50/50\u001b[0m \u001b[32m━━━━━━━━━━━━━━━━━━━━\u001b[0m\u001b[37m\u001b[0m \u001b[1m0s\u001b[0m 406us/step - loss: 0.0466 - mae: 0.2655 - rmse: 0.2931 - val_loss: 0.0300 - val_mae: 0.1967 - val_rmse: 0.2265 - learning_rate: 1.0000e-06\n",
      "Epoch 83/150\n",
      "\u001b[1m50/50\u001b[0m \u001b[32m━━━━━━━━━━━━━━━━━━━━\u001b[0m\u001b[37m\u001b[0m \u001b[1m0s\u001b[0m 411us/step - loss: 0.0442 - mae: 0.2531 - rmse: 0.2876 - val_loss: 0.0300 - val_mae: 0.1967 - val_rmse: 0.2265 - learning_rate: 1.0000e-06\n",
      "Epoch 84/150\n",
      "\u001b[1m50/50\u001b[0m \u001b[32m━━━━━━━━━━━━━━━━━━━━\u001b[0m\u001b[37m\u001b[0m \u001b[1m0s\u001b[0m 427us/step - loss: 0.0434 - mae: 0.2517 - rmse: 0.2783 - val_loss: 0.0300 - val_mae: 0.1967 - val_rmse: 0.2265 - learning_rate: 1.0000e-06\n",
      "Epoch 85/150\n",
      "\u001b[1m50/50\u001b[0m \u001b[32m━━━━━━━━━━━━━━━━━━━━\u001b[0m\u001b[37m\u001b[0m \u001b[1m0s\u001b[0m 456us/step - loss: 0.0409 - mae: 0.2413 - rmse: 0.2775 - val_loss: 0.0300 - val_mae: 0.1967 - val_rmse: 0.2265 - learning_rate: 1.0000e-06\n",
      "Epoch 86/150\n",
      "\u001b[1m50/50\u001b[0m \u001b[32m━━━━━━━━━━━━━━━━━━━━\u001b[0m\u001b[37m\u001b[0m \u001b[1m0s\u001b[0m 449us/step - loss: 0.0440 - mae: 0.2585 - rmse: 0.2888 - val_loss: 0.0300 - val_mae: 0.1967 - val_rmse: 0.2265 - learning_rate: 1.0000e-06\n",
      "Epoch 87/150\n",
      "\u001b[1m50/50\u001b[0m \u001b[32m━━━━━━━━━━━━━━━━━━━━\u001b[0m\u001b[37m\u001b[0m \u001b[1m0s\u001b[0m 466us/step - loss: 0.0416 - mae: 0.2434 - rmse: 0.2772 - val_loss: 0.0300 - val_mae: 0.1967 - val_rmse: 0.2265 - learning_rate: 1.0000e-06\n",
      "Epoch 88/150\n",
      "\u001b[1m50/50\u001b[0m \u001b[32m━━━━━━━━━━━━━━━━━━━━\u001b[0m\u001b[37m\u001b[0m \u001b[1m0s\u001b[0m 452us/step - loss: 0.0457 - mae: 0.2605 - rmse: 0.2952 - val_loss: 0.0300 - val_mae: 0.1967 - val_rmse: 0.2265 - learning_rate: 1.0000e-06\n",
      "Epoch 89/150\n",
      "\u001b[1m50/50\u001b[0m \u001b[32m━━━━━━━━━━━━━━━━━━━━\u001b[0m\u001b[37m\u001b[0m \u001b[1m0s\u001b[0m 454us/step - loss: 0.0448 - mae: 0.2573 - rmse: 0.2890 - val_loss: 0.0300 - val_mae: 0.1967 - val_rmse: 0.2265 - learning_rate: 1.0000e-06\n",
      "Epoch 90/150\n",
      "\u001b[1m50/50\u001b[0m \u001b[32m━━━━━━━━━━━━━━━━━━━━\u001b[0m\u001b[37m\u001b[0m \u001b[1m0s\u001b[0m 446us/step - loss: 0.0381 - mae: 0.2345 - rmse: 0.2652 - val_loss: 0.0300 - val_mae: 0.1967 - val_rmse: 0.2265 - learning_rate: 1.0000e-06\n",
      "Epoch 91/150\n",
      "\u001b[1m50/50\u001b[0m \u001b[32m━━━━━━━━━━━━━━━━━━━━\u001b[0m\u001b[37m\u001b[0m \u001b[1m0s\u001b[0m 455us/step - loss: 0.0429 - mae: 0.2511 - rmse: 0.2853 - val_loss: 0.0300 - val_mae: 0.1967 - val_rmse: 0.2265 - learning_rate: 1.0000e-06\n",
      "Epoch 92/150\n",
      "\u001b[1m50/50\u001b[0m \u001b[32m━━━━━━━━━━━━━━━━━━━━\u001b[0m\u001b[37m\u001b[0m \u001b[1m0s\u001b[0m 456us/step - loss: 0.0449 - mae: 0.2573 - rmse: 0.2883 - val_loss: 0.0300 - val_mae: 0.1967 - val_rmse: 0.2265 - learning_rate: 1.0000e-06\n",
      "Epoch 93/150\n",
      "\u001b[1m50/50\u001b[0m \u001b[32m━━━━━━━━━━━━━━━━━━━━\u001b[0m\u001b[37m\u001b[0m \u001b[1m0s\u001b[0m 450us/step - loss: 0.0462 - mae: 0.2644 - rmse: 0.2958 - val_loss: 0.0300 - val_mae: 0.1967 - val_rmse: 0.2265 - learning_rate: 1.0000e-06\n",
      "Epoch 94/150\n",
      "\u001b[1m50/50\u001b[0m \u001b[32m━━━━━━━━━━━━━━━━━━━━\u001b[0m\u001b[37m\u001b[0m \u001b[1m0s\u001b[0m 436us/step - loss: 0.0417 - mae: 0.2478 - rmse: 0.2777 - val_loss: 0.0300 - val_mae: 0.1967 - val_rmse: 0.2265 - learning_rate: 1.0000e-06\n",
      "Epoch 95/150\n",
      "\u001b[1m50/50\u001b[0m \u001b[32m━━━━━━━━━━━━━━━━━━━━\u001b[0m\u001b[37m\u001b[0m \u001b[1m0s\u001b[0m 447us/step - loss: 0.0445 - mae: 0.2547 - rmse: 0.2871 - val_loss: 0.0300 - val_mae: 0.1967 - val_rmse: 0.2265 - learning_rate: 1.0000e-06\n",
      "Epoch 96/150\n",
      "\u001b[1m50/50\u001b[0m \u001b[32m━━━━━━━━━━━━━━━━━━━━\u001b[0m\u001b[37m\u001b[0m \u001b[1m0s\u001b[0m 420us/step - loss: 0.0447 - mae: 0.2610 - rmse: 0.2874 - val_loss: 0.0300 - val_mae: 0.1967 - val_rmse: 0.2265 - learning_rate: 1.0000e-06\n",
      "Epoch 97/150\n",
      "\u001b[1m50/50\u001b[0m \u001b[32m━━━━━━━━━━━━━━━━━━━━\u001b[0m\u001b[37m\u001b[0m \u001b[1m0s\u001b[0m 424us/step - loss: 0.0442 - mae: 0.2570 - rmse: 0.2830 - val_loss: 0.0300 - val_mae: 0.1967 - val_rmse: 0.2265 - learning_rate: 1.0000e-06\n",
      "Epoch 98/150\n",
      "\u001b[1m50/50\u001b[0m \u001b[32m━━━━━━━━━━━━━━━━━━━━\u001b[0m\u001b[37m\u001b[0m \u001b[1m0s\u001b[0m 430us/step - loss: 0.0464 - mae: 0.2645 - rmse: 0.2933 - val_loss: 0.0300 - val_mae: 0.1967 - val_rmse: 0.2265 - learning_rate: 1.0000e-06\n",
      "Epoch 99/150\n",
      "\u001b[1m50/50\u001b[0m \u001b[32m━━━━━━━━━━━━━━━━━━━━\u001b[0m\u001b[37m\u001b[0m \u001b[1m0s\u001b[0m 418us/step - loss: 0.0410 - mae: 0.2453 - rmse: 0.2731 - val_loss: 0.0300 - val_mae: 0.1967 - val_rmse: 0.2265 - learning_rate: 1.0000e-06\n",
      "Epoch 100/150\n",
      "\u001b[1m50/50\u001b[0m \u001b[32m━━━━━━━━━━━━━━━━━━━━\u001b[0m\u001b[37m\u001b[0m \u001b[1m0s\u001b[0m 414us/step - loss: 0.0463 - mae: 0.2634 - rmse: 0.2938 - val_loss: 0.0300 - val_mae: 0.1967 - val_rmse: 0.2265 - learning_rate: 1.0000e-06\n",
      "Epoch 101/150\n",
      "\u001b[1m50/50\u001b[0m \u001b[32m━━━━━━━━━━━━━━━━━━━━\u001b[0m\u001b[37m\u001b[0m \u001b[1m0s\u001b[0m 430us/step - loss: 0.0434 - mae: 0.2557 - rmse: 0.2839 - val_loss: 0.0300 - val_mae: 0.1967 - val_rmse: 0.2265 - learning_rate: 1.0000e-06\n",
      "Epoch 102/150\n",
      "\u001b[1m50/50\u001b[0m \u001b[32m━━━━━━━━━━━━━━━━━━━━\u001b[0m\u001b[37m\u001b[0m \u001b[1m0s\u001b[0m 423us/step - loss: 0.0404 - mae: 0.2436 - rmse: 0.2674 - val_loss: 0.0300 - val_mae: 0.1967 - val_rmse: 0.2265 - learning_rate: 1.0000e-06\n",
      "Epoch 103/150\n",
      "\u001b[1m50/50\u001b[0m \u001b[32m━━━━━━━━━━━━━━━━━━━━\u001b[0m\u001b[37m\u001b[0m \u001b[1m0s\u001b[0m 436us/step - loss: 0.0434 - mae: 0.2568 - rmse: 0.2858 - val_loss: 0.0300 - val_mae: 0.1967 - val_rmse: 0.2265 - learning_rate: 1.0000e-06\n",
      "Epoch 104/150\n",
      "\u001b[1m50/50\u001b[0m \u001b[32m━━━━━━━━━━━━━━━━━━━━\u001b[0m\u001b[37m\u001b[0m \u001b[1m0s\u001b[0m 424us/step - loss: 0.0412 - mae: 0.2440 - rmse: 0.2736 - val_loss: 0.0300 - val_mae: 0.1967 - val_rmse: 0.2265 - learning_rate: 1.0000e-06\n",
      "Epoch 105/150\n",
      "\u001b[1m50/50\u001b[0m \u001b[32m━━━━━━━━━━━━━━━━━━━━\u001b[0m\u001b[37m\u001b[0m \u001b[1m0s\u001b[0m 428us/step - loss: 0.0437 - mae: 0.2574 - rmse: 0.2864 - val_loss: 0.0300 - val_mae: 0.1967 - val_rmse: 0.2265 - learning_rate: 1.0000e-06\n",
      "Epoch 106/150\n",
      "\u001b[1m50/50\u001b[0m \u001b[32m━━━━━━━━━━━━━━━━━━━━\u001b[0m\u001b[37m\u001b[0m \u001b[1m0s\u001b[0m 426us/step - loss: 0.0405 - mae: 0.2430 - rmse: 0.2680 - val_loss: 0.0300 - val_mae: 0.1967 - val_rmse: 0.2265 - learning_rate: 1.0000e-06\n",
      "Epoch 107/150\n",
      "\u001b[1m50/50\u001b[0m \u001b[32m━━━━━━━━━━━━━━━━━━━━\u001b[0m\u001b[37m\u001b[0m \u001b[1m0s\u001b[0m 427us/step - loss: 0.0424 - mae: 0.2489 - rmse: 0.2782 - val_loss: 0.0300 - val_mae: 0.1967 - val_rmse: 0.2265 - learning_rate: 1.0000e-06\n",
      "Epoch 108/150\n",
      "\u001b[1m50/50\u001b[0m \u001b[32m━━━━━━━━━━━━━━━━━━━━\u001b[0m\u001b[37m\u001b[0m \u001b[1m0s\u001b[0m 423us/step - loss: 0.0405 - mae: 0.2433 - rmse: 0.2737 - val_loss: 0.0300 - val_mae: 0.1967 - val_rmse: 0.2265 - learning_rate: 1.0000e-06\n",
      "Epoch 109/150\n",
      "\u001b[1m50/50\u001b[0m \u001b[32m━━━━━━━━━━━━━━━━━━━━\u001b[0m\u001b[37m\u001b[0m \u001b[1m0s\u001b[0m 425us/step - loss: 0.0481 - mae: 0.2721 - rmse: 0.3026 - val_loss: 0.0300 - val_mae: 0.1967 - val_rmse: 0.2265 - learning_rate: 1.0000e-06\n",
      "Epoch 110/150\n",
      "\u001b[1m50/50\u001b[0m \u001b[32m━━━━━━━━━━━━━━━━━━━━\u001b[0m\u001b[37m\u001b[0m \u001b[1m0s\u001b[0m 441us/step - loss: 0.0434 - mae: 0.2528 - rmse: 0.2842 - val_loss: 0.0300 - val_mae: 0.1967 - val_rmse: 0.2265 - learning_rate: 1.0000e-06\n",
      "Epoch 111/150\n",
      "\u001b[1m50/50\u001b[0m \u001b[32m━━━━━━━━━━━━━━━━━━━━\u001b[0m\u001b[37m\u001b[0m \u001b[1m0s\u001b[0m 435us/step - loss: 0.0413 - mae: 0.2474 - rmse: 0.2782 - val_loss: 0.0300 - val_mae: 0.1967 - val_rmse: 0.2265 - learning_rate: 1.0000e-06\n",
      "Epoch 112/150\n",
      "\u001b[1m50/50\u001b[0m \u001b[32m━━━━━━━━━━━━━━━━━━━━\u001b[0m\u001b[37m\u001b[0m \u001b[1m0s\u001b[0m 422us/step - loss: 0.0417 - mae: 0.2487 - rmse: 0.2787 - val_loss: 0.0300 - val_mae: 0.1967 - val_rmse: 0.2265 - learning_rate: 1.0000e-06\n",
      "Epoch 113/150\n",
      "\u001b[1m50/50\u001b[0m \u001b[32m━━━━━━━━━━━━━━━━━━━━\u001b[0m\u001b[37m\u001b[0m \u001b[1m0s\u001b[0m 433us/step - loss: 0.0436 - mae: 0.2544 - rmse: 0.2838 - val_loss: 0.0300 - val_mae: 0.1967 - val_rmse: 0.2265 - learning_rate: 1.0000e-06\n",
      "Epoch 114/150\n",
      "\u001b[1m50/50\u001b[0m \u001b[32m━━━━━━━━━━━━━━━━━━━━\u001b[0m\u001b[37m\u001b[0m \u001b[1m0s\u001b[0m 425us/step - loss: 0.0465 - mae: 0.2641 - rmse: 0.2923 - val_loss: 0.0300 - val_mae: 0.1967 - val_rmse: 0.2265 - learning_rate: 1.0000e-06\n",
      "Epoch 115/150\n",
      "\u001b[1m50/50\u001b[0m \u001b[32m━━━━━━━━━━━━━━━━━━━━\u001b[0m\u001b[37m\u001b[0m \u001b[1m0s\u001b[0m 423us/step - loss: 0.0471 - mae: 0.2648 - rmse: 0.2965 - val_loss: 0.0300 - val_mae: 0.1967 - val_rmse: 0.2265 - learning_rate: 1.0000e-06\n",
      "Epoch 116/150\n",
      "\u001b[1m50/50\u001b[0m \u001b[32m━━━━━━━━━━━━━━━━━━━━\u001b[0m\u001b[37m\u001b[0m \u001b[1m0s\u001b[0m 436us/step - loss: 0.0415 - mae: 0.2476 - rmse: 0.2777 - val_loss: 0.0300 - val_mae: 0.1967 - val_rmse: 0.2265 - learning_rate: 1.0000e-06\n",
      "Epoch 117/150\n",
      "\u001b[1m50/50\u001b[0m \u001b[32m━━━━━━━━━━━━━━━━━━━━\u001b[0m\u001b[37m\u001b[0m \u001b[1m0s\u001b[0m 425us/step - loss: 0.0463 - mae: 0.2617 - rmse: 0.2938 - val_loss: 0.0300 - val_mae: 0.1967 - val_rmse: 0.2265 - learning_rate: 1.0000e-06\n",
      "Epoch 118/150\n",
      "\u001b[1m50/50\u001b[0m \u001b[32m━━━━━━━━━━━━━━━━━━━━\u001b[0m\u001b[37m\u001b[0m \u001b[1m0s\u001b[0m 427us/step - loss: 0.0427 - mae: 0.2531 - rmse: 0.2810 - val_loss: 0.0300 - val_mae: 0.1967 - val_rmse: 0.2265 - learning_rate: 1.0000e-06\n",
      "Epoch 119/150\n",
      "\u001b[1m50/50\u001b[0m \u001b[32m━━━━━━━━━━━━━━━━━━━━\u001b[0m\u001b[37m\u001b[0m \u001b[1m0s\u001b[0m 433us/step - loss: 0.0418 - mae: 0.2472 - rmse: 0.2774 - val_loss: 0.0300 - val_mae: 0.1967 - val_rmse: 0.2265 - learning_rate: 1.0000e-06\n",
      "Epoch 120/150\n",
      "\u001b[1m50/50\u001b[0m \u001b[32m━━━━━━━━━━━━━━━━━━━━\u001b[0m\u001b[37m\u001b[0m \u001b[1m0s\u001b[0m 424us/step - loss: 0.0397 - mae: 0.2367 - rmse: 0.2728 - val_loss: 0.0300 - val_mae: 0.1967 - val_rmse: 0.2265 - learning_rate: 1.0000e-06\n",
      "Epoch 121/150\n",
      "\u001b[1m50/50\u001b[0m \u001b[32m━━━━━━━━━━━━━━━━━━━━\u001b[0m\u001b[37m\u001b[0m \u001b[1m0s\u001b[0m 427us/step - loss: 0.0420 - mae: 0.2472 - rmse: 0.2766 - val_loss: 0.0300 - val_mae: 0.1967 - val_rmse: 0.2265 - learning_rate: 1.0000e-06\n",
      "Epoch 122/150\n",
      "\u001b[1m50/50\u001b[0m \u001b[32m━━━━━━━━━━━━━━━━━━━━\u001b[0m\u001b[37m\u001b[0m \u001b[1m0s\u001b[0m 429us/step - loss: 0.0449 - mae: 0.2612 - rmse: 0.2877 - val_loss: 0.0300 - val_mae: 0.1967 - val_rmse: 0.2265 - learning_rate: 1.0000e-06\n",
      "Epoch 123/150\n",
      "\u001b[1m50/50\u001b[0m \u001b[32m━━━━━━━━━━━━━━━━━━━━\u001b[0m\u001b[37m\u001b[0m \u001b[1m0s\u001b[0m 462us/step - loss: 0.0433 - mae: 0.2537 - rmse: 0.2856 - val_loss: 0.0300 - val_mae: 0.1967 - val_rmse: 0.2265 - learning_rate: 1.0000e-06\n",
      "Epoch 124/150\n",
      "\u001b[1m50/50\u001b[0m \u001b[32m━━━━━━━━━━━━━━━━━━━━\u001b[0m\u001b[37m\u001b[0m \u001b[1m0s\u001b[0m 460us/step - loss: 0.0441 - mae: 0.2565 - rmse: 0.2798 - val_loss: 0.0300 - val_mae: 0.1967 - val_rmse: 0.2265 - learning_rate: 1.0000e-06\n",
      "Epoch 125/150\n",
      "\u001b[1m50/50\u001b[0m \u001b[32m━━━━━━━━━━━━━━━━━━━━\u001b[0m\u001b[37m\u001b[0m \u001b[1m0s\u001b[0m 443us/step - loss: 0.0452 - mae: 0.2608 - rmse: 0.2926 - val_loss: 0.0300 - val_mae: 0.1967 - val_rmse: 0.2265 - learning_rate: 1.0000e-06\n",
      "Epoch 126/150\n",
      "\u001b[1m50/50\u001b[0m \u001b[32m━━━━━━━━━━━━━━━━━━━━\u001b[0m\u001b[37m\u001b[0m \u001b[1m0s\u001b[0m 458us/step - loss: 0.0425 - mae: 0.2451 - rmse: 0.2784 - val_loss: 0.0300 - val_mae: 0.1967 - val_rmse: 0.2265 - learning_rate: 1.0000e-06\n",
      "Epoch 127/150\n",
      "\u001b[1m50/50\u001b[0m \u001b[32m━━━━━━━━━━━━━━━━━━━━\u001b[0m\u001b[37m\u001b[0m \u001b[1m0s\u001b[0m 436us/step - loss: 0.0477 - mae: 0.2685 - rmse: 0.2998 - val_loss: 0.0300 - val_mae: 0.1967 - val_rmse: 0.2265 - learning_rate: 1.0000e-06\n",
      "Epoch 128/150\n",
      "\u001b[1m50/50\u001b[0m \u001b[32m━━━━━━━━━━━━━━━━━━━━\u001b[0m\u001b[37m\u001b[0m \u001b[1m0s\u001b[0m 436us/step - loss: 0.0353 - mae: 0.2187 - rmse: 0.2514 - val_loss: 0.0300 - val_mae: 0.1967 - val_rmse: 0.2265 - learning_rate: 1.0000e-06\n",
      "Epoch 129/150\n",
      "\u001b[1m50/50\u001b[0m \u001b[32m━━━━━━━━━━━━━━━━━━━━\u001b[0m\u001b[37m\u001b[0m \u001b[1m0s\u001b[0m 456us/step - loss: 0.0463 - mae: 0.2653 - rmse: 0.2910 - val_loss: 0.0300 - val_mae: 0.1967 - val_rmse: 0.2265 - learning_rate: 1.0000e-06\n",
      "Epoch 130/150\n",
      "\u001b[1m50/50\u001b[0m \u001b[32m━━━━━━━━━━━━━━━━━━━━\u001b[0m\u001b[37m\u001b[0m \u001b[1m0s\u001b[0m 441us/step - loss: 0.0472 - mae: 0.2684 - rmse: 0.2987 - val_loss: 0.0300 - val_mae: 0.1967 - val_rmse: 0.2265 - learning_rate: 1.0000e-06\n",
      "Epoch 131/150\n",
      "\u001b[1m50/50\u001b[0m \u001b[32m━━━━━━━━━━━━━━━━━━━━\u001b[0m\u001b[37m\u001b[0m \u001b[1m0s\u001b[0m 470us/step - loss: 0.0474 - mae: 0.2701 - rmse: 0.2954 - val_loss: 0.0300 - val_mae: 0.1967 - val_rmse: 0.2265 - learning_rate: 1.0000e-06\n",
      "Epoch 132/150\n",
      "\u001b[1m50/50\u001b[0m \u001b[32m━━━━━━━━━━━━━━━━━━━━\u001b[0m\u001b[37m\u001b[0m \u001b[1m0s\u001b[0m 440us/step - loss: 0.0438 - mae: 0.2564 - rmse: 0.2836 - val_loss: 0.0300 - val_mae: 0.1967 - val_rmse: 0.2265 - learning_rate: 1.0000e-06\n",
      "Epoch 133/150\n",
      "\u001b[1m50/50\u001b[0m \u001b[32m━━━━━━━━━━━━━━━━━━━━\u001b[0m\u001b[37m\u001b[0m \u001b[1m0s\u001b[0m 462us/step - loss: 0.0420 - mae: 0.2500 - rmse: 0.2777 - val_loss: 0.0300 - val_mae: 0.1967 - val_rmse: 0.2265 - learning_rate: 1.0000e-06\n",
      "Epoch 134/150\n",
      "\u001b[1m50/50\u001b[0m \u001b[32m━━━━━━━━━━━━━━━━━━━━\u001b[0m\u001b[37m\u001b[0m \u001b[1m0s\u001b[0m 441us/step - loss: 0.0448 - mae: 0.2583 - rmse: 0.2918 - val_loss: 0.0300 - val_mae: 0.1967 - val_rmse: 0.2265 - learning_rate: 1.0000e-06\n",
      "Epoch 135/150\n",
      "\u001b[1m50/50\u001b[0m \u001b[32m━━━━━━━━━━━━━━━━━━━━\u001b[0m\u001b[37m\u001b[0m \u001b[1m0s\u001b[0m 457us/step - loss: 0.0440 - mae: 0.2576 - rmse: 0.2891 - val_loss: 0.0300 - val_mae: 0.1967 - val_rmse: 0.2265 - learning_rate: 1.0000e-06\n",
      "Epoch 136/150\n",
      "\u001b[1m50/50\u001b[0m \u001b[32m━━━━━━━━━━━━━━━━━━━━\u001b[0m\u001b[37m\u001b[0m \u001b[1m0s\u001b[0m 448us/step - loss: 0.0373 - mae: 0.2309 - rmse: 0.2622 - val_loss: 0.0300 - val_mae: 0.1967 - val_rmse: 0.2265 - learning_rate: 1.0000e-06\n",
      "Epoch 137/150\n",
      "\u001b[1m50/50\u001b[0m \u001b[32m━━━━━━━━━━━━━━━━━━━━\u001b[0m\u001b[37m\u001b[0m \u001b[1m0s\u001b[0m 433us/step - loss: 0.0458 - mae: 0.2613 - rmse: 0.2905 - val_loss: 0.0300 - val_mae: 0.1967 - val_rmse: 0.2265 - learning_rate: 1.0000e-06\n",
      "Epoch 138/150\n",
      "\u001b[1m50/50\u001b[0m \u001b[32m━━━━━━━━━━━━━━━━━━━━\u001b[0m\u001b[37m\u001b[0m \u001b[1m0s\u001b[0m 435us/step - loss: 0.0416 - mae: 0.2450 - rmse: 0.2741 - val_loss: 0.0300 - val_mae: 0.1967 - val_rmse: 0.2265 - learning_rate: 1.0000e-06\n",
      "Epoch 139/150\n",
      "\u001b[1m50/50\u001b[0m \u001b[32m━━━━━━━━━━━━━━━━━━━━\u001b[0m\u001b[37m\u001b[0m \u001b[1m0s\u001b[0m 457us/step - loss: 0.0458 - mae: 0.2665 - rmse: 0.2937 - val_loss: 0.0300 - val_mae: 0.1967 - val_rmse: 0.2265 - learning_rate: 1.0000e-06\n",
      "Epoch 140/150\n",
      "\u001b[1m50/50\u001b[0m \u001b[32m━━━━━━━━━━━━━━━━━━━━\u001b[0m\u001b[37m\u001b[0m \u001b[1m0s\u001b[0m 456us/step - loss: 0.0447 - mae: 0.2574 - rmse: 0.2860 - val_loss: 0.0300 - val_mae: 0.1967 - val_rmse: 0.2265 - learning_rate: 1.0000e-06\n",
      "Epoch 141/150\n",
      "\u001b[1m50/50\u001b[0m \u001b[32m━━━━━━━━━━━━━━━━━━━━\u001b[0m\u001b[37m\u001b[0m \u001b[1m0s\u001b[0m 435us/step - loss: 0.0416 - mae: 0.2488 - rmse: 0.2784 - val_loss: 0.0300 - val_mae: 0.1967 - val_rmse: 0.2265 - learning_rate: 1.0000e-06\n",
      "Epoch 142/150\n",
      "\u001b[1m50/50\u001b[0m \u001b[32m━━━━━━━━━━━━━━━━━━━━\u001b[0m\u001b[37m\u001b[0m \u001b[1m0s\u001b[0m 457us/step - loss: 0.0431 - mae: 0.2573 - rmse: 0.2861 - val_loss: 0.0300 - val_mae: 0.1967 - val_rmse: 0.2265 - learning_rate: 1.0000e-06\n",
      "Epoch 143/150\n",
      "\u001b[1m50/50\u001b[0m \u001b[32m━━━━━━━━━━━━━━━━━━━━\u001b[0m\u001b[37m\u001b[0m \u001b[1m0s\u001b[0m 432us/step - loss: 0.0475 - mae: 0.2686 - rmse: 0.2931 - val_loss: 0.0300 - val_mae: 0.1967 - val_rmse: 0.2265 - learning_rate: 1.0000e-06\n",
      "Epoch 144/150\n",
      "\u001b[1m50/50\u001b[0m \u001b[32m━━━━━━━━━━━━━━━━━━━━\u001b[0m\u001b[37m\u001b[0m \u001b[1m0s\u001b[0m 455us/step - loss: 0.0452 - mae: 0.2599 - rmse: 0.2899 - val_loss: 0.0300 - val_mae: 0.1967 - val_rmse: 0.2265 - learning_rate: 1.0000e-06\n",
      "Epoch 145/150\n",
      "\u001b[1m50/50\u001b[0m \u001b[32m━━━━━━━━━━━━━━━━━━━━\u001b[0m\u001b[37m\u001b[0m \u001b[1m0s\u001b[0m 443us/step - loss: 0.0425 - mae: 0.2538 - rmse: 0.2850 - val_loss: 0.0300 - val_mae: 0.1967 - val_rmse: 0.2265 - learning_rate: 1.0000e-06\n",
      "Epoch 146/150\n",
      "\u001b[1m50/50\u001b[0m \u001b[32m━━━━━━━━━━━━━━━━━━━━\u001b[0m\u001b[37m\u001b[0m \u001b[1m0s\u001b[0m 437us/step - loss: 0.0454 - mae: 0.2578 - rmse: 0.2882 - val_loss: 0.0300 - val_mae: 0.1967 - val_rmse: 0.2265 - learning_rate: 1.0000e-06\n",
      "Epoch 147/150\n",
      "\u001b[1m50/50\u001b[0m \u001b[32m━━━━━━━━━━━━━━━━━━━━\u001b[0m\u001b[37m\u001b[0m \u001b[1m0s\u001b[0m 431us/step - loss: 0.0446 - mae: 0.2599 - rmse: 0.2842 - val_loss: 0.0300 - val_mae: 0.1967 - val_rmse: 0.2265 - learning_rate: 1.0000e-06\n",
      "Epoch 148/150\n",
      "\u001b[1m50/50\u001b[0m \u001b[32m━━━━━━━━━━━━━━━━━━━━\u001b[0m\u001b[37m\u001b[0m \u001b[1m0s\u001b[0m 433us/step - loss: 0.0477 - mae: 0.2723 - rmse: 0.3008 - val_loss: 0.0300 - val_mae: 0.1967 - val_rmse: 0.2265 - learning_rate: 1.0000e-06\n",
      "Epoch 149/150\n",
      "\u001b[1m50/50\u001b[0m \u001b[32m━━━━━━━━━━━━━━━━━━━━\u001b[0m\u001b[37m\u001b[0m \u001b[1m0s\u001b[0m 430us/step - loss: 0.0468 - mae: 0.2669 - rmse: 0.2939 - val_loss: 0.0300 - val_mae: 0.1967 - val_rmse: 0.2265 - learning_rate: 1.0000e-06\n",
      "Epoch 150/150\n",
      "\u001b[1m50/50\u001b[0m \u001b[32m━━━━━━━━━━━━━━━━━━━━\u001b[0m\u001b[37m\u001b[0m \u001b[1m0s\u001b[0m 438us/step - loss: 0.0456 - mae: 0.2582 - rmse: 0.2906 - val_loss: 0.0300 - val_mae: 0.1967 - val_rmse: 0.2265 - learning_rate: 1.0000e-06\n"
     ]
    }
   ],
   "source": [
    "# Split dataset 80% test 20% validation\n",
    "train_X, test_X, y_train, y_test = train_test_split(X, y, test_size=0.2, random_state=42)\n",
    "\n",
    "# Augment data by adding noise (for training set)\n",
    "train_X_noisy = train_X + np.random.normal(0, 0.01, train_X.shape)\n",
    "\n",
    "# Bangun model\n",
    "input_dim = train_X.shape[1]\n",
    "model = tf.keras.Sequential([\n",
    "    tf.keras.layers.Input(shape=(train_X.shape[1],)),\n",
    "    tf.keras.layers.Dense(12, activation='relu', kernel_regularizer=l2(0.001)),  # Simplified\n",
    "    tf.keras.layers.Dropout(0.1),  # Lower dropout\n",
    "    tf.keras.layers.Dense(6, activation='relu', kernel_regularizer=l2(0.001)),  # Reduced neurons\n",
    "    tf.keras.layers.Dense(1, activation='sigmoid')  # Sigmoid for binary output\n",
    "])\n",
    "\n",
    "# Definisikan metric RMSE\n",
    "def rmse(y_true, y_pred):\n",
    "    return K.sqrt(K.mean(K.square(y_true - y_pred)))\n",
    "\n",
    "# Compile model\n",
    "huber_loss = Huber(delta=1.0)\n",
    "model.compile(optimizer=Adam(learning_rate=0.0005), loss=huber_loss, metrics=['mae', rmse])\n",
    "\n",
    "# Callbacks: Early Stopping and Learning Rate Scheduler\n",
    "early_stopping = EarlyStopping(\n",
    "    monitor='val_loss',\n",
    "    patience=5,  # Reduced patience\n",
    "    restore_best_weights=True\n",
    ")\n",
    "\n",
    "lr_scheduler = ReduceLROnPlateau(\n",
    "    monitor='val_loss',\n",
    "    factor=0.1,  # More aggressive reduction\n",
    "    patience=2,\n",
    "    min_lr=1e-6\n",
    ")\n",
    "\n",
    "# Train model\n",
    "history = model.fit(\n",
    "    train_X_noisy, y_train,  # Use augmented data for training\n",
    "    validation_split=0.2,  # Use 20% of training data for validation\n",
    "    epochs=150,  # Start with more epochs and rely on early stopping\n",
    "    batch_size=4,  # Smaller batch size for better performance with small data\n",
    "    shuffle=True,\n",
    "    callbacks=[early_stopping, lr_scheduler]\n",
    ")\n"
   ]
  },
  {
   "cell_type": "code",
   "execution_count": 20,
   "metadata": {
    "colab": {
     "base_uri": "https://localhost:8080/",
     "height": 323
    },
    "editable": true,
    "id": "0ACLAyF-hUIQ",
    "outputId": "ac2adf4a-bfcf-46bc-d14a-8f9ca65ee5eb",
    "slideshow": {
     "slide_type": ""
    },
    "tags": []
   },
   "outputs": [
    {
     "data": {
      "text/html": [
       "<pre style=\"white-space:pre;overflow-x:auto;line-height:normal;font-family:Menlo,'DejaVu Sans Mono',consolas,'Courier New',monospace\"><span style=\"font-weight: bold\">Model: \"sequential_1\"</span>\n",
       "</pre>\n"
      ],
      "text/plain": [
       "\u001b[1mModel: \"sequential_1\"\u001b[0m\n"
      ]
     },
     "metadata": {},
     "output_type": "display_data"
    },
    {
     "data": {
      "text/html": [
       "<pre style=\"white-space:pre;overflow-x:auto;line-height:normal;font-family:Menlo,'DejaVu Sans Mono',consolas,'Courier New',monospace\">┏━━━━━━━━━━━━━━━━━━━━━━━━━━━━━━━━━┳━━━━━━━━━━━━━━━━━━━━━━━━┳━━━━━━━━━━━━━━━┓\n",
       "┃<span style=\"font-weight: bold\"> Layer (type)                    </span>┃<span style=\"font-weight: bold\"> Output Shape           </span>┃<span style=\"font-weight: bold\">       Param # </span>┃\n",
       "┡━━━━━━━━━━━━━━━━━━━━━━━━━━━━━━━━━╇━━━━━━━━━━━━━━━━━━━━━━━━╇━━━━━━━━━━━━━━━┩\n",
       "│ dense_3 (<span style=\"color: #0087ff; text-decoration-color: #0087ff\">Dense</span>)                 │ (<span style=\"color: #00d7ff; text-decoration-color: #00d7ff\">None</span>, <span style=\"color: #00af00; text-decoration-color: #00af00\">12</span>)             │           <span style=\"color: #00af00; text-decoration-color: #00af00\">216</span> │\n",
       "├─────────────────────────────────┼────────────────────────┼───────────────┤\n",
       "│ dropout_1 (<span style=\"color: #0087ff; text-decoration-color: #0087ff\">Dropout</span>)             │ (<span style=\"color: #00d7ff; text-decoration-color: #00d7ff\">None</span>, <span style=\"color: #00af00; text-decoration-color: #00af00\">12</span>)             │             <span style=\"color: #00af00; text-decoration-color: #00af00\">0</span> │\n",
       "├─────────────────────────────────┼────────────────────────┼───────────────┤\n",
       "│ dense_4 (<span style=\"color: #0087ff; text-decoration-color: #0087ff\">Dense</span>)                 │ (<span style=\"color: #00d7ff; text-decoration-color: #00d7ff\">None</span>, <span style=\"color: #00af00; text-decoration-color: #00af00\">6</span>)              │            <span style=\"color: #00af00; text-decoration-color: #00af00\">78</span> │\n",
       "├─────────────────────────────────┼────────────────────────┼───────────────┤\n",
       "│ dense_5 (<span style=\"color: #0087ff; text-decoration-color: #0087ff\">Dense</span>)                 │ (<span style=\"color: #00d7ff; text-decoration-color: #00d7ff\">None</span>, <span style=\"color: #00af00; text-decoration-color: #00af00\">1</span>)              │             <span style=\"color: #00af00; text-decoration-color: #00af00\">7</span> │\n",
       "└─────────────────────────────────┴────────────────────────┴───────────────┘\n",
       "</pre>\n"
      ],
      "text/plain": [
       "┏━━━━━━━━━━━━━━━━━━━━━━━━━━━━━━━━━┳━━━━━━━━━━━━━━━━━━━━━━━━┳━━━━━━━━━━━━━━━┓\n",
       "┃\u001b[1m \u001b[0m\u001b[1mLayer (type)                   \u001b[0m\u001b[1m \u001b[0m┃\u001b[1m \u001b[0m\u001b[1mOutput Shape          \u001b[0m\u001b[1m \u001b[0m┃\u001b[1m \u001b[0m\u001b[1m      Param #\u001b[0m\u001b[1m \u001b[0m┃\n",
       "┡━━━━━━━━━━━━━━━━━━━━━━━━━━━━━━━━━╇━━━━━━━━━━━━━━━━━━━━━━━━╇━━━━━━━━━━━━━━━┩\n",
       "│ dense_3 (\u001b[38;5;33mDense\u001b[0m)                 │ (\u001b[38;5;45mNone\u001b[0m, \u001b[38;5;34m12\u001b[0m)             │           \u001b[38;5;34m216\u001b[0m │\n",
       "├─────────────────────────────────┼────────────────────────┼───────────────┤\n",
       "│ dropout_1 (\u001b[38;5;33mDropout\u001b[0m)             │ (\u001b[38;5;45mNone\u001b[0m, \u001b[38;5;34m12\u001b[0m)             │             \u001b[38;5;34m0\u001b[0m │\n",
       "├─────────────────────────────────┼────────────────────────┼───────────────┤\n",
       "│ dense_4 (\u001b[38;5;33mDense\u001b[0m)                 │ (\u001b[38;5;45mNone\u001b[0m, \u001b[38;5;34m6\u001b[0m)              │            \u001b[38;5;34m78\u001b[0m │\n",
       "├─────────────────────────────────┼────────────────────────┼───────────────┤\n",
       "│ dense_5 (\u001b[38;5;33mDense\u001b[0m)                 │ (\u001b[38;5;45mNone\u001b[0m, \u001b[38;5;34m1\u001b[0m)              │             \u001b[38;5;34m7\u001b[0m │\n",
       "└─────────────────────────────────┴────────────────────────┴───────────────┘\n"
      ]
     },
     "metadata": {},
     "output_type": "display_data"
    },
    {
     "data": {
      "text/html": [
       "<pre style=\"white-space:pre;overflow-x:auto;line-height:normal;font-family:Menlo,'DejaVu Sans Mono',consolas,'Courier New',monospace\"><span style=\"font-weight: bold\"> Total params: </span><span style=\"color: #00af00; text-decoration-color: #00af00\">905</span> (3.54 KB)\n",
       "</pre>\n"
      ],
      "text/plain": [
       "\u001b[1m Total params: \u001b[0m\u001b[38;5;34m905\u001b[0m (3.54 KB)\n"
      ]
     },
     "metadata": {},
     "output_type": "display_data"
    },
    {
     "data": {
      "text/html": [
       "<pre style=\"white-space:pre;overflow-x:auto;line-height:normal;font-family:Menlo,'DejaVu Sans Mono',consolas,'Courier New',monospace\"><span style=\"font-weight: bold\"> Trainable params: </span><span style=\"color: #00af00; text-decoration-color: #00af00\">301</span> (1.18 KB)\n",
       "</pre>\n"
      ],
      "text/plain": [
       "\u001b[1m Trainable params: \u001b[0m\u001b[38;5;34m301\u001b[0m (1.18 KB)\n"
      ]
     },
     "metadata": {},
     "output_type": "display_data"
    },
    {
     "data": {
      "text/html": [
       "<pre style=\"white-space:pre;overflow-x:auto;line-height:normal;font-family:Menlo,'DejaVu Sans Mono',consolas,'Courier New',monospace\"><span style=\"font-weight: bold\"> Non-trainable params: </span><span style=\"color: #00af00; text-decoration-color: #00af00\">0</span> (0.00 B)\n",
       "</pre>\n"
      ],
      "text/plain": [
       "\u001b[1m Non-trainable params: \u001b[0m\u001b[38;5;34m0\u001b[0m (0.00 B)\n"
      ]
     },
     "metadata": {},
     "output_type": "display_data"
    },
    {
     "data": {
      "text/html": [
       "<pre style=\"white-space:pre;overflow-x:auto;line-height:normal;font-family:Menlo,'DejaVu Sans Mono',consolas,'Courier New',monospace\"><span style=\"font-weight: bold\"> Optimizer params: </span><span style=\"color: #00af00; text-decoration-color: #00af00\">604</span> (2.36 KB)\n",
       "</pre>\n"
      ],
      "text/plain": [
       "\u001b[1m Optimizer params: \u001b[0m\u001b[38;5;34m604\u001b[0m (2.36 KB)\n"
      ]
     },
     "metadata": {},
     "output_type": "display_data"
    }
   ],
   "source": [
    "# Display summary model\n",
    "model.summary()"
   ]
  },
  {
   "cell_type": "code",
   "execution_count": 21,
   "metadata": {
    "colab": {
     "base_uri": "https://localhost:8080/",
     "height": 957
    },
    "id": "y4GxdLbthW8Q",
    "outputId": "3e72edfd-426a-4d1e-e1a0-01fa3e85152e"
   },
   "outputs": [
    {
     "data": {
      "image/png": "[encoded data removed]",
      "text/plain": [
       "<Figure size 1000x500 with 1 Axes>"
      ]
     },
     "metadata": {},
     "output_type": "display_data"
    },
    {
     "data": {
      "image/png": "[encoded data removed]",
      "text/plain": [
       "<Figure size 1000x500 with 1 Axes>"
      ]
     },
     "metadata": {},
     "output_type": "display_data"
    }
   ],
   "source": [
    "# Plot training and validation loss\n",
    "plt.figure(figsize=(10, 5))\n",
    "plt.plot(history.history['loss'], label='Training Loss')\n",
    "plt.plot(history.history['val_loss'], label='Validation Loss')\n",
    "plt.title('Model Loss')\n",
    "plt.xlabel('Epochs')\n",
    "plt.ylabel('Loss')\n",
    "plt.legend()\n",
    "plt.show()\n",
    "\n",
    "# Plot training and validation RMSE\n",
    "plt.figure(figsize=(10, 5))\n",
    "plt.plot(history.history['rmse'], label='Training RMSE')\n",
    "plt.plot(history.history['val_rmse'], label='Validation RMSE')\n",
    "plt.title('Model RMSE')\n",
    "plt.xlabel('Epochs')\n",
    "plt.ylabel('RMSE')\n",
    "plt.legend()\n",
    "plt.show()"
   ]
  },
  {
   "cell_type": "markdown",
   "metadata": {
    "id": "lU-o9ajtPWIW"
   },
   "source": [
    "## Fungsi untuk preproses input dan menampilkan output rekomendasi berdasarkan filter"
   ]
  },
  {
   "cell_type": "code",
   "execution_count": 40,
   "metadata": {
    "id": "_HxqKK8blTZ4"
   },
   "outputs": [],
   "source": [
    "# fungsi untuk mengolah input agar format sesuai dengan model\n",
    "def preprocess_user_input(user_input):\n",
    "    # Buat DataFrame dari input pengguna\n",
    "    user_df = pd.DataFrame([{\n",
    "        \"price_wna\": user_input[\"max_price\"],\n",
    "        \"rating\": user_input[\"min_rating\"]\n",
    "    }])\n",
    "\n",
    "    # Normalisasi input pengguna menggunakan scaler\n",
    "    normalized_input = scaler.transform(user_df)\n",
    "\n",
    "    # Encode kategori dan kota\n",
    "    user_category = encoder_category.transform([[user_input['category']]])\n",
    "    user_city = encoder_city.transform([[user_input['city']]])\n",
    "\n",
    "    # Gabungkan semua fitur\n",
    "    user_vector = np.hstack((user_category, user_city, normalized_input))\n",
    "\n",
    "    return user_vector\n"
   ]
  },
  {
   "cell_type": "code",
   "execution_count": 42,
   "metadata": {
    "id": "l-onA1Qm3Rev"
   },
   "outputs": [],
   "source": [
    "# fungsi untuk menampilkan top 5 rekomendasi berdasarkan input user\n",
    "def recommend(user_input, top_n=5):\n",
    "    # Preproses input pengguna\n",
    "    user_input_vector = preprocess_user_input(user_input)\n",
    "\n",
    "    # Prediksi score untuk masing-masing data\n",
    "    scores = model.predict(X)\n",
    "    data['score'] = scores.flatten()\n",
    "\n",
    "    # Normalisasi nilai filter dari input pengguna\n",
    "    user_df = pd.DataFrame([{\n",
    "        \"price_wna\": user_input[\"max_price\"],\n",
    "        \"rating\": user_input[\"min_rating\"]\n",
    "    }])\n",
    "    normalized_input = scaler.transform(user_df)\n",
    "    max_price_scaled, min_rating_scaled = normalized_input[0]\n",
    "\n",
    "    # Filter data berdasarkan kriteria pengguna\n",
    "    # Cek apakah kolom 'address' dan 'google_maps' ada sebelum difilter\n",
    "    if 'address' in data.columns and 'google_maps' in data.columns:\n",
    "        filtered_data = data[\n",
    "            (data['rating'] >= min_rating_scaled) &\n",
    "            (data['price_wna'] <= max_price_scaled) &\n",
    "            (data['city'] == user_input['city']) &  # Filter berdasarkan kota\n",
    "            (data['category'] == user_input['category']) & # Filter berdasarkan kategori\n",
    "            (data['address'].notna()) & (data['google_maps'].notna())  # Filter data kosong\n",
    "        ]\n",
    "    else:\n",
    "        # Jika kolom tidak ada, tampilkan warning\n",
    "        print(\"Warning: 'address' or 'google_maps' column not found in data. Filtering without them.\")\n",
    "        filtered_data = data[\n",
    "            (data['rating'] >= min_rating_scaled) &\n",
    "            (data['price_wna'] <= max_price_scaled) &\n",
    "            (data['city'] == user_input['city']) &  # Filter berdasarkan kota\n",
    "            (data['category'] == user_input['category']) # Filter berdasarkan kategori\n",
    "        ]\n",
    "\n",
    "\n",
    "    # Kembalikan nilai rating dan price_wna ke skala asli\n",
    "    if not filtered_data.empty:\n",
    "        filtered_data.loc[:, ['price_wna', 'rating']] = scaler.inverse_transform(\n",
    "            filtered_data[['price_wna', 'rating']]\n",
    "        )\n",
    "\n",
    "    # Ambil rekomendasi top-N\n",
    "    if not filtered_data.empty:\n",
    "        recommendations = filtered_data.nlargest(top_n, 'score')\n",
    "    else:\n",
    "        print(\"No recommendations found based on the given criteria.\")\n",
    "        recommendations = pd.DataFrame()  # DataFrame kosong jika tidak ada rekomendasi\n",
    "\n",
    "    # Cek jika required columns ada di recommendations\n",
    "    required_columns = ['name', 'rating', 'price_wna', 'city', 'category', 'address', 'google_maps']\n",
    "    available_columns = recommendations.columns.tolist()\n",
    "\n",
    "    # Pilih kolom yang ada saja\n",
    "    selected_columns = [col for col in required_columns if col in available_columns]\n",
    "\n",
    "    return recommendations[selected_columns]"
   ]
  },
  {
   "cell_type": "markdown",
   "metadata": {
    "id": "j7ftIkGCPmcy"
   },
   "source": [
    "## Penggunaan input untuk rekomendasi berdasarkan filter"
   ]
  },
  {
   "cell_type": "code",
   "execution_count": 47,
   "metadata": {
    "colab": {
     "base_uri": "https://localhost:8080/"
    },
    "id": "RgOPP0CElcYU",
    "outputId": "42a8635e-bb2f-415e-dd41-62c1fad29912"
   },
   "outputs": [
    {
     "name": "stdin",
     "output_type": "stream",
     "text": [
      "Enter the category of destination (Beach/Tourist attraction/Museum):  Tourist attraction\n",
      "Enter the city you want to go to :  Badung\n",
      "Enter the minimum rating (0.0-5.0):  4.5\n",
      "Enter the maximum ticket price (IDR) :  50000\n"
     ]
    },
    {
     "name": "stdout",
     "output_type": "stream",
     "text": [
      "\u001b[1m10/10\u001b[0m \u001b[32m━━━━━━━━━━━━━━━━━━━━\u001b[0m\u001b[37m\u001b[0m \u001b[1m0s\u001b[0m 444us/step\n",
      "                    name  rating     price_wna    city            category  \\\n",
      "87        Balangan Beach     4.5      0.000000  Badung  Tourist attraction   \n",
      "16   Objek Wisata Sangeh     4.6  30000.000000  Badung  Tourist attraction   \n",
      "271      Kutuh waterfall     4.6  30000.000000  Badung  Tourist attraction   \n",
      "113           Kubu Beach     4.6  34473.856209  Badung  Tourist attraction   \n",
      "123   Pantai Legian Bali     4.6  34473.856209  Badung  Tourist attraction   \n",
      "\n",
      "          address                                        google_maps  \n",
      "87             Â·  https://www.google.com/maps/place/Balangan+Bea...  \n",
      "16   Jl. Brahmana  https://www.google.com/maps/place/Objek+Wisata...  \n",
      "271      R8P9+9Q3  https://www.google.com/maps/place/Kutuh+waterf...  \n",
      "113            Â·  https://www.google.com/maps/place/Kubu+Beach/d...  \n",
      "123   Jl. Melasti  https://www.google.com/maps/place/Pantai+Legia...  \n"
     ]
    },
    {
     "name": "stderr",
     "output_type": "stream",
     "text": [
      "/opt/anaconda3/lib/python3.11/site-packages/sklearn/base.py:493: UserWarning: X does not have valid feature names, but OneHotEncoder was fitted with feature names\n",
      "  warnings.warn(\n",
      "/opt/anaconda3/lib/python3.11/site-packages/sklearn/base.py:493: UserWarning: X does not have valid feature names, but OneHotEncoder was fitted with feature names\n",
      "  warnings.warn(\n"
     ]
    }
   ],
   "source": [
    "# Input dari pengguna\n",
    "user_input = {\n",
    "    \"category\": input(\"Enter the category of destination (Beach/Tourist attraction/Museum): \"),       # Contoh: \"Beach\"\n",
    "    \"city\": input(\"Enter the city you want to go to : \"),            # Contoh: \"Denpasar\"\n",
    "    \"min_rating\": float(input(\"Enter the minimum rating (0.0-5.0): \")),  # Contoh: 4.0\n",
    "    \"max_price\": float(input(\"Enter the maximum ticket price (IDR) : \"))  # Contoh: 50000\n",
    "}\n",
    "\n",
    "# Tampilkan rekomendasi\n",
    "top_5_recommendations1 = recommend(user_input)\n",
    "print(top_5_recommendations1)"
   ]
  },
  {
   "cell_type": "markdown",
   "metadata": {
    "id": "K2O_LAESPoJj"
   },
   "source": [
    "## Fungsi untuk rekomendasi berdasarkan wisata yang sebelumnya dikunjungi"
   ]
  },
  {
   "cell_type": "code",
   "execution_count": 49,
   "metadata": {
    "id": "ErMSJrJK_6I5"
   },
   "outputs": [],
   "source": [
    "# fungsi untuk rekomendasi berdasarkan wisata yang telah dikunjungi\n",
    "def recommend_similar_wisata(wisata_name, city_filter=None, max_price=None, top_n=5):\n",
    "    # Pastikan nama tempat wisata ada dalam data\n",
    "    if wisata_name not in data['name'].values:\n",
    "        print(f\"Tempat wisata '{wisata_name}' tidak ditemukan dalam data.\")\n",
    "        return pd.DataFrame()\n",
    "\n",
    "    # Pilih fitur yang digunakan untuk perhitungan similarity\n",
    "    features = np.hstack((\n",
    "        encoded_category,\n",
    "        encoded_city,\n",
    "        data[['price_wna', 'rating']].values\n",
    "    ))\n",
    "\n",
    "    # Ambil indeks tempat wisata yang diminta\n",
    "    wisata_idx = data[data['name'] == wisata_name].index[0]\n",
    "\n",
    "    # Hitung kesamaan menggunakan cosine similarity antara tempat wisata input dengan semua tempat wisata lainnya\n",
    "    similarity_scores = cosine_similarity(features[wisata_idx].reshape(1, -1), features).flatten()\n",
    "\n",
    "    # Tambahkan skor kesamaan ke dalam DataFrame\n",
    "    data['similarity'] = similarity_scores\n",
    "\n",
    "    # Ubah tipe data max_price ke float jika tidak kosong\n",
    "    if max_price is not None:\n",
    "        max_price = float(max_price)\n",
    "\n",
    "    # Filter data jika ada city_filter atau max_price\n",
    "    filtered_data = data[data['name'] != wisata_name]\n",
    "    if city_filter:\n",
    "        filtered_data = filtered_data[filtered_data['city'] == city_filter]\n",
    "    if max_price is not None:\n",
    "        # Normalisasi max_price untuk filter\n",
    "        max_price_scaled = scaler.transform([[max_price, 0]])[0][0]\n",
    "        filtered_data = filtered_data[filtered_data['price_wna'] <= max_price_scaled]\n",
    "\n",
    "    # Kembalikan nilai rating dan price_wna ke skala aslinya\n",
    "    if not filtered_data.empty:\n",
    "        filtered_data.loc[:, ['price_wna', 'rating']] = scaler.inverse_transform(\n",
    "            filtered_data[['price_wna', 'rating']]\n",
    "        )\n",
    "\n",
    "    # Urutkan berdasarkan skor similarity (descending) dan ambil top-N\n",
    "    recommendations = filtered_data.nlargest(top_n, 'similarity') if not filtered_data.empty else pd.DataFrame()\n",
    "\n",
    "    # Pilih kolom untuk ditampilkan\n",
    "    return recommendations[['name', 'rating', 'price_wna', 'city', 'category', 'address', 'google_maps', 'similarity']]\n"
   ]
  },
  {
   "cell_type": "markdown",
   "metadata": {
    "id": "oOrCcfQlPugs"
   },
   "source": [
    "## Penggunaan input rekomendasi berdasarkan wisata yang sebelumnya dikunjungi"
   ]
  },
  {
   "cell_type": "code",
   "execution_count": 52,
   "metadata": {
    "colab": {
     "base_uri": "https://localhost:8080/"
    },
    "editable": true,
    "id": "pqVusVFEA5CI",
    "outputId": "ce1c4a57-c184-4b78-cc38-291d8713bb96",
    "slideshow": {
     "slide_type": ""
    },
    "tags": []
   },
   "outputs": [
    {
     "name": "stdin",
     "output_type": "stream",
     "text": [
      "Enter the name of destination you have already visited :  Museum Pasifika Bali\n",
      "Enter the city you want to go to (optional):  \n",
      "Enter the maximum ticket price (optional):  \n"
     ]
    },
    {
     "name": "stdout",
     "output_type": "stream",
     "text": [
      "                                name  rating     price_wna    city category  \\\n",
      "152      Interactive Art Museum Bali     4.5  34473.856209  Badung   Museum   \n",
      "153  Museum Tjok Agung Tresna Ayunan     4.5  34473.856209  Badung   Museum   \n",
      "146        Museum of Space Available     4.4  34473.856209  Badung   Museum   \n",
      "176               Kebon Vintage Cars     4.7  34473.856209  Badung   Museum   \n",
      "18             Satria Gatotkaca Park     4.6      0.000000  Badung   Museum   \n",
      "\n",
      "                                               address  \\\n",
      "152  Bajra Sandhi Monument, Jl. Raya Puputan Ground...   \n",
      "153                                           F6Q2+X83   \n",
      "146                    Jalan Pantai Batu Mejan No: 33a   \n",
      "176                              Jl. Tegal Harum No.13   \n",
      "18                                 Jl. Raya Tuban No.1   \n",
      "\n",
      "                                           google_maps  similarity  \n",
      "152  https://www.google.com/maps/place/Interactive+...    1.000000  \n",
      "153  https://www.google.com/maps/place/Museum+Tjok+...    1.000000  \n",
      "146  https://www.google.com/maps/place/Museum+of+Sp...    0.999917  \n",
      "176  https://www.google.com/maps/place/Kebon+Vintag...    0.999684  \n",
      "18   https://www.google.com/maps/place/Satria+Gatot...    0.999411  \n"
     ]
    }
   ],
   "source": [
    "# input dari user\n",
    "wisata_name = input(\"Enter the name of destination you have already visited : \")\n",
    "city_filter = input(\"Enter the city you want to go to (optional): \") or None\n",
    "max_price = input(\"Enter the maximum ticket price (optional): \") or None\n",
    "\n",
    "# output\n",
    "top_5_recommendations = recommend_similar_wisata(wisata_name, city_filter=city_filter, max_price=max_price)\n",
    "print(top_5_recommendations)"
   ]
  },
  {
   "cell_type": "code",
   "execution_count": null,
   "metadata": {},
   "outputs": [],
   "source": []
  }
 ],
 "metadata": {
  "colab": {
   "provenance": []
  },
  "kernelspec": {
   "display_name": "Python 3 (ipykernel)",
   "language": "python",
   "name": "python3"
  },
  "language_info": {
   "codemirror_mode": {
    "name": "ipython",
    "version": 3
   },
   "file_extension": ".py",
   "mimetype": "text/x-python",
   "name": "python",
   "nbconvert_exporter": "python",
   "pygments_lexer": "ipython3",
   "version": "3.11.7"
  }
 },
 "nbformat": 4,
 "nbformat_minor": 4
}
