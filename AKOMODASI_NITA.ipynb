{
  "cells": [
    {
      "cell_type": "markdown",
      "metadata": {
        "id": "-rjNJ6FXIKGP"
      },
      "source": [
        "# Program ML Sistem Rekomendasi Akomodasi dengan Content Based Filtering"
      ]
    },
    {
      "cell_type": "markdown",
      "metadata": {
        "id": "TL4cbP04Ig-5"
      },
      "source": [
        "## Library yang digunakan"
      ]
    },
    {
      "cell_type": "code",
      "execution_count": null,
      "metadata": {
        "id": "eW9hB3Jyc601"
      },
      "outputs": [],
      "source": [
        "import pandas as pd\n",
        "import numpy as np\n",
        "from sklearn.preprocessing import MinMaxScaler, OneHotEncoder\n",
        "from sklearn.model_selection import train_test_split\n",
        "from tensorflow.keras.models import Sequential\n",
        "from tensorflow.keras.layers import Dense, Dropout\n",
        "from tensorflow.keras.losses import Huber\n",
        "import tensorflow.keras.backend as K\n",
        "import matplotlib.pyplot as plt\n",
        "import tensorflow as tf\n",
        "from sklearn.metrics.pairwise import cosine_similarity\n",
        "from tensorflow.keras.optimizers import Adam\n",
        "from tensorflow.keras.regularizers import l2\n",
        "from tensorflow.keras.callbacks import EarlyStopping, ReduceLROnPlateau"
      ]
    },
    {
      "cell_type": "markdown",
      "metadata": {
        "id": "jimZXA0-Il_g"
      },
      "source": [
        "## Upload Dataset"
      ]
    },
    {
      "cell_type": "code",
      "execution_count": null,
      "metadata": {
        "colab": {
          "base_uri": "https://localhost:8080/",
          "height": 206
        },
        "id": "ipCtITXhdJ9F",
        "outputId": "5d44e892-86ff-49ff-bbb9-609b4ff48a23"
      },
      "outputs": [
        {
          "output_type": "execute_result",
          "data": {
            "text/plain": [
              "                                  Name  Original Price  price_after_discount  \\\n",
              "0         The Anvaya Beach Resort Bali         5022000               4017600   \n",
              "1            The Apurva Kempinski Bali        14520640              10890480   \n",
              "2  The Sakala Resort Bali - All Suites         2400000               1392000   \n",
              "3         Discovery Kartika Plaza Bali         1733333               1300000   \n",
              "4                   Hilton Bali Resort         3872000               2904000   \n",
              "\n",
              "                  tax  Rating Kota/Kabupaten  \n",
              "0  Inclusive of taxes    4.45         Badung  \n",
              "1  Inclusive of taxes    4.45         Badung  \n",
              "2  Inclusive of taxes    4.25         Badung  \n",
              "3  Inclusive of taxes    4.30         Badung  \n",
              "4  Inclusive of taxes    4.35         Badung  "
            ],
            "text/html": [
              "\n",
              "  <div id=\"df-e765057c-858d-4d45-a042-6d388ee80087\" class=\"colab-df-container\">\n",
              "    <div>\n",
              "<style scoped>\n",
              "    .dataframe tbody tr th:only-of-type {\n",
              "        vertical-align: middle;\n",
              "    }\n",
              "\n",
              "    .dataframe tbody tr th {\n",
              "        vertical-align: top;\n",
              "    }\n",
              "\n",
              "    .dataframe thead th {\n",
              "        text-align: right;\n",
              "    }\n",
              "</style>\n",
              "<table border=\"1\" class=\"dataframe\">\n",
              "  <thead>\n",
              "    <tr style=\"text-align: right;\">\n",
              "      <th></th>\n",
              "      <th>Name</th>\n",
              "      <th>Original Price</th>\n",
              "      <th>price_after_discount</th>\n",
              "      <th>tax</th>\n",
              "      <th>Rating</th>\n",
              "      <th>Kota/Kabupaten</th>\n",
              "    </tr>\n",
              "  </thead>\n",
              "  <tbody>\n",
              "    <tr>\n",
              "      <th>0</th>\n",
              "      <td>The Anvaya Beach Resort Bali</td>\n",
              "      <td>5022000</td>\n",
              "      <td>4017600</td>\n",
              "      <td>Inclusive of taxes</td>\n",
              "      <td>4.45</td>\n",
              "      <td>Badung</td>\n",
              "    </tr>\n",
              "    <tr>\n",
              "      <th>1</th>\n",
              "      <td>The Apurva Kempinski Bali</td>\n",
              "      <td>14520640</td>\n",
              "      <td>10890480</td>\n",
              "      <td>Inclusive of taxes</td>\n",
              "      <td>4.45</td>\n",
              "      <td>Badung</td>\n",
              "    </tr>\n",
              "    <tr>\n",
              "      <th>2</th>\n",
              "      <td>The Sakala Resort Bali - All Suites</td>\n",
              "      <td>2400000</td>\n",
              "      <td>1392000</td>\n",
              "      <td>Inclusive of taxes</td>\n",
              "      <td>4.25</td>\n",
              "      <td>Badung</td>\n",
              "    </tr>\n",
              "    <tr>\n",
              "      <th>3</th>\n",
              "      <td>Discovery Kartika Plaza Bali</td>\n",
              "      <td>1733333</td>\n",
              "      <td>1300000</td>\n",
              "      <td>Inclusive of taxes</td>\n",
              "      <td>4.30</td>\n",
              "      <td>Badung</td>\n",
              "    </tr>\n",
              "    <tr>\n",
              "      <th>4</th>\n",
              "      <td>Hilton Bali Resort</td>\n",
              "      <td>3872000</td>\n",
              "      <td>2904000</td>\n",
              "      <td>Inclusive of taxes</td>\n",
              "      <td>4.35</td>\n",
              "      <td>Badung</td>\n",
              "    </tr>\n",
              "  </tbody>\n",
              "</table>\n",
              "</div>\n",
              "    <div class=\"colab-df-buttons\">\n",
              "\n",
              "  <div class=\"colab-df-container\">\n",
              "    <button class=\"colab-df-convert\" onclick=\"convertToInteractive('df-e765057c-858d-4d45-a042-6d388ee80087')\"\n",
              "            title=\"Convert this dataframe to an interactive table.\"\n",
              "            style=\"display:none;\">\n",
              "\n",
              "  <svg xmlns=\"http://www.w3.org/2000/svg\" height=\"24px\" viewBox=\"0 -960 960 960\">\n",
              "    <path d=\"M120-120v-720h720v720H120Zm60-500h600v-160H180v160Zm220 220h160v-160H400v160Zm0 220h160v-160H400v160ZM180-400h160v-160H180v160Zm440 0h160v-160H620v160ZM180-180h160v-160H180v160Zm440 0h160v-160H620v160Z\"/>\n",
              "  </svg>\n",
              "    </button>\n",
              "\n",
              "  <style>\n",
              "    .colab-df-container {\n",
              "      display:flex;\n",
              "      gap: 12px;\n",
              "    }\n",
              "\n",
              "    .colab-df-convert {\n",
              "      background-color: #E8F0FE;\n",
              "      border: none;\n",
              "      border-radius: 50%;\n",
              "      cursor: pointer;\n",
              "      display: none;\n",
              "      fill: #1967D2;\n",
              "      height: 32px;\n",
              "      padding: 0 0 0 0;\n",
              "      width: 32px;\n",
              "    }\n",
              "\n",
              "    .colab-df-convert:hover {\n",
              "      background-color: #E2EBFA;\n",
              "      box-shadow: 0px 1px 2px rgba(60, 64, 67, 0.3), 0px 1px 3px 1px rgba(60, 64, 67, 0.15);\n",
              "      fill: #174EA6;\n",
              "    }\n",
              "\n",
              "    .colab-df-buttons div {\n",
              "      margin-bottom: 4px;\n",
              "    }\n",
              "\n",
              "    [theme=dark] .colab-df-convert {\n",
              "      background-color: #3B4455;\n",
              "      fill: #D2E3FC;\n",
              "    }\n",
              "\n",
              "    [theme=dark] .colab-df-convert:hover {\n",
              "      background-color: #434B5C;\n",
              "      box-shadow: 0px 1px 3px 1px rgba(0, 0, 0, 0.15);\n",
              "      filter: drop-shadow(0px 1px 2px rgba(0, 0, 0, 0.3));\n",
              "      fill: #FFFFFF;\n",
              "    }\n",
              "  </style>\n",
              "\n",
              "    <script>\n",
              "      const buttonEl =\n",
              "        document.querySelector('#df-e765057c-858d-4d45-a042-6d388ee80087 button.colab-df-convert');\n",
              "      buttonEl.style.display =\n",
              "        google.colab.kernel.accessAllowed ? 'block' : 'none';\n",
              "\n",
              "      async function convertToInteractive(key) {\n",
              "        const element = document.querySelector('#df-e765057c-858d-4d45-a042-6d388ee80087');\n",
              "        const dataTable =\n",
              "          await google.colab.kernel.invokeFunction('convertToInteractive',\n",
              "                                                    [key], {});\n",
              "        if (!dataTable) return;\n",
              "\n",
              "        const docLinkHtml = 'Like what you see? Visit the ' +\n",
              "          '<a target=\"_blank\" href=https://colab.research.google.com/notebooks/data_table.ipynb>data table notebook</a>'\n",
              "          + ' to learn more about interactive tables.';\n",
              "        element.innerHTML = '';\n",
              "        dataTable['output_type'] = 'display_data';\n",
              "        await google.colab.output.renderOutput(dataTable, element);\n",
              "        const docLink = document.createElement('div');\n",
              "        docLink.innerHTML = docLinkHtml;\n",
              "        element.appendChild(docLink);\n",
              "      }\n",
              "    </script>\n",
              "  </div>\n",
              "\n",
              "\n",
              "<div id=\"df-91a3848b-7e17-4f53-9ece-be0b719ed241\">\n",
              "  <button class=\"colab-df-quickchart\" onclick=\"quickchart('df-91a3848b-7e17-4f53-9ece-be0b719ed241')\"\n",
              "            title=\"Suggest charts\"\n",
              "            style=\"display:none;\">\n",
              "\n",
              "<svg xmlns=\"http://www.w3.org/2000/svg\" height=\"24px\"viewBox=\"0 0 24 24\"\n",
              "     width=\"24px\">\n",
              "    <g>\n",
              "        <path d=\"M19 3H5c-1.1 0-2 .9-2 2v14c0 1.1.9 2 2 2h14c1.1 0 2-.9 2-2V5c0-1.1-.9-2-2-2zM9 17H7v-7h2v7zm4 0h-2V7h2v10zm4 0h-2v-4h2v4z\"/>\n",
              "    </g>\n",
              "</svg>\n",
              "  </button>\n",
              "\n",
              "<style>\n",
              "  .colab-df-quickchart {\n",
              "      --bg-color: #E8F0FE;\n",
              "      --fill-color: #1967D2;\n",
              "      --hover-bg-color: #E2EBFA;\n",
              "      --hover-fill-color: #174EA6;\n",
              "      --disabled-fill-color: #AAA;\n",
              "      --disabled-bg-color: #DDD;\n",
              "  }\n",
              "\n",
              "  [theme=dark] .colab-df-quickchart {\n",
              "      --bg-color: #3B4455;\n",
              "      --fill-color: #D2E3FC;\n",
              "      --hover-bg-color: #434B5C;\n",
              "      --hover-fill-color: #FFFFFF;\n",
              "      --disabled-bg-color: #3B4455;\n",
              "      --disabled-fill-color: #666;\n",
              "  }\n",
              "\n",
              "  .colab-df-quickchart {\n",
              "    background-color: var(--bg-color);\n",
              "    border: none;\n",
              "    border-radius: 50%;\n",
              "    cursor: pointer;\n",
              "    display: none;\n",
              "    fill: var(--fill-color);\n",
              "    height: 32px;\n",
              "    padding: 0;\n",
              "    width: 32px;\n",
              "  }\n",
              "\n",
              "  .colab-df-quickchart:hover {\n",
              "    background-color: var(--hover-bg-color);\n",
              "    box-shadow: 0 1px 2px rgba(60, 64, 67, 0.3), 0 1px 3px 1px rgba(60, 64, 67, 0.15);\n",
              "    fill: var(--button-hover-fill-color);\n",
              "  }\n",
              "\n",
              "  .colab-df-quickchart-complete:disabled,\n",
              "  .colab-df-quickchart-complete:disabled:hover {\n",
              "    background-color: var(--disabled-bg-color);\n",
              "    fill: var(--disabled-fill-color);\n",
              "    box-shadow: none;\n",
              "  }\n",
              "\n",
              "  .colab-df-spinner {\n",
              "    border: 2px solid var(--fill-color);\n",
              "    border-color: transparent;\n",
              "    border-bottom-color: var(--fill-color);\n",
              "    animation:\n",
              "      spin 1s steps(1) infinite;\n",
              "  }\n",
              "\n",
              "  @keyframes spin {\n",
              "    0% {\n",
              "      border-color: transparent;\n",
              "      border-bottom-color: var(--fill-color);\n",
              "      border-left-color: var(--fill-color);\n",
              "    }\n",
              "    20% {\n",
              "      border-color: transparent;\n",
              "      border-left-color: var(--fill-color);\n",
              "      border-top-color: var(--fill-color);\n",
              "    }\n",
              "    30% {\n",
              "      border-color: transparent;\n",
              "      border-left-color: var(--fill-color);\n",
              "      border-top-color: var(--fill-color);\n",
              "      border-right-color: var(--fill-color);\n",
              "    }\n",
              "    40% {\n",
              "      border-color: transparent;\n",
              "      border-right-color: var(--fill-color);\n",
              "      border-top-color: var(--fill-color);\n",
              "    }\n",
              "    60% {\n",
              "      border-color: transparent;\n",
              "      border-right-color: var(--fill-color);\n",
              "    }\n",
              "    80% {\n",
              "      border-color: transparent;\n",
              "      border-right-color: var(--fill-color);\n",
              "      border-bottom-color: var(--fill-color);\n",
              "    }\n",
              "    90% {\n",
              "      border-color: transparent;\n",
              "      border-bottom-color: var(--fill-color);\n",
              "    }\n",
              "  }\n",
              "</style>\n",
              "\n",
              "  <script>\n",
              "    async function quickchart(key) {\n",
              "      const quickchartButtonEl =\n",
              "        document.querySelector('#' + key + ' button');\n",
              "      quickchartButtonEl.disabled = true;  // To prevent multiple clicks.\n",
              "      quickchartButtonEl.classList.add('colab-df-spinner');\n",
              "      try {\n",
              "        const charts = await google.colab.kernel.invokeFunction(\n",
              "            'suggestCharts', [key], {});\n",
              "      } catch (error) {\n",
              "        console.error('Error during call to suggestCharts:', error);\n",
              "      }\n",
              "      quickchartButtonEl.classList.remove('colab-df-spinner');\n",
              "      quickchartButtonEl.classList.add('colab-df-quickchart-complete');\n",
              "    }\n",
              "    (() => {\n",
              "      let quickchartButtonEl =\n",
              "        document.querySelector('#df-91a3848b-7e17-4f53-9ece-be0b719ed241 button');\n",
              "      quickchartButtonEl.style.display =\n",
              "        google.colab.kernel.accessAllowed ? 'block' : 'none';\n",
              "    })();\n",
              "  </script>\n",
              "</div>\n",
              "\n",
              "    </div>\n",
              "  </div>\n"
            ],
            "application/vnd.google.colaboratory.intrinsic+json": {
              "type": "dataframe",
              "variable_name": "df",
              "summary": "{\n  \"name\": \"df\",\n  \"rows\": 506,\n  \"fields\": [\n    {\n      \"column\": \"Name\",\n      \"properties\": {\n        \"dtype\": \"string\",\n        \"num_unique_values\": 502,\n        \"samples\": [\n          \"Swahita Ubud\",\n          \"Pandawa Hill Resort\",\n          \"Puri Bali Lovina\"\n        ],\n        \"semantic_type\": \"\",\n        \"description\": \"\"\n      }\n    },\n    {\n      \"column\": \"Original Price\",\n      \"properties\": {\n        \"dtype\": \"number\",\n        \"std\": 2471926,\n        \"min\": 98264,\n        \"max\": 24377467,\n        \"num_unique_values\": 460,\n        \"samples\": [\n          998760,\n          3285734,\n          15246000\n        ],\n        \"semantic_type\": \"\",\n        \"description\": \"\"\n      }\n    },\n    {\n      \"column\": \"price_after_discount\",\n      \"properties\": {\n        \"dtype\": \"number\",\n        \"std\": 1706555,\n        \"min\": 75903,\n        \"max\": 18283100,\n        \"num_unique_values\": 462,\n        \"samples\": [\n          1187246,\n          2464300,\n          1069200\n        ],\n        \"semantic_type\": \"\",\n        \"description\": \"\"\n      }\n    },\n    {\n      \"column\": \"tax\",\n      \"properties\": {\n        \"dtype\": \"category\",\n        \"num_unique_values\": 1,\n        \"samples\": [\n          \"Inclusive of taxes\"\n        ],\n        \"semantic_type\": \"\",\n        \"description\": \"\"\n      }\n    },\n    {\n      \"column\": \"Rating\",\n      \"properties\": {\n        \"dtype\": \"number\",\n        \"std\": 0.23514929382969502,\n        \"min\": 2.8,\n        \"max\": 4.8,\n        \"num_unique_values\": 29,\n        \"samples\": [\n          4.8\n        ],\n        \"semantic_type\": \"\",\n        \"description\": \"\"\n      }\n    },\n    {\n      \"column\": \"Kota/Kabupaten\",\n      \"properties\": {\n        \"dtype\": \"category\",\n        \"num_unique_values\": 8,\n        \"samples\": [\n          \"Denpasar\"\n        ],\n        \"semantic_type\": \"\",\n        \"description\": \"\"\n      }\n    }\n  ]\n}"
            }
          },
          "metadata": {},
          "execution_count": 10
        }
      ],
      "source": [
        "# Load dataset\n",
        "file_path = 'Akomodasi.xlsx'\n",
        "df = pd.read_excel(file_path, sheet_name='Sheet1')\n",
        "df.head()"
      ]
    },
    {
      "cell_type": "code",
      "execution_count": null,
      "metadata": {
        "id": "C-GHASZVgdul"
      },
      "outputs": [],
      "source": [
        "# Pilih kolom yang digunakan\n",
        "selected_columns = {\n",
        "    \"Name\": \"name\",\n",
        "    \"Rating\": \"rating\",\n",
        "    \"Original Price\": \"price_wna\", # Harga yang digunakan hanya harga WNA dewasa\n",
        "    \"Kota/Kabupaten\": \"city\",\n",
        "}\n",
        "# Rename kolom\n",
        "df = df.rename(columns=selected_columns)\n",
        "# Pilih kolom yang telah direname\n",
        "df = df[['name', 'rating', 'price_wna', 'city']]\n",
        "# Bersihkan data kosong dan sesuaikan tipe data\n",
        "data = df.dropna(subset=[\"name\", \"rating\", \"price_wna\", \"city\"])\n",
        "data[\"price_wna\"] = data[\"price_wna\"].astype(float)\n",
        "data[\"rating\"] = data[\"rating\"].astype(float)"
      ]
    },
    {
      "cell_type": "markdown",
      "metadata": {
        "id": "-KjhcTpGJE7y"
      },
      "source": [
        "## Normalisasi dan encoding 4 fitur yang digunakan"
      ]
    },
    {
      "cell_type": "code",
      "execution_count": null,
      "metadata": {
        "id": "kVth7wDYg2UX"
      },
      "outputs": [],
      "source": [
        "# Normalisasi price and rating\n",
        "scaler = MinMaxScaler()\n",
        "data[['price_wna', 'rating']] = scaler.fit_transform(data[['price_wna', 'rating']])\n",
        "\n",
        "# One-hot encode untuk category and city\n",
        "encoder_city = OneHotEncoder(sparse_output=False, handle_unknown='ignore')\n",
        "\n",
        "encoded_city = encoder_city.fit_transform(data[['city']])\n",
        "\n",
        "# Gabungkan 4 fitur yang dipilih\n",
        "X = np.hstack(( encoded_city, data[['price_wna', 'rating']].values))\n",
        "\n",
        "# Dummy target untuk pelatihan\n",
        "y = np.random.rand(len(X))"
      ]
    },
    {
      "cell_type": "markdown",
      "metadata": {
        "id": "cFttmGOZJc-b"
      },
      "source": [
        "## Model neural network"
      ]
    },
    {
      "cell_type": "code",
      "execution_count": null,
      "metadata": {
        "colab": {
          "base_uri": "https://localhost:8080/"
        },
        "id": "oD3bX-Glg-gw",
        "outputId": "30f940e5-05c7-4134-d348-b15e6c979cd5"
      },
      "outputs": [
        {
          "output_type": "stream",
          "name": "stdout",
          "text": [
            "Epoch 1/100\n",
            "\u001b[1m81/81\u001b[0m \u001b[32m━━━━━━━━━━━━━━━━━━━━\u001b[0m\u001b[37m\u001b[0m \u001b[1m3s\u001b[0m 7ms/step - loss: 0.0643 - mae: 0.2666 - rmse: 0.2927 - val_loss: 0.0587 - val_mae: 0.2524 - val_rmse: 0.2790 - learning_rate: 5.0000e-04\n",
            "Epoch 2/100\n",
            "\u001b[1m81/81\u001b[0m \u001b[32m━━━━━━━━━━━━━━━━━━━━\u001b[0m\u001b[37m\u001b[0m \u001b[1m0s\u001b[0m 4ms/step - loss: 0.0632 - mae: 0.2678 - rmse: 0.2984 - val_loss: 0.0561 - val_mae: 0.2512 - val_rmse: 0.2780 - learning_rate: 5.0000e-04\n",
            "Epoch 3/100\n",
            "\u001b[1m81/81\u001b[0m \u001b[32m━━━━━━━━━━━━━━━━━━━━\u001b[0m\u001b[37m\u001b[0m \u001b[1m0s\u001b[0m 2ms/step - loss: 0.0593 - mae: 0.2597 - rmse: 0.2909 - val_loss: 0.0538 - val_mae: 0.2503 - val_rmse: 0.2773 - learning_rate: 5.0000e-04\n",
            "Epoch 4/100\n",
            "\u001b[1m81/81\u001b[0m \u001b[32m━━━━━━━━━━━━━━━━━━━━\u001b[0m\u001b[37m\u001b[0m \u001b[1m0s\u001b[0m 2ms/step - loss: 0.0534 - mae: 0.2447 - rmse: 0.2769 - val_loss: 0.0521 - val_mae: 0.2499 - val_rmse: 0.2774 - learning_rate: 5.0000e-04\n",
            "Epoch 5/100\n",
            "\u001b[1m81/81\u001b[0m \u001b[32m━━━━━━━━━━━━━━━━━━━━\u001b[0m\u001b[37m\u001b[0m \u001b[1m0s\u001b[0m 2ms/step - loss: 0.0543 - mae: 0.2545 - rmse: 0.2836 - val_loss: 0.0505 - val_mae: 0.2492 - val_rmse: 0.2770 - learning_rate: 5.0000e-04\n",
            "Epoch 6/100\n",
            "\u001b[1m81/81\u001b[0m \u001b[32m━━━━━━━━━━━━━━━━━━━━\u001b[0m\u001b[37m\u001b[0m \u001b[1m0s\u001b[0m 2ms/step - loss: 0.0537 - mae: 0.2570 - rmse: 0.2865 - val_loss: 0.0491 - val_mae: 0.2486 - val_rmse: 0.2768 - learning_rate: 5.0000e-04\n",
            "Epoch 7/100\n",
            "\u001b[1m81/81\u001b[0m \u001b[32m━━━━━━━━━━━━━━━━━━━━\u001b[0m\u001b[37m\u001b[0m \u001b[1m0s\u001b[0m 2ms/step - loss: 0.0512 - mae: 0.2505 - rmse: 0.2821 - val_loss: 0.0479 - val_mae: 0.2482 - val_rmse: 0.2767 - learning_rate: 5.0000e-04\n",
            "Epoch 8/100\n",
            "\u001b[1m81/81\u001b[0m \u001b[32m━━━━━━━━━━━━━━━━━━━━\u001b[0m\u001b[37m\u001b[0m \u001b[1m0s\u001b[0m 2ms/step - loss: 0.0526 - mae: 0.2641 - rmse: 0.2924 - val_loss: 0.0470 - val_mae: 0.2479 - val_rmse: 0.2766 - learning_rate: 5.0000e-04\n",
            "Epoch 9/100\n",
            "\u001b[1m81/81\u001b[0m \u001b[32m━━━━━━━━━━━━━━━━━━━━\u001b[0m\u001b[37m\u001b[0m \u001b[1m0s\u001b[0m 2ms/step - loss: 0.0485 - mae: 0.2454 - rmse: 0.2797 - val_loss: 0.0462 - val_mae: 0.2477 - val_rmse: 0.2766 - learning_rate: 5.0000e-04\n",
            "Epoch 10/100\n",
            "\u001b[1m81/81\u001b[0m \u001b[32m━━━━━━━━━━━━━━━━━━━━\u001b[0m\u001b[37m\u001b[0m \u001b[1m0s\u001b[0m 3ms/step - loss: 0.0466 - mae: 0.2432 - rmse: 0.2798 - val_loss: 0.0454 - val_mae: 0.2474 - val_rmse: 0.2766 - learning_rate: 5.0000e-04\n",
            "Epoch 11/100\n",
            "\u001b[1m81/81\u001b[0m \u001b[32m━━━━━━━━━━━━━━━━━━━━\u001b[0m\u001b[37m\u001b[0m \u001b[1m0s\u001b[0m 3ms/step - loss: 0.0493 - mae: 0.2537 - rmse: 0.2909 - val_loss: 0.0448 - val_mae: 0.2470 - val_rmse: 0.2766 - learning_rate: 5.0000e-04\n",
            "Epoch 12/100\n",
            "\u001b[1m81/81\u001b[0m \u001b[32m━━━━━━━━━━━━━━━━━━━━\u001b[0m\u001b[37m\u001b[0m \u001b[1m0s\u001b[0m 3ms/step - loss: 0.0440 - mae: 0.2425 - rmse: 0.2706 - val_loss: 0.0442 - val_mae: 0.2467 - val_rmse: 0.2763 - learning_rate: 5.0000e-04\n",
            "Epoch 13/100\n",
            "\u001b[1m81/81\u001b[0m \u001b[32m━━━━━━━━━━━━━━━━━━━━\u001b[0m\u001b[37m\u001b[0m \u001b[1m0s\u001b[0m 2ms/step - loss: 0.0446 - mae: 0.2429 - rmse: 0.2762 - val_loss: 0.0437 - val_mae: 0.2466 - val_rmse: 0.2765 - learning_rate: 5.0000e-04\n",
            "Epoch 14/100\n",
            "\u001b[1m81/81\u001b[0m \u001b[32m━━━━━━━━━━━━━━━━━━━━\u001b[0m\u001b[37m\u001b[0m \u001b[1m0s\u001b[0m 3ms/step - loss: 0.0488 - mae: 0.2615 - rmse: 0.2908 - val_loss: 0.0433 - val_mae: 0.2464 - val_rmse: 0.2764 - learning_rate: 5.0000e-04\n",
            "Epoch 15/100\n",
            "\u001b[1m81/81\u001b[0m \u001b[32m━━━━━━━━━━━━━━━━━━━━\u001b[0m\u001b[37m\u001b[0m \u001b[1m0s\u001b[0m 3ms/step - loss: 0.0462 - mae: 0.2520 - rmse: 0.2861 - val_loss: 0.0429 - val_mae: 0.2464 - val_rmse: 0.2764 - learning_rate: 5.0000e-04\n",
            "Epoch 16/100\n",
            "\u001b[1m81/81\u001b[0m \u001b[32m━━━━━━━━━━━━━━━━━━━━\u001b[0m\u001b[37m\u001b[0m \u001b[1m0s\u001b[0m 2ms/step - loss: 0.0488 - mae: 0.2623 - rmse: 0.2930 - val_loss: 0.0426 - val_mae: 0.2462 - val_rmse: 0.2764 - learning_rate: 5.0000e-04\n",
            "Epoch 17/100\n",
            "\u001b[1m81/81\u001b[0m \u001b[32m━━━━━━━━━━━━━━━━━━━━\u001b[0m\u001b[37m\u001b[0m \u001b[1m0s\u001b[0m 3ms/step - loss: 0.0450 - mae: 0.2479 - rmse: 0.2854 - val_loss: 0.0423 - val_mae: 0.2460 - val_rmse: 0.2763 - learning_rate: 5.0000e-04\n",
            "Epoch 18/100\n",
            "\u001b[1m81/81\u001b[0m \u001b[32m━━━━━━━━━━━━━━━━━━━━\u001b[0m\u001b[37m\u001b[0m \u001b[1m0s\u001b[0m 3ms/step - loss: 0.0469 - mae: 0.2631 - rmse: 0.2930 - val_loss: 0.0420 - val_mae: 0.2459 - val_rmse: 0.2762 - learning_rate: 5.0000e-04\n",
            "Epoch 19/100\n",
            "\u001b[1m81/81\u001b[0m \u001b[32m━━━━━━━━━━━━━━━━━━━━\u001b[0m\u001b[37m\u001b[0m \u001b[1m0s\u001b[0m 2ms/step - loss: 0.0481 - mae: 0.2623 - rmse: 0.2906 - val_loss: 0.0418 - val_mae: 0.2459 - val_rmse: 0.2762 - learning_rate: 5.0000e-04\n",
            "Epoch 20/100\n",
            "\u001b[1m81/81\u001b[0m \u001b[32m━━━━━━━━━━━━━━━━━━━━\u001b[0m\u001b[37m\u001b[0m \u001b[1m0s\u001b[0m 2ms/step - loss: 0.0426 - mae: 0.2437 - rmse: 0.2777 - val_loss: 0.0417 - val_mae: 0.2460 - val_rmse: 0.2763 - learning_rate: 5.0000e-04\n",
            "Epoch 21/100\n",
            "\u001b[1m81/81\u001b[0m \u001b[32m━━━━━━━━━━━━━━━━━━━━\u001b[0m\u001b[37m\u001b[0m \u001b[1m0s\u001b[0m 2ms/step - loss: 0.0432 - mae: 0.2499 - rmse: 0.2807 - val_loss: 0.0415 - val_mae: 0.2461 - val_rmse: 0.2764 - learning_rate: 5.0000e-04\n",
            "Epoch 22/100\n",
            "\u001b[1m81/81\u001b[0m \u001b[32m━━━━━━━━━━━━━━━━━━━━\u001b[0m\u001b[37m\u001b[0m \u001b[1m0s\u001b[0m 3ms/step - loss: 0.0412 - mae: 0.2393 - rmse: 0.2714 - val_loss: 0.0413 - val_mae: 0.2461 - val_rmse: 0.2765 - learning_rate: 5.0000e-04\n",
            "Epoch 23/100\n",
            "\u001b[1m81/81\u001b[0m \u001b[32m━━━━━━━━━━━━━━━━━━━━\u001b[0m\u001b[37m\u001b[0m \u001b[1m0s\u001b[0m 2ms/step - loss: 0.0445 - mae: 0.2545 - rmse: 0.2871 - val_loss: 0.0412 - val_mae: 0.2460 - val_rmse: 0.2764 - learning_rate: 5.0000e-04\n",
            "Epoch 24/100\n",
            "\u001b[1m81/81\u001b[0m \u001b[32m━━━━━━━━━━━━━━━━━━━━\u001b[0m\u001b[37m\u001b[0m \u001b[1m0s\u001b[0m 2ms/step - loss: 0.0469 - mae: 0.2626 - rmse: 0.2932 - val_loss: 0.0411 - val_mae: 0.2461 - val_rmse: 0.2766 - learning_rate: 5.0000e-04\n",
            "Epoch 25/100\n",
            "\u001b[1m81/81\u001b[0m \u001b[32m━━━━━━━━━━━━━━━━━━━━\u001b[0m\u001b[37m\u001b[0m \u001b[1m0s\u001b[0m 3ms/step - loss: 0.0458 - mae: 0.2623 - rmse: 0.2918 - val_loss: 0.0409 - val_mae: 0.2460 - val_rmse: 0.2764 - learning_rate: 5.0000e-04\n",
            "Epoch 26/100\n",
            "\u001b[1m81/81\u001b[0m \u001b[32m━━━━━━━━━━━━━━━━━━━━\u001b[0m\u001b[37m\u001b[0m \u001b[1m0s\u001b[0m 2ms/step - loss: 0.0458 - mae: 0.2577 - rmse: 0.2859 - val_loss: 0.0408 - val_mae: 0.2461 - val_rmse: 0.2764 - learning_rate: 5.0000e-04\n",
            "Epoch 27/100\n",
            "\u001b[1m81/81\u001b[0m \u001b[32m━━━━━━━━━━━━━━━━━━━━\u001b[0m\u001b[37m\u001b[0m \u001b[1m0s\u001b[0m 3ms/step - loss: 0.0433 - mae: 0.2473 - rmse: 0.2796 - val_loss: 0.0407 - val_mae: 0.2460 - val_rmse: 0.2764 - learning_rate: 5.0000e-04\n",
            "Epoch 28/100\n",
            "\u001b[1m81/81\u001b[0m \u001b[32m━━━━━━━━━━━━━━━━━━━━\u001b[0m\u001b[37m\u001b[0m \u001b[1m0s\u001b[0m 2ms/step - loss: 0.0462 - mae: 0.2637 - rmse: 0.2944 - val_loss: 0.0405 - val_mae: 0.2458 - val_rmse: 0.2761 - learning_rate: 5.0000e-04\n",
            "Epoch 29/100\n",
            "\u001b[1m81/81\u001b[0m \u001b[32m━━━━━━━━━━━━━━━━━━━━\u001b[0m\u001b[37m\u001b[0m \u001b[1m0s\u001b[0m 3ms/step - loss: 0.0437 - mae: 0.2551 - rmse: 0.2836 - val_loss: 0.0404 - val_mae: 0.2457 - val_rmse: 0.2760 - learning_rate: 5.0000e-04\n",
            "Epoch 30/100\n",
            "\u001b[1m81/81\u001b[0m \u001b[32m━━━━━━━━━━━━━━━━━━━━\u001b[0m\u001b[37m\u001b[0m \u001b[1m0s\u001b[0m 3ms/step - loss: 0.0454 - mae: 0.2599 - rmse: 0.2886 - val_loss: 0.0404 - val_mae: 0.2458 - val_rmse: 0.2760 - learning_rate: 5.0000e-04\n",
            "Epoch 31/100\n",
            "\u001b[1m81/81\u001b[0m \u001b[32m━━━━━━━━━━━━━━━━━━━━\u001b[0m\u001b[37m\u001b[0m \u001b[1m0s\u001b[0m 2ms/step - loss: 0.0441 - mae: 0.2529 - rmse: 0.2840 - val_loss: 0.0403 - val_mae: 0.2459 - val_rmse: 0.2762 - learning_rate: 5.0000e-04\n",
            "Epoch 32/100\n",
            "\u001b[1m81/81\u001b[0m \u001b[32m━━━━━━━━━━━━━━━━━━━━\u001b[0m\u001b[37m\u001b[0m \u001b[1m0s\u001b[0m 3ms/step - loss: 0.0413 - mae: 0.2466 - rmse: 0.2780 - val_loss: 0.0403 - val_mae: 0.2461 - val_rmse: 0.2763 - learning_rate: 5.0000e-04\n",
            "Epoch 33/100\n",
            "\u001b[1m81/81\u001b[0m \u001b[32m━━━━━━━━━━━━━━━━━━━━\u001b[0m\u001b[37m\u001b[0m \u001b[1m0s\u001b[0m 2ms/step - loss: 0.0457 - mae: 0.2601 - rmse: 0.2908 - val_loss: 0.0401 - val_mae: 0.2458 - val_rmse: 0.2762 - learning_rate: 5.0000e-04\n",
            "Epoch 34/100\n",
            "\u001b[1m81/81\u001b[0m \u001b[32m━━━━━━━━━━━━━━━━━━━━\u001b[0m\u001b[37m\u001b[0m \u001b[1m0s\u001b[0m 2ms/step - loss: 0.0406 - mae: 0.2438 - rmse: 0.2732 - val_loss: 0.0401 - val_mae: 0.2457 - val_rmse: 0.2762 - learning_rate: 5.0000e-04\n",
            "Epoch 35/100\n",
            "\u001b[1m81/81\u001b[0m \u001b[32m━━━━━━━━━━━━━━━━━━━━\u001b[0m\u001b[37m\u001b[0m \u001b[1m0s\u001b[0m 3ms/step - loss: 0.0399 - mae: 0.2397 - rmse: 0.2731 - val_loss: 0.0400 - val_mae: 0.2458 - val_rmse: 0.2761 - learning_rate: 5.0000e-04\n",
            "Epoch 36/100\n",
            "\u001b[1m81/81\u001b[0m \u001b[32m━━━━━━━━━━━━━━━━━━━━\u001b[0m\u001b[37m\u001b[0m \u001b[1m0s\u001b[0m 2ms/step - loss: 0.0401 - mae: 0.2409 - rmse: 0.2744 - val_loss: 0.0400 - val_mae: 0.2458 - val_rmse: 0.2762 - learning_rate: 5.0000e-04\n",
            "Epoch 37/100\n",
            "\u001b[1m81/81\u001b[0m \u001b[32m━━━━━━━━━━━━━━━━━━━━\u001b[0m\u001b[37m\u001b[0m \u001b[1m0s\u001b[0m 4ms/step - loss: 0.0428 - mae: 0.2549 - rmse: 0.2829 - val_loss: 0.0399 - val_mae: 0.2457 - val_rmse: 0.2760 - learning_rate: 5.0000e-04\n",
            "Epoch 38/100\n",
            "\u001b[1m81/81\u001b[0m \u001b[32m━━━━━━━━━━━━━━━━━━━━\u001b[0m\u001b[37m\u001b[0m \u001b[1m1s\u001b[0m 4ms/step - loss: 0.0427 - mae: 0.2493 - rmse: 0.2854 - val_loss: 0.0399 - val_mae: 0.2458 - val_rmse: 0.2762 - learning_rate: 5.0000e-04\n",
            "Epoch 39/100\n",
            "\u001b[1m81/81\u001b[0m \u001b[32m━━━━━━━━━━━━━━━━━━━━\u001b[0m\u001b[37m\u001b[0m \u001b[1m1s\u001b[0m 3ms/step - loss: 0.0432 - mae: 0.2526 - rmse: 0.2810 - val_loss: 0.0398 - val_mae: 0.2457 - val_rmse: 0.2761 - learning_rate: 5.0000e-04\n",
            "Epoch 40/100\n",
            "\u001b[1m81/81\u001b[0m \u001b[32m━━━━━━━━━━━━━━━━━━━━\u001b[0m\u001b[37m\u001b[0m \u001b[1m1s\u001b[0m 3ms/step - loss: 0.0410 - mae: 0.2474 - rmse: 0.2767 - val_loss: 0.0398 - val_mae: 0.2457 - val_rmse: 0.2761 - learning_rate: 5.0000e-05\n",
            "Epoch 41/100\n",
            "\u001b[1m81/81\u001b[0m \u001b[32m━━━━━━━━━━━━━━━━━━━━\u001b[0m\u001b[37m\u001b[0m \u001b[1m1s\u001b[0m 2ms/step - loss: 0.0417 - mae: 0.2463 - rmse: 0.2817 - val_loss: 0.0398 - val_mae: 0.2457 - val_rmse: 0.2761 - learning_rate: 5.0000e-05\n",
            "Epoch 42/100\n",
            "\u001b[1m81/81\u001b[0m \u001b[32m━━━━━━━━━━━━━━━━━━━━\u001b[0m\u001b[37m\u001b[0m \u001b[1m0s\u001b[0m 2ms/step - loss: 0.0466 - mae: 0.2660 - rmse: 0.2981 - val_loss: 0.0398 - val_mae: 0.2457 - val_rmse: 0.2761 - learning_rate: 5.0000e-06\n",
            "Epoch 43/100\n",
            "\u001b[1m81/81\u001b[0m \u001b[32m━━━━━━━━━━━━━━━━━━━━\u001b[0m\u001b[37m\u001b[0m \u001b[1m0s\u001b[0m 2ms/step - loss: 0.0434 - mae: 0.2514 - rmse: 0.2853 - val_loss: 0.0398 - val_mae: 0.2457 - val_rmse: 0.2761 - learning_rate: 5.0000e-06\n",
            "Epoch 44/100\n",
            "\u001b[1m81/81\u001b[0m \u001b[32m━━━━━━━━━━━━━━━━━━━━\u001b[0m\u001b[37m\u001b[0m \u001b[1m0s\u001b[0m 3ms/step - loss: 0.0426 - mae: 0.2535 - rmse: 0.2836 - val_loss: 0.0398 - val_mae: 0.2457 - val_rmse: 0.2761 - learning_rate: 1.0000e-06\n",
            "Epoch 45/100\n",
            "\u001b[1m81/81\u001b[0m \u001b[32m━━━━━━━━━━━━━━━━━━━━\u001b[0m\u001b[37m\u001b[0m \u001b[1m0s\u001b[0m 3ms/step - loss: 0.0388 - mae: 0.2396 - rmse: 0.2704 - val_loss: 0.0398 - val_mae: 0.2457 - val_rmse: 0.2761 - learning_rate: 1.0000e-06\n",
            "Epoch 46/100\n",
            "\u001b[1m81/81\u001b[0m \u001b[32m━━━━━━━━━━━━━━━━━━━━\u001b[0m\u001b[37m\u001b[0m \u001b[1m0s\u001b[0m 2ms/step - loss: 0.0437 - mae: 0.2537 - rmse: 0.2874 - val_loss: 0.0398 - val_mae: 0.2457 - val_rmse: 0.2761 - learning_rate: 1.0000e-06\n",
            "Epoch 47/100\n",
            "\u001b[1m81/81\u001b[0m \u001b[32m━━━━━━━━━━━━━━━━━━━━\u001b[0m\u001b[37m\u001b[0m \u001b[1m0s\u001b[0m 3ms/step - loss: 0.0408 - mae: 0.2449 - rmse: 0.2762 - val_loss: 0.0398 - val_mae: 0.2457 - val_rmse: 0.2761 - learning_rate: 1.0000e-06\n",
            "Epoch 48/100\n",
            "\u001b[1m81/81\u001b[0m \u001b[32m━━━━━━━━━━━━━━━━━━━━\u001b[0m\u001b[37m\u001b[0m \u001b[1m0s\u001b[0m 3ms/step - loss: 0.0476 - mae: 0.2723 - rmse: 0.2997 - val_loss: 0.0398 - val_mae: 0.2457 - val_rmse: 0.2761 - learning_rate: 1.0000e-06\n",
            "Epoch 49/100\n",
            "\u001b[1m81/81\u001b[0m \u001b[32m━━━━━━━━━━━━━━━━━━━━\u001b[0m\u001b[37m\u001b[0m \u001b[1m0s\u001b[0m 3ms/step - loss: 0.0408 - mae: 0.2450 - rmse: 0.2756 - val_loss: 0.0398 - val_mae: 0.2457 - val_rmse: 0.2761 - learning_rate: 1.0000e-06\n",
            "Epoch 50/100\n",
            "\u001b[1m81/81\u001b[0m \u001b[32m━━━━━━━━━━━━━━━━━━━━\u001b[0m\u001b[37m\u001b[0m \u001b[1m0s\u001b[0m 2ms/step - loss: 0.0430 - mae: 0.2545 - rmse: 0.2867 - val_loss: 0.0398 - val_mae: 0.2457 - val_rmse: 0.2761 - learning_rate: 1.0000e-06\n",
            "Epoch 51/100\n",
            "\u001b[1m81/81\u001b[0m \u001b[32m━━━━━━━━━━━━━━━━━━━━\u001b[0m\u001b[37m\u001b[0m \u001b[1m0s\u001b[0m 2ms/step - loss: 0.0453 - mae: 0.2612 - rmse: 0.2933 - val_loss: 0.0398 - val_mae: 0.2457 - val_rmse: 0.2761 - learning_rate: 1.0000e-06\n",
            "Epoch 52/100\n",
            "\u001b[1m81/81\u001b[0m \u001b[32m━━━━━━━━━━━━━━━━━━━━\u001b[0m\u001b[37m\u001b[0m \u001b[1m0s\u001b[0m 2ms/step - loss: 0.0409 - mae: 0.2482 - rmse: 0.2763 - val_loss: 0.0398 - val_mae: 0.2457 - val_rmse: 0.2761 - learning_rate: 1.0000e-06\n",
            "Epoch 53/100\n",
            "\u001b[1m81/81\u001b[0m \u001b[32m━━━━━━━━━━━━━━━━━━━━\u001b[0m\u001b[37m\u001b[0m \u001b[1m0s\u001b[0m 2ms/step - loss: 0.0435 - mae: 0.2534 - rmse: 0.2864 - val_loss: 0.0398 - val_mae: 0.2457 - val_rmse: 0.2761 - learning_rate: 1.0000e-06\n",
            "Epoch 54/100\n",
            "\u001b[1m81/81\u001b[0m \u001b[32m━━━━━━━━━━━━━━━━━━━━\u001b[0m\u001b[37m\u001b[0m \u001b[1m0s\u001b[0m 3ms/step - loss: 0.0447 - mae: 0.2626 - rmse: 0.2907 - val_loss: 0.0398 - val_mae: 0.2457 - val_rmse: 0.2761 - learning_rate: 1.0000e-06\n",
            "Epoch 55/100\n",
            "\u001b[1m81/81\u001b[0m \u001b[32m━━━━━━━━━━━━━━━━━━━━\u001b[0m\u001b[37m\u001b[0m \u001b[1m0s\u001b[0m 3ms/step - loss: 0.0405 - mae: 0.2431 - rmse: 0.2718 - val_loss: 0.0398 - val_mae: 0.2457 - val_rmse: 0.2761 - learning_rate: 1.0000e-06\n",
            "Epoch 56/100\n",
            "\u001b[1m81/81\u001b[0m \u001b[32m━━━━━━━━━━━━━━━━━━━━\u001b[0m\u001b[37m\u001b[0m \u001b[1m0s\u001b[0m 2ms/step - loss: 0.0416 - mae: 0.2459 - rmse: 0.2804 - val_loss: 0.0398 - val_mae: 0.2457 - val_rmse: 0.2761 - learning_rate: 1.0000e-06\n",
            "Epoch 57/100\n",
            "\u001b[1m81/81\u001b[0m \u001b[32m━━━━━━━━━━━━━━━━━━━━\u001b[0m\u001b[37m\u001b[0m \u001b[1m0s\u001b[0m 2ms/step - loss: 0.0431 - mae: 0.2526 - rmse: 0.2840 - val_loss: 0.0398 - val_mae: 0.2457 - val_rmse: 0.2761 - learning_rate: 1.0000e-06\n",
            "Epoch 58/100\n",
            "\u001b[1m81/81\u001b[0m \u001b[32m━━━━━━━━━━━━━━━━━━━━\u001b[0m\u001b[37m\u001b[0m \u001b[1m0s\u001b[0m 2ms/step - loss: 0.0389 - mae: 0.2364 - rmse: 0.2709 - val_loss: 0.0398 - val_mae: 0.2457 - val_rmse: 0.2761 - learning_rate: 1.0000e-06\n",
            "Epoch 59/100\n",
            "\u001b[1m81/81\u001b[0m \u001b[32m━━━━━━━━━━━━━━━━━━━━\u001b[0m\u001b[37m\u001b[0m \u001b[1m0s\u001b[0m 3ms/step - loss: 0.0431 - mae: 0.2523 - rmse: 0.2855 - val_loss: 0.0398 - val_mae: 0.2457 - val_rmse: 0.2761 - learning_rate: 1.0000e-06\n",
            "Epoch 60/100\n",
            "\u001b[1m81/81\u001b[0m \u001b[32m━━━━━━━━━━━━━━━━━━━━\u001b[0m\u001b[37m\u001b[0m \u001b[1m0s\u001b[0m 2ms/step - loss: 0.0429 - mae: 0.2530 - rmse: 0.2823 - val_loss: 0.0398 - val_mae: 0.2457 - val_rmse: 0.2761 - learning_rate: 1.0000e-06\n",
            "Epoch 61/100\n",
            "\u001b[1m81/81\u001b[0m \u001b[32m━━━━━━━━━━━━━━━━━━━━\u001b[0m\u001b[37m\u001b[0m \u001b[1m0s\u001b[0m 2ms/step - loss: 0.0374 - mae: 0.2295 - rmse: 0.2645 - val_loss: 0.0398 - val_mae: 0.2457 - val_rmse: 0.2761 - learning_rate: 1.0000e-06\n",
            "Epoch 62/100\n",
            "\u001b[1m81/81\u001b[0m \u001b[32m━━━━━━━━━━━━━━━━━━━━\u001b[0m\u001b[37m\u001b[0m \u001b[1m0s\u001b[0m 2ms/step - loss: 0.0409 - mae: 0.2475 - rmse: 0.2763 - val_loss: 0.0398 - val_mae: 0.2457 - val_rmse: 0.2761 - learning_rate: 1.0000e-06\n",
            "Epoch 63/100\n",
            "\u001b[1m81/81\u001b[0m \u001b[32m━━━━━━━━━━━━━━━━━━━━\u001b[0m\u001b[37m\u001b[0m \u001b[1m0s\u001b[0m 2ms/step - loss: 0.0417 - mae: 0.2476 - rmse: 0.2769 - val_loss: 0.0398 - val_mae: 0.2457 - val_rmse: 0.2761 - learning_rate: 1.0000e-06\n",
            "Epoch 64/100\n",
            "\u001b[1m81/81\u001b[0m \u001b[32m━━━━━━━━━━━━━━━━━━━━\u001b[0m\u001b[37m\u001b[0m \u001b[1m0s\u001b[0m 2ms/step - loss: 0.0421 - mae: 0.2516 - rmse: 0.2797 - val_loss: 0.0398 - val_mae: 0.2457 - val_rmse: 0.2761 - learning_rate: 1.0000e-06\n",
            "Epoch 65/100\n",
            "\u001b[1m81/81\u001b[0m \u001b[32m━━━━━━━━━━━━━━━━━━━━\u001b[0m\u001b[37m\u001b[0m \u001b[1m0s\u001b[0m 2ms/step - loss: 0.0421 - mae: 0.2513 - rmse: 0.2822 - val_loss: 0.0398 - val_mae: 0.2457 - val_rmse: 0.2761 - learning_rate: 1.0000e-06\n",
            "Epoch 66/100\n",
            "\u001b[1m81/81\u001b[0m \u001b[32m━━━━━━━━━━━━━━━━━━━━\u001b[0m\u001b[37m\u001b[0m \u001b[1m0s\u001b[0m 2ms/step - loss: 0.0397 - mae: 0.2391 - rmse: 0.2741 - val_loss: 0.0398 - val_mae: 0.2457 - val_rmse: 0.2761 - learning_rate: 1.0000e-06\n",
            "Epoch 67/100\n",
            "\u001b[1m81/81\u001b[0m \u001b[32m━━━━━━━━━━━━━━━━━━━━\u001b[0m\u001b[37m\u001b[0m \u001b[1m0s\u001b[0m 2ms/step - loss: 0.0416 - mae: 0.2469 - rmse: 0.2814 - val_loss: 0.0398 - val_mae: 0.2457 - val_rmse: 0.2761 - learning_rate: 1.0000e-06\n",
            "Epoch 68/100\n",
            "\u001b[1m81/81\u001b[0m \u001b[32m━━━━━━━━━━━━━━━━━━━━\u001b[0m\u001b[37m\u001b[0m \u001b[1m0s\u001b[0m 3ms/step - loss: 0.0434 - mae: 0.2554 - rmse: 0.2842 - val_loss: 0.0398 - val_mae: 0.2457 - val_rmse: 0.2761 - learning_rate: 1.0000e-06\n",
            "Epoch 69/100\n",
            "\u001b[1m81/81\u001b[0m \u001b[32m━━━━━━━━━━━━━━━━━━━━\u001b[0m\u001b[37m\u001b[0m \u001b[1m0s\u001b[0m 3ms/step - loss: 0.0417 - mae: 0.2456 - rmse: 0.2781 - val_loss: 0.0398 - val_mae: 0.2457 - val_rmse: 0.2761 - learning_rate: 1.0000e-06\n",
            "Epoch 70/100\n",
            "\u001b[1m81/81\u001b[0m \u001b[32m━━━━━━━━━━━━━━━━━━━━\u001b[0m\u001b[37m\u001b[0m \u001b[1m0s\u001b[0m 2ms/step - loss: 0.0430 - mae: 0.2513 - rmse: 0.2853 - val_loss: 0.0398 - val_mae: 0.2457 - val_rmse: 0.2761 - learning_rate: 1.0000e-06\n",
            "Epoch 71/100\n",
            "\u001b[1m81/81\u001b[0m \u001b[32m━━━━━━━━━━━━━━━━━━━━\u001b[0m\u001b[37m\u001b[0m \u001b[1m0s\u001b[0m 3ms/step - loss: 0.0457 - mae: 0.2622 - rmse: 0.2929 - val_loss: 0.0398 - val_mae: 0.2457 - val_rmse: 0.2761 - learning_rate: 1.0000e-06\n",
            "Epoch 72/100\n",
            "\u001b[1m81/81\u001b[0m \u001b[32m━━━━━━━━━━━━━━━━━━━━\u001b[0m\u001b[37m\u001b[0m \u001b[1m0s\u001b[0m 2ms/step - loss: 0.0442 - mae: 0.2568 - rmse: 0.2880 - val_loss: 0.0398 - val_mae: 0.2457 - val_rmse: 0.2761 - learning_rate: 1.0000e-06\n",
            "Epoch 73/100\n",
            "\u001b[1m81/81\u001b[0m \u001b[32m━━━━━━━━━━━━━━━━━━━━\u001b[0m\u001b[37m\u001b[0m \u001b[1m0s\u001b[0m 3ms/step - loss: 0.0445 - mae: 0.2589 - rmse: 0.2909 - val_loss: 0.0398 - val_mae: 0.2457 - val_rmse: 0.2761 - learning_rate: 1.0000e-06\n",
            "Epoch 74/100\n",
            "\u001b[1m81/81\u001b[0m \u001b[32m━━━━━━━━━━━━━━━━━━━━\u001b[0m\u001b[37m\u001b[0m \u001b[1m0s\u001b[0m 2ms/step - loss: 0.0423 - mae: 0.2517 - rmse: 0.2854 - val_loss: 0.0398 - val_mae: 0.2457 - val_rmse: 0.2761 - learning_rate: 1.0000e-06\n",
            "Epoch 75/100\n",
            "\u001b[1m81/81\u001b[0m \u001b[32m━━━━━━━━━━━━━━━━━━━━\u001b[0m\u001b[37m\u001b[0m \u001b[1m0s\u001b[0m 3ms/step - loss: 0.0429 - mae: 0.2533 - rmse: 0.2838 - val_loss: 0.0398 - val_mae: 0.2457 - val_rmse: 0.2761 - learning_rate: 1.0000e-06\n",
            "Epoch 76/100\n",
            "\u001b[1m81/81\u001b[0m \u001b[32m━━━━━━━━━━━━━━━━━━━━\u001b[0m\u001b[37m\u001b[0m \u001b[1m0s\u001b[0m 4ms/step - loss: 0.0395 - mae: 0.2410 - rmse: 0.2735 - val_loss: 0.0398 - val_mae: 0.2457 - val_rmse: 0.2761 - learning_rate: 1.0000e-06\n",
            "Epoch 77/100\n",
            "\u001b[1m81/81\u001b[0m \u001b[32m━━━━━━━━━━━━━━━━━━━━\u001b[0m\u001b[37m\u001b[0m \u001b[1m1s\u001b[0m 3ms/step - loss: 0.0421 - mae: 0.2464 - rmse: 0.2791 - val_loss: 0.0398 - val_mae: 0.2457 - val_rmse: 0.2761 - learning_rate: 1.0000e-06\n",
            "Epoch 78/100\n",
            "\u001b[1m81/81\u001b[0m \u001b[32m━━━━━━━━━━━━━━━━━━━━\u001b[0m\u001b[37m\u001b[0m \u001b[1m1s\u001b[0m 3ms/step - loss: 0.0440 - mae: 0.2568 - rmse: 0.2861 - val_loss: 0.0398 - val_mae: 0.2457 - val_rmse: 0.2761 - learning_rate: 1.0000e-06\n",
            "Epoch 79/100\n",
            "\u001b[1m81/81\u001b[0m \u001b[32m━━━━━━━━━━━━━━━━━━━━\u001b[0m\u001b[37m\u001b[0m \u001b[1m0s\u001b[0m 3ms/step - loss: 0.0416 - mae: 0.2461 - rmse: 0.2794 - val_loss: 0.0398 - val_mae: 0.2457 - val_rmse: 0.2761 - learning_rate: 1.0000e-06\n",
            "Epoch 80/100\n",
            "\u001b[1m81/81\u001b[0m \u001b[32m━━━━━━━━━━━━━━━━━━━━\u001b[0m\u001b[37m\u001b[0m \u001b[1m0s\u001b[0m 4ms/step - loss: 0.0439 - mae: 0.2552 - rmse: 0.2858 - val_loss: 0.0398 - val_mae: 0.2457 - val_rmse: 0.2761 - learning_rate: 1.0000e-06\n",
            "Epoch 81/100\n",
            "\u001b[1m81/81\u001b[0m \u001b[32m━━━━━━━━━━━━━━━━━━━━\u001b[0m\u001b[37m\u001b[0m \u001b[1m0s\u001b[0m 2ms/step - loss: 0.0450 - mae: 0.2587 - rmse: 0.2890 - val_loss: 0.0398 - val_mae: 0.2457 - val_rmse: 0.2761 - learning_rate: 1.0000e-06\n",
            "Epoch 82/100\n",
            "\u001b[1m81/81\u001b[0m \u001b[32m━━━━━━━━━━━━━━━━━━━━\u001b[0m\u001b[37m\u001b[0m \u001b[1m0s\u001b[0m 3ms/step - loss: 0.0445 - mae: 0.2578 - rmse: 0.2913 - val_loss: 0.0398 - val_mae: 0.2457 - val_rmse: 0.2761 - learning_rate: 1.0000e-06\n",
            "Epoch 83/100\n",
            "\u001b[1m81/81\u001b[0m \u001b[32m━━━━━━━━━━━━━━━━━━━━\u001b[0m\u001b[37m\u001b[0m \u001b[1m0s\u001b[0m 2ms/step - loss: 0.0425 - mae: 0.2520 - rmse: 0.2828 - val_loss: 0.0398 - val_mae: 0.2457 - val_rmse: 0.2761 - learning_rate: 1.0000e-06\n",
            "Epoch 84/100\n",
            "\u001b[1m81/81\u001b[0m \u001b[32m━━━━━━━━━━━━━━━━━━━━\u001b[0m\u001b[37m\u001b[0m \u001b[1m0s\u001b[0m 2ms/step - loss: 0.0457 - mae: 0.2650 - rmse: 0.2925 - val_loss: 0.0398 - val_mae: 0.2457 - val_rmse: 0.2761 - learning_rate: 1.0000e-06\n",
            "Epoch 85/100\n",
            "\u001b[1m81/81\u001b[0m \u001b[32m━━━━━━━━━━━━━━━━━━━━\u001b[0m\u001b[37m\u001b[0m \u001b[1m0s\u001b[0m 2ms/step - loss: 0.0479 - mae: 0.2712 - rmse: 0.3009 - val_loss: 0.0398 - val_mae: 0.2457 - val_rmse: 0.2761 - learning_rate: 1.0000e-06\n",
            "Epoch 86/100\n",
            "\u001b[1m81/81\u001b[0m \u001b[32m━━━━━━━━━━━━━━━━━━━━\u001b[0m\u001b[37m\u001b[0m \u001b[1m0s\u001b[0m 2ms/step - loss: 0.0409 - mae: 0.2479 - rmse: 0.2764 - val_loss: 0.0398 - val_mae: 0.2457 - val_rmse: 0.2761 - learning_rate: 1.0000e-06\n",
            "Epoch 87/100\n",
            "\u001b[1m81/81\u001b[0m \u001b[32m━━━━━━━━━━━━━━━━━━━━\u001b[0m\u001b[37m\u001b[0m \u001b[1m0s\u001b[0m 3ms/step - loss: 0.0443 - mae: 0.2552 - rmse: 0.2860 - val_loss: 0.0398 - val_mae: 0.2457 - val_rmse: 0.2761 - learning_rate: 1.0000e-06\n",
            "Epoch 88/100\n",
            "\u001b[1m81/81\u001b[0m \u001b[32m━━━━━━━━━━━━━━━━━━━━\u001b[0m\u001b[37m\u001b[0m \u001b[1m0s\u001b[0m 3ms/step - loss: 0.0400 - mae: 0.2394 - rmse: 0.2709 - val_loss: 0.0398 - val_mae: 0.2457 - val_rmse: 0.2761 - learning_rate: 1.0000e-06\n",
            "Epoch 89/100\n",
            "\u001b[1m81/81\u001b[0m \u001b[32m━━━━━━━━━━━━━━━━━━━━\u001b[0m\u001b[37m\u001b[0m \u001b[1m0s\u001b[0m 3ms/step - loss: 0.0436 - mae: 0.2545 - rmse: 0.2844 - val_loss: 0.0398 - val_mae: 0.2457 - val_rmse: 0.2761 - learning_rate: 1.0000e-06\n",
            "Epoch 90/100\n",
            "\u001b[1m81/81\u001b[0m \u001b[32m━━━━━━━━━━━━━━━━━━━━\u001b[0m\u001b[37m\u001b[0m \u001b[1m0s\u001b[0m 2ms/step - loss: 0.0455 - mae: 0.2628 - rmse: 0.2926 - val_loss: 0.0398 - val_mae: 0.2457 - val_rmse: 0.2761 - learning_rate: 1.0000e-06\n",
            "Epoch 91/100\n",
            "\u001b[1m81/81\u001b[0m \u001b[32m━━━━━━━━━━━━━━━━━━━━\u001b[0m\u001b[37m\u001b[0m \u001b[1m0s\u001b[0m 3ms/step - loss: 0.0440 - mae: 0.2566 - rmse: 0.2867 - val_loss: 0.0398 - val_mae: 0.2457 - val_rmse: 0.2761 - learning_rate: 1.0000e-06\n",
            "Epoch 92/100\n",
            "\u001b[1m81/81\u001b[0m \u001b[32m━━━━━━━━━━━━━━━━━━━━\u001b[0m\u001b[37m\u001b[0m \u001b[1m0s\u001b[0m 2ms/step - loss: 0.0396 - mae: 0.2429 - rmse: 0.2723 - val_loss: 0.0398 - val_mae: 0.2457 - val_rmse: 0.2761 - learning_rate: 1.0000e-06\n",
            "Epoch 93/100\n",
            "\u001b[1m81/81\u001b[0m \u001b[32m━━━━━━━━━━━━━━━━━━━━\u001b[0m\u001b[37m\u001b[0m \u001b[1m0s\u001b[0m 3ms/step - loss: 0.0416 - mae: 0.2469 - rmse: 0.2793 - val_loss: 0.0398 - val_mae: 0.2457 - val_rmse: 0.2761 - learning_rate: 1.0000e-06\n",
            "Epoch 94/100\n",
            "\u001b[1m81/81\u001b[0m \u001b[32m━━━━━━━━━━━━━━━━━━━━\u001b[0m\u001b[37m\u001b[0m \u001b[1m0s\u001b[0m 3ms/step - loss: 0.0414 - mae: 0.2477 - rmse: 0.2779 - val_loss: 0.0398 - val_mae: 0.2457 - val_rmse: 0.2761 - learning_rate: 1.0000e-06\n",
            "Epoch 95/100\n",
            "\u001b[1m81/81\u001b[0m \u001b[32m━━━━━━━━━━━━━━━━━━━━\u001b[0m\u001b[37m\u001b[0m \u001b[1m0s\u001b[0m 3ms/step - loss: 0.0438 - mae: 0.2552 - rmse: 0.2866 - val_loss: 0.0398 - val_mae: 0.2457 - val_rmse: 0.2761 - learning_rate: 1.0000e-06\n",
            "Epoch 96/100\n",
            "\u001b[1m81/81\u001b[0m \u001b[32m━━━━━━━━━━━━━━━━━━━━\u001b[0m\u001b[37m\u001b[0m \u001b[1m0s\u001b[0m 3ms/step - loss: 0.0407 - mae: 0.2474 - rmse: 0.2760 - val_loss: 0.0398 - val_mae: 0.2457 - val_rmse: 0.2761 - learning_rate: 1.0000e-06\n",
            "Epoch 97/100\n",
            "\u001b[1m81/81\u001b[0m \u001b[32m━━━━━━━━━━━━━━━━━━━━\u001b[0m\u001b[37m\u001b[0m \u001b[1m0s\u001b[0m 2ms/step - loss: 0.0450 - mae: 0.2585 - rmse: 0.2913 - val_loss: 0.0398 - val_mae: 0.2457 - val_rmse: 0.2761 - learning_rate: 1.0000e-06\n",
            "Epoch 98/100\n",
            "\u001b[1m81/81\u001b[0m \u001b[32m━━━━━━━━━━━━━━━━━━━━\u001b[0m\u001b[37m\u001b[0m \u001b[1m0s\u001b[0m 3ms/step - loss: 0.0424 - mae: 0.2558 - rmse: 0.2836 - val_loss: 0.0398 - val_mae: 0.2457 - val_rmse: 0.2761 - learning_rate: 1.0000e-06\n",
            "Epoch 99/100\n",
            "\u001b[1m81/81\u001b[0m \u001b[32m━━━━━━━━━━━━━━━━━━━━\u001b[0m\u001b[37m\u001b[0m \u001b[1m0s\u001b[0m 3ms/step - loss: 0.0396 - mae: 0.2422 - rmse: 0.2716 - val_loss: 0.0398 - val_mae: 0.2457 - val_rmse: 0.2761 - learning_rate: 1.0000e-06\n",
            "Epoch 100/100\n",
            "\u001b[1m81/81\u001b[0m \u001b[32m━━━━━━━━━━━━━━━━━━━━\u001b[0m\u001b[37m\u001b[0m \u001b[1m0s\u001b[0m 3ms/step - loss: 0.0429 - mae: 0.2529 - rmse: 0.2847 - val_loss: 0.0398 - val_mae: 0.2457 - val_rmse: 0.2761 - learning_rate: 1.0000e-06\n"
          ]
        }
      ],
      "source": [
        "# Split dataset 80% test 20% validation\n",
        "train_X, test_X, y_train, y_test = train_test_split(X, y, test_size=0.2, random_state=42)\n",
        "# Augment data by adding noise (for training set)\n",
        "train_X_noisy = train_X + np.random.normal(0, 0.01, train_X.shape)\n",
        "# Bangun model\n",
        "model = tf.keras.Sequential([\n",
        "    tf.keras.layers.Input(shape=(train_X.shape[1],)),\n",
        "    tf.keras.layers.Dense(12, activation='relu', kernel_regularizer=l2(0.001)),  # Simplified\n",
        "    tf.keras.layers.Dropout(0.1),  # Lower dropout\n",
        "    tf.keras.layers.Dense(6, activation='relu', kernel_regularizer=l2(0.001)),  # Reduced neurons\n",
        "    tf.keras.layers.Dense(1, activation='sigmoid')  # Sigmoid for binary output\n",
        "])\n",
        "\n",
        "# Definisikan metric RMSE\n",
        "def rmse(y_true, y_pred):\n",
        "    return K.sqrt(K.mean(K.square(y_true - y_pred)))\n",
        "\n",
        "# Compile model\n",
        "huber_loss = Huber(delta=1.0)\n",
        "model.compile(optimizer=Adam(learning_rate=0.0005), loss=huber_loss, metrics=['mae', rmse])\n",
        "\n",
        "# Callbacks: Early Stopping and Learning Rate Scheduler\n",
        "early_stopping = EarlyStopping(\n",
        "    monitor='val_loss',\n",
        "    patience=5,  # Reduced patience\n",
        "    restore_best_weights=True\n",
        ")\n",
        "\n",
        "lr_scheduler = ReduceLROnPlateau(\n",
        "    monitor='val_loss',\n",
        "    factor=0.1,  # More aggressive reduction\n",
        "    patience=2,\n",
        "    min_lr=1e-6\n",
        ")\n",
        "\n",
        "# Train model\n",
        "history = model.fit(\n",
        "    train_X_noisy, y_train,  # Use augmented data for training\n",
        "    validation_split=0.2,  # Use 20% of training data for validation\n",
        "    epochs=100,  # Start with more epochs and rely on early stopping\n",
        "    batch_size=4,  # Smaller batch size for better performance with small data\n",
        "    shuffle=True,\n",
        "    callbacks=[early_stopping, lr_scheduler]\n",
        ")\n"
      ]
    },
    {
      "cell_type": "code",
      "execution_count": null,
      "metadata": {
        "colab": {
          "base_uri": "https://localhost:8080/",
          "height": 273
        },
        "id": "0ACLAyF-hUIQ",
        "outputId": "a8799056-ae12-47e6-ca03-cf0cbd56117c"
      },
      "outputs": [
        {
          "output_type": "display_data",
          "data": {
            "text/plain": [
              "\u001b[1mModel: \"sequential_8\"\u001b[0m\n"
            ],
            "text/html": [
              "<pre style=\"white-space:pre;overflow-x:auto;line-height:normal;font-family:Menlo,'DejaVu Sans Mono',consolas,'Courier New',monospace\"><span style=\"font-weight: bold\">Model: \"sequential_8\"</span>\n",
              "</pre>\n"
            ]
          },
          "metadata": {}
        },
        {
          "output_type": "display_data",
          "data": {
            "text/plain": [
              "┏━━━━━━━━━━━━━━━━━━━━━━━━━━━━━━━━━━━━━━┳━━━━━━━━━━━━━━━━━━━━━━━━━━━━━┳━━━━━━━━━━━━━━━━━┓\n",
              "┃\u001b[1m \u001b[0m\u001b[1mLayer (type)                        \u001b[0m\u001b[1m \u001b[0m┃\u001b[1m \u001b[0m\u001b[1mOutput Shape               \u001b[0m\u001b[1m \u001b[0m┃\u001b[1m \u001b[0m\u001b[1m        Param #\u001b[0m\u001b[1m \u001b[0m┃\n",
              "┡━━━━━━━━━━━━━━━━━━━━━━━━━━━━━━━━━━━━━━╇━━━━━━━━━━━━━━━━━━━━━━━━━━━━━╇━━━━━━━━━━━━━━━━━┩\n",
              "│ dense_24 (\u001b[38;5;33mDense\u001b[0m)                     │ (\u001b[38;5;45mNone\u001b[0m, \u001b[38;5;34m12\u001b[0m)                  │             \u001b[38;5;34m132\u001b[0m │\n",
              "├──────────────────────────────────────┼─────────────────────────────┼─────────────────┤\n",
              "│ dropout_8 (\u001b[38;5;33mDropout\u001b[0m)                  │ (\u001b[38;5;45mNone\u001b[0m, \u001b[38;5;34m12\u001b[0m)                  │               \u001b[38;5;34m0\u001b[0m │\n",
              "├──────────────────────────────────────┼─────────────────────────────┼─────────────────┤\n",
              "│ dense_25 (\u001b[38;5;33mDense\u001b[0m)                     │ (\u001b[38;5;45mNone\u001b[0m, \u001b[38;5;34m6\u001b[0m)                   │              \u001b[38;5;34m78\u001b[0m │\n",
              "├──────────────────────────────────────┼─────────────────────────────┼─────────────────┤\n",
              "│ dense_26 (\u001b[38;5;33mDense\u001b[0m)                     │ (\u001b[38;5;45mNone\u001b[0m, \u001b[38;5;34m1\u001b[0m)                   │               \u001b[38;5;34m7\u001b[0m │\n",
              "└──────────────────────────────────────┴─────────────────────────────┴─────────────────┘\n"
            ],
            "text/html": [
              "<pre style=\"white-space:pre;overflow-x:auto;line-height:normal;font-family:Menlo,'DejaVu Sans Mono',consolas,'Courier New',monospace\">┏━━━━━━━━━━━━━━━━━━━━━━━━━━━━━━━━━━━━━━┳━━━━━━━━━━━━━━━━━━━━━━━━━━━━━┳━━━━━━━━━━━━━━━━━┓\n",
              "┃<span style=\"font-weight: bold\"> Layer (type)                         </span>┃<span style=\"font-weight: bold\"> Output Shape                </span>┃<span style=\"font-weight: bold\">         Param # </span>┃\n",
              "┡━━━━━━━━━━━━━━━━━━━━━━━━━━━━━━━━━━━━━━╇━━━━━━━━━━━━━━━━━━━━━━━━━━━━━╇━━━━━━━━━━━━━━━━━┩\n",
              "│ dense_24 (<span style=\"color: #0087ff; text-decoration-color: #0087ff\">Dense</span>)                     │ (<span style=\"color: #00d7ff; text-decoration-color: #00d7ff\">None</span>, <span style=\"color: #00af00; text-decoration-color: #00af00\">12</span>)                  │             <span style=\"color: #00af00; text-decoration-color: #00af00\">132</span> │\n",
              "├──────────────────────────────────────┼─────────────────────────────┼─────────────────┤\n",
              "│ dropout_8 (<span style=\"color: #0087ff; text-decoration-color: #0087ff\">Dropout</span>)                  │ (<span style=\"color: #00d7ff; text-decoration-color: #00d7ff\">None</span>, <span style=\"color: #00af00; text-decoration-color: #00af00\">12</span>)                  │               <span style=\"color: #00af00; text-decoration-color: #00af00\">0</span> │\n",
              "├──────────────────────────────────────┼─────────────────────────────┼─────────────────┤\n",
              "│ dense_25 (<span style=\"color: #0087ff; text-decoration-color: #0087ff\">Dense</span>)                     │ (<span style=\"color: #00d7ff; text-decoration-color: #00d7ff\">None</span>, <span style=\"color: #00af00; text-decoration-color: #00af00\">6</span>)                   │              <span style=\"color: #00af00; text-decoration-color: #00af00\">78</span> │\n",
              "├──────────────────────────────────────┼─────────────────────────────┼─────────────────┤\n",
              "│ dense_26 (<span style=\"color: #0087ff; text-decoration-color: #0087ff\">Dense</span>)                     │ (<span style=\"color: #00d7ff; text-decoration-color: #00d7ff\">None</span>, <span style=\"color: #00af00; text-decoration-color: #00af00\">1</span>)                   │               <span style=\"color: #00af00; text-decoration-color: #00af00\">7</span> │\n",
              "└──────────────────────────────────────┴─────────────────────────────┴─────────────────┘\n",
              "</pre>\n"
            ]
          },
          "metadata": {}
        },
        {
          "output_type": "display_data",
          "data": {
            "text/plain": [
              "\u001b[1m Total params: \u001b[0m\u001b[38;5;34m653\u001b[0m (2.55 KB)\n"
            ],
            "text/html": [
              "<pre style=\"white-space:pre;overflow-x:auto;line-height:normal;font-family:Menlo,'DejaVu Sans Mono',consolas,'Courier New',monospace\"><span style=\"font-weight: bold\"> Total params: </span><span style=\"color: #00af00; text-decoration-color: #00af00\">653</span> (2.55 KB)\n",
              "</pre>\n"
            ]
          },
          "metadata": {}
        },
        {
          "output_type": "display_data",
          "data": {
            "text/plain": [
              "\u001b[1m Trainable params: \u001b[0m\u001b[38;5;34m217\u001b[0m (868.00 B)\n"
            ],
            "text/html": [
              "<pre style=\"white-space:pre;overflow-x:auto;line-height:normal;font-family:Menlo,'DejaVu Sans Mono',consolas,'Courier New',monospace\"><span style=\"font-weight: bold\"> Trainable params: </span><span style=\"color: #00af00; text-decoration-color: #00af00\">217</span> (868.00 B)\n",
              "</pre>\n"
            ]
          },
          "metadata": {}
        },
        {
          "output_type": "display_data",
          "data": {
            "text/plain": [
              "\u001b[1m Non-trainable params: \u001b[0m\u001b[38;5;34m0\u001b[0m (0.00 B)\n"
            ],
            "text/html": [
              "<pre style=\"white-space:pre;overflow-x:auto;line-height:normal;font-family:Menlo,'DejaVu Sans Mono',consolas,'Courier New',monospace\"><span style=\"font-weight: bold\"> Non-trainable params: </span><span style=\"color: #00af00; text-decoration-color: #00af00\">0</span> (0.00 B)\n",
              "</pre>\n"
            ]
          },
          "metadata": {}
        },
        {
          "output_type": "display_data",
          "data": {
            "text/plain": [
              "\u001b[1m Optimizer params: \u001b[0m\u001b[38;5;34m436\u001b[0m (1.71 KB)\n"
            ],
            "text/html": [
              "<pre style=\"white-space:pre;overflow-x:auto;line-height:normal;font-family:Menlo,'DejaVu Sans Mono',consolas,'Courier New',monospace\"><span style=\"font-weight: bold\"> Optimizer params: </span><span style=\"color: #00af00; text-decoration-color: #00af00\">436</span> (1.71 KB)\n",
              "</pre>\n"
            ]
          },
          "metadata": {}
        }
      ],
      "source": [
        "# Display summary model\n",
        "model.summary()"
      ]
    },
    {
      "cell_type": "code",
      "execution_count": null,
      "metadata": {
        "colab": {
          "base_uri": "https://localhost:8080/",
          "height": 957
        },
        "id": "y4GxdLbthW8Q",
        "outputId": "0b448979-e4fc-4ccd-b8d9-1d9a06072e3e"
      },
      "outputs": [
        {
          "output_type": "display_data",
          "data": {
            "text/plain": [
              "<Figure size 1000x500 with 1 Axes>"
            ],
            "image/png": "[encoded data removed]"
          },
          "metadata": {}
        },
        {
          "output_type": "display_data",
          "data": {
            "text/plain": [
              "<Figure size 1000x500 with 1 Axes>"
            ],
            "image/png": "[encoded data removed]"
          },
          "metadata": {}
        }
      ],
      "source": [
        "# Plot training and validation loss\n",
        "plt.figure(figsize=(10, 5))\n",
        "plt.plot(history.history['loss'], label='Training Loss')\n",
        "plt.plot(history.history['val_loss'], label='Validation Loss')\n",
        "plt.title('Model Loss')\n",
        "plt.xlabel('Epochs')\n",
        "plt.ylabel('Loss')\n",
        "plt.legend()\n",
        "plt.show()\n",
        "\n",
        "# Plot training and validation RMSE\n",
        "plt.figure(figsize=(10, 5))\n",
        "plt.plot(history.history['rmse'], label='Training RMSE')\n",
        "plt.plot(history.history['val_rmse'], label='Validation RMSE')\n",
        "plt.title('Model RMSE')\n",
        "plt.xlabel('Epochs')\n",
        "plt.ylabel('RMSE')\n",
        "plt.legend()\n",
        "plt.show()"
      ]
    },
    {
      "cell_type": "markdown",
      "metadata": {
        "id": "lU-o9ajtPWIW"
      },
      "source": [
        "## Fungsi untuk preproses input dan menampilkan output rekomendasi berdasarkan filter"
      ]
    },
    {
      "cell_type": "code",
      "execution_count": null,
      "metadata": {
        "id": "_HxqKK8blTZ4"
      },
      "outputs": [],
      "source": [
        "# fungsi untuk mengolah input agar format sesuai dengan model\n",
        "def preprocess_user_input(user_input):\n",
        "    # Buat DataFrame dari input pengguna\n",
        "    user_df = pd.DataFrame([{\n",
        "        \"price_wna\": user_input[\"max_price\"],\n",
        "        \"rating\": user_input[\"min_rating\"]\n",
        "    }])\n",
        "\n",
        "    # Normalisasi input pengguna menggunakan scaler\n",
        "    normalized_input = scaler.transform(user_df)\n",
        "\n",
        "    # Encode kategori dan kota\n",
        "    user_city = encoder_city.transform([[user_input['city']]])\n",
        "\n",
        "    # Gabungkan semua fitur\n",
        "    user_vector = np.hstack((user_city, normalized_input))\n",
        "\n",
        "    return user_vector\n"
      ]
    },
    {
      "cell_type": "code",
      "execution_count": null,
      "metadata": {
        "id": "l-onA1Qm3Rev"
      },
      "outputs": [],
      "source": [
        "# Fungsi untuk menampilkan top 5 rekomendasi berdasarkan input user\n",
        "def recommend(user_input, top_n=5):\n",
        "    # Preproses input pengguna\n",
        "    user_input_vector = preprocess_user_input(user_input)\n",
        "\n",
        "    # Prediksi score untuk masing-masing data\n",
        "    scores = model.predict(X)\n",
        "    data['score'] = scores.flatten()\n",
        "\n",
        "    # Normalisasi nilai filter dari input pengguna\n",
        "    user_df = pd.DataFrame([{\n",
        "        \"price_wna\": user_input[\"max_price\"],\n",
        "        \"rating\": user_input[\"min_rating\"]\n",
        "    }])\n",
        "    normalized_input = scaler.transform(user_df)\n",
        "    max_price_scaled, min_rating_scaled = normalized_input[0]\n",
        "\n",
        "    # Filter data berdasarkan kriteria pengguna\n",
        "    filtered_data = data[\n",
        "        (data['rating'] >= min_rating_scaled) &\n",
        "        (data['price_wna'] <= max_price_scaled) &\n",
        "        (data['city'] == user_input['city'])  # Filter berdasarkan kota\n",
        "    ]\n",
        "\n",
        "    # Kembalikan nilai rating dan price_wna ke skala asli\n",
        "    if not filtered_data.empty:\n",
        "        filtered_data[['price_wna', 'rating']] = scaler.inverse_transform(\n",
        "            filtered_data[['price_wna', 'rating']]\n",
        "        )\n",
        "\n",
        "    # Ambil rekomendasi top-N\n",
        "    if not filtered_data.empty:\n",
        "        recommendations = filtered_data.nlargest(top_n, 'score')\n",
        "    else:\n",
        "        print(\"No recommendations found based on the given criteria.\")\n",
        "        recommendations = pd.DataFrame()  # DataFrame kosong jika tidak ada rekomendasi\n",
        "\n",
        "    # Pilih kolom yang relevan untuk output\n",
        "    selected_columns = ['name', 'rating', 'price_wna', 'city']\n",
        "    available_columns = recommendations.columns.tolist()\n",
        "    selected_columns = [col for col in selected_columns if col in available_columns]\n",
        "\n",
        "    return recommendations[selected_columns]\n"
      ]
    },
    {
      "cell_type": "markdown",
      "metadata": {
        "id": "j7ftIkGCPmcy"
      },
      "source": [
        "## Penggunaan input untuk rekomendasi berdasarkan filter"
      ]
    },
    {
      "cell_type": "code",
      "execution_count": null,
      "metadata": {
        "id": "RgOPP0CElcYU",
        "colab": {
          "base_uri": "https://localhost:8080/"
        },
        "outputId": "91f61f0a-bca0-4e5a-937b-4d3d620b0760"
      },
      "outputs": [
        {
          "output_type": "stream",
          "name": "stdout",
          "text": [
            "Enter the city you want to go to : Badung\n",
            "Enter the minimum rating (0.0-5.0): 4\n",
            "Enter the maximum ticket price (IDR) : 40000000\n",
            "\u001b[1m 1/16\u001b[0m \u001b[32m━\u001b[0m\u001b[37m━━━━━━━━━━━━━━━━━━━\u001b[0m \u001b[1m1s\u001b[0m 96ms/step"
          ]
        },
        {
          "output_type": "stream",
          "name": "stderr",
          "text": [
            "/usr/local/lib/python3.10/dist-packages/sklearn/base.py:493: UserWarning: X does not have valid feature names, but OneHotEncoder was fitted with feature names\n",
            "  warnings.warn(\n"
          ]
        },
        {
          "output_type": "stream",
          "name": "stdout",
          "text": [
            "\u001b[1m16/16\u001b[0m \u001b[32m━━━━━━━━━━━━━━━━━━━━\u001b[0m\u001b[37m\u001b[0m \u001b[1m0s\u001b[0m 6ms/step\n",
            "                                  name  rating  price_wna    city\n",
            "0         The Anvaya Beach Resort Bali    4.45  5022000.0  Badung\n",
            "2  The Sakala Resort Bali - All Suites    4.25  2400000.0  Badung\n",
            "3         Discovery Kartika Plaza Bali    4.30  1733333.0  Badung\n",
            "4                   Hilton Bali Resort    4.35  3872000.0  Badung\n",
            "5                       The ONE Legian    4.25  1440000.0  Badung\n"
          ]
        },
        {
          "output_type": "stream",
          "name": "stderr",
          "text": [
            "<ipython-input-9-fea5fca2349f>:27: SettingWithCopyWarning: \n",
            "A value is trying to be set on a copy of a slice from a DataFrame.\n",
            "Try using .loc[row_indexer,col_indexer] = value instead\n",
            "\n",
            "See the caveats in the documentation: https://pandas.pydata.org/pandas-docs/stable/user_guide/indexing.html#returning-a-view-versus-a-copy\n",
            "  filtered_data[['price_wna', 'rating']] = scaler.inverse_transform(\n"
          ]
        }
      ],
      "source": [
        "# Input dari pengguna\n",
        "user_input = {\n",
        "    \"city\": input(\"Enter the city you want to go to : \"),            # Contoh: \"Denpasar\"\n",
        "    \"min_rating\": float(input(\"Enter the minimum rating (0.0-5.0): \")),  # Contoh: 4.0\n",
        "    \"max_price\": float(input(\"Enter the maximum ticket price (IDR) : \"))  # Contoh: 50000\n",
        "}\n",
        "\n",
        "# Tampilkan rekomendasi\n",
        "top_5_recommendations1 = recommend(user_input)\n",
        "print(top_5_recommendations1)"
      ]
    },
    {
      "cell_type": "markdown",
      "metadata": {
        "id": "K2O_LAESPoJj"
      },
      "source": [
        "## Fungsi untuk rekomendasi berdasarkan Akomodasi yang sebelumnya dikunjungi"
      ]
    },
    {
      "cell_type": "code",
      "execution_count": null,
      "metadata": {
        "id": "ErMSJrJK_6I5"
      },
      "outputs": [],
      "source": [
        "# fungsi untuk rekomendasi berdasarkan Akomodasi yang telah dikunjungi\n",
        "def recommend_similar_Akomodasi(Akomodasi_name, city_filter=None, max_price=None, top_n=5):\n",
        "    # Pastikan nama Akomodasi ada dalam data\n",
        "    if Akomodasi_name not in data['name'].values:\n",
        "        print(f\"Akomodasi '{Akomodasi_name}' tidak ditemukan dalam data.\")\n",
        "        return pd.DataFrame()\n",
        "\n",
        "    # Pilih fitur yang digunakan untuk perhitungan similarity\n",
        "    features = np.hstack((\n",
        "        encoded_city,\n",
        "        data[['price_wna', 'rating']].values\n",
        "    ))\n",
        "\n",
        "    # Ambil indeks Akomodasi yang diminta\n",
        "    Akomodasi_idx = data[data['name'] == Akomodasi_name].index[0]\n",
        "\n",
        "    # Hitung kesamaan menggunakan cosine similarity antara Akomodasi input dengan semua Akomodasi lainnya\n",
        "    similarity_scores = cosine_similarity(features[Akomodasi_idx].reshape(1, -1), features).flatten()\n",
        "\n",
        "    # Tambahkan skor kesamaan ke dalam DataFrame\n",
        "    data['similarity'] = similarity_scores\n",
        "\n",
        "    # Ubah tipe data max_price ke float jika tidak kosong\n",
        "    if max_price is not None:\n",
        "        max_price = float(max_price)\n",
        "\n",
        "    # Filter data jika ada city_filter atau max_price\n",
        "    filtered_data = data[data['name'] != Akomodasi_name]\n",
        "    if city_filter:\n",
        "        filtered_data = filtered_data[filtered_data['city'] == city_filter]\n",
        "    if max_price is not None:\n",
        "        # Normalisasi max_price untuk filter\n",
        "        max_price_scaled = scaler.transform([[max_price, 0]])[0][0]\n",
        "        filtered_data = filtered_data[filtered_data['price_wna'] <= max_price_scaled]\n",
        "\n",
        "    # Kembalikan nilai rating dan price_wna ke skala aslinya\n",
        "    if not filtered_data.empty:\n",
        "        filtered_data.loc[:, ['price_wna', 'rating']] = scaler.inverse_transform(\n",
        "            filtered_data[['price_wna', 'rating']]\n",
        "        )\n",
        "\n",
        "    # Urutkan berdasarkan skor similarity (descending) dan ambil top-N\n",
        "    recommendations = filtered_data.nlargest(top_n, 'similarity') if not filtered_data.empty else pd.DataFrame()\n",
        "\n",
        "    # Pilih kolom untuk ditampilkan\n",
        "    return recommendations[['name', 'rating', 'price_wna', 'city', 'similarity']]\n"
      ]
    },
    {
      "cell_type": "markdown",
      "metadata": {
        "id": "oOrCcfQlPugs"
      },
      "source": [
        "## Penggunaan input rekomendasi berdasarkan Akomodasi yang sebelumnya dikunjungi"
      ]
    },
    {
      "cell_type": "code",
      "execution_count": null,
      "metadata": {
        "id": "pqVusVFEA5CI",
        "colab": {
          "base_uri": "https://localhost:8080/"
        },
        "outputId": "87142bdb-e9ab-4d4c-feb9-8b55b20f7d95"
      },
      "outputs": [
        {
          "output_type": "stream",
          "name": "stdout",
          "text": [
            "Enter the name of destination you have already visited : The Anvaya Beach Resort Bali\n",
            "Enter the city you want to go to (optional): Badung\n",
            "Enter the maximum ticket price (optional): 50000000000\n",
            "                                    name  rating  price_wna    city  \\\n",
            "166  InterContinental Hotels BALI RESORT    4.45  5145998.0  Badung   \n",
            "43      Hotel Indigo BALI SEMINYAK BEACH    4.50  5096637.0  Badung   \n",
            "336               The Wolas Villas & Spa    4.40  4971285.0  Badung   \n",
            "76               Buana Bali Villas & Spa    4.45  5580000.0  Badung   \n",
            "286           The Seiryu Boutique Villas    4.40  4636979.0  Badung   \n",
            "\n",
            "     similarity  \n",
            "166    0.999993  \n",
            "43     0.999895  \n",
            "336    0.999889  \n",
            "76     0.999851  \n",
            "286    0.999837  \n"
          ]
        },
        {
          "output_type": "stream",
          "name": "stderr",
          "text": [
            "/usr/local/lib/python3.10/dist-packages/sklearn/base.py:493: UserWarning: X does not have valid feature names, but MinMaxScaler was fitted with feature names\n",
            "  warnings.warn(\n"
          ]
        }
      ],
      "source": [
        "# input dari user\n",
        "Akomodasi_name = input(\"Enter the name of destination you have already visited : \")\n",
        "city_filter = input(\"Enter the city you want to go to (optional): \") or None\n",
        "max_price = input(\"Enter the maximum ticket price (optional): \") or None\n",
        "\n",
        "# output\n",
        "top_5_recommendations = recommend_similar_Akomodasi(Akomodasi_name, city_filter=city_filter, max_price=max_price)\n",
        "print(top_5_recommendations)"
      ]
    }
  ],
  "metadata": {
    "colab": {
      "collapsed_sections": [
        "TL4cbP04Ig-5",
        "jimZXA0-Il_g",
        "-KjhcTpGJE7y"
      ],
      "provenance": []
    },
    "kernelspec": {
      "display_name": "Python 3",
      "name": "python3"
    },
    "language_info": {
      "name": "python"
    }
  },
  "nbformat": 4,
  "nbformat_minor": 0
}