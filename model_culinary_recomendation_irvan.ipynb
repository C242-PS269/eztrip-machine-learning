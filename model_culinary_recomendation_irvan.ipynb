{
 "cells": [
  {
   "cell_type": "markdown",
   "metadata": {
    "editable": true,
    "id": "-rjNJ6FXIKGP",
    "slideshow": {
     "slide_type": ""
    },
    "tags": []
   },
   "source": [
    "# Program ML Sistem Rekomendasi Tempat Kuliner dengan Content Based Filtering"
   ]
  },
  {
   "cell_type": "markdown",
   "metadata": {
    "id": "TL4cbP04Ig-5"
   },
   "source": [
    "## Library yang digunakan"
   ]
  },
  {
   "cell_type": "code",
   "execution_count": 1,
   "metadata": {
    "id": "eW9hB3Jyc601"
   },
   "outputs": [],
   "source": [
    "import pandas as pd\n",
    "import numpy as np\n",
    "from sklearn.preprocessing import MinMaxScaler, OneHotEncoder\n",
    "from sklearn.model_selection import train_test_split\n",
    "from tensorflow.keras.models import Sequential\n",
    "from tensorflow.keras.layers import Dense, Dropout\n",
    "from tensorflow.keras.losses import Huber\n",
    "import tensorflow.keras.backend as K\n",
    "import matplotlib.pyplot as plt\n",
    "import tensorflow as tf\n",
    "from sklearn.metrics.pairwise import cosine_similarity\n",
    "from tensorflow.keras.optimizers import Adam\n",
    "from tensorflow.keras.regularizers import l2\n",
    "from tensorflow.keras.callbacks import EarlyStopping, ReduceLROnPlateau"
   ]
  },
  {
   "cell_type": "markdown",
   "metadata": {
    "editable": true,
    "id": "jimZXA0-Il_g",
    "slideshow": {
     "slide_type": ""
    },
    "tags": []
   },
   "source": [
    "## Upload Dataset"
   ]
  },
  {
   "cell_type": "code",
   "execution_count": 3,
   "metadata": {
    "colab": {
     "base_uri": "https://localhost:8080/",
     "height": 608
    },
    "id": "ipCtITXhdJ9F",
    "outputId": "5f4ee58a-8b0f-48ef-b932-352cdbe0b10d"
   },
   "outputs": [
    {
     "data": {
      "text/html": [
       "<div>\n",
       "<style scoped>\n",
       "    .dataframe tbody tr th:only-of-type {\n",
       "        vertical-align: middle;\n",
       "    }\n",
       "\n",
       "    .dataframe tbody tr th {\n",
       "        vertical-align: top;\n",
       "    }\n",
       "\n",
       "    .dataframe thead th {\n",
       "        text-align: right;\n",
       "    }\n",
       "</style>\n",
       "<table border=\"1\" class=\"dataframe\">\n",
       "  <thead>\n",
       "    <tr style=\"text-align: right;\">\n",
       "      <th></th>\n",
       "      <th>Name</th>\n",
       "      <th>Kategori</th>\n",
       "      <th>Review</th>\n",
       "      <th>Banyak Rating</th>\n",
       "      <th>rating</th>\n",
       "      <th>priceTypes/items/0/secondaryName</th>\n",
       "      <th>Jalan</th>\n",
       "      <th>Kontak</th>\n",
       "      <th>Kecamatan</th>\n",
       "      <th>Kisaran Harga per Orang (IDR)</th>\n",
       "      <th>Kota/Kabupaten</th>\n",
       "    </tr>\n",
       "  </thead>\n",
       "  <tbody>\n",
       "    <tr>\n",
       "      <th>0</th>\n",
       "      <td>Kabana Ubud By K Club</td>\n",
       "      <td>Bar</td>\n",
       "      <td>Amazing lunch at Kabana!</td>\n",
       "      <td>411</td>\n",
       "      <td>5.0</td>\n",
       "      <td>$$ - $$$</td>\n",
       "      <td>Jalan Raya Cebok, Tegalalang 80561 Indonesia</td>\n",
       "      <td>+62 818-1812-6888</td>\n",
       "      <td>Tegalalang</td>\n",
       "      <td>300.0</td>\n",
       "      <td>Gianyar</td>\n",
       "    </tr>\n",
       "    <tr>\n",
       "      <th>1</th>\n",
       "      <td>Nautilus Seafood Restaurant &amp; Bar</td>\n",
       "      <td>Bar</td>\n",
       "      <td>10/10</td>\n",
       "      <td>26</td>\n",
       "      <td>5.0</td>\n",
       "      <td>$$ - $$$</td>\n",
       "      <td>Jl. Suweta No.80, Ubud, Ubud 80571 Indonesia</td>\n",
       "      <td>+62 813-7078-7888</td>\n",
       "      <td>Ubud</td>\n",
       "      <td>300.0</td>\n",
       "      <td>Gianyar</td>\n",
       "    </tr>\n",
       "    <tr>\n",
       "      <th>2</th>\n",
       "      <td>MoonLite Kitchen and Bar</td>\n",
       "      <td>Asian</td>\n",
       "      <td>... broth with lemongrass, ginger, ￹chili￻, ka...</td>\n",
       "      <td>2347</td>\n",
       "      <td>4.5</td>\n",
       "      <td>$$ - $$$</td>\n",
       "      <td>Jl. Abimanyu Jl. Dhyana Pura, Seminyak 80361 I...</td>\n",
       "      <td>+62 361 737773</td>\n",
       "      <td>Seminyak</td>\n",
       "      <td>300.0</td>\n",
       "      <td>Badung</td>\n",
       "    </tr>\n",
       "    <tr>\n",
       "      <th>3</th>\n",
       "      <td>The Power of Love - Samabe Cave Dining</td>\n",
       "      <td>Seafood</td>\n",
       "      <td>I especially loved the scallops, cod and ￹lobs...</td>\n",
       "      <td>598</td>\n",
       "      <td>5.0</td>\n",
       "      <td>$$$$</td>\n",
       "      <td>Jl. Pura Barong-Barong Sawangan, Nusa Dua, Ben...</td>\n",
       "      <td>+62 361 8468633</td>\n",
       "      <td>Nusa Dua</td>\n",
       "      <td>500.0</td>\n",
       "      <td>Badung</td>\n",
       "    </tr>\n",
       "    <tr>\n",
       "      <th>4</th>\n",
       "      <td>Koral Restaurant</td>\n",
       "      <td>International</td>\n",
       "      <td>Really Good Food, Good Ambience, Good Staff, G...</td>\n",
       "      <td>1380</td>\n",
       "      <td>5.0</td>\n",
       "      <td>$$$$</td>\n",
       "      <td>Jl. Raya Nusa Dua Selatan The Apurva Kempinski...</td>\n",
       "      <td>+62 361 2092288</td>\n",
       "      <td>Nusa Dua</td>\n",
       "      <td>500.0</td>\n",
       "      <td>Badung</td>\n",
       "    </tr>\n",
       "  </tbody>\n",
       "</table>\n",
       "</div>"
      ],
      "text/plain": [
       "                                     Name       Kategori  \\\n",
       "0                   Kabana Ubud By K Club            Bar   \n",
       "1       Nautilus Seafood Restaurant & Bar            Bar   \n",
       "2                MoonLite Kitchen and Bar          Asian   \n",
       "3  The Power of Love - Samabe Cave Dining        Seafood   \n",
       "4                        Koral Restaurant  International   \n",
       "\n",
       "                                              Review  Banyak Rating  rating  \\\n",
       "0                           Amazing lunch at Kabana!            411     5.0   \n",
       "1                                              10/10             26     5.0   \n",
       "2  ... broth with lemongrass, ginger, ￹chili￻, ka...           2347     4.5   \n",
       "3  I especially loved the scallops, cod and ￹lobs...            598     5.0   \n",
       "4  Really Good Food, Good Ambience, Good Staff, G...           1380     5.0   \n",
       "\n",
       "  priceTypes/items/0/secondaryName  \\\n",
       "0                         $$ - $$$   \n",
       "1                         $$ - $$$   \n",
       "2                         $$ - $$$   \n",
       "3                             $$$$   \n",
       "4                             $$$$   \n",
       "\n",
       "                                               Jalan             Kontak  \\\n",
       "0       Jalan Raya Cebok, Tegalalang 80561 Indonesia  +62 818-1812-6888   \n",
       "1       Jl. Suweta No.80, Ubud, Ubud 80571 Indonesia  +62 813-7078-7888   \n",
       "2  Jl. Abimanyu Jl. Dhyana Pura, Seminyak 80361 I...     +62 361 737773   \n",
       "3  Jl. Pura Barong-Barong Sawangan, Nusa Dua, Ben...    +62 361 8468633   \n",
       "4  Jl. Raya Nusa Dua Selatan The Apurva Kempinski...    +62 361 2092288   \n",
       "\n",
       "    Kecamatan  Kisaran Harga per Orang (IDR) Kota/Kabupaten  \n",
       "0  Tegalalang                          300.0        Gianyar  \n",
       "1        Ubud                          300.0        Gianyar  \n",
       "2    Seminyak                          300.0         Badung  \n",
       "3    Nusa Dua                          500.0         Badung  \n",
       "4    Nusa Dua                          500.0         Badung  "
      ]
     },
     "execution_count": 3,
     "metadata": {},
     "output_type": "execute_result"
    }
   ],
   "source": [
    "# Load dataset\n",
    "file_path = 'Kuliner.xlsx'\n",
    "df = pd.read_excel(file_path, sheet_name='Data')\n",
    "df.head()"
   ]
  },
  {
   "cell_type": "code",
   "execution_count": 4,
   "metadata": {
    "editable": true,
    "id": "C-GHASZVgdul",
    "slideshow": {
     "slide_type": ""
    },
    "tags": []
   },
   "outputs": [],
   "source": [
    "# Pilih kolom yang digunakan\n",
    "selected_columns = {\n",
    "    \"Name\": \"name\",\n",
    "    \"Rating\": \"rating\",\n",
    "    \"Kategori\": \"category\",\n",
    "    \"Kisaran Harga per Orang (IDR)\": \"price_wna\", # Harga yang digunakan hanya harga WNA dewasa\n",
    "    \"Kota/Kabupaten\": \"city\",\n",
    "    \"Jalan\": \"address\"\n",
    "}\n",
    "# Rename kolom\n",
    "df = df.rename(columns=selected_columns)\n",
    "# Pilih kolom yang telah direname\n",
    "df = df[['name', 'rating', 'category', 'price_wna', 'city', 'address']]\n",
    "# Bersihkan data kosong dan sesuaikan tipe data\n",
    "data = df.dropna(subset=[\"name\", \"rating\", \"category\", \"price_wna\", \"city\"])\n",
    "data[\"price_wna\"] = data[\"price_wna\"].astype(float)\n",
    "data[\"rating\"] = data[\"rating\"].astype(float)"
   ]
  },
  {
   "cell_type": "markdown",
   "metadata": {
    "id": "-KjhcTpGJE7y"
   },
   "source": [
    "## Normalisasi dan encoding 4 fitur yang digunakan"
   ]
  },
  {
   "cell_type": "code",
   "execution_count": 9,
   "metadata": {
    "id": "kVth7wDYg2UX"
   },
   "outputs": [],
   "source": [
    "# Normalisasi price and rating\n",
    "scaler = MinMaxScaler()\n",
    "data[['price_wna', 'rating']] = scaler.fit_transform(data[['price_wna', 'rating']])\n",
    "\n",
    "# One-hot encode untuk category and city\n",
    "encoder_category = OneHotEncoder(sparse_output=False, handle_unknown='ignore')\n",
    "encoder_city = OneHotEncoder(sparse_output=False, handle_unknown='ignore')\n",
    "\n",
    "encoded_category = encoder_category.fit_transform(data[['category']])\n",
    "encoded_city = encoder_city.fit_transform(data[['city']])\n",
    "\n",
    "# Gabungkan 4 fitur yang dipilih\n",
    "X = np.hstack((encoded_category, encoded_city, data[['price_wna', 'rating']].values))\n",
    "\n",
    "# Dummy target untuk pelatihan\n",
    "y = np.random.rand(len(X))"
   ]
  },
  {
   "cell_type": "markdown",
   "metadata": {
    "id": "cFttmGOZJc-b"
   },
   "source": [
    "## Model neural network"
   ]
  },
  {
   "cell_type": "code",
   "execution_count": 12,
   "metadata": {
    "colab": {
     "base_uri": "https://localhost:8080/"
    },
    "editable": true,
    "id": "oD3bX-Glg-gw",
    "outputId": "d5687d25-bc94-43b8-eefa-23f322e707ed",
    "slideshow": {
     "slide_type": ""
    },
    "tags": []
   },
   "outputs": [
    {
     "name": "stdout",
     "output_type": "stream",
     "text": [
      "Epoch 1/200\n",
      "\u001b[1m106/106\u001b[0m \u001b[32m━━━━━━━━━━━━━━━━━━━━\u001b[0m\u001b[37m\u001b[0m \u001b[1m0s\u001b[0m 850us/step - loss: 0.0727 - mae: 0.2758 - rmse: 0.3036 - val_loss: 0.0631 - val_mae: 0.2454 - val_rmse: 0.2889 - learning_rate: 5.0000e-04\n",
      "Epoch 2/200\n",
      "\u001b[1m106/106\u001b[0m \u001b[32m━━━━━━━━━━━━━━━━━━━━\u001b[0m\u001b[37m\u001b[0m \u001b[1m0s\u001b[0m 323us/step - loss: 0.0637 - mae: 0.2630 - rmse: 0.2922 - val_loss: 0.0594 - val_mae: 0.2473 - val_rmse: 0.2901 - learning_rate: 5.0000e-04\n",
      "Epoch 3/200\n",
      "\u001b[1m106/106\u001b[0m \u001b[32m━━━━━━━━━━━━━━━━━━━━\u001b[0m\u001b[37m\u001b[0m \u001b[1m0s\u001b[0m 340us/step - loss: 0.0603 - mae: 0.2645 - rmse: 0.2941 - val_loss: 0.0566 - val_mae: 0.2483 - val_rmse: 0.2906 - learning_rate: 5.0000e-04\n",
      "Epoch 4/200\n",
      "\u001b[1m106/106\u001b[0m \u001b[32m━━━━━━━━━━━━━━━━━━━━\u001b[0m\u001b[37m\u001b[0m \u001b[1m0s\u001b[0m 325us/step - loss: 0.0573 - mae: 0.2676 - rmse: 0.2959 - val_loss: 0.0543 - val_mae: 0.2483 - val_rmse: 0.2904 - learning_rate: 5.0000e-04\n",
      "Epoch 5/200\n",
      "\u001b[1m106/106\u001b[0m \u001b[32m━━━━━━━━━━━━━━━━━━━━\u001b[0m\u001b[37m\u001b[0m \u001b[1m0s\u001b[0m 324us/step - loss: 0.0557 - mae: 0.2661 - rmse: 0.2955 - val_loss: 0.0525 - val_mae: 0.2483 - val_rmse: 0.2902 - learning_rate: 5.0000e-04\n",
      "Epoch 6/200\n",
      "\u001b[1m106/106\u001b[0m \u001b[32m━━━━━━━━━━━━━━━━━━━━\u001b[0m\u001b[37m\u001b[0m \u001b[1m0s\u001b[0m 319us/step - loss: 0.0565 - mae: 0.2746 - rmse: 0.3014 - val_loss: 0.0512 - val_mae: 0.2485 - val_rmse: 0.2903 - learning_rate: 5.0000e-04\n",
      "Epoch 7/200\n",
      "\u001b[1m106/106\u001b[0m \u001b[32m━━━━━━━━━━━━━━━━━━━━\u001b[0m\u001b[37m\u001b[0m \u001b[1m0s\u001b[0m 321us/step - loss: 0.0523 - mae: 0.2662 - rmse: 0.2936 - val_loss: 0.0501 - val_mae: 0.2484 - val_rmse: 0.2901 - learning_rate: 5.0000e-04\n",
      "Epoch 8/200\n",
      "\u001b[1m106/106\u001b[0m \u001b[32m━━━━━━━━━━━━━━━━━━━━\u001b[0m\u001b[37m\u001b[0m \u001b[1m0s\u001b[0m 323us/step - loss: 0.0535 - mae: 0.2700 - rmse: 0.3003 - val_loss: 0.0490 - val_mae: 0.2477 - val_rmse: 0.2895 - learning_rate: 5.0000e-04\n",
      "Epoch 9/200\n",
      "\u001b[1m106/106\u001b[0m \u001b[32m━━━━━━━━━━━━━━━━━━━━\u001b[0m\u001b[37m\u001b[0m \u001b[1m0s\u001b[0m 322us/step - loss: 0.0488 - mae: 0.2583 - rmse: 0.2882 - val_loss: 0.0483 - val_mae: 0.2476 - val_rmse: 0.2893 - learning_rate: 5.0000e-04\n",
      "Epoch 10/200\n",
      "\u001b[1m106/106\u001b[0m \u001b[32m━━━━━━━━━━━━━━━━━━━━\u001b[0m\u001b[37m\u001b[0m \u001b[1m0s\u001b[0m 328us/step - loss: 0.0485 - mae: 0.2606 - rmse: 0.2905 - val_loss: 0.0479 - val_mae: 0.2480 - val_rmse: 0.2896 - learning_rate: 5.0000e-04\n",
      "Epoch 11/200\n",
      "\u001b[1m106/106\u001b[0m \u001b[32m━━━━━━━━━━━━━━━━━━━━\u001b[0m\u001b[37m\u001b[0m \u001b[1m0s\u001b[0m 324us/step - loss: 0.0503 - mae: 0.2692 - rmse: 0.2981 - val_loss: 0.0475 - val_mae: 0.2481 - val_rmse: 0.2895 - learning_rate: 5.0000e-04\n",
      "Epoch 12/200\n",
      "\u001b[1m106/106\u001b[0m \u001b[32m━━━━━━━━━━━━━━━━━━━━\u001b[0m\u001b[37m\u001b[0m \u001b[1m0s\u001b[0m 326us/step - loss: 0.0477 - mae: 0.2605 - rmse: 0.2912 - val_loss: 0.0470 - val_mae: 0.2479 - val_rmse: 0.2894 - learning_rate: 5.0000e-04\n",
      "Epoch 13/200\n",
      "\u001b[1m106/106\u001b[0m \u001b[32m━━━━━━━━━━━━━━━━━━━━\u001b[0m\u001b[37m\u001b[0m \u001b[1m0s\u001b[0m 320us/step - loss: 0.0497 - mae: 0.2715 - rmse: 0.2986 - val_loss: 0.0466 - val_mae: 0.2477 - val_rmse: 0.2891 - learning_rate: 5.0000e-04\n",
      "Epoch 14/200\n",
      "\u001b[1m106/106\u001b[0m \u001b[32m━━━━━━━━━━━━━━━━━━━━\u001b[0m\u001b[37m\u001b[0m \u001b[1m0s\u001b[0m 320us/step - loss: 0.0493 - mae: 0.2667 - rmse: 0.2989 - val_loss: 0.0463 - val_mae: 0.2474 - val_rmse: 0.2890 - learning_rate: 5.0000e-04\n",
      "Epoch 15/200\n",
      "\u001b[1m106/106\u001b[0m \u001b[32m━━━━━━━━━━━━━━━━━━━━\u001b[0m\u001b[37m\u001b[0m \u001b[1m0s\u001b[0m 326us/step - loss: 0.0467 - mae: 0.2601 - rmse: 0.2876 - val_loss: 0.0461 - val_mae: 0.2479 - val_rmse: 0.2893 - learning_rate: 5.0000e-04\n",
      "Epoch 16/200\n",
      "\u001b[1m106/106\u001b[0m \u001b[32m━━━━━━━━━━━━━━━━━━━━\u001b[0m\u001b[37m\u001b[0m \u001b[1m0s\u001b[0m 320us/step - loss: 0.0489 - mae: 0.2678 - rmse: 0.2974 - val_loss: 0.0461 - val_mae: 0.2484 - val_rmse: 0.2896 - learning_rate: 5.0000e-04\n",
      "Epoch 17/200\n",
      "\u001b[1m106/106\u001b[0m \u001b[32m━━━━━━━━━━━━━━━━━━━━\u001b[0m\u001b[37m\u001b[0m \u001b[1m0s\u001b[0m 319us/step - loss: 0.0474 - mae: 0.2664 - rmse: 0.2936 - val_loss: 0.0459 - val_mae: 0.2485 - val_rmse: 0.2896 - learning_rate: 5.0000e-04\n",
      "Epoch 18/200\n",
      "\u001b[1m106/106\u001b[0m \u001b[32m━━━━━━━━━━━━━━━━━━━━\u001b[0m\u001b[37m\u001b[0m \u001b[1m0s\u001b[0m 320us/step - loss: 0.0488 - mae: 0.2698 - rmse: 0.2978 - val_loss: 0.0458 - val_mae: 0.2486 - val_rmse: 0.2898 - learning_rate: 5.0000e-04\n",
      "Epoch 19/200\n",
      "\u001b[1m106/106\u001b[0m \u001b[32m━━━━━━━━━━━━━━━━━━━━\u001b[0m\u001b[37m\u001b[0m \u001b[1m0s\u001b[0m 320us/step - loss: 0.0472 - mae: 0.2644 - rmse: 0.2950 - val_loss: 0.0455 - val_mae: 0.2480 - val_rmse: 0.2893 - learning_rate: 5.0000e-04\n",
      "Epoch 20/200\n",
      "\u001b[1m106/106\u001b[0m \u001b[32m━━━━━━━━━━━━━━━━━━━━\u001b[0m\u001b[37m\u001b[0m \u001b[1m0s\u001b[0m 322us/step - loss: 0.0470 - mae: 0.2673 - rmse: 0.2972 - val_loss: 0.0456 - val_mae: 0.2487 - val_rmse: 0.2899 - learning_rate: 5.0000e-04\n",
      "Epoch 21/200\n",
      "\u001b[1m106/106\u001b[0m \u001b[32m━━━━━━━━━━━━━━━━━━━━\u001b[0m\u001b[37m\u001b[0m \u001b[1m0s\u001b[0m 324us/step - loss: 0.0452 - mae: 0.2562 - rmse: 0.2864 - val_loss: 0.0454 - val_mae: 0.2484 - val_rmse: 0.2896 - learning_rate: 5.0000e-04\n",
      "Epoch 22/200\n",
      "\u001b[1m106/106\u001b[0m \u001b[32m━━━━━━━━━━━━━━━━━━━━\u001b[0m\u001b[37m\u001b[0m \u001b[1m0s\u001b[0m 320us/step - loss: 0.0475 - mae: 0.2685 - rmse: 0.2970 - val_loss: 0.0449 - val_mae: 0.2473 - val_rmse: 0.2884 - learning_rate: 5.0000e-04\n",
      "Epoch 23/200\n",
      "\u001b[1m106/106\u001b[0m \u001b[32m━━━━━━━━━━━━━━━━━━━━\u001b[0m\u001b[37m\u001b[0m \u001b[1m0s\u001b[0m 320us/step - loss: 0.0439 - mae: 0.2539 - rmse: 0.2847 - val_loss: 0.0450 - val_mae: 0.2477 - val_rmse: 0.2889 - learning_rate: 5.0000e-04\n",
      "Epoch 24/200\n",
      "\u001b[1m106/106\u001b[0m \u001b[32m━━━━━━━━━━━━━━━━━━━━\u001b[0m\u001b[37m\u001b[0m \u001b[1m0s\u001b[0m 319us/step - loss: 0.0465 - mae: 0.2649 - rmse: 0.2939 - val_loss: 0.0451 - val_mae: 0.2484 - val_rmse: 0.2894 - learning_rate: 5.0000e-04\n",
      "Epoch 25/200\n",
      "\u001b[1m106/106\u001b[0m \u001b[32m━━━━━━━━━━━━━━━━━━━━\u001b[0m\u001b[37m\u001b[0m \u001b[1m0s\u001b[0m 319us/step - loss: 0.0488 - mae: 0.2747 - rmse: 0.3025 - val_loss: 0.0451 - val_mae: 0.2484 - val_rmse: 0.2894 - learning_rate: 5.0000e-05\n",
      "Epoch 26/200\n",
      "\u001b[1m106/106\u001b[0m \u001b[32m━━━━━━━━━━━━━━━━━━━━\u001b[0m\u001b[37m\u001b[0m \u001b[1m0s\u001b[0m 326us/step - loss: 0.0461 - mae: 0.2628 - rmse: 0.2940 - val_loss: 0.0451 - val_mae: 0.2485 - val_rmse: 0.2895 - learning_rate: 5.0000e-05\n",
      "Epoch 27/200\n",
      "\u001b[1m106/106\u001b[0m \u001b[32m━━━━━━━━━━━━━━━━━━━━\u001b[0m\u001b[37m\u001b[0m \u001b[1m0s\u001b[0m 318us/step - loss: 0.0464 - mae: 0.2635 - rmse: 0.2938 - val_loss: 0.0451 - val_mae: 0.2485 - val_rmse: 0.2895 - learning_rate: 5.0000e-06\n"
     ]
    }
   ],
   "source": [
    "# Split dataset 80% test 20% validation\n",
    "train_X, test_X, y_train, y_test = train_test_split(X, y, test_size=0.2, random_state=42)\n",
    "\n",
    "# Augment data dengan menambah noise (untuk training set)\n",
    "train_X_noisy = train_X + np.random.normal(0, 0.01, train_X.shape)\n",
    "\n",
    "# Definisikan metric RMSE\n",
    "def rmse(y_true, y_pred):\n",
    "    return K.sqrt(K.mean(K.square(y_true - y_pred)))\n",
    "\n",
    "# Bangun model\n",
    "input_dim = train_X.shape[1]\n",
    "model = tf.keras.Sequential([\n",
    "    tf.keras.layers.Input(shape=(train_X.shape[1],)),\n",
    "    tf.keras.layers.Dense(12, activation='relu', kernel_regularizer=l2(0.001)),  # Simplifikasi\n",
    "    tf.keras.layers.Dropout(0.1),  # Lower dropout\n",
    "    tf.keras.layers.Dense(6, activation='relu', kernel_regularizer=l2(0.001)),  # Mengurangi neurons\n",
    "    tf.keras.layers.Dense(1, activation='sigmoid')  # Sigmoid untuk output binary \n",
    "])\n",
    "\n",
    "huber_loss = Huber(delta=1.0)\n",
    "model.compile(optimizer=Adam(learning_rate=0.0005), loss=huber_loss, metrics=['mae', rmse])\n",
    "\n",
    "# Early Stopping dan Learning Rate Scheduler\n",
    "early_stopping = EarlyStopping(\n",
    "    monitor='val_loss',\n",
    "    patience=5, \n",
    "    restore_best_weights=True\n",
    ")\n",
    "\n",
    "lr_scheduler = ReduceLROnPlateau(\n",
    "    monitor='val_loss',\n",
    "    factor=0.1,  \n",
    "    patience=2,\n",
    "    min_lr=1e-6\n",
    ")\n",
    "\n",
    "# Train model\n",
    "history = model.fit(\n",
    "    train_X_noisy, y_train,  \n",
    "    validation_split=0.2, \n",
    "    epochs=200,  \n",
    "    batch_size=4,  \n",
    "    shuffle=True,\n",
    "    callbacks=[early_stopping, lr_scheduler]\n",
    ")\n"
   ]
  },
  {
   "cell_type": "code",
   "execution_count": 14,
   "metadata": {
    "colab": {
     "base_uri": "https://localhost:8080/",
     "height": 323
    },
    "id": "0ACLAyF-hUIQ",
    "outputId": "ac2adf4a-bfcf-46bc-d14a-8f9ca65ee5eb"
   },
   "outputs": [
    {
     "data": {
      "text/html": [
       "<pre style=\"white-space:pre;overflow-x:auto;line-height:normal;font-family:Menlo,'DejaVu Sans Mono',consolas,'Courier New',monospace\"><span style=\"font-weight: bold\">Model: \"sequential\"</span>\n",
       "</pre>\n"
      ],
      "text/plain": [
       "\u001b[1mModel: \"sequential\"\u001b[0m\n"
      ]
     },
     "metadata": {},
     "output_type": "display_data"
    },
    {
     "data": {
      "text/html": [
       "<pre style=\"white-space:pre;overflow-x:auto;line-height:normal;font-family:Menlo,'DejaVu Sans Mono',consolas,'Courier New',monospace\">┏━━━━━━━━━━━━━━━━━━━━━━━━━━━━━━━━━┳━━━━━━━━━━━━━━━━━━━━━━━━┳━━━━━━━━━━━━━━━┓\n",
       "┃<span style=\"font-weight: bold\"> Layer (type)                    </span>┃<span style=\"font-weight: bold\"> Output Shape           </span>┃<span style=\"font-weight: bold\">       Param # </span>┃\n",
       "┡━━━━━━━━━━━━━━━━━━━━━━━━━━━━━━━━━╇━━━━━━━━━━━━━━━━━━━━━━━━╇━━━━━━━━━━━━━━━┩\n",
       "│ dense (<span style=\"color: #0087ff; text-decoration-color: #0087ff\">Dense</span>)                   │ (<span style=\"color: #00d7ff; text-decoration-color: #00d7ff\">None</span>, <span style=\"color: #00af00; text-decoration-color: #00af00\">12</span>)             │           <span style=\"color: #00af00; text-decoration-color: #00af00\">480</span> │\n",
       "├─────────────────────────────────┼────────────────────────┼───────────────┤\n",
       "│ dropout (<span style=\"color: #0087ff; text-decoration-color: #0087ff\">Dropout</span>)               │ (<span style=\"color: #00d7ff; text-decoration-color: #00d7ff\">None</span>, <span style=\"color: #00af00; text-decoration-color: #00af00\">12</span>)             │             <span style=\"color: #00af00; text-decoration-color: #00af00\">0</span> │\n",
       "├─────────────────────────────────┼────────────────────────┼───────────────┤\n",
       "│ dense_1 (<span style=\"color: #0087ff; text-decoration-color: #0087ff\">Dense</span>)                 │ (<span style=\"color: #00d7ff; text-decoration-color: #00d7ff\">None</span>, <span style=\"color: #00af00; text-decoration-color: #00af00\">6</span>)              │            <span style=\"color: #00af00; text-decoration-color: #00af00\">78</span> │\n",
       "├─────────────────────────────────┼────────────────────────┼───────────────┤\n",
       "│ dense_2 (<span style=\"color: #0087ff; text-decoration-color: #0087ff\">Dense</span>)                 │ (<span style=\"color: #00d7ff; text-decoration-color: #00d7ff\">None</span>, <span style=\"color: #00af00; text-decoration-color: #00af00\">1</span>)              │             <span style=\"color: #00af00; text-decoration-color: #00af00\">7</span> │\n",
       "└─────────────────────────────────┴────────────────────────┴───────────────┘\n",
       "</pre>\n"
      ],
      "text/plain": [
       "┏━━━━━━━━━━━━━━━━━━━━━━━━━━━━━━━━━┳━━━━━━━━━━━━━━━━━━━━━━━━┳━━━━━━━━━━━━━━━┓\n",
       "┃\u001b[1m \u001b[0m\u001b[1mLayer (type)                   \u001b[0m\u001b[1m \u001b[0m┃\u001b[1m \u001b[0m\u001b[1mOutput Shape          \u001b[0m\u001b[1m \u001b[0m┃\u001b[1m \u001b[0m\u001b[1m      Param #\u001b[0m\u001b[1m \u001b[0m┃\n",
       "┡━━━━━━━━━━━━━━━━━━━━━━━━━━━━━━━━━╇━━━━━━━━━━━━━━━━━━━━━━━━╇━━━━━━━━━━━━━━━┩\n",
       "│ dense (\u001b[38;5;33mDense\u001b[0m)                   │ (\u001b[38;5;45mNone\u001b[0m, \u001b[38;5;34m12\u001b[0m)             │           \u001b[38;5;34m480\u001b[0m │\n",
       "├─────────────────────────────────┼────────────────────────┼───────────────┤\n",
       "│ dropout (\u001b[38;5;33mDropout\u001b[0m)               │ (\u001b[38;5;45mNone\u001b[0m, \u001b[38;5;34m12\u001b[0m)             │             \u001b[38;5;34m0\u001b[0m │\n",
       "├─────────────────────────────────┼────────────────────────┼───────────────┤\n",
       "│ dense_1 (\u001b[38;5;33mDense\u001b[0m)                 │ (\u001b[38;5;45mNone\u001b[0m, \u001b[38;5;34m6\u001b[0m)              │            \u001b[38;5;34m78\u001b[0m │\n",
       "├─────────────────────────────────┼────────────────────────┼───────────────┤\n",
       "│ dense_2 (\u001b[38;5;33mDense\u001b[0m)                 │ (\u001b[38;5;45mNone\u001b[0m, \u001b[38;5;34m1\u001b[0m)              │             \u001b[38;5;34m7\u001b[0m │\n",
       "└─────────────────────────────────┴────────────────────────┴───────────────┘\n"
      ]
     },
     "metadata": {},
     "output_type": "display_data"
    },
    {
     "data": {
      "text/html": [
       "<pre style=\"white-space:pre;overflow-x:auto;line-height:normal;font-family:Menlo,'DejaVu Sans Mono',consolas,'Courier New',monospace\"><span style=\"font-weight: bold\"> Total params: </span><span style=\"color: #00af00; text-decoration-color: #00af00\">1,697</span> (6.63 KB)\n",
       "</pre>\n"
      ],
      "text/plain": [
       "\u001b[1m Total params: \u001b[0m\u001b[38;5;34m1,697\u001b[0m (6.63 KB)\n"
      ]
     },
     "metadata": {},
     "output_type": "display_data"
    },
    {
     "data": {
      "text/html": [
       "<pre style=\"white-space:pre;overflow-x:auto;line-height:normal;font-family:Menlo,'DejaVu Sans Mono',consolas,'Courier New',monospace\"><span style=\"font-weight: bold\"> Trainable params: </span><span style=\"color: #00af00; text-decoration-color: #00af00\">565</span> (2.21 KB)\n",
       "</pre>\n"
      ],
      "text/plain": [
       "\u001b[1m Trainable params: \u001b[0m\u001b[38;5;34m565\u001b[0m (2.21 KB)\n"
      ]
     },
     "metadata": {},
     "output_type": "display_data"
    },
    {
     "data": {
      "text/html": [
       "<pre style=\"white-space:pre;overflow-x:auto;line-height:normal;font-family:Menlo,'DejaVu Sans Mono',consolas,'Courier New',monospace\"><span style=\"font-weight: bold\"> Non-trainable params: </span><span style=\"color: #00af00; text-decoration-color: #00af00\">0</span> (0.00 B)\n",
       "</pre>\n"
      ],
      "text/plain": [
       "\u001b[1m Non-trainable params: \u001b[0m\u001b[38;5;34m0\u001b[0m (0.00 B)\n"
      ]
     },
     "metadata": {},
     "output_type": "display_data"
    },
    {
     "data": {
      "text/html": [
       "<pre style=\"white-space:pre;overflow-x:auto;line-height:normal;font-family:Menlo,'DejaVu Sans Mono',consolas,'Courier New',monospace\"><span style=\"font-weight: bold\"> Optimizer params: </span><span style=\"color: #00af00; text-decoration-color: #00af00\">1,132</span> (4.43 KB)\n",
       "</pre>\n"
      ],
      "text/plain": [
       "\u001b[1m Optimizer params: \u001b[0m\u001b[38;5;34m1,132\u001b[0m (4.43 KB)\n"
      ]
     },
     "metadata": {},
     "output_type": "display_data"
    }
   ],
   "source": [
    "# Display summary model\n",
    "model.summary()"
   ]
  },
  {
   "cell_type": "code",
   "execution_count": 16,
   "metadata": {
    "colab": {
     "base_uri": "https://localhost:8080/",
     "height": 957
    },
    "id": "y4GxdLbthW8Q",
    "outputId": "3e72edfd-426a-4d1e-e1a0-01fa3e85152e"
   },
   "outputs": [
    {
     "data": {
      "image/png": "[encoded data removed]",
      "text/plain": [
       "<Figure size 1000x500 with 1 Axes>"
      ]
     },
     "metadata": {},
     "output_type": "display_data"
    },
    {
     "data": {
      "image/png": "[encoded data removed]",
      "text/plain": [
       "<Figure size 1000x500 with 1 Axes>"
      ]
     },
     "metadata": {},
     "output_type": "display_data"
    }
   ],
   "source": [
    "# Plot training and validation loss\n",
    "plt.figure(figsize=(10, 5))\n",
    "plt.plot(history.history['loss'], label='Training Loss')\n",
    "plt.plot(history.history['val_loss'], label='Validation Loss')\n",
    "plt.title('Model Loss')\n",
    "plt.xlabel('Epochs')\n",
    "plt.ylabel('Loss')\n",
    "plt.legend()\n",
    "plt.show()\n",
    "\n",
    "# Plot training and validation RMSE\n",
    "plt.figure(figsize=(10, 5))\n",
    "plt.plot(history.history['rmse'], label='Training RMSE')\n",
    "plt.plot(history.history['val_rmse'], label='Validation RMSE')\n",
    "plt.title('Model RMSE')\n",
    "plt.xlabel('Epochs')\n",
    "plt.ylabel('RMSE')\n",
    "plt.legend()\n",
    "plt.show()"
   ]
  },
  {
   "cell_type": "markdown",
   "metadata": {
    "id": "lU-o9ajtPWIW"
   },
   "source": [
    "## Fungsi untuk preproses input dan menampilkan output rekomendasi berdasarkan filter"
   ]
  },
  {
   "cell_type": "code",
   "execution_count": 19,
   "metadata": {
    "id": "_HxqKK8blTZ4"
   },
   "outputs": [],
   "source": [
    "# fungsi untuk mengolah input agar format sesuai dengan model\n",
    "def preprocess_user_input(user_input):\n",
    "    # Buat DataFrame dari input pengguna\n",
    "    user_df = pd.DataFrame([{\n",
    "        \"price_wna\": user_input[\"max_price\"],\n",
    "        \"rating\": user_input[\"min_rating\"]\n",
    "    }])\n",
    "\n",
    "    # Normalisasi input pengguna menggunakan scaler\n",
    "    normalized_input = scaler.transform(user_df)\n",
    "\n",
    "    # Encode kategori dan kota\n",
    "    user_category = encoder_category.transform([[user_input['category']]])\n",
    "    user_city = encoder_city.transform([[user_input['city']]])\n",
    "\n",
    "    # Gabungkan semua fitur\n",
    "    user_vector = np.hstack((user_category, user_city, normalized_input))\n",
    "\n",
    "    return user_vector\n"
   ]
  },
  {
   "cell_type": "code",
   "execution_count": 21,
   "metadata": {
    "id": "l-onA1Qm3Rev"
   },
   "outputs": [],
   "source": [
    "# fungsi untuk menampilkan top 5 rekomendasi berdasarkan input user\n",
    "def recommend(user_input, top_n=5):\n",
    "    # Preproses input pengguna\n",
    "    user_input_vector = preprocess_user_input(user_input)\n",
    "\n",
    "    # Prediksi score untuk masing-masing data\n",
    "    scores = model.predict(X)\n",
    "    data['score'] = scores.flatten()\n",
    "\n",
    "    # Normalisasi nilai filter dari input pengguna\n",
    "    user_df = pd.DataFrame([{\n",
    "        \"price_wna\": user_input[\"max_price\"],\n",
    "        \"rating\": user_input[\"min_rating\"]\n",
    "    }])\n",
    "    normalized_input = scaler.transform(user_df)\n",
    "    max_price_scaled, min_rating_scaled = normalized_input[0]\n",
    "\n",
    "    # Filter data berdasarkan kriteria pengguna\n",
    "    # Cek apakah kolom 'address' dan 'google_maps' ada sebelum difilter\n",
    "    if 'address' in data.columns and 'google_maps' in data.columns:\n",
    "        filtered_data = data[\n",
    "            (data['rating'] >= min_rating_scaled) &\n",
    "            (data['price_wna'] <= max_price_scaled) &\n",
    "            (data['city'] == user_input['city']) &  # Filter berdasarkan kota\n",
    "            (data['category'] == user_input['category']) & # Filter berdasarkan kategori\n",
    "            (data['address'].notna())  # Filter data kosong\n",
    "        ]\n",
    "    else:\n",
    "        # Jika kolom tidak ada, tampilkan warning\n",
    "        print(\"Warning: 'address' column not found in data. Filtering without them.\")\n",
    "        filtered_data = data[\n",
    "            (data['rating'] >= min_rating_scaled) &\n",
    "            (data['price_wna'] <= max_price_scaled) &\n",
    "            (data['city'] == user_input['city']) &  # Filter berdasarkan kota\n",
    "            (data['category'] == user_input['category']) # Filter berdasarkan kategori\n",
    "        ]\n",
    "\n",
    "\n",
    "    # Kembalikan nilai rating dan price_wna ke skala asli\n",
    "    if not filtered_data.empty:\n",
    "        filtered_data.loc[:, ['price_wna', 'rating']] = scaler.inverse_transform(\n",
    "            filtered_data[['price_wna', 'rating']]\n",
    "        )\n",
    "\n",
    "    # Ambil rekomendasi top-N\n",
    "    if not filtered_data.empty:\n",
    "        recommendations = filtered_data.nlargest(top_n, 'score')\n",
    "    else:\n",
    "        print(\"No recommendations found based on the given criteria.\")\n",
    "        recommendations = pd.DataFrame()  # DataFrame kosong jika tidak ada rekomendasi\n",
    "\n",
    "    # Cek jika required columns ada di recommendations\n",
    "    required_columns = ['name', 'rating', 'price_wna', 'city', 'category', 'address']\n",
    "    available_columns = recommendations.columns.tolist()\n",
    "\n",
    "    # Pilih kolom yang ada saja\n",
    "    selected_columns = [col for col in required_columns if col in available_columns]\n",
    "\n",
    "    return recommendations[selected_columns]"
   ]
  },
  {
   "cell_type": "markdown",
   "metadata": {
    "id": "j7ftIkGCPmcy"
   },
   "source": [
    "## Penggunaan input untuk rekomendasi berdasarkan filter"
   ]
  },
  {
   "cell_type": "code",
   "execution_count": 24,
   "metadata": {
    "colab": {
     "base_uri": "https://localhost:8080/"
    },
    "id": "RgOPP0CElcYU",
    "outputId": "42a8635e-bb2f-415e-dd41-62c1fad29912"
   },
   "outputs": [
    {
     "name": "stdin",
     "output_type": "stream",
     "text": [
      "Enter the category of culinary :  Bar\n",
      "Enter the city you want to go to :  Denpasar\n",
      "Enter the minimum rating (0.0-5.0):  4.5\n",
      "Enter the maximum ticket price (IDR) :  100000000\n"
     ]
    },
    {
     "name": "stdout",
     "output_type": "stream",
     "text": [
      "\u001b[1m21/21\u001b[0m \u001b[32m━━━━━━━━━━━━━━━━━━━━\u001b[0m\u001b[37m\u001b[0m \u001b[1m0s\u001b[0m 781us/step\n",
      "Warning: 'address' column not found in data. Filtering without them.\n",
      "                            name  rating  price_wna      city category  \\\n",
      "36                  Lilla Pantai     4.5      300.0  Denpasar      Bar   \n",
      "292       Tree Bar at Maya Sanur     4.5      300.0  Denpasar      Bar   \n",
      "298              Pier Eight Bali     4.5      300.0  Denpasar      Bar   \n",
      "482          Shotgun Social Bali     4.5      300.0  Denpasar      Bar   \n",
      "532  Casablanca Dine Drink Dance     4.5      300.0  Denpasar      Bar   \n",
      "\n",
      "                                               address  \n",
      "36   Jalan Duyung Jalan Sanur Beach Street Walk, Sa...  \n",
      "292  Jl. Danau Tamblingan 89M, Sanur, Denpasar 8022...  \n",
      "298  Jalan Kusuma Sari No. 8, Sanur, Denpasar 80227...  \n",
      "482  Jl. Pantai Sindhu No.11, Sanur, Denpasar 80228...  \n",
      "532  Jl. Danau Tamblingan 120, Sanur, Denpasar 8022...  \n"
     ]
    },
    {
     "name": "stderr",
     "output_type": "stream",
     "text": [
      "/opt/anaconda3/lib/python3.11/site-packages/sklearn/base.py:493: UserWarning: X does not have valid feature names, but OneHotEncoder was fitted with feature names\n",
      "  warnings.warn(\n",
      "/opt/anaconda3/lib/python3.11/site-packages/sklearn/base.py:493: UserWarning: X does not have valid feature names, but OneHotEncoder was fitted with feature names\n",
      "  warnings.warn(\n"
     ]
    }
   ],
   "source": [
    "# Input dari pengguna\n",
    "user_input = {\n",
    "    \"category\": input(\"Enter the category of culinary : \"),  # Contoh: \"Bar\"\n",
    "    \"city\": input(\"Enter the city you want to go to : \"),  # Contoh: \"Denpasar\" \n",
    "    \"min_rating\": float(input(\"Enter the minimum rating (0.0-5.0): \")),  # Contoh: 4.0\n",
    "    \"max_price\": float(input(\"Enter the maximum ticket price (IDR) : \"))  # Contoh: 50000\n",
    "}\n",
    "\n",
    "# Tampilkan rekomendasi\n",
    "top_5_recommendations1 = recommend(user_input)\n",
    "print(top_5_recommendations1)"
   ]
  },
  {
   "cell_type": "markdown",
   "metadata": {
    "id": "K2O_LAESPoJj"
   },
   "source": [
    "## Fungsi untuk rekomendasi berdasarkan kuliner yang sebelumnya dikunjungi"
   ]
  },
  {
   "cell_type": "code",
   "execution_count": 46,
   "metadata": {
    "id": "ErMSJrJK_6I5"
   },
   "outputs": [],
   "source": [
    "# fungsi untuk rekomendasi berdasarkan kuliner yang telah dikunjungi\n",
    "def recommend_similar_kuliner(kuliner_name, city_filter=None, max_price=None, top_n=5):\n",
    "    # Pastikan nama tempat kuliner ada dalam data\n",
    "    if kuliner_name not in data['name'].values:\n",
    "        print(f\"Tempat kuliner '{kuliner_name}' tidak ditemukan dalam data.\")\n",
    "        return pd.DataFrame()\n",
    "\n",
    "    # Pilih fitur yang digunakan untuk perhitungan similarity\n",
    "    features = np.hstack((\n",
    "        encoded_category,\n",
    "        encoded_city,\n",
    "        data[['price_wna', 'rating']].values\n",
    "    ))\n",
    "\n",
    "    # Ambil indeks tempat kuliner yang diminta\n",
    "    kuliner_idx = data[data['name'] == kuliner_name].index[0]\n",
    "\n",
    "    # Hitung kesamaan menggunakan cosine similarity antara tempat kuliner input dengan semua tempat kuliner lainnya\n",
    "    similarity_scores = cosine_similarity(features[kuliner_idx].reshape(1, -1), features).flatten()\n",
    "\n",
    "    # Tambahkan skor kesamaan ke dalam DataFrame\n",
    "    data['similarity'] = similarity_scores\n",
    "\n",
    "    # Ubah tipe data max_price ke float jika tidak kosong\n",
    "    if max_price is not None:\n",
    "        max_price = float(max_price)\n",
    "\n",
    "    # Filter data jika ada city_filter atau max_price\n",
    "    filtered_data = data[data['name'] != kuliner_name]\n",
    "    if city_filter:\n",
    "        filtered_data = filtered_data[filtered_data['city'] == city_filter]\n",
    "    if max_price is not None:\n",
    "        # Normalisasi max_price untuk filter\n",
    "        max_price_scaled = scaler.transform([[max_price, 0]])[0][0]\n",
    "        filtered_data = filtered_data[filtered_data['price_wna'] <= max_price_scaled]\n",
    "\n",
    "    # Kembalikan nilai rating dan price_wna ke skala aslinya\n",
    "    if not filtered_data.empty:\n",
    "        filtered_data.loc[:, ['price_wna', 'rating']] = scaler.inverse_transform(\n",
    "            filtered_data[['price_wna', 'rating']]\n",
    "        )\n",
    "\n",
    "    # Urutkan berdasarkan skor similarity (descending) dan ambil top-N\n",
    "    recommendations = filtered_data.nlargest(top_n, 'similarity') if not filtered_data.empty else pd.DataFrame()\n",
    "\n",
    "    # Pilih kolom untuk ditampilkan\n",
    "    return recommendations[['name', 'rating', 'price_wna', 'city', 'category', 'address', 'similarity']]\n"
   ]
  },
  {
   "cell_type": "markdown",
   "metadata": {
    "id": "oOrCcfQlPugs"
   },
   "source": [
    "## Penggunaan input rekomendasi berdasarkan kuliner yang sebelumnya dikunjungi"
   ]
  },
  {
   "cell_type": "code",
   "execution_count": 49,
   "metadata": {
    "colab": {
     "base_uri": "https://localhost:8080/"
    },
    "id": "pqVusVFEA5CI",
    "outputId": "ce1c4a57-c184-4b78-cc38-291d8713bb96"
   },
   "outputs": [
    {
     "name": "stdin",
     "output_type": "stream",
     "text": [
      "Enter the name of culinary you have already visited :  Lilla Pantai\n",
      "Enter the city you want to go to (optional):  \n",
      "Enter the maximum price (optional):  \n"
     ]
    },
    {
     "name": "stdout",
     "output_type": "stream",
     "text": [
      "                            name  rating  price_wna      city category  \\\n",
      "292       Tree Bar at Maya Sanur     4.5      300.0  Denpasar      Bar   \n",
      "298              Pier Eight Bali     4.5      300.0  Denpasar      Bar   \n",
      "482          Shotgun Social Bali     4.5      300.0  Denpasar      Bar   \n",
      "532  Casablanca Dine Drink Dance     4.5      300.0  Denpasar      Bar   \n",
      "60              Fisherman's Club     5.0      300.0  Denpasar      Bar   \n",
      "\n",
      "                                               address  similarity  \n",
      "292  Jl. Danau Tamblingan 89M, Sanur, Denpasar 8022...    1.000000  \n",
      "298  Jalan Kusuma Sari No. 8, Sanur, Denpasar 80227...    1.000000  \n",
      "482  Jl. Pantai Sindhu No.11, Sanur, Denpasar 80228...    1.000000  \n",
      "532  Jl. Danau Tamblingan 120, Sanur, Denpasar 8022...    1.000000  \n",
      "60   Jalan Danau Tamblingan 89a Andaz Bali, Denpasa...    0.985622  \n"
     ]
    }
   ],
   "source": [
    "# input dari user\n",
    "kuliner_name = input(\"Enter the name of culinary you have already visited : \")\n",
    "city_filter = input(\"Enter the city you want to go to (optional): \") or None\n",
    "max_price = input(\"Enter the maximum price (optional): \") or None\n",
    "\n",
    "# output\n",
    "top_5_recommendations = recommend_similar_kuliner(kuliner_name, city_filter=city_filter, max_price=max_price)\n",
    "print(top_5_recommendations)"
   ]
  },
  {
   "cell_type": "code",
   "execution_count": 53,
   "metadata": {},
   "outputs": [
    {
     "name": "stderr",
     "output_type": "stream",
     "text": [
      "WARNING:absl:You are saving your model as an HDF5 file via `model.save()` or `keras.saving.save_model(model)`. This file format is considered legacy. We recommend using instead the native Keras format, e.g. `model.save('my_model.keras')` or `keras.saving.save_model(model, 'my_model.keras')`. \n"
     ]
    }
   ],
   "source": [
    "model.save('Kuliner.h5')"
   ]
  },
  {
   "cell_type": "code",
   "execution_count": null,
   "metadata": {},
   "outputs": [],
   "source": []
  }
 ],
 "metadata": {
  "colab": {
   "provenance": []
  },
  "kernelspec": {
   "display_name": "Python 3 (ipykernel)",
   "language": "python",
   "name": "python3"
  },
  "language_info": {
   "codemirror_mode": {
    "name": "ipython",
    "version": 3
   },
   "file_extension": ".py",
   "mimetype": "text/x-python",
   "name": "python",
   "nbconvert_exporter": "python",
   "pygments_lexer": "ipython3",
   "version": "3.11.7"
  }
 },
 "nbformat": 4,
 "nbformat_minor": 4
}
