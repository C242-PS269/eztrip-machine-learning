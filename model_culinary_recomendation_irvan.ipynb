{
 "cells": [
  {
   "cell_type": "markdown",
   "metadata": {
    "editable": true,
    "id": "-rjNJ6FXIKGP",
    "slideshow": {
     "slide_type": ""
    },
    "tags": []
   },
   "source": [
    "# Program ML Sistem Rekomendasi Tempat Kuliner dengan Content Based Filtering"
   ]
  },
  {
   "cell_type": "markdown",
   "metadata": {
    "id": "TL4cbP04Ig-5"
   },
   "source": [
    "## Library yang digunakan"
   ]
  },
  {
   "cell_type": "code",
   "execution_count": 1,
   "metadata": {
    "id": "eW9hB3Jyc601"
   },
   "outputs": [],
   "source": [
    "import pandas as pd\n",
    "import numpy as np\n",
    "from sklearn.preprocessing import MinMaxScaler, OneHotEncoder\n",
    "from sklearn.model_selection import train_test_split\n",
    "from tensorflow.keras.models import Sequential\n",
    "from tensorflow.keras.layers import Dense, Dropout\n",
    "from tensorflow.keras.losses import Huber\n",
    "import tensorflow.keras.backend as K\n",
    "import matplotlib.pyplot as plt\n",
    "import tensorflow as tf\n",
    "from sklearn.metrics.pairwise import cosine_similarity\n",
    "from tensorflow.keras.optimizers import Adam\n",
    "from tensorflow.keras.regularizers import l2\n",
    "from tensorflow.keras.callbacks import EarlyStopping, ReduceLROnPlateau"
   ]
  },
  {
   "cell_type": "markdown",
   "metadata": {
    "editable": true,
    "id": "jimZXA0-Il_g",
    "slideshow": {
     "slide_type": ""
    },
    "tags": []
   },
   "source": [
    "## Upload Dataset"
   ]
  },
  {
   "cell_type": "code",
   "execution_count": 3,
   "metadata": {
    "colab": {
     "base_uri": "https://localhost:8080/",
     "height": 608
    },
    "id": "ipCtITXhdJ9F",
    "outputId": "5f4ee58a-8b0f-48ef-b932-352cdbe0b10d"
   },
   "outputs": [
    {
     "data": {
      "text/html": [
       "<div>\n",
       "<style scoped>\n",
       "    .dataframe tbody tr th:only-of-type {\n",
       "        vertical-align: middle;\n",
       "    }\n",
       "\n",
       "    .dataframe tbody tr th {\n",
       "        vertical-align: top;\n",
       "    }\n",
       "\n",
       "    .dataframe thead th {\n",
       "        text-align: right;\n",
       "    }\n",
       "</style>\n",
       "<table border=\"1\" class=\"dataframe\">\n",
       "  <thead>\n",
       "    <tr style=\"text-align: right;\">\n",
       "      <th></th>\n",
       "      <th>Name</th>\n",
       "      <th>Kategori</th>\n",
       "      <th>Review</th>\n",
       "      <th>Banyak Rating</th>\n",
       "      <th>rating</th>\n",
       "      <th>priceTypes/items/0/secondaryName</th>\n",
       "      <th>Jalan</th>\n",
       "      <th>Kontak</th>\n",
       "      <th>Kecamatan</th>\n",
       "      <th>Kisaran Harga per Orang (IDR)</th>\n",
       "      <th>Kota/Kabupaten</th>\n",
       "    </tr>\n",
       "  </thead>\n",
       "  <tbody>\n",
       "    <tr>\n",
       "      <th>0</th>\n",
       "      <td>Kabana Ubud By K Club</td>\n",
       "      <td>Bar</td>\n",
       "      <td>Amazing lunch at Kabana!</td>\n",
       "      <td>411</td>\n",
       "      <td>5.0</td>\n",
       "      <td>$$ - $$$</td>\n",
       "      <td>Jalan Raya Cebok, Tegalalang 80561 Indonesia</td>\n",
       "      <td>+62 818-1812-6888</td>\n",
       "      <td>Tegalalang</td>\n",
       "      <td>300000</td>\n",
       "      <td>Gianyar</td>\n",
       "    </tr>\n",
       "    <tr>\n",
       "      <th>1</th>\n",
       "      <td>Nautilus Seafood Restaurant &amp; Bar</td>\n",
       "      <td>Bar</td>\n",
       "      <td>10/10</td>\n",
       "      <td>26</td>\n",
       "      <td>5.0</td>\n",
       "      <td>$$ - $$$</td>\n",
       "      <td>Jl. Suweta No.80, Ubud, Ubud 80571 Indonesia</td>\n",
       "      <td>+62 813-7078-7888</td>\n",
       "      <td>Ubud</td>\n",
       "      <td>300000</td>\n",
       "      <td>Gianyar</td>\n",
       "    </tr>\n",
       "    <tr>\n",
       "      <th>2</th>\n",
       "      <td>MoonLite Kitchen and Bar</td>\n",
       "      <td>Asian</td>\n",
       "      <td>... broth with lemongrass, ginger, ￹chili￻, ka...</td>\n",
       "      <td>2347</td>\n",
       "      <td>4.5</td>\n",
       "      <td>$$ - $$$</td>\n",
       "      <td>Jl. Abimanyu Jl. Dhyana Pura, Seminyak 80361 I...</td>\n",
       "      <td>+62 361 737773</td>\n",
       "      <td>Seminyak</td>\n",
       "      <td>300000</td>\n",
       "      <td>Badung</td>\n",
       "    </tr>\n",
       "    <tr>\n",
       "      <th>3</th>\n",
       "      <td>The Power of Love - Samabe Cave Dining</td>\n",
       "      <td>Seafood</td>\n",
       "      <td>I especially loved the scallops, cod and ￹lobs...</td>\n",
       "      <td>598</td>\n",
       "      <td>5.0</td>\n",
       "      <td>$$$$</td>\n",
       "      <td>Jl. Pura Barong-Barong Sawangan, Nusa Dua, Ben...</td>\n",
       "      <td>+62 361 8468633</td>\n",
       "      <td>Nusa Dua</td>\n",
       "      <td>500000</td>\n",
       "      <td>Badung</td>\n",
       "    </tr>\n",
       "    <tr>\n",
       "      <th>4</th>\n",
       "      <td>Koral Restaurant</td>\n",
       "      <td>International</td>\n",
       "      <td>Really Good Food, Good Ambience, Good Staff, G...</td>\n",
       "      <td>1380</td>\n",
       "      <td>5.0</td>\n",
       "      <td>$$$$</td>\n",
       "      <td>Jl. Raya Nusa Dua Selatan The Apurva Kempinski...</td>\n",
       "      <td>+62 361 2092288</td>\n",
       "      <td>Nusa Dua</td>\n",
       "      <td>500000</td>\n",
       "      <td>Badung</td>\n",
       "    </tr>\n",
       "  </tbody>\n",
       "</table>\n",
       "</div>"
      ],
      "text/plain": [
       "                                     Name       Kategori  \\\n",
       "0                   Kabana Ubud By K Club            Bar   \n",
       "1       Nautilus Seafood Restaurant & Bar            Bar   \n",
       "2                MoonLite Kitchen and Bar          Asian   \n",
       "3  The Power of Love - Samabe Cave Dining        Seafood   \n",
       "4                        Koral Restaurant  International   \n",
       "\n",
       "                                              Review  Banyak Rating  rating  \\\n",
       "0                           Amazing lunch at Kabana!            411     5.0   \n",
       "1                                              10/10             26     5.0   \n",
       "2  ... broth with lemongrass, ginger, ￹chili￻, ka...           2347     4.5   \n",
       "3  I especially loved the scallops, cod and ￹lobs...            598     5.0   \n",
       "4  Really Good Food, Good Ambience, Good Staff, G...           1380     5.0   \n",
       "\n",
       "  priceTypes/items/0/secondaryName  \\\n",
       "0                         $$ - $$$   \n",
       "1                         $$ - $$$   \n",
       "2                         $$ - $$$   \n",
       "3                             $$$$   \n",
       "4                             $$$$   \n",
       "\n",
       "                                               Jalan             Kontak  \\\n",
       "0       Jalan Raya Cebok, Tegalalang 80561 Indonesia  +62 818-1812-6888   \n",
       "1       Jl. Suweta No.80, Ubud, Ubud 80571 Indonesia  +62 813-7078-7888   \n",
       "2  Jl. Abimanyu Jl. Dhyana Pura, Seminyak 80361 I...     +62 361 737773   \n",
       "3  Jl. Pura Barong-Barong Sawangan, Nusa Dua, Ben...    +62 361 8468633   \n",
       "4  Jl. Raya Nusa Dua Selatan The Apurva Kempinski...    +62 361 2092288   \n",
       "\n",
       "    Kecamatan  Kisaran Harga per Orang (IDR) Kota/Kabupaten  \n",
       "0  Tegalalang                         300000        Gianyar  \n",
       "1        Ubud                         300000        Gianyar  \n",
       "2    Seminyak                         300000         Badung  \n",
       "3    Nusa Dua                         500000         Badung  \n",
       "4    Nusa Dua                         500000         Badung  "
      ]
     },
     "execution_count": 3,
     "metadata": {},
     "output_type": "execute_result"
    }
   ],
   "source": [
    "# Load dataset\n",
    "file_path = 'Kuliner.xlsx'\n",
    "df = pd.read_excel(file_path, sheet_name='Data')\n",
    "df.head()"
   ]
  },
  {
   "cell_type": "code",
   "execution_count": 4,
   "metadata": {
    "editable": true,
    "id": "C-GHASZVgdul",
    "slideshow": {
     "slide_type": ""
    },
    "tags": []
   },
   "outputs": [],
   "source": [
    "# Pilih kolom yang digunakan\n",
    "selected_columns = {\n",
    "    \"Name\": \"name\",\n",
    "    \"Rating\": \"rating\",\n",
    "    \"Kategori\": \"category\",\n",
    "    \"Kisaran Harga per Orang (IDR)\": \"price_wna\", # Harga yang digunakan hanya harga WNA dewasa\n",
    "    \"Kota/Kabupaten\": \"city\",\n",
    "    \"Jalan\": \"address\"\n",
    "}\n",
    "# Rename kolom\n",
    "df = df.rename(columns=selected_columns)\n",
    "# Pilih kolom yang telah direname\n",
    "df = df[['name', 'rating', 'category', 'price_wna', 'city', 'address']]\n",
    "# Bersihkan data kosong dan sesuaikan tipe data\n",
    "data = df.dropna(subset=[\"name\", \"rating\", \"category\", \"price_wna\", \"city\"])\n",
    "data[\"price_wna\"] = data[\"price_wna\"].astype(float)\n",
    "data[\"rating\"] = data[\"rating\"].astype(float)"
   ]
  },
  {
   "cell_type": "markdown",
   "metadata": {
    "id": "-KjhcTpGJE7y"
   },
   "source": [
    "## Normalisasi dan encoding 4 fitur yang digunakan"
   ]
  },
  {
   "cell_type": "code",
   "execution_count": 9,
   "metadata": {
    "id": "kVth7wDYg2UX"
   },
   "outputs": [],
   "source": [
    "# Normalisasi price and rating\n",
    "scaler = MinMaxScaler()\n",
    "data[['price_wna', 'rating']] = scaler.fit_transform(data[['price_wna', 'rating']])\n",
    "\n",
    "# One-hot encode untuk category and city\n",
    "encoder_category = OneHotEncoder(sparse_output=False, handle_unknown='ignore')\n",
    "encoder_city = OneHotEncoder(sparse_output=False, handle_unknown='ignore')\n",
    "\n",
    "encoded_category = encoder_category.fit_transform(data[['category']])\n",
    "encoded_city = encoder_city.fit_transform(data[['city']])\n",
    "\n",
    "# Gabungkan 4 fitur yang dipilih\n",
    "X = np.hstack((encoded_category, encoded_city, data[['price_wna', 'rating']].values))\n",
    "\n",
    "# Dummy target untuk pelatihan\n",
    "y = np.random.rand(len(X))"
   ]
  },
  {
   "cell_type": "markdown",
   "metadata": {
    "id": "cFttmGOZJc-b"
   },
   "source": [
    "## Model neural network"
   ]
  },
  {
   "cell_type": "code",
   "execution_count": 12,
   "metadata": {
    "colab": {
     "base_uri": "https://localhost:8080/"
    },
    "editable": true,
    "id": "oD3bX-Glg-gw",
    "outputId": "d5687d25-bc94-43b8-eefa-23f322e707ed",
    "slideshow": {
     "slide_type": ""
    },
    "tags": []
   },
   "outputs": [
    {
     "name": "stdout",
     "output_type": "stream",
     "text": [
      "Epoch 1/200\n",
      "\u001b[1m106/106\u001b[0m \u001b[32m━━━━━━━━━━━━━━━━━━━━\u001b[0m\u001b[37m\u001b[0m \u001b[1m0s\u001b[0m 853us/step - loss: 0.0667 - mae: 0.2466 - rmse: 0.2735 - val_loss: 0.0585 - val_mae: 0.2385 - val_rmse: 0.2679 - learning_rate: 5.0000e-04\n",
      "Epoch 2/200\n",
      "\u001b[1m106/106\u001b[0m \u001b[32m━━━━━━━━━━━━━━━━━━━━\u001b[0m\u001b[37m\u001b[0m \u001b[1m0s\u001b[0m 319us/step - loss: 0.0626 - mae: 0.2543 - rmse: 0.2840 - val_loss: 0.0545 - val_mae: 0.2392 - val_rmse: 0.2664 - learning_rate: 5.0000e-04\n",
      "Epoch 3/200\n",
      "\u001b[1m106/106\u001b[0m \u001b[32m━━━━━━━━━━━━━━━━━━━━\u001b[0m\u001b[37m\u001b[0m \u001b[1m0s\u001b[0m 330us/step - loss: 0.0597 - mae: 0.2559 - rmse: 0.2892 - val_loss: 0.0516 - val_mae: 0.2393 - val_rmse: 0.2662 - learning_rate: 5.0000e-04\n",
      "Epoch 4/200\n",
      "\u001b[1m106/106\u001b[0m \u001b[32m━━━━━━━━━━━━━━━━━━━━\u001b[0m\u001b[37m\u001b[0m \u001b[1m0s\u001b[0m 323us/step - loss: 0.0571 - mae: 0.2529 - rmse: 0.2882 - val_loss: 0.0496 - val_mae: 0.2394 - val_rmse: 0.2664 - learning_rate: 5.0000e-04\n",
      "Epoch 5/200\n",
      "\u001b[1m106/106\u001b[0m \u001b[32m━━━━━━━━━━━━━━━━━━━━\u001b[0m\u001b[37m\u001b[0m \u001b[1m0s\u001b[0m 318us/step - loss: 0.0552 - mae: 0.2552 - rmse: 0.2847 - val_loss: 0.0480 - val_mae: 0.2392 - val_rmse: 0.2663 - learning_rate: 5.0000e-04\n",
      "Epoch 6/200\n",
      "\u001b[1m106/106\u001b[0m \u001b[32m━━━━━━━━━━━━━━━━━━━━\u001b[0m\u001b[37m\u001b[0m \u001b[1m0s\u001b[0m 325us/step - loss: 0.0491 - mae: 0.2371 - rmse: 0.2721 - val_loss: 0.0468 - val_mae: 0.2392 - val_rmse: 0.2664 - learning_rate: 5.0000e-04\n",
      "Epoch 7/200\n",
      "\u001b[1m106/106\u001b[0m \u001b[32m━━━━━━━━━━━━━━━━━━━━\u001b[0m\u001b[37m\u001b[0m \u001b[1m0s\u001b[0m 325us/step - loss: 0.0504 - mae: 0.2490 - rmse: 0.2813 - val_loss: 0.0458 - val_mae: 0.2391 - val_rmse: 0.2665 - learning_rate: 5.0000e-04\n",
      "Epoch 8/200\n",
      "\u001b[1m106/106\u001b[0m \u001b[32m━━━━━━━━━━━━━━━━━━━━\u001b[0m\u001b[37m\u001b[0m \u001b[1m0s\u001b[0m 325us/step - loss: 0.0490 - mae: 0.2452 - rmse: 0.2782 - val_loss: 0.0449 - val_mae: 0.2390 - val_rmse: 0.2664 - learning_rate: 5.0000e-04\n",
      "Epoch 9/200\n",
      "\u001b[1m106/106\u001b[0m \u001b[32m━━━━━━━━━━━━━━━━━━━━\u001b[0m\u001b[37m\u001b[0m \u001b[1m0s\u001b[0m 318us/step - loss: 0.0507 - mae: 0.2535 - rmse: 0.2897 - val_loss: 0.0444 - val_mae: 0.2392 - val_rmse: 0.2666 - learning_rate: 5.0000e-04\n",
      "Epoch 10/200\n",
      "\u001b[1m106/106\u001b[0m \u001b[32m━━━━━━━━━━━━━━━━━━━━\u001b[0m\u001b[37m\u001b[0m \u001b[1m0s\u001b[0m 320us/step - loss: 0.0517 - mae: 0.2646 - rmse: 0.2951 - val_loss: 0.0439 - val_mae: 0.2395 - val_rmse: 0.2668 - learning_rate: 5.0000e-04\n",
      "Epoch 11/200\n",
      "\u001b[1m106/106\u001b[0m \u001b[32m━━━━━━━━━━━━━━━━━━━━\u001b[0m\u001b[37m\u001b[0m \u001b[1m0s\u001b[0m 322us/step - loss: 0.0491 - mae: 0.2548 - rmse: 0.2880 - val_loss: 0.0433 - val_mae: 0.2393 - val_rmse: 0.2668 - learning_rate: 5.0000e-04\n",
      "Epoch 12/200\n",
      "\u001b[1m106/106\u001b[0m \u001b[32m━━━━━━━━━━━━━━━━━━━━\u001b[0m\u001b[37m\u001b[0m \u001b[1m0s\u001b[0m 320us/step - loss: 0.0445 - mae: 0.2363 - rmse: 0.2718 - val_loss: 0.0430 - val_mae: 0.2393 - val_rmse: 0.2671 - learning_rate: 5.0000e-04\n",
      "Epoch 13/200\n",
      "\u001b[1m106/106\u001b[0m \u001b[32m━━━━━━━━━━━━━━━━━━━━\u001b[0m\u001b[37m\u001b[0m \u001b[1m0s\u001b[0m 320us/step - loss: 0.0465 - mae: 0.2459 - rmse: 0.2840 - val_loss: 0.0426 - val_mae: 0.2392 - val_rmse: 0.2670 - learning_rate: 5.0000e-04\n",
      "Epoch 14/200\n",
      "\u001b[1m106/106\u001b[0m \u001b[32m━━━━━━━━━━━━━━━━━━━━\u001b[0m\u001b[37m\u001b[0m \u001b[1m0s\u001b[0m 333us/step - loss: 0.0454 - mae: 0.2432 - rmse: 0.2790 - val_loss: 0.0423 - val_mae: 0.2391 - val_rmse: 0.2671 - learning_rate: 5.0000e-04\n",
      "Epoch 15/200\n",
      "\u001b[1m106/106\u001b[0m \u001b[32m━━━━━━━━━━━━━━━━━━━━\u001b[0m\u001b[37m\u001b[0m \u001b[1m0s\u001b[0m 341us/step - loss: 0.0468 - mae: 0.2500 - rmse: 0.2889 - val_loss: 0.0420 - val_mae: 0.2390 - val_rmse: 0.2671 - learning_rate: 5.0000e-04\n",
      "Epoch 16/200\n",
      "\u001b[1m106/106\u001b[0m \u001b[32m━━━━━━━━━━━━━━━━━━━━\u001b[0m\u001b[37m\u001b[0m \u001b[1m0s\u001b[0m 338us/step - loss: 0.0419 - mae: 0.2347 - rmse: 0.2687 - val_loss: 0.0419 - val_mae: 0.2391 - val_rmse: 0.2673 - learning_rate: 5.0000e-04\n",
      "Epoch 17/200\n",
      "\u001b[1m106/106\u001b[0m \u001b[32m━━━━━━━━━━━━━━━━━━━━\u001b[0m\u001b[37m\u001b[0m \u001b[1m0s\u001b[0m 322us/step - loss: 0.0460 - mae: 0.2492 - rmse: 0.2872 - val_loss: 0.0417 - val_mae: 0.2390 - val_rmse: 0.2674 - learning_rate: 5.0000e-04\n",
      "Epoch 18/200\n",
      "\u001b[1m106/106\u001b[0m \u001b[32m━━━━━━━━━━━━━━━━━━━━\u001b[0m\u001b[37m\u001b[0m \u001b[1m0s\u001b[0m 327us/step - loss: 0.0437 - mae: 0.2389 - rmse: 0.2786 - val_loss: 0.0415 - val_mae: 0.2391 - val_rmse: 0.2676 - learning_rate: 5.0000e-04\n",
      "Epoch 19/200\n",
      "\u001b[1m106/106\u001b[0m \u001b[32m━━━━━━━━━━━━━━━━━━━━\u001b[0m\u001b[37m\u001b[0m \u001b[1m0s\u001b[0m 321us/step - loss: 0.0446 - mae: 0.2439 - rmse: 0.2823 - val_loss: 0.0415 - val_mae: 0.2393 - val_rmse: 0.2678 - learning_rate: 5.0000e-04\n",
      "Epoch 20/200\n",
      "\u001b[1m106/106\u001b[0m \u001b[32m━━━━━━━━━━━━━━━━━━━━\u001b[0m\u001b[37m\u001b[0m \u001b[1m0s\u001b[0m 326us/step - loss: 0.0397 - mae: 0.2272 - rmse: 0.2670 - val_loss: 0.0414 - val_mae: 0.2393 - val_rmse: 0.2679 - learning_rate: 5.0000e-04\n",
      "Epoch 21/200\n",
      "\u001b[1m106/106\u001b[0m \u001b[32m━━━━━━━━━━━━━━━━━━━━\u001b[0m\u001b[37m\u001b[0m \u001b[1m0s\u001b[0m 318us/step - loss: 0.0435 - mae: 0.2407 - rmse: 0.2815 - val_loss: 0.0414 - val_mae: 0.2395 - val_rmse: 0.2681 - learning_rate: 5.0000e-04\n",
      "Epoch 22/200\n",
      "\u001b[1m106/106\u001b[0m \u001b[32m━━━━━━━━━━━━━━━━━━━━\u001b[0m\u001b[37m\u001b[0m \u001b[1m0s\u001b[0m 318us/step - loss: 0.0418 - mae: 0.2362 - rmse: 0.2784 - val_loss: 0.0414 - val_mae: 0.2396 - val_rmse: 0.2684 - learning_rate: 5.0000e-04\n",
      "Epoch 23/200\n",
      "\u001b[1m106/106\u001b[0m \u001b[32m━━━━━━━━━━━━━━━━━━━━\u001b[0m\u001b[37m\u001b[0m \u001b[1m0s\u001b[0m 322us/step - loss: 0.0457 - mae: 0.2523 - rmse: 0.2924 - val_loss: 0.0414 - val_mae: 0.2396 - val_rmse: 0.2684 - learning_rate: 5.0000e-05\n",
      "Epoch 24/200\n",
      "\u001b[1m106/106\u001b[0m \u001b[32m━━━━━━━━━━━━━━━━━━━━\u001b[0m\u001b[37m\u001b[0m \u001b[1m0s\u001b[0m 329us/step - loss: 0.0420 - mae: 0.2327 - rmse: 0.2740 - val_loss: 0.0414 - val_mae: 0.2396 - val_rmse: 0.2684 - learning_rate: 5.0000e-05\n",
      "Epoch 25/200\n",
      "\u001b[1m106/106\u001b[0m \u001b[32m━━━━━━━━━━━━━━━━━━━━\u001b[0m\u001b[37m\u001b[0m \u001b[1m0s\u001b[0m 322us/step - loss: 0.0454 - mae: 0.2508 - rmse: 0.2866 - val_loss: 0.0414 - val_mae: 0.2396 - val_rmse: 0.2684 - learning_rate: 5.0000e-06\n",
      "Epoch 26/200\n",
      "\u001b[1m106/106\u001b[0m \u001b[32m━━━━━━━━━━━━━━━━━━━━\u001b[0m\u001b[37m\u001b[0m \u001b[1m0s\u001b[0m 326us/step - loss: 0.0432 - mae: 0.2421 - rmse: 0.2829 - val_loss: 0.0414 - val_mae: 0.2396 - val_rmse: 0.2684 - learning_rate: 5.0000e-06\n",
      "Epoch 27/200\n",
      "\u001b[1m106/106\u001b[0m \u001b[32m━━━━━━━━━━━━━━━━━━━━\u001b[0m\u001b[37m\u001b[0m \u001b[1m0s\u001b[0m 322us/step - loss: 0.0429 - mae: 0.2397 - rmse: 0.2802 - val_loss: 0.0414 - val_mae: 0.2396 - val_rmse: 0.2684 - learning_rate: 1.0000e-06\n",
      "Epoch 28/200\n",
      "\u001b[1m106/106\u001b[0m \u001b[32m━━━━━━━━━━━━━━━━━━━━\u001b[0m\u001b[37m\u001b[0m \u001b[1m0s\u001b[0m 334us/step - loss: 0.0435 - mae: 0.2439 - rmse: 0.2808 - val_loss: 0.0414 - val_mae: 0.2396 - val_rmse: 0.2684 - learning_rate: 1.0000e-06\n",
      "Epoch 29/200\n",
      "\u001b[1m106/106\u001b[0m \u001b[32m━━━━━━━━━━━━━━━━━━━━\u001b[0m\u001b[37m\u001b[0m \u001b[1m0s\u001b[0m 333us/step - loss: 0.0437 - mae: 0.2467 - rmse: 0.2865 - val_loss: 0.0414 - val_mae: 0.2396 - val_rmse: 0.2684 - learning_rate: 1.0000e-06\n",
      "Epoch 30/200\n",
      "\u001b[1m106/106\u001b[0m \u001b[32m━━━━━━━━━━━━━━━━━━━━\u001b[0m\u001b[37m\u001b[0m \u001b[1m0s\u001b[0m 330us/step - loss: 0.0436 - mae: 0.2455 - rmse: 0.2812 - val_loss: 0.0414 - val_mae: 0.2396 - val_rmse: 0.2684 - learning_rate: 1.0000e-06\n",
      "Epoch 31/200\n",
      "\u001b[1m106/106\u001b[0m \u001b[32m━━━━━━━━━━━━━━━━━━━━\u001b[0m\u001b[37m\u001b[0m \u001b[1m0s\u001b[0m 337us/step - loss: 0.0445 - mae: 0.2474 - rmse: 0.2851 - val_loss: 0.0414 - val_mae: 0.2396 - val_rmse: 0.2684 - learning_rate: 1.0000e-06\n",
      "Epoch 32/200\n",
      "\u001b[1m106/106\u001b[0m \u001b[32m━━━━━━━━━━━━━━━━━━━━\u001b[0m\u001b[37m\u001b[0m \u001b[1m0s\u001b[0m 325us/step - loss: 0.0399 - mae: 0.2315 - rmse: 0.2697 - val_loss: 0.0414 - val_mae: 0.2396 - val_rmse: 0.2684 - learning_rate: 1.0000e-06\n",
      "Epoch 33/200\n",
      "\u001b[1m106/106\u001b[0m \u001b[32m━━━━━━━━━━━━━━━━━━━━\u001b[0m\u001b[37m\u001b[0m \u001b[1m0s\u001b[0m 331us/step - loss: 0.0422 - mae: 0.2374 - rmse: 0.2778 - val_loss: 0.0414 - val_mae: 0.2396 - val_rmse: 0.2684 - learning_rate: 1.0000e-06\n",
      "Epoch 34/200\n",
      "\u001b[1m106/106\u001b[0m \u001b[32m━━━━━━━━━━━━━━━━━━━━\u001b[0m\u001b[37m\u001b[0m \u001b[1m0s\u001b[0m 326us/step - loss: 0.0434 - mae: 0.2434 - rmse: 0.2816 - val_loss: 0.0414 - val_mae: 0.2396 - val_rmse: 0.2684 - learning_rate: 1.0000e-06\n",
      "Epoch 35/200\n",
      "\u001b[1m106/106\u001b[0m \u001b[32m━━━━━━━━━━━━━━━━━━━━\u001b[0m\u001b[37m\u001b[0m \u001b[1m0s\u001b[0m 335us/step - loss: 0.0443 - mae: 0.2439 - rmse: 0.2871 - val_loss: 0.0414 - val_mae: 0.2396 - val_rmse: 0.2684 - learning_rate: 1.0000e-06\n",
      "Epoch 36/200\n",
      "\u001b[1m106/106\u001b[0m \u001b[32m━━━━━━━━━━━━━━━━━━━━\u001b[0m\u001b[37m\u001b[0m \u001b[1m0s\u001b[0m 329us/step - loss: 0.0434 - mae: 0.2463 - rmse: 0.2844 - val_loss: 0.0414 - val_mae: 0.2396 - val_rmse: 0.2684 - learning_rate: 1.0000e-06\n",
      "Epoch 37/200\n",
      "\u001b[1m106/106\u001b[0m \u001b[32m━━━━━━━━━━━━━━━━━━━━\u001b[0m\u001b[37m\u001b[0m \u001b[1m0s\u001b[0m 334us/step - loss: 0.0425 - mae: 0.2395 - rmse: 0.2747 - val_loss: 0.0414 - val_mae: 0.2396 - val_rmse: 0.2684 - learning_rate: 1.0000e-06\n",
      "Epoch 38/200\n",
      "\u001b[1m106/106\u001b[0m \u001b[32m━━━━━━━━━━━━━━━━━━━━\u001b[0m\u001b[37m\u001b[0m \u001b[1m0s\u001b[0m 323us/step - loss: 0.0444 - mae: 0.2477 - rmse: 0.2893 - val_loss: 0.0414 - val_mae: 0.2396 - val_rmse: 0.2684 - learning_rate: 1.0000e-06\n",
      "Epoch 39/200\n",
      "\u001b[1m106/106\u001b[0m \u001b[32m━━━━━━━━━━━━━━━━━━━━\u001b[0m\u001b[37m\u001b[0m \u001b[1m0s\u001b[0m 336us/step - loss: 0.0436 - mae: 0.2441 - rmse: 0.2842 - val_loss: 0.0414 - val_mae: 0.2396 - val_rmse: 0.2684 - learning_rate: 1.0000e-06\n",
      "Epoch 40/200\n",
      "\u001b[1m106/106\u001b[0m \u001b[32m━━━━━━━━━━━━━━━━━━━━\u001b[0m\u001b[37m\u001b[0m \u001b[1m0s\u001b[0m 322us/step - loss: 0.0437 - mae: 0.2409 - rmse: 0.2843 - val_loss: 0.0414 - val_mae: 0.2396 - val_rmse: 0.2684 - learning_rate: 1.0000e-06\n",
      "Epoch 41/200\n",
      "\u001b[1m106/106\u001b[0m \u001b[32m━━━━━━━━━━━━━━━━━━━━\u001b[0m\u001b[37m\u001b[0m \u001b[1m0s\u001b[0m 332us/step - loss: 0.0415 - mae: 0.2354 - rmse: 0.2767 - val_loss: 0.0414 - val_mae: 0.2396 - val_rmse: 0.2684 - learning_rate: 1.0000e-06\n",
      "Epoch 42/200\n",
      "\u001b[1m106/106\u001b[0m \u001b[32m━━━━━━━━━━━━━━━━━━━━\u001b[0m\u001b[37m\u001b[0m \u001b[1m0s\u001b[0m 324us/step - loss: 0.0446 - mae: 0.2459 - rmse: 0.2871 - val_loss: 0.0414 - val_mae: 0.2396 - val_rmse: 0.2684 - learning_rate: 1.0000e-06\n",
      "Epoch 43/200\n",
      "\u001b[1m106/106\u001b[0m \u001b[32m━━━━━━━━━━━━━━━━━━━━\u001b[0m\u001b[37m\u001b[0m \u001b[1m0s\u001b[0m 332us/step - loss: 0.0423 - mae: 0.2364 - rmse: 0.2756 - val_loss: 0.0414 - val_mae: 0.2396 - val_rmse: 0.2684 - learning_rate: 1.0000e-06\n",
      "Epoch 44/200\n",
      "\u001b[1m106/106\u001b[0m \u001b[32m━━━━━━━━━━━━━━━━━━━━\u001b[0m\u001b[37m\u001b[0m \u001b[1m0s\u001b[0m 328us/step - loss: 0.0463 - mae: 0.2550 - rmse: 0.2946 - val_loss: 0.0414 - val_mae: 0.2396 - val_rmse: 0.2684 - learning_rate: 1.0000e-06\n",
      "Epoch 45/200\n",
      "\u001b[1m106/106\u001b[0m \u001b[32m━━━━━━━━━━━━━━━━━━━━\u001b[0m\u001b[37m\u001b[0m \u001b[1m0s\u001b[0m 331us/step - loss: 0.0429 - mae: 0.2409 - rmse: 0.2800 - val_loss: 0.0414 - val_mae: 0.2396 - val_rmse: 0.2684 - learning_rate: 1.0000e-06\n",
      "Epoch 46/200\n",
      "\u001b[1m106/106\u001b[0m \u001b[32m━━━━━━━━━━━━━━━━━━━━\u001b[0m\u001b[37m\u001b[0m \u001b[1m0s\u001b[0m 325us/step - loss: 0.0437 - mae: 0.2444 - rmse: 0.2820 - val_loss: 0.0414 - val_mae: 0.2396 - val_rmse: 0.2684 - learning_rate: 1.0000e-06\n",
      "Epoch 47/200\n",
      "\u001b[1m106/106\u001b[0m \u001b[32m━━━━━━━━━━━━━━━━━━━━\u001b[0m\u001b[37m\u001b[0m \u001b[1m0s\u001b[0m 324us/step - loss: 0.0406 - mae: 0.2347 - rmse: 0.2737 - val_loss: 0.0414 - val_mae: 0.2396 - val_rmse: 0.2684 - learning_rate: 1.0000e-06\n",
      "Epoch 48/200\n",
      "\u001b[1m106/106\u001b[0m \u001b[32m━━━━━━━━━━━━━━━━━━━━\u001b[0m\u001b[37m\u001b[0m \u001b[1m0s\u001b[0m 329us/step - loss: 0.0430 - mae: 0.2431 - rmse: 0.2852 - val_loss: 0.0414 - val_mae: 0.2396 - val_rmse: 0.2684 - learning_rate: 1.0000e-06\n",
      "Epoch 49/200\n",
      "\u001b[1m106/106\u001b[0m \u001b[32m━━━━━━━━━━━━━━━━━━━━\u001b[0m\u001b[37m\u001b[0m \u001b[1m0s\u001b[0m 328us/step - loss: 0.0396 - mae: 0.2280 - rmse: 0.2709 - val_loss: 0.0414 - val_mae: 0.2396 - val_rmse: 0.2684 - learning_rate: 1.0000e-06\n",
      "Epoch 50/200\n",
      "\u001b[1m106/106\u001b[0m \u001b[32m━━━━━━━━━━━━━━━━━━━━\u001b[0m\u001b[37m\u001b[0m \u001b[1m0s\u001b[0m 334us/step - loss: 0.0398 - mae: 0.2299 - rmse: 0.2746 - val_loss: 0.0414 - val_mae: 0.2396 - val_rmse: 0.2684 - learning_rate: 1.0000e-06\n",
      "Epoch 51/200\n",
      "\u001b[1m106/106\u001b[0m \u001b[32m━━━━━━━━━━━━━━━━━━━━\u001b[0m\u001b[37m\u001b[0m \u001b[1m0s\u001b[0m 325us/step - loss: 0.0444 - mae: 0.2478 - rmse: 0.2837 - val_loss: 0.0414 - val_mae: 0.2396 - val_rmse: 0.2684 - learning_rate: 1.0000e-06\n",
      "Epoch 52/200\n",
      "\u001b[1m106/106\u001b[0m \u001b[32m━━━━━━━━━━━━━━━━━━━━\u001b[0m\u001b[37m\u001b[0m \u001b[1m0s\u001b[0m 329us/step - loss: 0.0440 - mae: 0.2441 - rmse: 0.2871 - val_loss: 0.0413 - val_mae: 0.2396 - val_rmse: 0.2684 - learning_rate: 1.0000e-06\n",
      "Epoch 53/200\n",
      "\u001b[1m106/106\u001b[0m \u001b[32m━━━━━━━━━━━━━━━━━━━━\u001b[0m\u001b[37m\u001b[0m \u001b[1m0s\u001b[0m 325us/step - loss: 0.0447 - mae: 0.2474 - rmse: 0.2893 - val_loss: 0.0413 - val_mae: 0.2396 - val_rmse: 0.2684 - learning_rate: 1.0000e-06\n",
      "Epoch 54/200\n",
      "\u001b[1m106/106\u001b[0m \u001b[32m━━━━━━━━━━━━━━━━━━━━\u001b[0m\u001b[37m\u001b[0m \u001b[1m0s\u001b[0m 335us/step - loss: 0.0430 - mae: 0.2420 - rmse: 0.2793 - val_loss: 0.0413 - val_mae: 0.2396 - val_rmse: 0.2684 - learning_rate: 1.0000e-06\n",
      "Epoch 55/200\n",
      "\u001b[1m106/106\u001b[0m \u001b[32m━━━━━━━━━━━━━━━━━━━━\u001b[0m\u001b[37m\u001b[0m \u001b[1m0s\u001b[0m 327us/step - loss: 0.0435 - mae: 0.2434 - rmse: 0.2795 - val_loss: 0.0413 - val_mae: 0.2396 - val_rmse: 0.2684 - learning_rate: 1.0000e-06\n",
      "Epoch 56/200\n",
      "\u001b[1m106/106\u001b[0m \u001b[32m━━━━━━━━━━━━━━━━━━━━\u001b[0m\u001b[37m\u001b[0m \u001b[1m0s\u001b[0m 343us/step - loss: 0.0440 - mae: 0.2446 - rmse: 0.2825 - val_loss: 0.0413 - val_mae: 0.2396 - val_rmse: 0.2684 - learning_rate: 1.0000e-06\n",
      "Epoch 57/200\n",
      "\u001b[1m106/106\u001b[0m \u001b[32m━━━━━━━━━━━━━━━━━━━━\u001b[0m\u001b[37m\u001b[0m \u001b[1m0s\u001b[0m 335us/step - loss: 0.0449 - mae: 0.2495 - rmse: 0.2899 - val_loss: 0.0413 - val_mae: 0.2396 - val_rmse: 0.2684 - learning_rate: 1.0000e-06\n",
      "Epoch 58/200\n",
      "\u001b[1m106/106\u001b[0m \u001b[32m━━━━━━━━━━━━━━━━━━━━\u001b[0m\u001b[37m\u001b[0m \u001b[1m0s\u001b[0m 337us/step - loss: 0.0444 - mae: 0.2499 - rmse: 0.2872 - val_loss: 0.0413 - val_mae: 0.2396 - val_rmse: 0.2684 - learning_rate: 1.0000e-06\n",
      "Epoch 59/200\n",
      "\u001b[1m106/106\u001b[0m \u001b[32m━━━━━━━━━━━━━━━━━━━━\u001b[0m\u001b[37m\u001b[0m \u001b[1m0s\u001b[0m 332us/step - loss: 0.0416 - mae: 0.2353 - rmse: 0.2731 - val_loss: 0.0413 - val_mae: 0.2396 - val_rmse: 0.2684 - learning_rate: 1.0000e-06\n",
      "Epoch 60/200\n",
      "\u001b[1m106/106\u001b[0m \u001b[32m━━━━━━━━━━━━━━━━━━━━\u001b[0m\u001b[37m\u001b[0m \u001b[1m0s\u001b[0m 339us/step - loss: 0.0442 - mae: 0.2446 - rmse: 0.2877 - val_loss: 0.0413 - val_mae: 0.2396 - val_rmse: 0.2684 - learning_rate: 1.0000e-06\n",
      "Epoch 61/200\n",
      "\u001b[1m106/106\u001b[0m \u001b[32m━━━━━━━━━━━━━━━━━━━━\u001b[0m\u001b[37m\u001b[0m \u001b[1m0s\u001b[0m 328us/step - loss: 0.0414 - mae: 0.2350 - rmse: 0.2752 - val_loss: 0.0413 - val_mae: 0.2396 - val_rmse: 0.2684 - learning_rate: 1.0000e-06\n",
      "Epoch 62/200\n",
      "\u001b[1m106/106\u001b[0m \u001b[32m━━━━━━━━━━━━━━━━━━━━\u001b[0m\u001b[37m\u001b[0m \u001b[1m0s\u001b[0m 325us/step - loss: 0.0416 - mae: 0.2379 - rmse: 0.2748 - val_loss: 0.0413 - val_mae: 0.2396 - val_rmse: 0.2684 - learning_rate: 1.0000e-06\n",
      "Epoch 63/200\n",
      "\u001b[1m106/106\u001b[0m \u001b[32m━━━━━━━━━━━━━━━━━━━━\u001b[0m\u001b[37m\u001b[0m \u001b[1m0s\u001b[0m 324us/step - loss: 0.0428 - mae: 0.2395 - rmse: 0.2782 - val_loss: 0.0413 - val_mae: 0.2396 - val_rmse: 0.2684 - learning_rate: 1.0000e-06\n",
      "Epoch 64/200\n",
      "\u001b[1m106/106\u001b[0m \u001b[32m━━━━━━━━━━━━━━━━━━━━\u001b[0m\u001b[37m\u001b[0m \u001b[1m0s\u001b[0m 334us/step - loss: 0.0460 - mae: 0.2563 - rmse: 0.2939 - val_loss: 0.0413 - val_mae: 0.2396 - val_rmse: 0.2684 - learning_rate: 1.0000e-06\n",
      "Epoch 65/200\n",
      "\u001b[1m106/106\u001b[0m \u001b[32m━━━━━━━━━━━━━━━━━━━━\u001b[0m\u001b[37m\u001b[0m \u001b[1m0s\u001b[0m 379us/step - loss: 0.0437 - mae: 0.2440 - rmse: 0.2853 - val_loss: 0.0413 - val_mae: 0.2396 - val_rmse: 0.2684 - learning_rate: 1.0000e-06\n",
      "Epoch 66/200\n",
      "\u001b[1m106/106\u001b[0m \u001b[32m━━━━━━━━━━━━━━━━━━━━\u001b[0m\u001b[37m\u001b[0m \u001b[1m0s\u001b[0m 346us/step - loss: 0.0437 - mae: 0.2455 - rmse: 0.2869 - val_loss: 0.0413 - val_mae: 0.2396 - val_rmse: 0.2684 - learning_rate: 1.0000e-06\n",
      "Epoch 67/200\n",
      "\u001b[1m106/106\u001b[0m \u001b[32m━━━━━━━━━━━━━━━━━━━━\u001b[0m\u001b[37m\u001b[0m \u001b[1m0s\u001b[0m 338us/step - loss: 0.0451 - mae: 0.2486 - rmse: 0.2896 - val_loss: 0.0413 - val_mae: 0.2396 - val_rmse: 0.2684 - learning_rate: 1.0000e-06\n",
      "Epoch 68/200\n",
      "\u001b[1m106/106\u001b[0m \u001b[32m━━━━━━━━━━━━━━━━━━━━\u001b[0m\u001b[37m\u001b[0m \u001b[1m0s\u001b[0m 377us/step - loss: 0.0450 - mae: 0.2497 - rmse: 0.2879 - val_loss: 0.0413 - val_mae: 0.2396 - val_rmse: 0.2684 - learning_rate: 1.0000e-06\n",
      "Epoch 69/200\n",
      "\u001b[1m106/106\u001b[0m \u001b[32m━━━━━━━━━━━━━━━━━━━━\u001b[0m\u001b[37m\u001b[0m \u001b[1m0s\u001b[0m 344us/step - loss: 0.0468 - mae: 0.2559 - rmse: 0.2935 - val_loss: 0.0413 - val_mae: 0.2396 - val_rmse: 0.2684 - learning_rate: 1.0000e-06\n",
      "Epoch 70/200\n",
      "\u001b[1m106/106\u001b[0m \u001b[32m━━━━━━━━━━━━━━━━━━━━\u001b[0m\u001b[37m\u001b[0m \u001b[1m0s\u001b[0m 327us/step - loss: 0.0432 - mae: 0.2407 - rmse: 0.2878 - val_loss: 0.0413 - val_mae: 0.2396 - val_rmse: 0.2684 - learning_rate: 1.0000e-06\n",
      "Epoch 71/200\n",
      "\u001b[1m106/106\u001b[0m \u001b[32m━━━━━━━━━━━━━━━━━━━━\u001b[0m\u001b[37m\u001b[0m \u001b[1m0s\u001b[0m 337us/step - loss: 0.0472 - mae: 0.2566 - rmse: 0.2955 - val_loss: 0.0413 - val_mae: 0.2396 - val_rmse: 0.2684 - learning_rate: 1.0000e-06\n",
      "Epoch 72/200\n",
      "\u001b[1m106/106\u001b[0m \u001b[32m━━━━━━━━━━━━━━━━━━━━\u001b[0m\u001b[37m\u001b[0m \u001b[1m0s\u001b[0m 343us/step - loss: 0.0428 - mae: 0.2373 - rmse: 0.2763 - val_loss: 0.0413 - val_mae: 0.2396 - val_rmse: 0.2684 - learning_rate: 1.0000e-06\n",
      "Epoch 73/200\n",
      "\u001b[1m106/106\u001b[0m \u001b[32m━━━━━━━━━━━━━━━━━━━━\u001b[0m\u001b[37m\u001b[0m \u001b[1m0s\u001b[0m 341us/step - loss: 0.0422 - mae: 0.2390 - rmse: 0.2812 - val_loss: 0.0413 - val_mae: 0.2396 - val_rmse: 0.2684 - learning_rate: 1.0000e-06\n",
      "Epoch 74/200\n",
      "\u001b[1m106/106\u001b[0m \u001b[32m━━━━━━━━━━━━━━━━━━━━\u001b[0m\u001b[37m\u001b[0m \u001b[1m0s\u001b[0m 341us/step - loss: 0.0401 - mae: 0.2314 - rmse: 0.2703 - val_loss: 0.0413 - val_mae: 0.2396 - val_rmse: 0.2684 - learning_rate: 1.0000e-06\n",
      "Epoch 75/200\n",
      "\u001b[1m106/106\u001b[0m \u001b[32m━━━━━━━━━━━━━━━━━━━━\u001b[0m\u001b[37m\u001b[0m \u001b[1m0s\u001b[0m 345us/step - loss: 0.0411 - mae: 0.2372 - rmse: 0.2795 - val_loss: 0.0413 - val_mae: 0.2396 - val_rmse: 0.2684 - learning_rate: 1.0000e-06\n",
      "Epoch 76/200\n",
      "\u001b[1m106/106\u001b[0m \u001b[32m━━━━━━━━━━━━━━━━━━━━\u001b[0m\u001b[37m\u001b[0m \u001b[1m0s\u001b[0m 332us/step - loss: 0.0462 - mae: 0.2509 - rmse: 0.2934 - val_loss: 0.0413 - val_mae: 0.2396 - val_rmse: 0.2684 - learning_rate: 1.0000e-06\n",
      "Epoch 77/200\n",
      "\u001b[1m106/106\u001b[0m \u001b[32m━━━━━━━━━━━━━━━━━━━━\u001b[0m\u001b[37m\u001b[0m \u001b[1m0s\u001b[0m 336us/step - loss: 0.0452 - mae: 0.2487 - rmse: 0.2885 - val_loss: 0.0413 - val_mae: 0.2396 - val_rmse: 0.2684 - learning_rate: 1.0000e-06\n",
      "Epoch 78/200\n",
      "\u001b[1m106/106\u001b[0m \u001b[32m━━━━━━━━━━━━━━━━━━━━\u001b[0m\u001b[37m\u001b[0m \u001b[1m0s\u001b[0m 328us/step - loss: 0.0390 - mae: 0.2255 - rmse: 0.2659 - val_loss: 0.0413 - val_mae: 0.2396 - val_rmse: 0.2684 - learning_rate: 1.0000e-06\n",
      "Epoch 79/200\n",
      "\u001b[1m106/106\u001b[0m \u001b[32m━━━━━━━━━━━━━━━━━━━━\u001b[0m\u001b[37m\u001b[0m \u001b[1m0s\u001b[0m 332us/step - loss: 0.0458 - mae: 0.2527 - rmse: 0.2935 - val_loss: 0.0413 - val_mae: 0.2396 - val_rmse: 0.2684 - learning_rate: 1.0000e-06\n",
      "Epoch 80/200\n",
      "\u001b[1m106/106\u001b[0m \u001b[32m━━━━━━━━━━━━━━━━━━━━\u001b[0m\u001b[37m\u001b[0m \u001b[1m0s\u001b[0m 331us/step - loss: 0.0437 - mae: 0.2417 - rmse: 0.2860 - val_loss: 0.0413 - val_mae: 0.2396 - val_rmse: 0.2684 - learning_rate: 1.0000e-06\n",
      "Epoch 81/200\n",
      "\u001b[1m106/106\u001b[0m \u001b[32m━━━━━━━━━━━━━━━━━━━━\u001b[0m\u001b[37m\u001b[0m \u001b[1m0s\u001b[0m 329us/step - loss: 0.0412 - mae: 0.2321 - rmse: 0.2750 - val_loss: 0.0413 - val_mae: 0.2396 - val_rmse: 0.2684 - learning_rate: 1.0000e-06\n",
      "Epoch 82/200\n",
      "\u001b[1m106/106\u001b[0m \u001b[32m━━━━━━━━━━━━━━━━━━━━\u001b[0m\u001b[37m\u001b[0m \u001b[1m0s\u001b[0m 332us/step - loss: 0.0425 - mae: 0.2379 - rmse: 0.2804 - val_loss: 0.0413 - val_mae: 0.2396 - val_rmse: 0.2684 - learning_rate: 1.0000e-06\n",
      "Epoch 83/200\n",
      "\u001b[1m106/106\u001b[0m \u001b[32m━━━━━━━━━━━━━━━━━━━━\u001b[0m\u001b[37m\u001b[0m \u001b[1m0s\u001b[0m 336us/step - loss: 0.0452 - mae: 0.2492 - rmse: 0.2899 - val_loss: 0.0413 - val_mae: 0.2396 - val_rmse: 0.2684 - learning_rate: 1.0000e-06\n",
      "Epoch 84/200\n",
      "\u001b[1m106/106\u001b[0m \u001b[32m━━━━━━━━━━━━━━━━━━━━\u001b[0m\u001b[37m\u001b[0m \u001b[1m0s\u001b[0m 334us/step - loss: 0.0451 - mae: 0.2503 - rmse: 0.2900 - val_loss: 0.0413 - val_mae: 0.2396 - val_rmse: 0.2684 - learning_rate: 1.0000e-06\n",
      "Epoch 85/200\n",
      "\u001b[1m106/106\u001b[0m \u001b[32m━━━━━━━━━━━━━━━━━━━━\u001b[0m\u001b[37m\u001b[0m \u001b[1m0s\u001b[0m 332us/step - loss: 0.0439 - mae: 0.2453 - rmse: 0.2853 - val_loss: 0.0413 - val_mae: 0.2396 - val_rmse: 0.2684 - learning_rate: 1.0000e-06\n",
      "Epoch 86/200\n",
      "\u001b[1m106/106\u001b[0m \u001b[32m━━━━━━━━━━━━━━━━━━━━\u001b[0m\u001b[37m\u001b[0m \u001b[1m0s\u001b[0m 333us/step - loss: 0.0424 - mae: 0.2375 - rmse: 0.2838 - val_loss: 0.0413 - val_mae: 0.2396 - val_rmse: 0.2684 - learning_rate: 1.0000e-06\n",
      "Epoch 87/200\n",
      "\u001b[1m106/106\u001b[0m \u001b[32m━━━━━━━━━━━━━━━━━━━━\u001b[0m\u001b[37m\u001b[0m \u001b[1m0s\u001b[0m 331us/step - loss: 0.0454 - mae: 0.2485 - rmse: 0.2869 - val_loss: 0.0413 - val_mae: 0.2396 - val_rmse: 0.2684 - learning_rate: 1.0000e-06\n",
      "Epoch 88/200\n",
      "\u001b[1m106/106\u001b[0m \u001b[32m━━━━━━━━━━━━━━━━━━━━\u001b[0m\u001b[37m\u001b[0m \u001b[1m0s\u001b[0m 338us/step - loss: 0.0421 - mae: 0.2365 - rmse: 0.2713 - val_loss: 0.0413 - val_mae: 0.2396 - val_rmse: 0.2684 - learning_rate: 1.0000e-06\n",
      "Epoch 89/200\n",
      "\u001b[1m106/106\u001b[0m \u001b[32m━━━━━━━━━━━━━━━━━━━━\u001b[0m\u001b[37m\u001b[0m \u001b[1m0s\u001b[0m 333us/step - loss: 0.0461 - mae: 0.2519 - rmse: 0.2904 - val_loss: 0.0413 - val_mae: 0.2396 - val_rmse: 0.2685 - learning_rate: 1.0000e-06\n",
      "Epoch 90/200\n",
      "\u001b[1m106/106\u001b[0m \u001b[32m━━━━━━━━━━━━━━━━━━━━\u001b[0m\u001b[37m\u001b[0m \u001b[1m0s\u001b[0m 331us/step - loss: 0.0430 - mae: 0.2359 - rmse: 0.2736 - val_loss: 0.0413 - val_mae: 0.2396 - val_rmse: 0.2685 - learning_rate: 1.0000e-06\n",
      "Epoch 91/200\n",
      "\u001b[1m106/106\u001b[0m \u001b[32m━━━━━━━━━━━━━━━━━━━━\u001b[0m\u001b[37m\u001b[0m \u001b[1m0s\u001b[0m 334us/step - loss: 0.0453 - mae: 0.2516 - rmse: 0.2884 - val_loss: 0.0413 - val_mae: 0.2396 - val_rmse: 0.2685 - learning_rate: 1.0000e-06\n",
      "Epoch 92/200\n",
      "\u001b[1m106/106\u001b[0m \u001b[32m━━━━━━━━━━━━━━━━━━━━\u001b[0m\u001b[37m\u001b[0m \u001b[1m0s\u001b[0m 327us/step - loss: 0.0408 - mae: 0.2309 - rmse: 0.2761 - val_loss: 0.0413 - val_mae: 0.2396 - val_rmse: 0.2685 - learning_rate: 1.0000e-06\n",
      "Epoch 93/200\n",
      "\u001b[1m106/106\u001b[0m \u001b[32m━━━━━━━━━━━━━━━━━━━━\u001b[0m\u001b[37m\u001b[0m \u001b[1m0s\u001b[0m 339us/step - loss: 0.0446 - mae: 0.2481 - rmse: 0.2895 - val_loss: 0.0413 - val_mae: 0.2396 - val_rmse: 0.2685 - learning_rate: 1.0000e-06\n",
      "Epoch 94/200\n",
      "\u001b[1m106/106\u001b[0m \u001b[32m━━━━━━━━━━━━━━━━━━━━\u001b[0m\u001b[37m\u001b[0m \u001b[1m0s\u001b[0m 340us/step - loss: 0.0418 - mae: 0.2359 - rmse: 0.2761 - val_loss: 0.0413 - val_mae: 0.2396 - val_rmse: 0.2685 - learning_rate: 1.0000e-06\n",
      "Epoch 95/200\n",
      "\u001b[1m106/106\u001b[0m \u001b[32m━━━━━━━━━━━━━━━━━━━━\u001b[0m\u001b[37m\u001b[0m \u001b[1m0s\u001b[0m 328us/step - loss: 0.0439 - mae: 0.2401 - rmse: 0.2815 - val_loss: 0.0413 - val_mae: 0.2396 - val_rmse: 0.2685 - learning_rate: 1.0000e-06\n",
      "Epoch 96/200\n",
      "\u001b[1m106/106\u001b[0m \u001b[32m━━━━━━━━━━━━━━━━━━━━\u001b[0m\u001b[37m\u001b[0m \u001b[1m0s\u001b[0m 322us/step - loss: 0.0444 - mae: 0.2429 - rmse: 0.2859 - val_loss: 0.0413 - val_mae: 0.2396 - val_rmse: 0.2685 - learning_rate: 1.0000e-06\n",
      "Epoch 97/200\n",
      "\u001b[1m106/106\u001b[0m \u001b[32m━━━━━━━━━━━━━━━━━━━━\u001b[0m\u001b[37m\u001b[0m \u001b[1m0s\u001b[0m 327us/step - loss: 0.0459 - mae: 0.2511 - rmse: 0.2931 - val_loss: 0.0413 - val_mae: 0.2396 - val_rmse: 0.2685 - learning_rate: 1.0000e-06\n",
      "Epoch 98/200\n",
      "\u001b[1m106/106\u001b[0m \u001b[32m━━━━━━━━━━━━━━━━━━━━\u001b[0m\u001b[37m\u001b[0m \u001b[1m0s\u001b[0m 321us/step - loss: 0.0406 - mae: 0.2353 - rmse: 0.2694 - val_loss: 0.0413 - val_mae: 0.2396 - val_rmse: 0.2685 - learning_rate: 1.0000e-06\n",
      "Epoch 99/200\n",
      "\u001b[1m106/106\u001b[0m \u001b[32m━━━━━━━━━━━━━━━━━━━━\u001b[0m\u001b[37m\u001b[0m \u001b[1m0s\u001b[0m 329us/step - loss: 0.0470 - mae: 0.2543 - rmse: 0.2966 - val_loss: 0.0413 - val_mae: 0.2396 - val_rmse: 0.2685 - learning_rate: 1.0000e-06\n",
      "Epoch 100/200\n",
      "\u001b[1m106/106\u001b[0m \u001b[32m━━━━━━━━━━━━━━━━━━━━\u001b[0m\u001b[37m\u001b[0m \u001b[1m0s\u001b[0m 328us/step - loss: 0.0438 - mae: 0.2438 - rmse: 0.2814 - val_loss: 0.0413 - val_mae: 0.2396 - val_rmse: 0.2685 - learning_rate: 1.0000e-06\n",
      "Epoch 101/200\n",
      "\u001b[1m106/106\u001b[0m \u001b[32m━━━━━━━━━━━━━━━━━━━━\u001b[0m\u001b[37m\u001b[0m \u001b[1m0s\u001b[0m 333us/step - loss: 0.0420 - mae: 0.2390 - rmse: 0.2831 - val_loss: 0.0413 - val_mae: 0.2396 - val_rmse: 0.2685 - learning_rate: 1.0000e-06\n",
      "Epoch 102/200\n",
      "\u001b[1m106/106\u001b[0m \u001b[32m━━━━━━━━━━━━━━━━━━━━\u001b[0m\u001b[37m\u001b[0m \u001b[1m0s\u001b[0m 336us/step - loss: 0.0455 - mae: 0.2503 - rmse: 0.2889 - val_loss: 0.0413 - val_mae: 0.2396 - val_rmse: 0.2685 - learning_rate: 1.0000e-06\n",
      "Epoch 103/200\n",
      "\u001b[1m106/106\u001b[0m \u001b[32m━━━━━━━━━━━━━━━━━━━━\u001b[0m\u001b[37m\u001b[0m \u001b[1m0s\u001b[0m 327us/step - loss: 0.0467 - mae: 0.2558 - rmse: 0.2954 - val_loss: 0.0413 - val_mae: 0.2396 - val_rmse: 0.2685 - learning_rate: 1.0000e-06\n",
      "Epoch 104/200\n",
      "\u001b[1m106/106\u001b[0m \u001b[32m━━━━━━━━━━━━━━━━━━━━\u001b[0m\u001b[37m\u001b[0m \u001b[1m0s\u001b[0m 333us/step - loss: 0.0439 - mae: 0.2453 - rmse: 0.2854 - val_loss: 0.0413 - val_mae: 0.2396 - val_rmse: 0.2685 - learning_rate: 1.0000e-06\n",
      "Epoch 105/200\n",
      "\u001b[1m106/106\u001b[0m \u001b[32m━━━━━━━━━━━━━━━━━━━━\u001b[0m\u001b[37m\u001b[0m \u001b[1m0s\u001b[0m 332us/step - loss: 0.0441 - mae: 0.2455 - rmse: 0.2859 - val_loss: 0.0413 - val_mae: 0.2396 - val_rmse: 0.2685 - learning_rate: 1.0000e-06\n",
      "Epoch 106/200\n",
      "\u001b[1m106/106\u001b[0m \u001b[32m━━━━━━━━━━━━━━━━━━━━\u001b[0m\u001b[37m\u001b[0m \u001b[1m0s\u001b[0m 331us/step - loss: 0.0419 - mae: 0.2399 - rmse: 0.2810 - val_loss: 0.0413 - val_mae: 0.2396 - val_rmse: 0.2685 - learning_rate: 1.0000e-06\n",
      "Epoch 107/200\n",
      "\u001b[1m106/106\u001b[0m \u001b[32m━━━━━━━━━━━━━━━━━━━━\u001b[0m\u001b[37m\u001b[0m \u001b[1m0s\u001b[0m 332us/step - loss: 0.0425 - mae: 0.2384 - rmse: 0.2844 - val_loss: 0.0413 - val_mae: 0.2396 - val_rmse: 0.2685 - learning_rate: 1.0000e-06\n",
      "Epoch 108/200\n",
      "\u001b[1m106/106\u001b[0m \u001b[32m━━━━━━━━━━━━━━━━━━━━\u001b[0m\u001b[37m\u001b[0m \u001b[1m0s\u001b[0m 331us/step - loss: 0.0469 - mae: 0.2587 - rmse: 0.2954 - val_loss: 0.0413 - val_mae: 0.2396 - val_rmse: 0.2685 - learning_rate: 1.0000e-06\n",
      "Epoch 109/200\n",
      "\u001b[1m106/106\u001b[0m \u001b[32m━━━━━━━━━━━━━━━━━━━━\u001b[0m\u001b[37m\u001b[0m \u001b[1m0s\u001b[0m 334us/step - loss: 0.0446 - mae: 0.2480 - rmse: 0.2875 - val_loss: 0.0413 - val_mae: 0.2396 - val_rmse: 0.2685 - learning_rate: 1.0000e-06\n",
      "Epoch 110/200\n",
      "\u001b[1m106/106\u001b[0m \u001b[32m━━━━━━━━━━━━━━━━━━━━\u001b[0m\u001b[37m\u001b[0m \u001b[1m0s\u001b[0m 333us/step - loss: 0.0460 - mae: 0.2523 - rmse: 0.2921 - val_loss: 0.0413 - val_mae: 0.2396 - val_rmse: 0.2685 - learning_rate: 1.0000e-06\n",
      "Epoch 111/200\n",
      "\u001b[1m106/106\u001b[0m \u001b[32m━━━━━━━━━━━━━━━━━━━━\u001b[0m\u001b[37m\u001b[0m \u001b[1m0s\u001b[0m 336us/step - loss: 0.0431 - mae: 0.2416 - rmse: 0.2809 - val_loss: 0.0413 - val_mae: 0.2396 - val_rmse: 0.2685 - learning_rate: 1.0000e-06\n",
      "Epoch 112/200\n",
      "\u001b[1m106/106\u001b[0m \u001b[32m━━━━━━━━━━━━━━━━━━━━\u001b[0m\u001b[37m\u001b[0m \u001b[1m0s\u001b[0m 334us/step - loss: 0.0437 - mae: 0.2426 - rmse: 0.2775 - val_loss: 0.0413 - val_mae: 0.2396 - val_rmse: 0.2685 - learning_rate: 1.0000e-06\n",
      "Epoch 113/200\n",
      "\u001b[1m106/106\u001b[0m \u001b[32m━━━━━━━━━━━━━━━━━━━━\u001b[0m\u001b[37m\u001b[0m \u001b[1m0s\u001b[0m 326us/step - loss: 0.0453 - mae: 0.2529 - rmse: 0.2935 - val_loss: 0.0413 - val_mae: 0.2396 - val_rmse: 0.2685 - learning_rate: 1.0000e-06\n",
      "Epoch 114/200\n",
      "\u001b[1m106/106\u001b[0m \u001b[32m━━━━━━━━━━━━━━━━━━━━\u001b[0m\u001b[37m\u001b[0m \u001b[1m0s\u001b[0m 327us/step - loss: 0.0424 - mae: 0.2379 - rmse: 0.2772 - val_loss: 0.0413 - val_mae: 0.2396 - val_rmse: 0.2685 - learning_rate: 1.0000e-06\n",
      "Epoch 115/200\n",
      "\u001b[1m106/106\u001b[0m \u001b[32m━━━━━━━━━━━━━━━━━━━━\u001b[0m\u001b[37m\u001b[0m \u001b[1m0s\u001b[0m 334us/step - loss: 0.0456 - mae: 0.2516 - rmse: 0.2941 - val_loss: 0.0413 - val_mae: 0.2396 - val_rmse: 0.2685 - learning_rate: 1.0000e-06\n",
      "Epoch 116/200\n",
      "\u001b[1m106/106\u001b[0m \u001b[32m━━━━━━━━━━━━━━━━━━━━\u001b[0m\u001b[37m\u001b[0m \u001b[1m0s\u001b[0m 332us/step - loss: 0.0472 - mae: 0.2575 - rmse: 0.2966 - val_loss: 0.0413 - val_mae: 0.2396 - val_rmse: 0.2685 - learning_rate: 1.0000e-06\n",
      "Epoch 117/200\n",
      "\u001b[1m106/106\u001b[0m \u001b[32m━━━━━━━━━━━━━━━━━━━━\u001b[0m\u001b[37m\u001b[0m \u001b[1m0s\u001b[0m 335us/step - loss: 0.0454 - mae: 0.2500 - rmse: 0.2882 - val_loss: 0.0413 - val_mae: 0.2396 - val_rmse: 0.2685 - learning_rate: 1.0000e-06\n",
      "Epoch 118/200\n",
      "\u001b[1m106/106\u001b[0m \u001b[32m━━━━━━━━━━━━━━━━━━━━\u001b[0m\u001b[37m\u001b[0m \u001b[1m0s\u001b[0m 329us/step - loss: 0.0438 - mae: 0.2457 - rmse: 0.2889 - val_loss: 0.0413 - val_mae: 0.2396 - val_rmse: 0.2685 - learning_rate: 1.0000e-06\n",
      "Epoch 119/200\n",
      "\u001b[1m106/106\u001b[0m \u001b[32m━━━━━━━━━━━━━━━━━━━━\u001b[0m\u001b[37m\u001b[0m \u001b[1m0s\u001b[0m 332us/step - loss: 0.0433 - mae: 0.2441 - rmse: 0.2860 - val_loss: 0.0413 - val_mae: 0.2396 - val_rmse: 0.2685 - learning_rate: 1.0000e-06\n",
      "Epoch 120/200\n",
      "\u001b[1m106/106\u001b[0m \u001b[32m━━━━━━━━━━━━━━━━━━━━\u001b[0m\u001b[37m\u001b[0m \u001b[1m0s\u001b[0m 332us/step - loss: 0.0446 - mae: 0.2473 - rmse: 0.2854 - val_loss: 0.0413 - val_mae: 0.2396 - val_rmse: 0.2685 - learning_rate: 1.0000e-06\n",
      "Epoch 121/200\n",
      "\u001b[1m106/106\u001b[0m \u001b[32m━━━━━━━━━━━━━━━━━━━━\u001b[0m\u001b[37m\u001b[0m \u001b[1m0s\u001b[0m 333us/step - loss: 0.0461 - mae: 0.2553 - rmse: 0.2900 - val_loss: 0.0413 - val_mae: 0.2396 - val_rmse: 0.2685 - learning_rate: 1.0000e-06\n",
      "Epoch 122/200\n",
      "\u001b[1m106/106\u001b[0m \u001b[32m━━━━━━━━━━━━━━━━━━━━\u001b[0m\u001b[37m\u001b[0m \u001b[1m0s\u001b[0m 341us/step - loss: 0.0451 - mae: 0.2462 - rmse: 0.2873 - val_loss: 0.0413 - val_mae: 0.2396 - val_rmse: 0.2685 - learning_rate: 1.0000e-06\n",
      "Epoch 123/200\n",
      "\u001b[1m106/106\u001b[0m \u001b[32m━━━━━━━━━━━━━━━━━━━━\u001b[0m\u001b[37m\u001b[0m \u001b[1m0s\u001b[0m 336us/step - loss: 0.0437 - mae: 0.2420 - rmse: 0.2872 - val_loss: 0.0413 - val_mae: 0.2396 - val_rmse: 0.2685 - learning_rate: 1.0000e-06\n",
      "Epoch 124/200\n",
      "\u001b[1m106/106\u001b[0m \u001b[32m━━━━━━━━━━━━━━━━━━━━\u001b[0m\u001b[37m\u001b[0m \u001b[1m0s\u001b[0m 349us/step - loss: 0.0432 - mae: 0.2429 - rmse: 0.2821 - val_loss: 0.0413 - val_mae: 0.2396 - val_rmse: 0.2685 - learning_rate: 1.0000e-06\n",
      "Epoch 125/200\n",
      "\u001b[1m106/106\u001b[0m \u001b[32m━━━━━━━━━━━━━━━━━━━━\u001b[0m\u001b[37m\u001b[0m \u001b[1m0s\u001b[0m 337us/step - loss: 0.0445 - mae: 0.2467 - rmse: 0.2871 - val_loss: 0.0413 - val_mae: 0.2396 - val_rmse: 0.2685 - learning_rate: 1.0000e-06\n",
      "Epoch 126/200\n",
      "\u001b[1m106/106\u001b[0m \u001b[32m━━━━━━━━━━━━━━━━━━━━\u001b[0m\u001b[37m\u001b[0m \u001b[1m0s\u001b[0m 333us/step - loss: 0.0450 - mae: 0.2496 - rmse: 0.2904 - val_loss: 0.0413 - val_mae: 0.2396 - val_rmse: 0.2685 - learning_rate: 1.0000e-06\n",
      "Epoch 127/200\n",
      "\u001b[1m106/106\u001b[0m \u001b[32m━━━━━━━━━━━━━━━━━━━━\u001b[0m\u001b[37m\u001b[0m \u001b[1m0s\u001b[0m 335us/step - loss: 0.0482 - mae: 0.2614 - rmse: 0.2986 - val_loss: 0.0413 - val_mae: 0.2396 - val_rmse: 0.2685 - learning_rate: 1.0000e-06\n",
      "Epoch 128/200\n",
      "\u001b[1m106/106\u001b[0m \u001b[32m━━━━━━━━━━━━━━━━━━━━\u001b[0m\u001b[37m\u001b[0m \u001b[1m0s\u001b[0m 330us/step - loss: 0.0412 - mae: 0.2350 - rmse: 0.2757 - val_loss: 0.0413 - val_mae: 0.2396 - val_rmse: 0.2685 - learning_rate: 1.0000e-06\n",
      "Epoch 129/200\n",
      "\u001b[1m106/106\u001b[0m \u001b[32m━━━━━━━━━━━━━━━━━━━━\u001b[0m\u001b[37m\u001b[0m \u001b[1m0s\u001b[0m 334us/step - loss: 0.0453 - mae: 0.2484 - rmse: 0.2901 - val_loss: 0.0413 - val_mae: 0.2396 - val_rmse: 0.2685 - learning_rate: 1.0000e-06\n",
      "Epoch 130/200\n",
      "\u001b[1m106/106\u001b[0m \u001b[32m━━━━━━━━━━━━━━━━━━━━\u001b[0m\u001b[37m\u001b[0m \u001b[1m0s\u001b[0m 333us/step - loss: 0.0440 - mae: 0.2400 - rmse: 0.2844 - val_loss: 0.0413 - val_mae: 0.2396 - val_rmse: 0.2685 - learning_rate: 1.0000e-06\n",
      "Epoch 131/200\n",
      "\u001b[1m106/106\u001b[0m \u001b[32m━━━━━━━━━━━━━━━━━━━━\u001b[0m\u001b[37m\u001b[0m \u001b[1m0s\u001b[0m 330us/step - loss: 0.0470 - mae: 0.2575 - rmse: 0.2974 - val_loss: 0.0413 - val_mae: 0.2396 - val_rmse: 0.2685 - learning_rate: 1.0000e-06\n",
      "Epoch 132/200\n",
      "\u001b[1m106/106\u001b[0m \u001b[32m━━━━━━━━━━━━━━━━━━━━\u001b[0m\u001b[37m\u001b[0m \u001b[1m0s\u001b[0m 329us/step - loss: 0.0444 - mae: 0.2462 - rmse: 0.2867 - val_loss: 0.0413 - val_mae: 0.2396 - val_rmse: 0.2685 - learning_rate: 1.0000e-06\n",
      "Epoch 133/200\n",
      "\u001b[1m106/106\u001b[0m \u001b[32m━━━━━━━━━━━━━━━━━━━━\u001b[0m\u001b[37m\u001b[0m \u001b[1m0s\u001b[0m 331us/step - loss: 0.0441 - mae: 0.2459 - rmse: 0.2856 - val_loss: 0.0413 - val_mae: 0.2396 - val_rmse: 0.2685 - learning_rate: 1.0000e-06\n",
      "Epoch 134/200\n",
      "\u001b[1m106/106\u001b[0m \u001b[32m━━━━━━━━━━━━━━━━━━━━\u001b[0m\u001b[37m\u001b[0m \u001b[1m0s\u001b[0m 336us/step - loss: 0.0444 - mae: 0.2463 - rmse: 0.2849 - val_loss: 0.0413 - val_mae: 0.2396 - val_rmse: 0.2685 - learning_rate: 1.0000e-06\n",
      "Epoch 135/200\n",
      "\u001b[1m106/106\u001b[0m \u001b[32m━━━━━━━━━━━━━━━━━━━━\u001b[0m\u001b[37m\u001b[0m \u001b[1m0s\u001b[0m 334us/step - loss: 0.0442 - mae: 0.2467 - rmse: 0.2858 - val_loss: 0.0413 - val_mae: 0.2396 - val_rmse: 0.2685 - learning_rate: 1.0000e-06\n",
      "Epoch 136/200\n",
      "\u001b[1m106/106\u001b[0m \u001b[32m━━━━━━━━━━━━━━━━━━━━\u001b[0m\u001b[37m\u001b[0m \u001b[1m0s\u001b[0m 351us/step - loss: 0.0439 - mae: 0.2466 - rmse: 0.2893 - val_loss: 0.0413 - val_mae: 0.2396 - val_rmse: 0.2685 - learning_rate: 1.0000e-06\n",
      "Epoch 137/200\n",
      "\u001b[1m106/106\u001b[0m \u001b[32m━━━━━━━━━━━━━━━━━━━━\u001b[0m\u001b[37m\u001b[0m \u001b[1m0s\u001b[0m 341us/step - loss: 0.0403 - mae: 0.2322 - rmse: 0.2766 - val_loss: 0.0413 - val_mae: 0.2396 - val_rmse: 0.2685 - learning_rate: 1.0000e-06\n",
      "Epoch 138/200\n",
      "\u001b[1m106/106\u001b[0m \u001b[32m━━━━━━━━━━━━━━━━━━━━\u001b[0m\u001b[37m\u001b[0m \u001b[1m0s\u001b[0m 331us/step - loss: 0.0460 - mae: 0.2536 - rmse: 0.2918 - val_loss: 0.0413 - val_mae: 0.2396 - val_rmse: 0.2685 - learning_rate: 1.0000e-06\n",
      "Epoch 139/200\n",
      "\u001b[1m106/106\u001b[0m \u001b[32m━━━━━━━━━━━━━━━━━━━━\u001b[0m\u001b[37m\u001b[0m \u001b[1m0s\u001b[0m 334us/step - loss: 0.0423 - mae: 0.2409 - rmse: 0.2769 - val_loss: 0.0413 - val_mae: 0.2396 - val_rmse: 0.2685 - learning_rate: 1.0000e-06\n",
      "Epoch 140/200\n",
      "\u001b[1m106/106\u001b[0m \u001b[32m━━━━━━━━━━━━━━━━━━━━\u001b[0m\u001b[37m\u001b[0m \u001b[1m0s\u001b[0m 326us/step - loss: 0.0432 - mae: 0.2390 - rmse: 0.2802 - val_loss: 0.0413 - val_mae: 0.2396 - val_rmse: 0.2685 - learning_rate: 1.0000e-06\n",
      "Epoch 141/200\n",
      "\u001b[1m106/106\u001b[0m \u001b[32m━━━━━━━━━━━━━━━━━━━━\u001b[0m\u001b[37m\u001b[0m \u001b[1m0s\u001b[0m 342us/step - loss: 0.0420 - mae: 0.2387 - rmse: 0.2775 - val_loss: 0.0413 - val_mae: 0.2396 - val_rmse: 0.2685 - learning_rate: 1.0000e-06\n",
      "Epoch 142/200\n",
      "\u001b[1m106/106\u001b[0m \u001b[32m━━━━━━━━━━━━━━━━━━━━\u001b[0m\u001b[37m\u001b[0m \u001b[1m0s\u001b[0m 334us/step - loss: 0.0433 - mae: 0.2394 - rmse: 0.2777 - val_loss: 0.0413 - val_mae: 0.2396 - val_rmse: 0.2685 - learning_rate: 1.0000e-06\n",
      "Epoch 143/200\n",
      "\u001b[1m106/106\u001b[0m \u001b[32m━━━━━━━━━━━━━━━━━━━━\u001b[0m\u001b[37m\u001b[0m \u001b[1m0s\u001b[0m 331us/step - loss: 0.0413 - mae: 0.2343 - rmse: 0.2702 - val_loss: 0.0413 - val_mae: 0.2396 - val_rmse: 0.2685 - learning_rate: 1.0000e-06\n",
      "Epoch 144/200\n",
      "\u001b[1m106/106\u001b[0m \u001b[32m━━━━━━━━━━━━━━━━━━━━\u001b[0m\u001b[37m\u001b[0m \u001b[1m0s\u001b[0m 334us/step - loss: 0.0430 - mae: 0.2432 - rmse: 0.2844 - val_loss: 0.0413 - val_mae: 0.2396 - val_rmse: 0.2685 - learning_rate: 1.0000e-06\n",
      "Epoch 145/200\n",
      "\u001b[1m106/106\u001b[0m \u001b[32m━━━━━━━━━━━━━━━━━━━━\u001b[0m\u001b[37m\u001b[0m \u001b[1m0s\u001b[0m 330us/step - loss: 0.0432 - mae: 0.2422 - rmse: 0.2803 - val_loss: 0.0413 - val_mae: 0.2396 - val_rmse: 0.2685 - learning_rate: 1.0000e-06\n",
      "Epoch 146/200\n",
      "\u001b[1m106/106\u001b[0m \u001b[32m━━━━━━━━━━━━━━━━━━━━\u001b[0m\u001b[37m\u001b[0m \u001b[1m0s\u001b[0m 333us/step - loss: 0.0419 - mae: 0.2378 - rmse: 0.2794 - val_loss: 0.0413 - val_mae: 0.2396 - val_rmse: 0.2685 - learning_rate: 1.0000e-06\n",
      "Epoch 147/200\n",
      "\u001b[1m106/106\u001b[0m \u001b[32m━━━━━━━━━━━━━━━━━━━━\u001b[0m\u001b[37m\u001b[0m \u001b[1m0s\u001b[0m 341us/step - loss: 0.0433 - mae: 0.2424 - rmse: 0.2849 - val_loss: 0.0413 - val_mae: 0.2396 - val_rmse: 0.2685 - learning_rate: 1.0000e-06\n",
      "Epoch 148/200\n",
      "\u001b[1m106/106\u001b[0m \u001b[32m━━━━━━━━━━━━━━━━━━━━\u001b[0m\u001b[37m\u001b[0m \u001b[1m0s\u001b[0m 333us/step - loss: 0.0425 - mae: 0.2394 - rmse: 0.2829 - val_loss: 0.0413 - val_mae: 0.2396 - val_rmse: 0.2685 - learning_rate: 1.0000e-06\n",
      "Epoch 149/200\n",
      "\u001b[1m106/106\u001b[0m \u001b[32m━━━━━━━━━━━━━━━━━━━━\u001b[0m\u001b[37m\u001b[0m \u001b[1m0s\u001b[0m 331us/step - loss: 0.0420 - mae: 0.2369 - rmse: 0.2816 - val_loss: 0.0413 - val_mae: 0.2396 - val_rmse: 0.2685 - learning_rate: 1.0000e-06\n",
      "Epoch 150/200\n",
      "\u001b[1m106/106\u001b[0m \u001b[32m━━━━━━━━━━━━━━━━━━━━\u001b[0m\u001b[37m\u001b[0m \u001b[1m0s\u001b[0m 337us/step - loss: 0.0420 - mae: 0.2376 - rmse: 0.2776 - val_loss: 0.0413 - val_mae: 0.2396 - val_rmse: 0.2685 - learning_rate: 1.0000e-06\n",
      "Epoch 151/200\n",
      "\u001b[1m106/106\u001b[0m \u001b[32m━━━━━━━━━━━━━━━━━━━━\u001b[0m\u001b[37m\u001b[0m \u001b[1m0s\u001b[0m 330us/step - loss: 0.0422 - mae: 0.2400 - rmse: 0.2804 - val_loss: 0.0413 - val_mae: 0.2396 - val_rmse: 0.2685 - learning_rate: 1.0000e-06\n",
      "Epoch 152/200\n",
      "\u001b[1m106/106\u001b[0m \u001b[32m━━━━━━━━━━━━━━━━━━━━\u001b[0m\u001b[37m\u001b[0m \u001b[1m0s\u001b[0m 333us/step - loss: 0.0469 - mae: 0.2567 - rmse: 0.2918 - val_loss: 0.0413 - val_mae: 0.2396 - val_rmse: 0.2685 - learning_rate: 1.0000e-06\n",
      "Epoch 153/200\n",
      "\u001b[1m106/106\u001b[0m \u001b[32m━━━━━━━━━━━━━━━━━━━━\u001b[0m\u001b[37m\u001b[0m \u001b[1m0s\u001b[0m 326us/step - loss: 0.0426 - mae: 0.2396 - rmse: 0.2793 - val_loss: 0.0413 - val_mae: 0.2396 - val_rmse: 0.2685 - learning_rate: 1.0000e-06\n",
      "Epoch 154/200\n",
      "\u001b[1m106/106\u001b[0m \u001b[32m━━━━━━━━━━━━━━━━━━━━\u001b[0m\u001b[37m\u001b[0m \u001b[1m0s\u001b[0m 333us/step - loss: 0.0417 - mae: 0.2382 - rmse: 0.2775 - val_loss: 0.0413 - val_mae: 0.2396 - val_rmse: 0.2685 - learning_rate: 1.0000e-06\n",
      "Epoch 155/200\n",
      "\u001b[1m106/106\u001b[0m \u001b[32m━━━━━━━━━━━━━━━━━━━━\u001b[0m\u001b[37m\u001b[0m \u001b[1m0s\u001b[0m 327us/step - loss: 0.0471 - mae: 0.2588 - rmse: 0.2946 - val_loss: 0.0413 - val_mae: 0.2396 - val_rmse: 0.2685 - learning_rate: 1.0000e-06\n",
      "Epoch 156/200\n",
      "\u001b[1m106/106\u001b[0m \u001b[32m━━━━━━━━━━━━━━━━━━━━\u001b[0m\u001b[37m\u001b[0m \u001b[1m0s\u001b[0m 333us/step - loss: 0.0428 - mae: 0.2393 - rmse: 0.2813 - val_loss: 0.0413 - val_mae: 0.2396 - val_rmse: 0.2685 - learning_rate: 1.0000e-06\n",
      "Epoch 157/200\n",
      "\u001b[1m106/106\u001b[0m \u001b[32m━━━━━━━━━━━━━━━━━━━━\u001b[0m\u001b[37m\u001b[0m \u001b[1m0s\u001b[0m 348us/step - loss: 0.0408 - mae: 0.2353 - rmse: 0.2712 - val_loss: 0.0413 - val_mae: 0.2396 - val_rmse: 0.2685 - learning_rate: 1.0000e-06\n",
      "Epoch 158/200\n",
      "\u001b[1m106/106\u001b[0m \u001b[32m━━━━━━━━━━━━━━━━━━━━\u001b[0m\u001b[37m\u001b[0m \u001b[1m0s\u001b[0m 355us/step - loss: 0.0434 - mae: 0.2445 - rmse: 0.2807 - val_loss: 0.0413 - val_mae: 0.2396 - val_rmse: 0.2685 - learning_rate: 1.0000e-06\n",
      "Epoch 159/200\n",
      "\u001b[1m106/106\u001b[0m \u001b[32m━━━━━━━━━━━━━━━━━━━━\u001b[0m\u001b[37m\u001b[0m \u001b[1m0s\u001b[0m 343us/step - loss: 0.0440 - mae: 0.2445 - rmse: 0.2908 - val_loss: 0.0413 - val_mae: 0.2396 - val_rmse: 0.2685 - learning_rate: 1.0000e-06\n",
      "Epoch 160/200\n",
      "\u001b[1m106/106\u001b[0m \u001b[32m━━━━━━━━━━━━━━━━━━━━\u001b[0m\u001b[37m\u001b[0m \u001b[1m0s\u001b[0m 340us/step - loss: 0.0441 - mae: 0.2447 - rmse: 0.2889 - val_loss: 0.0413 - val_mae: 0.2396 - val_rmse: 0.2685 - learning_rate: 1.0000e-06\n",
      "Epoch 161/200\n",
      "\u001b[1m106/106\u001b[0m \u001b[32m━━━━━━━━━━━━━━━━━━━━\u001b[0m\u001b[37m\u001b[0m \u001b[1m0s\u001b[0m 337us/step - loss: 0.0413 - mae: 0.2358 - rmse: 0.2731 - val_loss: 0.0413 - val_mae: 0.2396 - val_rmse: 0.2685 - learning_rate: 1.0000e-06\n",
      "Epoch 162/200\n",
      "\u001b[1m106/106\u001b[0m \u001b[32m━━━━━━━━━━━━━━━━━━━━\u001b[0m\u001b[37m\u001b[0m \u001b[1m0s\u001b[0m 327us/step - loss: 0.0436 - mae: 0.2432 - rmse: 0.2817 - val_loss: 0.0413 - val_mae: 0.2396 - val_rmse: 0.2685 - learning_rate: 1.0000e-06\n",
      "Epoch 163/200\n",
      "\u001b[1m106/106\u001b[0m \u001b[32m━━━━━━━━━━━━━━━━━━━━\u001b[0m\u001b[37m\u001b[0m \u001b[1m0s\u001b[0m 331us/step - loss: 0.0458 - mae: 0.2503 - rmse: 0.2902 - val_loss: 0.0413 - val_mae: 0.2396 - val_rmse: 0.2685 - learning_rate: 1.0000e-06\n",
      "Epoch 164/200\n",
      "\u001b[1m106/106\u001b[0m \u001b[32m━━━━━━━━━━━━━━━━━━━━\u001b[0m\u001b[37m\u001b[0m \u001b[1m0s\u001b[0m 348us/step - loss: 0.0418 - mae: 0.2368 - rmse: 0.2810 - val_loss: 0.0413 - val_mae: 0.2396 - val_rmse: 0.2685 - learning_rate: 1.0000e-06\n",
      "Epoch 165/200\n",
      "\u001b[1m106/106\u001b[0m \u001b[32m━━━━━━━━━━━━━━━━━━━━\u001b[0m\u001b[37m\u001b[0m \u001b[1m0s\u001b[0m 345us/step - loss: 0.0433 - mae: 0.2423 - rmse: 0.2830 - val_loss: 0.0413 - val_mae: 0.2396 - val_rmse: 0.2685 - learning_rate: 1.0000e-06\n",
      "Epoch 166/200\n",
      "\u001b[1m106/106\u001b[0m \u001b[32m━━━━━━━━━━━━━━━━━━━━\u001b[0m\u001b[37m\u001b[0m \u001b[1m0s\u001b[0m 344us/step - loss: 0.0440 - mae: 0.2471 - rmse: 0.2855 - val_loss: 0.0413 - val_mae: 0.2396 - val_rmse: 0.2685 - learning_rate: 1.0000e-06\n",
      "Epoch 167/200\n",
      "\u001b[1m106/106\u001b[0m \u001b[32m━━━━━━━━━━━━━━━━━━━━\u001b[0m\u001b[37m\u001b[0m \u001b[1m0s\u001b[0m 340us/step - loss: 0.0432 - mae: 0.2427 - rmse: 0.2845 - val_loss: 0.0413 - val_mae: 0.2396 - val_rmse: 0.2685 - learning_rate: 1.0000e-06\n",
      "Epoch 168/200\n",
      "\u001b[1m106/106\u001b[0m \u001b[32m━━━━━━━━━━━━━━━━━━━━\u001b[0m\u001b[37m\u001b[0m \u001b[1m0s\u001b[0m 361us/step - loss: 0.0448 - mae: 0.2510 - rmse: 0.2869 - val_loss: 0.0413 - val_mae: 0.2396 - val_rmse: 0.2685 - learning_rate: 1.0000e-06\n",
      "Epoch 169/200\n",
      "\u001b[1m106/106\u001b[0m \u001b[32m━━━━━━━━━━━━━━━━━━━━\u001b[0m\u001b[37m\u001b[0m \u001b[1m0s\u001b[0m 334us/step - loss: 0.0440 - mae: 0.2462 - rmse: 0.2842 - val_loss: 0.0413 - val_mae: 0.2396 - val_rmse: 0.2685 - learning_rate: 1.0000e-06\n",
      "Epoch 170/200\n",
      "\u001b[1m106/106\u001b[0m \u001b[32m━━━━━━━━━━━━━━━━━━━━\u001b[0m\u001b[37m\u001b[0m \u001b[1m0s\u001b[0m 334us/step - loss: 0.0440 - mae: 0.2430 - rmse: 0.2856 - val_loss: 0.0413 - val_mae: 0.2396 - val_rmse: 0.2685 - learning_rate: 1.0000e-06\n",
      "Epoch 171/200\n",
      "\u001b[1m106/106\u001b[0m \u001b[32m━━━━━━━━━━━━━━━━━━━━\u001b[0m\u001b[37m\u001b[0m \u001b[1m0s\u001b[0m 337us/step - loss: 0.0442 - mae: 0.2428 - rmse: 0.2826 - val_loss: 0.0413 - val_mae: 0.2396 - val_rmse: 0.2685 - learning_rate: 1.0000e-06\n",
      "Epoch 172/200\n",
      "\u001b[1m106/106\u001b[0m \u001b[32m━━━━━━━━━━━━━━━━━━━━\u001b[0m\u001b[37m\u001b[0m \u001b[1m0s\u001b[0m 325us/step - loss: 0.0427 - mae: 0.2403 - rmse: 0.2814 - val_loss: 0.0413 - val_mae: 0.2396 - val_rmse: 0.2685 - learning_rate: 1.0000e-06\n",
      "Epoch 173/200\n",
      "\u001b[1m106/106\u001b[0m \u001b[32m━━━━━━━━━━━━━━━━━━━━\u001b[0m\u001b[37m\u001b[0m \u001b[1m0s\u001b[0m 330us/step - loss: 0.0429 - mae: 0.2399 - rmse: 0.2823 - val_loss: 0.0413 - val_mae: 0.2396 - val_rmse: 0.2685 - learning_rate: 1.0000e-06\n",
      "Epoch 174/200\n",
      "\u001b[1m106/106\u001b[0m \u001b[32m━━━━━━━━━━━━━━━━━━━━\u001b[0m\u001b[37m\u001b[0m \u001b[1m0s\u001b[0m 336us/step - loss: 0.0422 - mae: 0.2394 - rmse: 0.2762 - val_loss: 0.0413 - val_mae: 0.2396 - val_rmse: 0.2685 - learning_rate: 1.0000e-06\n",
      "Epoch 175/200\n",
      "\u001b[1m106/106\u001b[0m \u001b[32m━━━━━━━━━━━━━━━━━━━━\u001b[0m\u001b[37m\u001b[0m \u001b[1m0s\u001b[0m 334us/step - loss: 0.0418 - mae: 0.2372 - rmse: 0.2811 - val_loss: 0.0413 - val_mae: 0.2396 - val_rmse: 0.2685 - learning_rate: 1.0000e-06\n",
      "Epoch 176/200\n",
      "\u001b[1m106/106\u001b[0m \u001b[32m━━━━━━━━━━━━━━━━━━━━\u001b[0m\u001b[37m\u001b[0m \u001b[1m0s\u001b[0m 338us/step - loss: 0.0432 - mae: 0.2410 - rmse: 0.2838 - val_loss: 0.0413 - val_mae: 0.2396 - val_rmse: 0.2685 - learning_rate: 1.0000e-06\n",
      "Epoch 177/200\n",
      "\u001b[1m106/106\u001b[0m \u001b[32m━━━━━━━━━━━━━━━━━━━━\u001b[0m\u001b[37m\u001b[0m \u001b[1m0s\u001b[0m 327us/step - loss: 0.0459 - mae: 0.2536 - rmse: 0.2914 - val_loss: 0.0413 - val_mae: 0.2396 - val_rmse: 0.2685 - learning_rate: 1.0000e-06\n",
      "Epoch 178/200\n",
      "\u001b[1m106/106\u001b[0m \u001b[32m━━━━━━━━━━━━━━━━━━━━\u001b[0m\u001b[37m\u001b[0m \u001b[1m0s\u001b[0m 345us/step - loss: 0.0460 - mae: 0.2561 - rmse: 0.2957 - val_loss: 0.0413 - val_mae: 0.2396 - val_rmse: 0.2685 - learning_rate: 1.0000e-06\n",
      "Epoch 179/200\n",
      "\u001b[1m106/106\u001b[0m \u001b[32m━━━━━━━━━━━━━━━━━━━━\u001b[0m\u001b[37m\u001b[0m \u001b[1m0s\u001b[0m 339us/step - loss: 0.0460 - mae: 0.2540 - rmse: 0.2919 - val_loss: 0.0413 - val_mae: 0.2396 - val_rmse: 0.2685 - learning_rate: 1.0000e-06\n",
      "Epoch 180/200\n",
      "\u001b[1m106/106\u001b[0m \u001b[32m━━━━━━━━━━━━━━━━━━━━\u001b[0m\u001b[37m\u001b[0m \u001b[1m0s\u001b[0m 333us/step - loss: 0.0423 - mae: 0.2372 - rmse: 0.2763 - val_loss: 0.0413 - val_mae: 0.2396 - val_rmse: 0.2685 - learning_rate: 1.0000e-06\n",
      "Epoch 181/200\n",
      "\u001b[1m106/106\u001b[0m \u001b[32m━━━━━━━━━━━━━━━━━━━━\u001b[0m\u001b[37m\u001b[0m \u001b[1m0s\u001b[0m 340us/step - loss: 0.0410 - mae: 0.2335 - rmse: 0.2716 - val_loss: 0.0413 - val_mae: 0.2396 - val_rmse: 0.2685 - learning_rate: 1.0000e-06\n",
      "Epoch 182/200\n",
      "\u001b[1m106/106\u001b[0m \u001b[32m━━━━━━━━━━━━━━━━━━━━\u001b[0m\u001b[37m\u001b[0m \u001b[1m0s\u001b[0m 334us/step - loss: 0.0477 - mae: 0.2607 - rmse: 0.2981 - val_loss: 0.0413 - val_mae: 0.2396 - val_rmse: 0.2685 - learning_rate: 1.0000e-06\n",
      "Epoch 183/200\n",
      "\u001b[1m106/106\u001b[0m \u001b[32m━━━━━━━━━━━━━━━━━━━━\u001b[0m\u001b[37m\u001b[0m \u001b[1m0s\u001b[0m 346us/step - loss: 0.0441 - mae: 0.2471 - rmse: 0.2860 - val_loss: 0.0413 - val_mae: 0.2396 - val_rmse: 0.2685 - learning_rate: 1.0000e-06\n",
      "Epoch 184/200\n",
      "\u001b[1m106/106\u001b[0m \u001b[32m━━━━━━━━━━━━━━━━━━━━\u001b[0m\u001b[37m\u001b[0m \u001b[1m0s\u001b[0m 333us/step - loss: 0.0422 - mae: 0.2366 - rmse: 0.2729 - val_loss: 0.0413 - val_mae: 0.2396 - val_rmse: 0.2685 - learning_rate: 1.0000e-06\n",
      "Epoch 185/200\n",
      "\u001b[1m106/106\u001b[0m \u001b[32m━━━━━━━━━━━━━━━━━━━━\u001b[0m\u001b[37m\u001b[0m \u001b[1m0s\u001b[0m 328us/step - loss: 0.0433 - mae: 0.2466 - rmse: 0.2850 - val_loss: 0.0413 - val_mae: 0.2396 - val_rmse: 0.2685 - learning_rate: 1.0000e-06\n",
      "Epoch 186/200\n",
      "\u001b[1m106/106\u001b[0m \u001b[32m━━━━━━━━━━━━━━━━━━━━\u001b[0m\u001b[37m\u001b[0m \u001b[1m0s\u001b[0m 327us/step - loss: 0.0411 - mae: 0.2339 - rmse: 0.2759 - val_loss: 0.0413 - val_mae: 0.2396 - val_rmse: 0.2685 - learning_rate: 1.0000e-06\n",
      "Epoch 187/200\n",
      "\u001b[1m106/106\u001b[0m \u001b[32m━━━━━━━━━━━━━━━━━━━━\u001b[0m\u001b[37m\u001b[0m \u001b[1m0s\u001b[0m 343us/step - loss: 0.0425 - mae: 0.2384 - rmse: 0.2789 - val_loss: 0.0413 - val_mae: 0.2396 - val_rmse: 0.2685 - learning_rate: 1.0000e-06\n",
      "Epoch 188/200\n",
      "\u001b[1m106/106\u001b[0m \u001b[32m━━━━━━━━━━━━━━━━━━━━\u001b[0m\u001b[37m\u001b[0m \u001b[1m0s\u001b[0m 337us/step - loss: 0.0465 - mae: 0.2547 - rmse: 0.2955 - val_loss: 0.0413 - val_mae: 0.2396 - val_rmse: 0.2685 - learning_rate: 1.0000e-06\n",
      "Epoch 189/200\n",
      "\u001b[1m106/106\u001b[0m \u001b[32m━━━━━━━━━━━━━━━━━━━━\u001b[0m\u001b[37m\u001b[0m \u001b[1m0s\u001b[0m 326us/step - loss: 0.0429 - mae: 0.2392 - rmse: 0.2821 - val_loss: 0.0413 - val_mae: 0.2396 - val_rmse: 0.2685 - learning_rate: 1.0000e-06\n",
      "Epoch 190/200\n",
      "\u001b[1m106/106\u001b[0m \u001b[32m━━━━━━━━━━━━━━━━━━━━\u001b[0m\u001b[37m\u001b[0m \u001b[1m0s\u001b[0m 336us/step - loss: 0.0464 - mae: 0.2541 - rmse: 0.2913 - val_loss: 0.0413 - val_mae: 0.2396 - val_rmse: 0.2685 - learning_rate: 1.0000e-06\n",
      "Epoch 191/200\n",
      "\u001b[1m106/106\u001b[0m \u001b[32m━━━━━━━━━━━━━━━━━━━━\u001b[0m\u001b[37m\u001b[0m \u001b[1m0s\u001b[0m 347us/step - loss: 0.0438 - mae: 0.2460 - rmse: 0.2854 - val_loss: 0.0413 - val_mae: 0.2396 - val_rmse: 0.2685 - learning_rate: 1.0000e-06\n",
      "Epoch 192/200\n",
      "\u001b[1m106/106\u001b[0m \u001b[32m━━━━━━━━━━━━━━━━━━━━\u001b[0m\u001b[37m\u001b[0m \u001b[1m0s\u001b[0m 330us/step - loss: 0.0447 - mae: 0.2456 - rmse: 0.2924 - val_loss: 0.0413 - val_mae: 0.2396 - val_rmse: 0.2685 - learning_rate: 1.0000e-06\n",
      "Epoch 193/200\n",
      "\u001b[1m106/106\u001b[0m \u001b[32m━━━━━━━━━━━━━━━━━━━━\u001b[0m\u001b[37m\u001b[0m \u001b[1m0s\u001b[0m 333us/step - loss: 0.0442 - mae: 0.2448 - rmse: 0.2839 - val_loss: 0.0413 - val_mae: 0.2396 - val_rmse: 0.2685 - learning_rate: 1.0000e-06\n",
      "Epoch 194/200\n",
      "\u001b[1m106/106\u001b[0m \u001b[32m━━━━━━━━━━━━━━━━━━━━\u001b[0m\u001b[37m\u001b[0m \u001b[1m0s\u001b[0m 337us/step - loss: 0.0457 - mae: 0.2517 - rmse: 0.2886 - val_loss: 0.0413 - val_mae: 0.2396 - val_rmse: 0.2685 - learning_rate: 1.0000e-06\n",
      "Epoch 195/200\n",
      "\u001b[1m106/106\u001b[0m \u001b[32m━━━━━━━━━━━━━━━━━━━━\u001b[0m\u001b[37m\u001b[0m \u001b[1m0s\u001b[0m 350us/step - loss: 0.0424 - mae: 0.2386 - rmse: 0.2788 - val_loss: 0.0413 - val_mae: 0.2396 - val_rmse: 0.2685 - learning_rate: 1.0000e-06\n",
      "Epoch 196/200\n",
      "\u001b[1m106/106\u001b[0m \u001b[32m━━━━━━━━━━━━━━━━━━━━\u001b[0m\u001b[37m\u001b[0m \u001b[1m0s\u001b[0m 350us/step - loss: 0.0431 - mae: 0.2436 - rmse: 0.2835 - val_loss: 0.0413 - val_mae: 0.2396 - val_rmse: 0.2685 - learning_rate: 1.0000e-06\n",
      "Epoch 197/200\n",
      "\u001b[1m106/106\u001b[0m \u001b[32m━━━━━━━━━━━━━━━━━━━━\u001b[0m\u001b[37m\u001b[0m \u001b[1m0s\u001b[0m 346us/step - loss: 0.0472 - mae: 0.2553 - rmse: 0.2950 - val_loss: 0.0413 - val_mae: 0.2396 - val_rmse: 0.2685 - learning_rate: 1.0000e-06\n",
      "Epoch 198/200\n",
      "\u001b[1m106/106\u001b[0m \u001b[32m━━━━━━━━━━━━━━━━━━━━\u001b[0m\u001b[37m\u001b[0m \u001b[1m0s\u001b[0m 334us/step - loss: 0.0447 - mae: 0.2513 - rmse: 0.2845 - val_loss: 0.0413 - val_mae: 0.2396 - val_rmse: 0.2685 - learning_rate: 1.0000e-06\n",
      "Epoch 199/200\n",
      "\u001b[1m106/106\u001b[0m \u001b[32m━━━━━━━━━━━━━━━━━━━━\u001b[0m\u001b[37m\u001b[0m \u001b[1m0s\u001b[0m 340us/step - loss: 0.0469 - mae: 0.2550 - rmse: 0.2962 - val_loss: 0.0413 - val_mae: 0.2396 - val_rmse: 0.2685 - learning_rate: 1.0000e-06\n",
      "Epoch 200/200\n",
      "\u001b[1m106/106\u001b[0m \u001b[32m━━━━━━━━━━━━━━━━━━━━\u001b[0m\u001b[37m\u001b[0m \u001b[1m0s\u001b[0m 334us/step - loss: 0.0453 - mae: 0.2517 - rmse: 0.2913 - val_loss: 0.0413 - val_mae: 0.2396 - val_rmse: 0.2685 - learning_rate: 1.0000e-06\n"
     ]
    }
   ],
   "source": [
    "# Split dataset 80% test 20% validation\n",
    "train_X, test_X, y_train, y_test = train_test_split(X, y, test_size=0.2, random_state=42)\n",
    "\n",
    "# Augment data dengan menambah noise (untuk training set)\n",
    "train_X_noisy = train_X + np.random.normal(0, 0.01, train_X.shape)\n",
    "\n",
    "# Definisikan metric RMSE\n",
    "def rmse(y_true, y_pred):\n",
    "    return K.sqrt(K.mean(K.square(y_true - y_pred)))\n",
    "\n",
    "# Bangun model\n",
    "input_dim = train_X.shape[1]\n",
    "model = tf.keras.Sequential([\n",
    "    tf.keras.layers.Input(shape=(train_X.shape[1],)),\n",
    "    tf.keras.layers.Dense(12, activation='relu', kernel_regularizer=l2(0.001)),  # Simplifikasi\n",
    "    tf.keras.layers.Dropout(0.1),  # Lower dropout\n",
    "    tf.keras.layers.Dense(6, activation='relu', kernel_regularizer=l2(0.001)),  # Mengurangi neurons\n",
    "    tf.keras.layers.Dense(1, activation='sigmoid')  # Sigmoid untuk output binary \n",
    "])\n",
    "\n",
    "huber_loss = Huber(delta=1.0)\n",
    "model.compile(optimizer=Adam(learning_rate=0.0005), loss=huber_loss, metrics=['mae', rmse])\n",
    "\n",
    "# Early Stopping dan Learning Rate Scheduler\n",
    "early_stopping = EarlyStopping(\n",
    "    monitor='val_loss',\n",
    "    patience=5, \n",
    "    restore_best_weights=True\n",
    ")\n",
    "\n",
    "lr_scheduler = ReduceLROnPlateau(\n",
    "    monitor='val_loss',\n",
    "    factor=0.1,  \n",
    "    patience=2,\n",
    "    min_lr=1e-6\n",
    ")\n",
    "\n",
    "# Train model\n",
    "history = model.fit(\n",
    "    train_X_noisy, y_train,  \n",
    "    validation_split=0.2, \n",
    "    epochs=200,  \n",
    "    batch_size=4,  \n",
    "    shuffle=True,\n",
    "    callbacks=[early_stopping, lr_scheduler]\n",
    ")\n"
   ]
  },
  {
   "cell_type": "code",
   "execution_count": 14,
   "metadata": {
    "colab": {
     "base_uri": "https://localhost:8080/",
     "height": 323
    },
    "id": "0ACLAyF-hUIQ",
    "outputId": "ac2adf4a-bfcf-46bc-d14a-8f9ca65ee5eb"
   },
   "outputs": [
    {
     "data": {
      "text/html": [
       "<pre style=\"white-space:pre;overflow-x:auto;line-height:normal;font-family:Menlo,'DejaVu Sans Mono',consolas,'Courier New',monospace\"><span style=\"font-weight: bold\">Model: \"sequential\"</span>\n",
       "</pre>\n"
      ],
      "text/plain": [
       "\u001b[1mModel: \"sequential\"\u001b[0m\n"
      ]
     },
     "metadata": {},
     "output_type": "display_data"
    },
    {
     "data": {
      "text/html": [
       "<pre style=\"white-space:pre;overflow-x:auto;line-height:normal;font-family:Menlo,'DejaVu Sans Mono',consolas,'Courier New',monospace\">┏━━━━━━━━━━━━━━━━━━━━━━━━━━━━━━━━━┳━━━━━━━━━━━━━━━━━━━━━━━━┳━━━━━━━━━━━━━━━┓\n",
       "┃<span style=\"font-weight: bold\"> Layer (type)                    </span>┃<span style=\"font-weight: bold\"> Output Shape           </span>┃<span style=\"font-weight: bold\">       Param # </span>┃\n",
       "┡━━━━━━━━━━━━━━━━━━━━━━━━━━━━━━━━━╇━━━━━━━━━━━━━━━━━━━━━━━━╇━━━━━━━━━━━━━━━┩\n",
       "│ dense (<span style=\"color: #0087ff; text-decoration-color: #0087ff\">Dense</span>)                   │ (<span style=\"color: #00d7ff; text-decoration-color: #00d7ff\">None</span>, <span style=\"color: #00af00; text-decoration-color: #00af00\">12</span>)             │           <span style=\"color: #00af00; text-decoration-color: #00af00\">480</span> │\n",
       "├─────────────────────────────────┼────────────────────────┼───────────────┤\n",
       "│ dropout (<span style=\"color: #0087ff; text-decoration-color: #0087ff\">Dropout</span>)               │ (<span style=\"color: #00d7ff; text-decoration-color: #00d7ff\">None</span>, <span style=\"color: #00af00; text-decoration-color: #00af00\">12</span>)             │             <span style=\"color: #00af00; text-decoration-color: #00af00\">0</span> │\n",
       "├─────────────────────────────────┼────────────────────────┼───────────────┤\n",
       "│ dense_1 (<span style=\"color: #0087ff; text-decoration-color: #0087ff\">Dense</span>)                 │ (<span style=\"color: #00d7ff; text-decoration-color: #00d7ff\">None</span>, <span style=\"color: #00af00; text-decoration-color: #00af00\">6</span>)              │            <span style=\"color: #00af00; text-decoration-color: #00af00\">78</span> │\n",
       "├─────────────────────────────────┼────────────────────────┼───────────────┤\n",
       "│ dense_2 (<span style=\"color: #0087ff; text-decoration-color: #0087ff\">Dense</span>)                 │ (<span style=\"color: #00d7ff; text-decoration-color: #00d7ff\">None</span>, <span style=\"color: #00af00; text-decoration-color: #00af00\">1</span>)              │             <span style=\"color: #00af00; text-decoration-color: #00af00\">7</span> │\n",
       "└─────────────────────────────────┴────────────────────────┴───────────────┘\n",
       "</pre>\n"
      ],
      "text/plain": [
       "┏━━━━━━━━━━━━━━━━━━━━━━━━━━━━━━━━━┳━━━━━━━━━━━━━━━━━━━━━━━━┳━━━━━━━━━━━━━━━┓\n",
       "┃\u001b[1m \u001b[0m\u001b[1mLayer (type)                   \u001b[0m\u001b[1m \u001b[0m┃\u001b[1m \u001b[0m\u001b[1mOutput Shape          \u001b[0m\u001b[1m \u001b[0m┃\u001b[1m \u001b[0m\u001b[1m      Param #\u001b[0m\u001b[1m \u001b[0m┃\n",
       "┡━━━━━━━━━━━━━━━━━━━━━━━━━━━━━━━━━╇━━━━━━━━━━━━━━━━━━━━━━━━╇━━━━━━━━━━━━━━━┩\n",
       "│ dense (\u001b[38;5;33mDense\u001b[0m)                   │ (\u001b[38;5;45mNone\u001b[0m, \u001b[38;5;34m12\u001b[0m)             │           \u001b[38;5;34m480\u001b[0m │\n",
       "├─────────────────────────────────┼────────────────────────┼───────────────┤\n",
       "│ dropout (\u001b[38;5;33mDropout\u001b[0m)               │ (\u001b[38;5;45mNone\u001b[0m, \u001b[38;5;34m12\u001b[0m)             │             \u001b[38;5;34m0\u001b[0m │\n",
       "├─────────────────────────────────┼────────────────────────┼───────────────┤\n",
       "│ dense_1 (\u001b[38;5;33mDense\u001b[0m)                 │ (\u001b[38;5;45mNone\u001b[0m, \u001b[38;5;34m6\u001b[0m)              │            \u001b[38;5;34m78\u001b[0m │\n",
       "├─────────────────────────────────┼────────────────────────┼───────────────┤\n",
       "│ dense_2 (\u001b[38;5;33mDense\u001b[0m)                 │ (\u001b[38;5;45mNone\u001b[0m, \u001b[38;5;34m1\u001b[0m)              │             \u001b[38;5;34m7\u001b[0m │\n",
       "└─────────────────────────────────┴────────────────────────┴───────────────┘\n"
      ]
     },
     "metadata": {},
     "output_type": "display_data"
    },
    {
     "data": {
      "text/html": [
       "<pre style=\"white-space:pre;overflow-x:auto;line-height:normal;font-family:Menlo,'DejaVu Sans Mono',consolas,'Courier New',monospace\"><span style=\"font-weight: bold\"> Total params: </span><span style=\"color: #00af00; text-decoration-color: #00af00\">1,697</span> (6.63 KB)\n",
       "</pre>\n"
      ],
      "text/plain": [
       "\u001b[1m Total params: \u001b[0m\u001b[38;5;34m1,697\u001b[0m (6.63 KB)\n"
      ]
     },
     "metadata": {},
     "output_type": "display_data"
    },
    {
     "data": {
      "text/html": [
       "<pre style=\"white-space:pre;overflow-x:auto;line-height:normal;font-family:Menlo,'DejaVu Sans Mono',consolas,'Courier New',monospace\"><span style=\"font-weight: bold\"> Trainable params: </span><span style=\"color: #00af00; text-decoration-color: #00af00\">565</span> (2.21 KB)\n",
       "</pre>\n"
      ],
      "text/plain": [
       "\u001b[1m Trainable params: \u001b[0m\u001b[38;5;34m565\u001b[0m (2.21 KB)\n"
      ]
     },
     "metadata": {},
     "output_type": "display_data"
    },
    {
     "data": {
      "text/html": [
       "<pre style=\"white-space:pre;overflow-x:auto;line-height:normal;font-family:Menlo,'DejaVu Sans Mono',consolas,'Courier New',monospace\"><span style=\"font-weight: bold\"> Non-trainable params: </span><span style=\"color: #00af00; text-decoration-color: #00af00\">0</span> (0.00 B)\n",
       "</pre>\n"
      ],
      "text/plain": [
       "\u001b[1m Non-trainable params: \u001b[0m\u001b[38;5;34m0\u001b[0m (0.00 B)\n"
      ]
     },
     "metadata": {},
     "output_type": "display_data"
    },
    {
     "data": {
      "text/html": [
       "<pre style=\"white-space:pre;overflow-x:auto;line-height:normal;font-family:Menlo,'DejaVu Sans Mono',consolas,'Courier New',monospace\"><span style=\"font-weight: bold\"> Optimizer params: </span><span style=\"color: #00af00; text-decoration-color: #00af00\">1,132</span> (4.43 KB)\n",
       "</pre>\n"
      ],
      "text/plain": [
       "\u001b[1m Optimizer params: \u001b[0m\u001b[38;5;34m1,132\u001b[0m (4.43 KB)\n"
      ]
     },
     "metadata": {},
     "output_type": "display_data"
    }
   ],
   "source": [
    "# Display summary model\n",
    "model.summary()"
   ]
  },
  {
   "cell_type": "code",
   "execution_count": 16,
   "metadata": {
    "colab": {
     "base_uri": "https://localhost:8080/",
     "height": 957
    },
    "id": "y4GxdLbthW8Q",
    "outputId": "3e72edfd-426a-4d1e-e1a0-01fa3e85152e"
   },
   "outputs": [
    {
     "data": {
      "image/png": "[encoded data removed]",
      "text/plain": [
       "<Figure size 1000x500 with 1 Axes>"
      ]
     },
     "metadata": {},
     "output_type": "display_data"
    },
    {
     "data": {
      "image/png": "[encoded data removed]",
      "text/plain": [
       "<Figure size 1000x500 with 1 Axes>"
      ]
     },
     "metadata": {},
     "output_type": "display_data"
    }
   ],
   "source": [
    "# Plot training and validation loss\n",
    "plt.figure(figsize=(10, 5))\n",
    "plt.plot(history.history['loss'], label='Training Loss')\n",
    "plt.plot(history.history['val_loss'], label='Validation Loss')\n",
    "plt.title('Model Loss')\n",
    "plt.xlabel('Epochs')\n",
    "plt.ylabel('Loss')\n",
    "plt.legend()\n",
    "plt.show()\n",
    "\n",
    "# Plot training and validation RMSE\n",
    "plt.figure(figsize=(10, 5))\n",
    "plt.plot(history.history['rmse'], label='Training RMSE')\n",
    "plt.plot(history.history['val_rmse'], label='Validation RMSE')\n",
    "plt.title('Model RMSE')\n",
    "plt.xlabel('Epochs')\n",
    "plt.ylabel('RMSE')\n",
    "plt.legend()\n",
    "plt.show()"
   ]
  },
  {
   "cell_type": "markdown",
   "metadata": {
    "id": "lU-o9ajtPWIW"
   },
   "source": [
    "## Fungsi untuk preproses input dan menampilkan output rekomendasi berdasarkan filter"
   ]
  },
  {
   "cell_type": "code",
   "execution_count": 19,
   "metadata": {
    "id": "_HxqKK8blTZ4"
   },
   "outputs": [],
   "source": [
    "# fungsi untuk mengolah input agar format sesuai dengan model\n",
    "def preprocess_user_input(user_input):\n",
    "    # Buat DataFrame dari input pengguna\n",
    "    user_df = pd.DataFrame([{\n",
    "        \"price_wna\": user_input[\"max_price\"],\n",
    "        \"rating\": user_input[\"min_rating\"]\n",
    "    }])\n",
    "\n",
    "    # Normalisasi input pengguna menggunakan scaler\n",
    "    normalized_input = scaler.transform(user_df)\n",
    "\n",
    "    # Encode kategori dan kota\n",
    "    user_category = encoder_category.transform([[user_input['category']]])\n",
    "    user_city = encoder_city.transform([[user_input['city']]])\n",
    "\n",
    "    # Gabungkan semua fitur\n",
    "    user_vector = np.hstack((user_category, user_city, normalized_input))\n",
    "\n",
    "    return user_vector\n"
   ]
  },
  {
   "cell_type": "code",
   "execution_count": 21,
   "metadata": {
    "id": "l-onA1Qm3Rev"
   },
   "outputs": [],
   "source": [
    "# fungsi untuk menampilkan top 5 rekomendasi berdasarkan input user\n",
    "def recommend(user_input, top_n=5):\n",
    "    # Preproses input pengguna\n",
    "    user_input_vector = preprocess_user_input(user_input)\n",
    "\n",
    "    # Prediksi score untuk masing-masing data\n",
    "    scores = model.predict(X)\n",
    "    data['score'] = scores.flatten()\n",
    "\n",
    "    # Normalisasi nilai filter dari input pengguna\n",
    "    user_df = pd.DataFrame([{\n",
    "        \"price_wna\": user_input[\"max_price\"],\n",
    "        \"rating\": user_input[\"min_rating\"]\n",
    "    }])\n",
    "    normalized_input = scaler.transform(user_df)\n",
    "    max_price_scaled, min_rating_scaled = normalized_input[0]\n",
    "\n",
    "    # Filter data berdasarkan kriteria pengguna\n",
    "    # Cek apakah kolom 'address' dan 'google_maps' ada sebelum difilter\n",
    "    if 'address' in data.columns and 'google_maps' in data.columns:\n",
    "        filtered_data = data[\n",
    "            (data['rating'] >= min_rating_scaled) &\n",
    "            (data['price_wna'] <= max_price_scaled) &\n",
    "            (data['city'] == user_input['city']) &  # Filter berdasarkan kota\n",
    "            (data['category'] == user_input['category']) & # Filter berdasarkan kategori\n",
    "            (data['address'].notna())  # Filter data kosong\n",
    "        ]\n",
    "    else:\n",
    "        # Jika kolom tidak ada, tampilkan warning\n",
    "        print(\"Warning: 'address' column not found in data. Filtering without them.\")\n",
    "        filtered_data = data[\n",
    "            (data['rating'] >= min_rating_scaled) &\n",
    "            (data['price_wna'] <= max_price_scaled) &\n",
    "            (data['city'] == user_input['city']) &  # Filter berdasarkan kota\n",
    "            (data['category'] == user_input['category']) # Filter berdasarkan kategori\n",
    "        ]\n",
    "\n",
    "\n",
    "    # Kembalikan nilai rating dan price_wna ke skala asli\n",
    "    if not filtered_data.empty:\n",
    "        filtered_data.loc[:, ['price_wna', 'rating']] = scaler.inverse_transform(\n",
    "            filtered_data[['price_wna', 'rating']]\n",
    "        )\n",
    "\n",
    "    # Ambil rekomendasi top-N\n",
    "    if not filtered_data.empty:\n",
    "        recommendations = filtered_data.nlargest(top_n, 'score')\n",
    "    else:\n",
    "        print(\"No recommendations found based on the given criteria.\")\n",
    "        recommendations = pd.DataFrame()  # DataFrame kosong jika tidak ada rekomendasi\n",
    "\n",
    "    # Cek jika required columns ada di recommendations\n",
    "    required_columns = ['name', 'rating', 'price_wna', 'city', 'category', 'address']\n",
    "    available_columns = recommendations.columns.tolist()\n",
    "\n",
    "    # Pilih kolom yang ada saja\n",
    "    selected_columns = [col for col in required_columns if col in available_columns]\n",
    "\n",
    "    return recommendations[selected_columns]"
   ]
  },
  {
   "cell_type": "markdown",
   "metadata": {
    "id": "j7ftIkGCPmcy"
   },
   "source": [
    "## Penggunaan input untuk rekomendasi berdasarkan filter"
   ]
  },
  {
   "cell_type": "code",
   "execution_count": 24,
   "metadata": {
    "colab": {
     "base_uri": "https://localhost:8080/"
    },
    "id": "RgOPP0CElcYU",
    "outputId": "42a8635e-bb2f-415e-dd41-62c1fad29912"
   },
   "outputs": [
    {
     "name": "stdin",
     "output_type": "stream",
     "text": [
      "Enter the category of culinary :  Bar\n",
      "Enter the city you want to go to :  Denpasar\n",
      "Enter the minimum rating (0.0-5.0):  4.5\n",
      "Enter the maximum ticket price (IDR) :  300000\n"
     ]
    },
    {
     "name": "stdout",
     "output_type": "stream",
     "text": [
      "\u001b[1m21/21\u001b[0m \u001b[32m━━━━━━━━━━━━━━━━━━━━\u001b[0m\u001b[37m\u001b[0m \u001b[1m0s\u001b[0m 674us/step\n",
      "Warning: 'address' column not found in data. Filtering without them.\n",
      "                       name  rating  price_wna      city category  \\\n",
      "60         Fisherman's Club     5.0   300000.0  Denpasar      Bar   \n",
      "36             Lilla Pantai     4.5   300000.0  Denpasar      Bar   \n",
      "292  Tree Bar at Maya Sanur     4.5   300000.0  Denpasar      Bar   \n",
      "298         Pier Eight Bali     4.5   300000.0  Denpasar      Bar   \n",
      "482     Shotgun Social Bali     4.5   300000.0  Denpasar      Bar   \n",
      "\n",
      "                                               address  \n",
      "60   Jalan Danau Tamblingan 89a Andaz Bali, Denpasa...  \n",
      "36   Jalan Duyung Jalan Sanur Beach Street Walk, Sa...  \n",
      "292  Jl. Danau Tamblingan 89M, Sanur, Denpasar 8022...  \n",
      "298  Jalan Kusuma Sari No. 8, Sanur, Denpasar 80227...  \n",
      "482  Jl. Pantai Sindhu No.11, Sanur, Denpasar 80228...  \n"
     ]
    },
    {
     "name": "stderr",
     "output_type": "stream",
     "text": [
      "/opt/anaconda3/lib/python3.11/site-packages/sklearn/base.py:493: UserWarning: X does not have valid feature names, but OneHotEncoder was fitted with feature names\n",
      "  warnings.warn(\n",
      "/opt/anaconda3/lib/python3.11/site-packages/sklearn/base.py:493: UserWarning: X does not have valid feature names, but OneHotEncoder was fitted with feature names\n",
      "  warnings.warn(\n"
     ]
    }
   ],
   "source": [
    "# Input dari pengguna\n",
    "user_input = {\n",
    "    \"category\": input(\"Enter the category of culinary : \"),  # Contoh: \"Bar\"\n",
    "    \"city\": input(\"Enter the city you want to go to : \"),  # Contoh: \"Denpasar\" \n",
    "    \"min_rating\": float(input(\"Enter the minimum rating (0.0-5.0): \")),  # Contoh: 4.0\n",
    "    \"max_price\": float(input(\"Enter the maximum ticket price (IDR) : \"))  # Contoh: 50000\n",
    "}\n",
    "\n",
    "# Tampilkan rekomendasi\n",
    "top_5_recommendations1 = recommend(user_input)\n",
    "print(top_5_recommendations1)"
   ]
  },
  {
   "cell_type": "markdown",
   "metadata": {
    "id": "K2O_LAESPoJj"
   },
   "source": [
    "## Fungsi untuk rekomendasi berdasarkan kuliner yang sebelumnya dikunjungi"
   ]
  },
  {
   "cell_type": "code",
   "execution_count": 26,
   "metadata": {
    "id": "ErMSJrJK_6I5"
   },
   "outputs": [],
   "source": [
    "# fungsi untuk rekomendasi berdasarkan kuliner yang telah dikunjungi\n",
    "def recommend_similar_kuliner(kuliner_name, city_filter=None, max_price=None, top_n=5):\n",
    "    # Pastikan nama tempat kuliner ada dalam data\n",
    "    if kuliner_name not in data['name'].values:\n",
    "        print(f\"Tempat kuliner '{kuliner_name}' tidak ditemukan dalam data.\")\n",
    "        return pd.DataFrame()\n",
    "\n",
    "    # Pilih fitur yang digunakan untuk perhitungan similarity\n",
    "    features = np.hstack((\n",
    "        encoded_category,\n",
    "        encoded_city,\n",
    "        data[['price_wna', 'rating']].values\n",
    "    ))\n",
    "\n",
    "    # Ambil indeks tempat kuliner yang diminta\n",
    "    kuliner_idx = data[data['name'] == kuliner_name].index[0]\n",
    "\n",
    "    # Hitung kesamaan menggunakan cosine similarity antara tempat kuliner input dengan semua tempat kuliner lainnya\n",
    "    similarity_scores = cosine_similarity(features[kuliner_idx].reshape(1, -1), features).flatten()\n",
    "\n",
    "    # Tambahkan skor kesamaan ke dalam DataFrame\n",
    "    data['similarity'] = similarity_scores\n",
    "\n",
    "    # Ubah tipe data max_price ke float jika tidak kosong\n",
    "    if max_price is not None:\n",
    "        max_price = float(max_price)\n",
    "\n",
    "    # Filter data jika ada city_filter atau max_price\n",
    "    filtered_data = data[data['name'] != kuliner_name]\n",
    "    if city_filter:\n",
    "        filtered_data = filtered_data[filtered_data['city'] == city_filter]\n",
    "    if max_price is not None:\n",
    "        # Normalisasi max_price untuk filter\n",
    "        max_price_scaled = scaler.transform([[max_price, 0]])[0][0]\n",
    "        filtered_data = filtered_data[filtered_data['price_wna'] <= max_price_scaled]\n",
    "\n",
    "    # Kembalikan nilai rating dan price_wna ke skala aslinya\n",
    "    if not filtered_data.empty:\n",
    "        filtered_data.loc[:, ['price_wna', 'rating']] = scaler.inverse_transform(\n",
    "            filtered_data[['price_wna', 'rating']]\n",
    "        )\n",
    "\n",
    "    # Urutkan berdasarkan skor similarity (descending) dan ambil top-N\n",
    "    recommendations = filtered_data.nlargest(top_n, 'similarity') if not filtered_data.empty else pd.DataFrame()\n",
    "\n",
    "    # Pilih kolom untuk ditampilkan\n",
    "    return recommendations[['name', 'rating', 'price_wna', 'city', 'category', 'address', 'similarity']]\n"
   ]
  },
  {
   "cell_type": "markdown",
   "metadata": {
    "id": "oOrCcfQlPugs"
   },
   "source": [
    "## Penggunaan input rekomendasi berdasarkan kuliner yang sebelumnya dikunjungi"
   ]
  },
  {
   "cell_type": "code",
   "execution_count": 29,
   "metadata": {
    "colab": {
     "base_uri": "https://localhost:8080/"
    },
    "id": "pqVusVFEA5CI",
    "outputId": "ce1c4a57-c184-4b78-cc38-291d8713bb96"
   },
   "outputs": [
    {
     "name": "stdin",
     "output_type": "stream",
     "text": [
      "Enter the name of culinary you have already visited :  Lilla Pantai\n",
      "Enter the city you want to go to (optional):  \n",
      "Enter the maximum price (optional):  \n"
     ]
    },
    {
     "name": "stdout",
     "output_type": "stream",
     "text": [
      "                            name  rating  price_wna      city category  \\\n",
      "292       Tree Bar at Maya Sanur     4.5   300000.0  Denpasar      Bar   \n",
      "298              Pier Eight Bali     4.5   300000.0  Denpasar      Bar   \n",
      "482          Shotgun Social Bali     4.5   300000.0  Denpasar      Bar   \n",
      "532  Casablanca Dine Drink Dance     4.5   300000.0  Denpasar      Bar   \n",
      "60              Fisherman's Club     5.0   300000.0  Denpasar      Bar   \n",
      "\n",
      "                                               address  similarity  \n",
      "292  Jl. Danau Tamblingan 89M, Sanur, Denpasar 8022...    1.000000  \n",
      "298  Jalan Kusuma Sari No. 8, Sanur, Denpasar 80227...    1.000000  \n",
      "482  Jl. Pantai Sindhu No.11, Sanur, Denpasar 80228...    1.000000  \n",
      "532  Jl. Danau Tamblingan 120, Sanur, Denpasar 8022...    1.000000  \n",
      "60   Jalan Danau Tamblingan 89a Andaz Bali, Denpasa...    0.985622  \n"
     ]
    }
   ],
   "source": [
    "# input dari user\n",
    "kuliner_name = input(\"Enter the name of culinary you have already visited : \")\n",
    "city_filter = input(\"Enter the city you want to go to (optional): \") or None\n",
    "max_price = input(\"Enter the maximum price (optional): \") or None\n",
    "\n",
    "# output\n",
    "top_5_recommendations = recommend_similar_kuliner(kuliner_name, city_filter=city_filter, max_price=max_price)\n",
    "print(top_5_recommendations)"
   ]
  },
  {
   "cell_type": "code",
   "execution_count": 31,
   "metadata": {},
   "outputs": [
    {
     "name": "stderr",
     "output_type": "stream",
     "text": [
      "WARNING:absl:You are saving your model as an HDF5 file via `model.save()` or `keras.saving.save_model(model)`. This file format is considered legacy. We recommend using instead the native Keras format, e.g. `model.save('my_model.keras')` or `keras.saving.save_model(model, 'my_model.keras')`. \n"
     ]
    }
   ],
   "source": [
    "model.save('Kuliner.h5')"
   ]
  },
  {
   "cell_type": "code",
   "execution_count": null,
   "metadata": {},
   "outputs": [],
   "source": []
  }
 ],
 "metadata": {
  "colab": {
   "provenance": []
  },
  "kernelspec": {
   "display_name": "Python 3 (ipykernel)",
   "language": "python",
   "name": "python3"
  },
  "language_info": {
   "codemirror_mode": {
    "name": "ipython",
    "version": 3
   },
   "file_extension": ".py",
   "mimetype": "text/x-python",
   "name": "python",
   "nbconvert_exporter": "python",
   "pygments_lexer": "ipython3",
   "version": "3.11.7"
  }
 },
 "nbformat": 4,
 "nbformat_minor": 4
}
